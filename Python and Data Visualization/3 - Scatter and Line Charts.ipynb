{
 "cells": [
  {
   "cell_type": "markdown",
   "metadata": {},
   "source": [
    "# Python and Data Visualization 3 - Scatter and Line Charts"
   ]
  },
  {
   "cell_type": "markdown",
   "metadata": {},
   "source": [
    "**Goal:** The goal of this project is to construct scatter plot and line charts in Python using Bokeh.\n",
    "\n",
    "**Description:** We'll work on a few charts using both quantitative and time-series data. We will start by plotting simple mathematical functions to learn the basics. We'll then move to plotting time-series financial data from the stock market."
   ]
  },
  {
   "cell_type": "markdown",
   "metadata": {},
   "source": [
    "## 3A: Basic Scatter/Line Charts"
   ]
  },
  {
   "cell_type": "markdown",
   "metadata": {},
   "source": [
    "### Data Preparation\n",
    "\n",
    "When dealing with a line or scatter plot, we typically have two pieces of data we want to visualize.\n",
    " - *X-axis*: Also called the domain or independent variable, the x-axis represents the output\n",
    " - *Y-axis*: Also called the range or dependent variable, the y-axis represents the output\n",
    " \n",
    " \n",
    "Together, these pieces of data represent a function. For the following pairs of data, which would be the x and y axes? Why?\n",
    " - Quantity and Price\n",
    " - Age and Height\n",
    " - Date and Temperature\n",
    " \n",
    " \n",
    " The following lines of code illustrate the concept of inputs, outputs, and functions."
   ]
  },
  {
   "cell_type": "code",
   "execution_count": 1,
   "metadata": {},
   "outputs": [
    {
     "name": "stdout",
     "output_type": "stream",
     "text": [
      "[0, 1, 2, 3, 4, 5, 6, 7, 8, 9, 10, 11, 12, 13, 14, 15, 16, 17, 18, 19, 20]\n"
     ]
    }
   ],
   "source": [
    "upper_bound = 21\n",
    "# Create an array called x, contiaining the values 0 to upper_bound-1\n",
    "x = [i for i in range(upper_bound)]\n",
    "print(x)"
   ]
  },
  {
   "cell_type": "code",
   "execution_count": 2,
   "metadata": {},
   "outputs": [
    {
     "name": "stdout",
     "output_type": "stream",
     "text": [
      "[0, 1, 4, 9, 16, 25, 36, 49, 64, 81, 100, 121, 144, 169, 196, 225, 256, 289, 324, 361, 400]\n"
     ]
    }
   ],
   "source": [
    "# Create an array called y, following the function y=x^2\n",
    "y = [num**2 for num in x] # Apply num**2 (num^2) for every num in x, and return as list\n",
    "print(y)"
   ]
  },
  {
   "cell_type": "markdown",
   "metadata": {},
   "source": [
    "We haven't plotted it yet, but we now have the data to represent a quadratic function."
   ]
  },
  {
   "cell_type": "markdown",
   "metadata": {},
   "source": [
    "### Bokeh Setup"
   ]
  },
  {
   "cell_type": "markdown",
   "metadata": {},
   "source": [
    "Similar to the last workshop, we will be using the Bokeh library. We need to `import` it here."
   ]
  },
  {
   "cell_type": "code",
   "execution_count": null,
   "metadata": {},
   "outputs": [],
   "source": [
    "from bokeh.plotting import figure, show \n",
    "from bokeh.io import output_notebook\n",
    "\n",
    "output_notebook() # Tells Python to present Bokeh plots within the notebook itself"
   ]
  },
  {
   "cell_type": "markdown",
   "metadata": {},
   "source": [
    "### Plotting the Data"
   ]
  },
  {
   "cell_type": "markdown",
   "metadata": {},
   "source": [
    "Now lets make our plot. We first need to create an empty figure."
   ]
  },
  {
   "cell_type": "code",
   "execution_count": null,
   "metadata": {},
   "outputs": [],
   "source": [
    "scatter = figure(title=\"Quadratic Function\", x_axis_label=\"X-axis Data\", y_axis_label=\"Y-axis Data\")"
   ]
  },
  {
   "cell_type": "markdown",
   "metadata": {},
   "source": [
    "Next, we plot our x and y data. Bokeh plots *glyphs* on empty figures to create the graph. In this case, we want circles for our scatter plot."
   ]
  },
  {
   "cell_type": "code",
   "execution_count": null,
   "metadata": {},
   "outputs": [],
   "source": [
    "scatter.circle(x=x, y=y) # X data should be our x array, y data should be our y array\n",
    "show(scatter)            # Display the graph"
   ]
  },
  {
   "cell_type": "markdown",
   "metadata": {},
   "source": [
    "### More Fun with Functions\n",
    "\n",
    "We have successfully plotted our quadratic function. Let's try changing our function and creating a new chart."
   ]
  },
  {
   "cell_type": "code",
   "execution_count": null,
   "metadata": {},
   "outputs": [],
   "source": [
    "y = [(-i**2 + 2*i + 4) for i in x] # Sets our y-axis data to the formula -i^2 + 2*i + 4\n",
    "\n",
    "scatter2 = figure(title=\"Quadratic Function\", x_axis_label=\"X-axis Data\", y_axis_label=\"Y-axis Data\")\n",
    "scatter2.circle(x=x, y=y)\n",
    "show(scatter2) # Displays our empty figure"
   ]
  },
  {
   "cell_type": "markdown",
   "metadata": {},
   "source": [
    "To plot multiple series of data, we can simply add another `circle` glyph to our chart. The `color` specifies the color of each series, and `legend_label` allows us to create a legend for our figure."
   ]
  },
  {
   "cell_type": "code",
   "execution_count": null,
   "metadata": {},
   "outputs": [],
   "source": [
    "y_squared = [i**2 for i in x]\n",
    "y_squared_negative = [-i**2 for i in x]\n",
    "\n",
    "scatter3 = figure(title=\"Plotting Multiple Series\", x_axis_label=\"X-axis Data\", y_axis_label=\"Y-axis Data\") # Create an empty figure\n",
    "scatter3.circle(x=x, y=y_squared, color=\"#d83939\", legend_label=\"y = x^2\") # Plot the red series of dots\n",
    "scatter3.circle(x=x, y=y_squared_negative, color=\"#2785db\", legend_label=\"y = -(x^2)\") # Plot the blue series of dots\n",
    "show(scatter3) # Display the plot\n"
   ]
  },
  {
   "cell_type": "markdown",
   "metadata": {},
   "source": [
    "Finally, `glyphs` can be lines too. Instead of calling `circle`, we simply call `line` instead. Circles are useful when dealing with *discrete* data, and lines are useful for *continuous* data."
   ]
  },
  {
   "cell_type": "code",
   "execution_count": null,
   "metadata": {},
   "outputs": [],
   "source": [
    "scatter4 = figure(title=\"Plotting Multiple Series\", x_axis_label=\"X-axis Data\", y_axis_label=\"Y-axis Data\") # Create new figure\n",
    "scatter4.line(x=x, y=y_squared, color=\"#d83939\", legend_label=\"y = x^2\") # Plot the red line\n",
    "scatter4.line(x=x, y=y_squared_negative, color=\"#2785db\", legend_label=\"y = -(x^2)\") # Plot the blue line\n",
    "show(scatter4) # Display the plot"
   ]
  },
  {
   "cell_type": "markdown",
   "metadata": {},
   "source": [
    "## 3B: Time-series Data\n",
    "\n",
    "*Time-series data* refers to data that changes with time. The x-axis will always be some measure of time, for example: seconds, days, months, years. The y-axis will be observations recorded at periodic time intervals, for example: temperature, population, GDP, etc. Try thinking of a few more examples of time-series data."
   ]
  },
  {
   "cell_type": "markdown",
   "metadata": {},
   "source": [
    "### Financial Stock Data\n",
    "\n",
    "This project will work with financial stock data. First, we will analyze Tesla (TSLA) prices from 2010-06-29 to 2020-06-12. You can find the source file called `TSLA.csv`, taken from https://www.macrotrends.net/stocks/charts/TSLA/tesla/stock-price-history.\n",
    "\n",
    "Open `TSLA.csv` in a new window. Each column represents a certain observation for a specific day:\n",
    " - *date*: Our x-axis, the day on which the observation was made\n",
    " - *open*: The price of the stock at the start of each day\n",
    " - *high*: The highest price the stock reached each day\n",
    " - *low*: The lowest price the stock reached each day\n",
    " - *close*: The price the stock at the end of each day\n",
    " - *volume*: The amount of trades executed each day\n",
    "\n",
    "Let's use `pandas` to import `TSLA.csv` into a DataFrame."
   ]
  },
  {
   "cell_type": "code",
   "execution_count": null,
   "metadata": {},
   "outputs": [],
   "source": [
    "import pandas as pd\n",
    "df = pd.read_csv(\"TSLA.csv\")\n",
    "print(df)"
   ]
  },
  {
   "cell_type": "markdown",
   "metadata": {},
   "source": [
    "### Data Preparation\n",
    "\n",
    "Next, let's figure out what data we want to plot. For now, let's plot the `close` prices (y-axis) against the `date` (x-axis)."
   ]
  },
  {
   "cell_type": "code",
   "execution_count": null,
   "metadata": {},
   "outputs": [],
   "source": [
    "dates = pd.to_datetime(df['date']).tolist() # We convert the date column to datetime objects, and store them in a list\n",
    "print(\"X-axis\")\n",
    "print(dates[0:5]) # Print the first few dates on the x-axis to give us an idea of what our list looks like\n",
    "print(\"\")\n",
    "close = df['close'].tolist() # Store the close column in a list\n",
    "print(\"Y-axis\")\n",
    "print(close[0:5]) # Print the first few dates on the y-axis to give us an idea of what our list looks like\n"
   ]
  },
  {
   "cell_type": "markdown",
   "metadata": {},
   "source": [
    "### Plotting the Data"
   ]
  },
  {
   "cell_type": "markdown",
   "metadata": {},
   "source": [
    "Now we are ready to plot our data. First we create an empty figure, then we plot the line on our empty figure, and finally we `show` the chart."
   ]
  },
  {
   "cell_type": "code",
   "execution_count": null,
   "metadata": {},
   "outputs": [],
   "source": [
    "tsla = figure(title=\"Tesla Close Prices\", x_axis_label=\"Date\", y_axis_label=\"Closing Price\")\n",
    "tsla.line(x=dates, y=close, color=\"#000000\", legend_label='Close Prices')\n",
    "show(tsla)"
   ]
  },
  {
   "cell_type": "markdown",
   "metadata": {},
   "source": [
    "Notice that the dates aren't displaying correctly. We can fix this using the `x_axis_type`. We can zoom in to a section of the data using the tools on the side."
   ]
  },
  {
   "cell_type": "code",
   "execution_count": null,
   "metadata": {},
   "outputs": [],
   "source": [
    "tsla = figure(title=\"Tesla Close Prices\", x_axis_label=\"Date\", y_axis_label=\"Closing Price\", x_axis_type=\"datetime\")\n",
    "tsla.line(x=dates, y=close, color=\"#000000\", legend_label='Close')\n",
    "show(tsla)"
   ]
  },
  {
   "cell_type": "markdown",
   "metadata": {},
   "source": [
    "### Plotting Multiple Series"
   ]
  },
  {
   "cell_type": "markdown",
   "metadata": {},
   "source": [
    "Finally, let's make our chart more informative by displaying the trading high and low prices. First, we'll put the columns of data into lists."
   ]
  },
  {
   "cell_type": "code",
   "execution_count": null,
   "metadata": {},
   "outputs": [],
   "source": [
    "high = df['high'].tolist()       # Convert the columns into lists\n",
    "low = df['low'].tolist()\n",
    "\n",
    "print(\"High\")                    # Print the first few values of each list of data\n",
    "print(high[0:5])\n",
    "print(\"\")\n",
    "print(\"Low\")\n",
    "print(low[0:5])"
   ]
  },
  {
   "cell_type": "markdown",
   "metadata": {},
   "source": [
    "We can now plot the `high` and `low` data to our existing `tsla` figure, and show the resulting chart. Use the zoom tool to see details."
   ]
  },
  {
   "cell_type": "code",
   "execution_count": null,
   "metadata": {},
   "outputs": [],
   "source": [
    "tsla.line(x=dates, y=high, color=\"#2785db\", legend_label='High')\n",
    "tsla.line(x=dates, y=low, color=\"#d83939\", legend_label='Low')\n",
    "show(tsla)"
   ]
  },
  {
   "cell_type": "markdown",
   "metadata": {},
   "source": [
    "Ultimately, we have learned how to use scatter and line charts in Bokeh. Try creating a few functions of your own, or experimenting with `TSLA.csv` file."
   ]
  }
 ],
 "metadata": {
  "kernelspec": {
   "display_name": "Python 3",
   "language": "python",
   "name": "python3"
  },
  "language_info": {
   "codemirror_mode": {
    "name": "ipython",
    "version": 3
   },
   "file_extension": ".py",
   "mimetype": "text/x-python",
   "name": "python",
   "nbconvert_exporter": "python",
   "pygments_lexer": "ipython3",
   "version": "3.7.6"
  }
 },
 "nbformat": 4,
 "nbformat_minor": 4
}
