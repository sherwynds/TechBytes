{
 "cells": [
  {
   "cell_type": "markdown",
   "metadata": {},
   "source": [
    "# Python and Data Visualization 2 - Bar and Column Charts"
   ]
  },
  {
   "cell_type": "markdown",
   "metadata": {},
   "source": [
    "**Goal:** The goal of this project is to construct more advanced bar/column plots in Python using Bokeh.\n",
    "\n",
    "**Description:** You are the manager of three schools: Elementary, Middle, and High. Each school has grade levels in the range 1-12, and each grade level has recorded Male, Female, and Total enrollment. You want to build two charts:\n",
    " - Plot a stacked bar chart comparing Male and Female enrollment by Grade\n",
    " - Plot a grouped bar chart comparing Male and Female enrollment by Grade\n",
    " - (Challenge) Plot a stacked bar chart comparing Male and Female enrollment by School"
   ]
  },
  {
   "cell_type": "markdown",
   "metadata": {},
   "source": [
    "## Preparation\n",
    "\n",
    "Similar to the last tutorial, we want to import our CSV data into a Pandas DataFrame."
   ]
  },
  {
   "cell_type": "code",
   "execution_count": 1,
   "metadata": {},
   "outputs": [
    {
     "name": "stdout",
     "output_type": "stream",
     "text": [
      "        School  Grade  Male  Female  Total\n",
      "1   Elementary      1    16      15     31\n",
      "2   Elementary      2    12      15     27\n",
      "3   Elementary      3    10      18     28\n",
      "4   Elementary      4    17      13     30\n",
      "5   Elementary      5    15      15     30\n",
      "6       Middle      6    11      12     23\n",
      "7       Middle      7    14      12     26\n",
      "8       Middle      8    15      11     26\n",
      "9         High      9    13      14     27\n",
      "10        High     10    12      16     28\n",
      "11        High     11    16      14     30\n",
      "12        High     12    14      14     28\n"
     ]
    }
   ],
   "source": [
    "import pandas as pd                 # Tell Python we will be using the Pandas set of tools, and nickname it to pd so we can type it quicker\n",
    "df = pd.read_csv(\"ClassData.csv\")   # Create a DataFrame, call it df, and set its value to the content of our CSV data\n",
    "df.index += 1                       # Tells the DataFrame to start index labels at 1\n",
    "print(df)                           # Display our dataframe"
   ]
  },
  {
   "cell_type": "markdown",
   "metadata": {},
   "source": [
    "## 2A: Stacked Bar Chart\n",
    "\n",
    "**Our task is to build a stacked bar chart, comparing male vs. female enrollment for each grade**."
   ]
  },
  {
   "cell_type": "markdown",
   "metadata": {},
   "source": [
    "### Step 1: Bokeh Setup\n",
    "\n",
    "Similar to the last tutorial, we need to tell Python we are using Bokeh with `from` and `import`. We also need to specify where the plots should be displayed (`output_notebook`)."
   ]
  },
  {
   "cell_type": "code",
   "execution_count": 2,
   "metadata": {},
   "outputs": [
    {
     "data": {
      "text/html": [
       "\n",
       "    <div class=\"bk-root\">\n",
       "        <a href=\"https://bokeh.org\" target=\"_blank\" class=\"bk-logo bk-logo-small bk-logo-notebook\"></a>\n",
       "        <span id=\"1001\">Loading BokehJS ...</span>\n",
       "    </div>"
      ]
     },
     "metadata": {},
     "output_type": "display_data"
    },
    {
     "data": {
      "application/javascript": [
       "\n",
       "(function(root) {\n",
       "  function now() {\n",
       "    return new Date();\n",
       "  }\n",
       "\n",
       "  var force = true;\n",
       "\n",
       "  if (typeof root._bokeh_onload_callbacks === \"undefined\" || force === true) {\n",
       "    root._bokeh_onload_callbacks = [];\n",
       "    root._bokeh_is_loading = undefined;\n",
       "  }\n",
       "\n",
       "  var JS_MIME_TYPE = 'application/javascript';\n",
       "  var HTML_MIME_TYPE = 'text/html';\n",
       "  var EXEC_MIME_TYPE = 'application/vnd.bokehjs_exec.v0+json';\n",
       "  var CLASS_NAME = 'output_bokeh rendered_html';\n",
       "\n",
       "  /**\n",
       "   * Render data to the DOM node\n",
       "   */\n",
       "  function render(props, node) {\n",
       "    var script = document.createElement(\"script\");\n",
       "    node.appendChild(script);\n",
       "  }\n",
       "\n",
       "  /**\n",
       "   * Handle when an output is cleared or removed\n",
       "   */\n",
       "  function handleClearOutput(event, handle) {\n",
       "    var cell = handle.cell;\n",
       "\n",
       "    var id = cell.output_area._bokeh_element_id;\n",
       "    var server_id = cell.output_area._bokeh_server_id;\n",
       "    // Clean up Bokeh references\n",
       "    if (id != null && id in Bokeh.index) {\n",
       "      Bokeh.index[id].model.document.clear();\n",
       "      delete Bokeh.index[id];\n",
       "    }\n",
       "\n",
       "    if (server_id !== undefined) {\n",
       "      // Clean up Bokeh references\n",
       "      var cmd = \"from bokeh.io.state import curstate; print(curstate().uuid_to_server['\" + server_id + \"'].get_sessions()[0].document.roots[0]._id)\";\n",
       "      cell.notebook.kernel.execute(cmd, {\n",
       "        iopub: {\n",
       "          output: function(msg) {\n",
       "            var id = msg.content.text.trim();\n",
       "            if (id in Bokeh.index) {\n",
       "              Bokeh.index[id].model.document.clear();\n",
       "              delete Bokeh.index[id];\n",
       "            }\n",
       "          }\n",
       "        }\n",
       "      });\n",
       "      // Destroy server and session\n",
       "      var cmd = \"import bokeh.io.notebook as ion; ion.destroy_server('\" + server_id + \"')\";\n",
       "      cell.notebook.kernel.execute(cmd);\n",
       "    }\n",
       "  }\n",
       "\n",
       "  /**\n",
       "   * Handle when a new output is added\n",
       "   */\n",
       "  function handleAddOutput(event, handle) {\n",
       "    var output_area = handle.output_area;\n",
       "    var output = handle.output;\n",
       "\n",
       "    // limit handleAddOutput to display_data with EXEC_MIME_TYPE content only\n",
       "    if ((output.output_type != \"display_data\") || (!output.data.hasOwnProperty(EXEC_MIME_TYPE))) {\n",
       "      return\n",
       "    }\n",
       "\n",
       "    var toinsert = output_area.element.find(\".\" + CLASS_NAME.split(' ')[0]);\n",
       "\n",
       "    if (output.metadata[EXEC_MIME_TYPE][\"id\"] !== undefined) {\n",
       "      toinsert[toinsert.length - 1].firstChild.textContent = output.data[JS_MIME_TYPE];\n",
       "      // store reference to embed id on output_area\n",
       "      output_area._bokeh_element_id = output.metadata[EXEC_MIME_TYPE][\"id\"];\n",
       "    }\n",
       "    if (output.metadata[EXEC_MIME_TYPE][\"server_id\"] !== undefined) {\n",
       "      var bk_div = document.createElement(\"div\");\n",
       "      bk_div.innerHTML = output.data[HTML_MIME_TYPE];\n",
       "      var script_attrs = bk_div.children[0].attributes;\n",
       "      for (var i = 0; i < script_attrs.length; i++) {\n",
       "        toinsert[toinsert.length - 1].firstChild.setAttribute(script_attrs[i].name, script_attrs[i].value);\n",
       "      }\n",
       "      // store reference to server id on output_area\n",
       "      output_area._bokeh_server_id = output.metadata[EXEC_MIME_TYPE][\"server_id\"];\n",
       "    }\n",
       "  }\n",
       "\n",
       "  function register_renderer(events, OutputArea) {\n",
       "\n",
       "    function append_mime(data, metadata, element) {\n",
       "      // create a DOM node to render to\n",
       "      var toinsert = this.create_output_subarea(\n",
       "        metadata,\n",
       "        CLASS_NAME,\n",
       "        EXEC_MIME_TYPE\n",
       "      );\n",
       "      this.keyboard_manager.register_events(toinsert);\n",
       "      // Render to node\n",
       "      var props = {data: data, metadata: metadata[EXEC_MIME_TYPE]};\n",
       "      render(props, toinsert[toinsert.length - 1]);\n",
       "      element.append(toinsert);\n",
       "      return toinsert\n",
       "    }\n",
       "\n",
       "    /* Handle when an output is cleared or removed */\n",
       "    events.on('clear_output.CodeCell', handleClearOutput);\n",
       "    events.on('delete.Cell', handleClearOutput);\n",
       "\n",
       "    /* Handle when a new output is added */\n",
       "    events.on('output_added.OutputArea', handleAddOutput);\n",
       "\n",
       "    /**\n",
       "     * Register the mime type and append_mime function with output_area\n",
       "     */\n",
       "    OutputArea.prototype.register_mime_type(EXEC_MIME_TYPE, append_mime, {\n",
       "      /* Is output safe? */\n",
       "      safe: true,\n",
       "      /* Index of renderer in `output_area.display_order` */\n",
       "      index: 0\n",
       "    });\n",
       "  }\n",
       "\n",
       "  // register the mime type if in Jupyter Notebook environment and previously unregistered\n",
       "  if (root.Jupyter !== undefined) {\n",
       "    var events = require('base/js/events');\n",
       "    var OutputArea = require('notebook/js/outputarea').OutputArea;\n",
       "\n",
       "    if (OutputArea.prototype.mime_types().indexOf(EXEC_MIME_TYPE) == -1) {\n",
       "      register_renderer(events, OutputArea);\n",
       "    }\n",
       "  }\n",
       "\n",
       "  \n",
       "  if (typeof (root._bokeh_timeout) === \"undefined\" || force === true) {\n",
       "    root._bokeh_timeout = Date.now() + 5000;\n",
       "    root._bokeh_failed_load = false;\n",
       "  }\n",
       "\n",
       "  var NB_LOAD_WARNING = {'data': {'text/html':\n",
       "     \"<div style='background-color: #fdd'>\\n\"+\n",
       "     \"<p>\\n\"+\n",
       "     \"BokehJS does not appear to have successfully loaded. If loading BokehJS from CDN, this \\n\"+\n",
       "     \"may be due to a slow or bad network connection. Possible fixes:\\n\"+\n",
       "     \"</p>\\n\"+\n",
       "     \"<ul>\\n\"+\n",
       "     \"<li>re-rerun `output_notebook()` to attempt to load from CDN again, or</li>\\n\"+\n",
       "     \"<li>use INLINE resources instead, as so:</li>\\n\"+\n",
       "     \"</ul>\\n\"+\n",
       "     \"<code>\\n\"+\n",
       "     \"from bokeh.resources import INLINE\\n\"+\n",
       "     \"output_notebook(resources=INLINE)\\n\"+\n",
       "     \"</code>\\n\"+\n",
       "     \"</div>\"}};\n",
       "\n",
       "  function display_loaded() {\n",
       "    var el = document.getElementById(\"1001\");\n",
       "    if (el != null) {\n",
       "      el.textContent = \"BokehJS is loading...\";\n",
       "    }\n",
       "    if (root.Bokeh !== undefined) {\n",
       "      if (el != null) {\n",
       "        el.textContent = \"BokehJS \" + root.Bokeh.version + \" successfully loaded.\";\n",
       "      }\n",
       "    } else if (Date.now() < root._bokeh_timeout) {\n",
       "      setTimeout(display_loaded, 100)\n",
       "    }\n",
       "  }\n",
       "\n",
       "\n",
       "  function run_callbacks() {\n",
       "    try {\n",
       "      root._bokeh_onload_callbacks.forEach(function(callback) {\n",
       "        if (callback != null)\n",
       "          callback();\n",
       "      });\n",
       "    } finally {\n",
       "      delete root._bokeh_onload_callbacks\n",
       "    }\n",
       "    console.debug(\"Bokeh: all callbacks have finished\");\n",
       "  }\n",
       "\n",
       "  function load_libs(css_urls, js_urls, callback) {\n",
       "    if (css_urls == null) css_urls = [];\n",
       "    if (js_urls == null) js_urls = [];\n",
       "\n",
       "    root._bokeh_onload_callbacks.push(callback);\n",
       "    if (root._bokeh_is_loading > 0) {\n",
       "      console.debug(\"Bokeh: BokehJS is being loaded, scheduling callback at\", now());\n",
       "      return null;\n",
       "    }\n",
       "    if (js_urls == null || js_urls.length === 0) {\n",
       "      run_callbacks();\n",
       "      return null;\n",
       "    }\n",
       "    console.debug(\"Bokeh: BokehJS not loaded, scheduling load and callback at\", now());\n",
       "    root._bokeh_is_loading = css_urls.length + js_urls.length;\n",
       "\n",
       "    function on_load() {\n",
       "      root._bokeh_is_loading--;\n",
       "      if (root._bokeh_is_loading === 0) {\n",
       "        console.debug(\"Bokeh: all BokehJS libraries/stylesheets loaded\");\n",
       "        run_callbacks()\n",
       "      }\n",
       "    }\n",
       "\n",
       "    function on_error() {\n",
       "      console.error(\"failed to load \" + url);\n",
       "    }\n",
       "\n",
       "    for (var i = 0; i < css_urls.length; i++) {\n",
       "      var url = css_urls[i];\n",
       "      const element = document.createElement(\"link\");\n",
       "      element.onload = on_load;\n",
       "      element.onerror = on_error;\n",
       "      element.rel = \"stylesheet\";\n",
       "      element.type = \"text/css\";\n",
       "      element.href = url;\n",
       "      console.debug(\"Bokeh: injecting link tag for BokehJS stylesheet: \", url);\n",
       "      document.body.appendChild(element);\n",
       "    }\n",
       "\n",
       "    for (var i = 0; i < js_urls.length; i++) {\n",
       "      var url = js_urls[i];\n",
       "      var element = document.createElement('script');\n",
       "      element.onload = on_load;\n",
       "      element.onerror = on_error;\n",
       "      element.async = false;\n",
       "      element.src = url;\n",
       "      console.debug(\"Bokeh: injecting script tag for BokehJS library: \", url);\n",
       "      document.head.appendChild(element);\n",
       "    }\n",
       "  };var element = document.getElementById(\"1001\");\n",
       "  if (element == null) {\n",
       "    console.error(\"Bokeh: ERROR: autoload.js configured with elementid '1001' but no matching script tag was found. \")\n",
       "    return false;\n",
       "  }\n",
       "\n",
       "  function inject_raw_css(css) {\n",
       "    const element = document.createElement(\"style\");\n",
       "    element.appendChild(document.createTextNode(css));\n",
       "    document.body.appendChild(element);\n",
       "  }\n",
       "\n",
       "  \n",
       "  var js_urls = [\"https://cdn.pydata.org/bokeh/release/bokeh-1.4.0.min.js\", \"https://cdn.pydata.org/bokeh/release/bokeh-widgets-1.4.0.min.js\", \"https://cdn.pydata.org/bokeh/release/bokeh-tables-1.4.0.min.js\", \"https://cdn.pydata.org/bokeh/release/bokeh-gl-1.4.0.min.js\"];\n",
       "  var css_urls = [];\n",
       "  \n",
       "\n",
       "  var inline_js = [\n",
       "    function(Bokeh) {\n",
       "      Bokeh.set_log_level(\"info\");\n",
       "    },\n",
       "    function(Bokeh) {\n",
       "    \n",
       "    \n",
       "    }\n",
       "  ];\n",
       "\n",
       "  function run_inline_js() {\n",
       "    \n",
       "    if (root.Bokeh !== undefined || force === true) {\n",
       "      \n",
       "    for (var i = 0; i < inline_js.length; i++) {\n",
       "      inline_js[i].call(root, root.Bokeh);\n",
       "    }\n",
       "    if (force === true) {\n",
       "        display_loaded();\n",
       "      }} else if (Date.now() < root._bokeh_timeout) {\n",
       "      setTimeout(run_inline_js, 100);\n",
       "    } else if (!root._bokeh_failed_load) {\n",
       "      console.log(\"Bokeh: BokehJS failed to load within specified timeout.\");\n",
       "      root._bokeh_failed_load = true;\n",
       "    } else if (force !== true) {\n",
       "      var cell = $(document.getElementById(\"1001\")).parents('.cell').data().cell;\n",
       "      cell.output_area.append_execute_result(NB_LOAD_WARNING)\n",
       "    }\n",
       "\n",
       "  }\n",
       "\n",
       "  if (root._bokeh_is_loading === 0) {\n",
       "    console.debug(\"Bokeh: BokehJS loaded, going straight to plotting\");\n",
       "    run_inline_js();\n",
       "  } else {\n",
       "    load_libs(css_urls, js_urls, function() {\n",
       "      console.debug(\"Bokeh: BokehJS plotting callback run at\", now());\n",
       "      run_inline_js();\n",
       "    });\n",
       "  }\n",
       "}(window));"
      ],
      "application/vnd.bokehjs_load.v0+json": "\n(function(root) {\n  function now() {\n    return new Date();\n  }\n\n  var force = true;\n\n  if (typeof root._bokeh_onload_callbacks === \"undefined\" || force === true) {\n    root._bokeh_onload_callbacks = [];\n    root._bokeh_is_loading = undefined;\n  }\n\n  \n\n  \n  if (typeof (root._bokeh_timeout) === \"undefined\" || force === true) {\n    root._bokeh_timeout = Date.now() + 5000;\n    root._bokeh_failed_load = false;\n  }\n\n  var NB_LOAD_WARNING = {'data': {'text/html':\n     \"<div style='background-color: #fdd'>\\n\"+\n     \"<p>\\n\"+\n     \"BokehJS does not appear to have successfully loaded. If loading BokehJS from CDN, this \\n\"+\n     \"may be due to a slow or bad network connection. Possible fixes:\\n\"+\n     \"</p>\\n\"+\n     \"<ul>\\n\"+\n     \"<li>re-rerun `output_notebook()` to attempt to load from CDN again, or</li>\\n\"+\n     \"<li>use INLINE resources instead, as so:</li>\\n\"+\n     \"</ul>\\n\"+\n     \"<code>\\n\"+\n     \"from bokeh.resources import INLINE\\n\"+\n     \"output_notebook(resources=INLINE)\\n\"+\n     \"</code>\\n\"+\n     \"</div>\"}};\n\n  function display_loaded() {\n    var el = document.getElementById(\"1001\");\n    if (el != null) {\n      el.textContent = \"BokehJS is loading...\";\n    }\n    if (root.Bokeh !== undefined) {\n      if (el != null) {\n        el.textContent = \"BokehJS \" + root.Bokeh.version + \" successfully loaded.\";\n      }\n    } else if (Date.now() < root._bokeh_timeout) {\n      setTimeout(display_loaded, 100)\n    }\n  }\n\n\n  function run_callbacks() {\n    try {\n      root._bokeh_onload_callbacks.forEach(function(callback) {\n        if (callback != null)\n          callback();\n      });\n    } finally {\n      delete root._bokeh_onload_callbacks\n    }\n    console.debug(\"Bokeh: all callbacks have finished\");\n  }\n\n  function load_libs(css_urls, js_urls, callback) {\n    if (css_urls == null) css_urls = [];\n    if (js_urls == null) js_urls = [];\n\n    root._bokeh_onload_callbacks.push(callback);\n    if (root._bokeh_is_loading > 0) {\n      console.debug(\"Bokeh: BokehJS is being loaded, scheduling callback at\", now());\n      return null;\n    }\n    if (js_urls == null || js_urls.length === 0) {\n      run_callbacks();\n      return null;\n    }\n    console.debug(\"Bokeh: BokehJS not loaded, scheduling load and callback at\", now());\n    root._bokeh_is_loading = css_urls.length + js_urls.length;\n\n    function on_load() {\n      root._bokeh_is_loading--;\n      if (root._bokeh_is_loading === 0) {\n        console.debug(\"Bokeh: all BokehJS libraries/stylesheets loaded\");\n        run_callbacks()\n      }\n    }\n\n    function on_error() {\n      console.error(\"failed to load \" + url);\n    }\n\n    for (var i = 0; i < css_urls.length; i++) {\n      var url = css_urls[i];\n      const element = document.createElement(\"link\");\n      element.onload = on_load;\n      element.onerror = on_error;\n      element.rel = \"stylesheet\";\n      element.type = \"text/css\";\n      element.href = url;\n      console.debug(\"Bokeh: injecting link tag for BokehJS stylesheet: \", url);\n      document.body.appendChild(element);\n    }\n\n    for (var i = 0; i < js_urls.length; i++) {\n      var url = js_urls[i];\n      var element = document.createElement('script');\n      element.onload = on_load;\n      element.onerror = on_error;\n      element.async = false;\n      element.src = url;\n      console.debug(\"Bokeh: injecting script tag for BokehJS library: \", url);\n      document.head.appendChild(element);\n    }\n  };var element = document.getElementById(\"1001\");\n  if (element == null) {\n    console.error(\"Bokeh: ERROR: autoload.js configured with elementid '1001' but no matching script tag was found. \")\n    return false;\n  }\n\n  function inject_raw_css(css) {\n    const element = document.createElement(\"style\");\n    element.appendChild(document.createTextNode(css));\n    document.body.appendChild(element);\n  }\n\n  \n  var js_urls = [\"https://cdn.pydata.org/bokeh/release/bokeh-1.4.0.min.js\", \"https://cdn.pydata.org/bokeh/release/bokeh-widgets-1.4.0.min.js\", \"https://cdn.pydata.org/bokeh/release/bokeh-tables-1.4.0.min.js\", \"https://cdn.pydata.org/bokeh/release/bokeh-gl-1.4.0.min.js\"];\n  var css_urls = [];\n  \n\n  var inline_js = [\n    function(Bokeh) {\n      Bokeh.set_log_level(\"info\");\n    },\n    function(Bokeh) {\n    \n    \n    }\n  ];\n\n  function run_inline_js() {\n    \n    if (root.Bokeh !== undefined || force === true) {\n      \n    for (var i = 0; i < inline_js.length; i++) {\n      inline_js[i].call(root, root.Bokeh);\n    }\n    if (force === true) {\n        display_loaded();\n      }} else if (Date.now() < root._bokeh_timeout) {\n      setTimeout(run_inline_js, 100);\n    } else if (!root._bokeh_failed_load) {\n      console.log(\"Bokeh: BokehJS failed to load within specified timeout.\");\n      root._bokeh_failed_load = true;\n    } else if (force !== true) {\n      var cell = $(document.getElementById(\"1001\")).parents('.cell').data().cell;\n      cell.output_area.append_execute_result(NB_LOAD_WARNING)\n    }\n\n  }\n\n  if (root._bokeh_is_loading === 0) {\n    console.debug(\"Bokeh: BokehJS loaded, going straight to plotting\");\n    run_inline_js();\n  } else {\n    load_libs(css_urls, js_urls, function() {\n      console.debug(\"Bokeh: BokehJS plotting callback run at\", now());\n      run_inline_js();\n    });\n  }\n}(window));"
     },
     "metadata": {},
     "output_type": "display_data"
    }
   ],
   "source": [
    "from bokeh.plotting import figure, show    # Tells Python we will use figure and show from Bokeh\n",
    "from bokeh.io import output_notebook       # Tells Python we will need the output_notebook function\n",
    "from bokeh.models import ColumnDataSource  # We will need this when preparing our data for a bar/column plot\n",
    "\n",
    "output_notebook()                          # Tells Python to present Bokeh plots in the notebook"
   ]
  },
  {
   "cell_type": "markdown",
   "metadata": {},
   "source": [
    "### Step 2: Select Data\n",
    "\n",
    "We care about three columns of data: Grade (x-axis), Male (y-axis), and Female (y-axis). Calling `tolist` isn't necessary, but converts the column into a Python list, making it easier to view in the notebook."
   ]
  },
  {
   "cell_type": "code",
   "execution_count": 3,
   "metadata": {},
   "outputs": [
    {
     "name": "stdout",
     "output_type": "stream",
     "text": [
      "Grade Column:\n",
      "['1', '2', '3', '4', '5', '6', '7', '8', '9', '10', '11', '12']\n",
      "\n",
      "Male Column:\n",
      "[16, 12, 10, 17, 15, 11, 14, 15, 13, 12, 16, 14]\n",
      "\n",
      "Female Column:\n",
      "[15, 15, 18, 13, 15, 12, 12, 11, 14, 16, 14, 14]\n"
     ]
    }
   ],
   "source": [
    "grades = (df['Grade'].apply(str)).tolist() # X-axis is the Grade column; we convert it to a string so that it can be read easily by Bokeh\n",
    "males = df['Male'].tolist()                # First stack on the y-axis is the Male column\n",
    "females = df['Female'].tolist()            # Second stack on the y-axis is the Female column\n",
    "print(\"Grade Column:\")\n",
    "print(grades)\n",
    "print(\"\")\n",
    "print(\"Male Column:\")\n",
    "print(males)\n",
    "print(\"\")\n",
    "print(\"Female Column:\")\n",
    "print(females)"
   ]
  },
  {
   "cell_type": "markdown",
   "metadata": {},
   "source": [
    "Next, put all the data together into one object that Bokeh can easily read."
   ]
  },
  {
   "cell_type": "code",
   "execution_count": 4,
   "metadata": {},
   "outputs": [
    {
     "name": "stdout",
     "output_type": "stream",
     "text": [
      "{'grades': ['1', '2', '3', '4', '5', '6', '7', '8', '9', '10', '11', '12'], 'males': [16, 12, 10, 17, 15, 11, 14, 15, 13, 12, 16, 14], 'females': [15, 15, 18, 13, 15, 12, 12, 11, 14, 16, 14, 14]}\n"
     ]
    }
   ],
   "source": [
    "data = dict(grades=grades, males=males, females=females) # Creates a dictionary to store these three sets of data\n",
    "print(data)\n",
    "source = ColumnDataSource(data=data)                     # Similar to last time, we create a ColumnDataSource object for Bokeh to easily read our data"
   ]
  },
  {
   "cell_type": "markdown",
   "metadata": {},
   "source": [
    "Importantly, the key step is to tell Bokeh what parts of our data and colors we want for the categories."
   ]
  },
  {
   "cell_type": "code",
   "execution_count": 5,
   "metadata": {},
   "outputs": [],
   "source": [
    "categories = ('males', 'females')    # Specifies that we want two categories stacked: males and females\n",
    "colors = [\"#718dbf\", \"#e84d60\"]      # Specifies the two colors we will use"
   ]
  },
  {
   "cell_type": "markdown",
   "metadata": {},
   "source": [
    "### Step 3: Plot Data\n",
    "\n",
    "Similar to last time, we first create an empty `figure` for our data."
   ]
  },
  {
   "cell_type": "code",
   "execution_count": 6,
   "metadata": {},
   "outputs": [],
   "source": [
    "stacked_visual = figure(title=\"Total Male vs. Female Enrollment by Grade\", x_range=grades, y_range=(0,40), \n",
    "                        x_axis_label='Grade', y_axis_label=\"Enrollment\", plot_height=300, plot_width=800)"
   ]
  },
  {
   "cell_type": "markdown",
   "metadata": {},
   "source": [
    "Next, we plot our data onto the empty figure. Unlike last time, we not using simple bars, but instead stacked bars, thereforefore we use `vbar_stack`. \n",
    " - The first argument `categories` refers to the array we created earlier. This tells Bokeh to use `'males'` and `'females'` for the stacked data\n",
    " - The `color` argument tells Bokeh which two colors to use for the categories\n",
    " - The `legend_label` argument determines the labels presented in the legend"
   ]
  },
  {
   "cell_type": "code",
   "execution_count": 7,
   "metadata": {},
   "outputs": [
    {
     "data": {
      "text/plain": [
       "[GlyphRenderer(id='1043', ...), GlyphRenderer(id='1056', ...)]"
      ]
     },
     "execution_count": 7,
     "metadata": {},
     "output_type": "execute_result"
    }
   ],
   "source": [
    "stacked_visual.vbar_stack(categories, x='grades', width=0.7, color=colors, source=source, legend_label=categories)"
   ]
  },
  {
   "cell_type": "markdown",
   "metadata": {},
   "source": [
    "Finally, we add a few touches to clean up our visual, and call `show` to display our graph (like the previous project)."
   ]
  },
  {
   "cell_type": "code",
   "execution_count": 8,
   "metadata": {},
   "outputs": [
    {
     "data": {
      "text/html": [
       "\n",
       "\n",
       "\n",
       "\n",
       "\n",
       "\n",
       "  <div class=\"bk-root\" id=\"2de15a5d-c62c-4d2f-b218-88c83811d2ec\" data-root-id=\"1003\"></div>\n"
      ]
     },
     "metadata": {},
     "output_type": "display_data"
    },
    {
     "data": {
      "application/javascript": [
       "(function(root) {\n",
       "  function embed_document(root) {\n",
       "    \n",
       "  var docs_json = {\"8472fadc-e84f-49d9-a2f6-3b028cb15b93\":{\"roots\":{\"references\":[{\"attributes\":{\"below\":[{\"id\":\"1014\",\"type\":\"CategoricalAxis\"}],\"center\":[{\"id\":\"1017\",\"type\":\"Grid\"},{\"id\":\"1022\",\"type\":\"Grid\"},{\"id\":\"1051\",\"type\":\"Legend\"}],\"left\":[{\"id\":\"1018\",\"type\":\"LinearAxis\"}],\"plot_height\":300,\"plot_width\":800,\"renderers\":[{\"id\":\"1043\",\"type\":\"GlyphRenderer\"},{\"id\":\"1056\",\"type\":\"GlyphRenderer\"}],\"title\":{\"id\":\"1004\",\"type\":\"Title\"},\"toolbar\":{\"id\":\"1029\",\"type\":\"Toolbar\"},\"x_range\":{\"id\":\"1006\",\"type\":\"FactorRange\"},\"x_scale\":{\"id\":\"1010\",\"type\":\"CategoricalScale\"},\"y_range\":{\"id\":\"1008\",\"type\":\"Range1d\"},\"y_scale\":{\"id\":\"1012\",\"type\":\"LinearScale\"}},\"id\":\"1003\",\"subtype\":\"Figure\",\"type\":\"Plot\"},{\"attributes\":{\"fields\":[]},\"id\":\"1036\",\"type\":\"Stack\"},{\"attributes\":{\"dimension\":1,\"ticker\":{\"id\":\"1019\",\"type\":\"BasicTicker\"}},\"id\":\"1022\",\"type\":\"Grid\"},{\"attributes\":{},\"id\":\"1047\",\"type\":\"BasicTickFormatter\"},{\"attributes\":{\"active_drag\":\"auto\",\"active_inspect\":\"auto\",\"active_multi\":null,\"active_scroll\":\"auto\",\"active_tap\":\"auto\",\"tools\":[{\"id\":\"1023\",\"type\":\"PanTool\"},{\"id\":\"1024\",\"type\":\"WheelZoomTool\"},{\"id\":\"1025\",\"type\":\"BoxZoomTool\"},{\"id\":\"1026\",\"type\":\"SaveTool\"},{\"id\":\"1027\",\"type\":\"ResetTool\"},{\"id\":\"1028\",\"type\":\"HelpTool\"}]},\"id\":\"1029\",\"type\":\"Toolbar\"},{\"attributes\":{\"fields\":[\"males\"]},\"id\":\"1037\",\"type\":\"Stack\"},{\"attributes\":{\"bottom_units\":\"screen\",\"fill_alpha\":{\"value\":0.5},\"fill_color\":{\"value\":\"lightgrey\"},\"left_units\":\"screen\",\"level\":\"overlay\",\"line_alpha\":{\"value\":1.0},\"line_color\":{\"value\":\"black\"},\"line_dash\":[4,4],\"line_width\":{\"value\":2},\"render_mode\":\"css\",\"right_units\":\"screen\",\"top_units\":\"screen\"},\"id\":\"1050\",\"type\":\"BoxAnnotation\"},{\"attributes\":{},\"id\":\"1019\",\"type\":\"BasicTicker\"},{\"attributes\":{\"label\":{\"value\":\"males\"},\"renderers\":[{\"id\":\"1043\",\"type\":\"GlyphRenderer\"}]},\"id\":\"1052\",\"type\":\"LegendItem\"},{\"attributes\":{\"fields\":[\"males\"]},\"id\":\"1038\",\"type\":\"Stack\"},{\"attributes\":{\"bottom\":{\"expr\":{\"id\":\"1038\",\"type\":\"Stack\"}},\"fill_alpha\":{\"value\":0.1},\"fill_color\":{\"value\":\"#1f77b4\"},\"line_alpha\":{\"value\":0.1},\"line_color\":{\"value\":\"#1f77b4\"},\"top\":{\"expr\":{\"id\":\"1039\",\"type\":\"Stack\"}},\"width\":{\"value\":0.7},\"x\":{\"field\":\"grades\"}},\"id\":\"1055\",\"type\":\"VBar\"},{\"attributes\":{\"callback\":null,\"factors\":[\"1\",\"2\",\"3\",\"4\",\"5\",\"6\",\"7\",\"8\",\"9\",\"10\",\"11\",\"12\"]},\"id\":\"1006\",\"type\":\"FactorRange\"},{\"attributes\":{\"fields\":[\"males\",\"females\"]},\"id\":\"1039\",\"type\":\"Stack\"},{\"attributes\":{},\"id\":\"1023\",\"type\":\"PanTool\"},{\"attributes\":{\"axis_label\":\"Grade\",\"formatter\":{\"id\":\"1049\",\"type\":\"CategoricalTickFormatter\"},\"ticker\":{\"id\":\"1015\",\"type\":\"CategoricalTicker\"}},\"id\":\"1014\",\"type\":\"CategoricalAxis\"},{\"attributes\":{},\"id\":\"1024\",\"type\":\"WheelZoomTool\"},{\"attributes\":{\"data_source\":{\"id\":\"1002\",\"type\":\"ColumnDataSource\"},\"glyph\":{\"id\":\"1041\",\"type\":\"VBar\"},\"hover_glyph\":null,\"muted_glyph\":null,\"name\":\"males\",\"nonselection_glyph\":{\"id\":\"1042\",\"type\":\"VBar\"},\"selection_glyph\":null,\"view\":{\"id\":\"1044\",\"type\":\"CDSView\"}},\"id\":\"1043\",\"type\":\"GlyphRenderer\"},{\"attributes\":{\"overlay\":{\"id\":\"1050\",\"type\":\"BoxAnnotation\"}},\"id\":\"1025\",\"type\":\"BoxZoomTool\"},{\"attributes\":{},\"id\":\"1063\",\"type\":\"UnionRenderers\"},{\"attributes\":{\"axis_label\":\"Enrollment\",\"formatter\":{\"id\":\"1047\",\"type\":\"BasicTickFormatter\"},\"ticker\":{\"id\":\"1019\",\"type\":\"BasicTicker\"}},\"id\":\"1018\",\"type\":\"LinearAxis\"},{\"attributes\":{\"source\":{\"id\":\"1002\",\"type\":\"ColumnDataSource\"}},\"id\":\"1057\",\"type\":\"CDSView\"},{\"attributes\":{},\"id\":\"1026\",\"type\":\"SaveTool\"},{\"attributes\":{},\"id\":\"1049\",\"type\":\"CategoricalTickFormatter\"},{\"attributes\":{\"text\":\"Total Male vs. Female Enrollment by Grade\"},\"id\":\"1004\",\"type\":\"Title\"},{\"attributes\":{\"callback\":null,\"end\":40},\"id\":\"1008\",\"type\":\"Range1d\"},{\"attributes\":{},\"id\":\"1028\",\"type\":\"HelpTool\"},{\"attributes\":{\"data_source\":{\"id\":\"1002\",\"type\":\"ColumnDataSource\"},\"glyph\":{\"id\":\"1054\",\"type\":\"VBar\"},\"hover_glyph\":null,\"muted_glyph\":null,\"name\":\"females\",\"nonselection_glyph\":{\"id\":\"1055\",\"type\":\"VBar\"},\"selection_glyph\":null,\"view\":{\"id\":\"1057\",\"type\":\"CDSView\"}},\"id\":\"1056\",\"type\":\"GlyphRenderer\"},{\"attributes\":{},\"id\":\"1027\",\"type\":\"ResetTool\"},{\"attributes\":{},\"id\":\"1010\",\"type\":\"CategoricalScale\"},{\"attributes\":{\"bottom\":{\"expr\":{\"id\":\"1036\",\"type\":\"Stack\"}},\"fill_color\":{\"value\":\"#718dbf\"},\"line_color\":{\"value\":\"#718dbf\"},\"top\":{\"expr\":{\"id\":\"1037\",\"type\":\"Stack\"}},\"width\":{\"value\":0.7},\"x\":{\"field\":\"grades\"}},\"id\":\"1041\",\"type\":\"VBar\"},{\"attributes\":{},\"id\":\"1064\",\"type\":\"Selection\"},{\"attributes\":{\"callback\":null,\"data\":{\"females\":[15,15,18,13,15,12,12,11,14,16,14,14],\"grades\":[\"1\",\"2\",\"3\",\"4\",\"5\",\"6\",\"7\",\"8\",\"9\",\"10\",\"11\",\"12\"],\"males\":[16,12,10,17,15,11,14,15,13,12,16,14]},\"selected\":{\"id\":\"1064\",\"type\":\"Selection\"},\"selection_policy\":{\"id\":\"1063\",\"type\":\"UnionRenderers\"}},\"id\":\"1002\",\"type\":\"ColumnDataSource\"},{\"attributes\":{\"bottom\":{\"expr\":{\"id\":\"1036\",\"type\":\"Stack\"}},\"fill_alpha\":{\"value\":0.1},\"fill_color\":{\"value\":\"#1f77b4\"},\"line_alpha\":{\"value\":0.1},\"line_color\":{\"value\":\"#1f77b4\"},\"top\":{\"expr\":{\"id\":\"1037\",\"type\":\"Stack\"}},\"width\":{\"value\":0.7},\"x\":{\"field\":\"grades\"}},\"id\":\"1042\",\"type\":\"VBar\"},{\"attributes\":{},\"id\":\"1012\",\"type\":\"LinearScale\"},{\"attributes\":{\"grid_line_color\":null,\"ticker\":{\"id\":\"1015\",\"type\":\"CategoricalTicker\"}},\"id\":\"1017\",\"type\":\"Grid\"},{\"attributes\":{\"source\":{\"id\":\"1002\",\"type\":\"ColumnDataSource\"}},\"id\":\"1044\",\"type\":\"CDSView\"},{\"attributes\":{\"bottom\":{\"expr\":{\"id\":\"1038\",\"type\":\"Stack\"}},\"fill_color\":{\"value\":\"#e84d60\"},\"line_color\":{\"value\":\"#e84d60\"},\"top\":{\"expr\":{\"id\":\"1039\",\"type\":\"Stack\"}},\"width\":{\"value\":0.7},\"x\":{\"field\":\"grades\"}},\"id\":\"1054\",\"type\":\"VBar\"},{\"attributes\":{},\"id\":\"1015\",\"type\":\"CategoricalTicker\"},{\"attributes\":{\"label\":{\"value\":\"females\"},\"renderers\":[{\"id\":\"1056\",\"type\":\"GlyphRenderer\"}]},\"id\":\"1066\",\"type\":\"LegendItem\"},{\"attributes\":{\"items\":[{\"id\":\"1052\",\"type\":\"LegendItem\"},{\"id\":\"1066\",\"type\":\"LegendItem\"}],\"location\":\"top_left\",\"orientation\":\"horizontal\"},\"id\":\"1051\",\"type\":\"Legend\"}],\"root_ids\":[\"1003\"]},\"title\":\"Bokeh Application\",\"version\":\"1.4.0\"}};\n",
       "  var render_items = [{\"docid\":\"8472fadc-e84f-49d9-a2f6-3b028cb15b93\",\"roots\":{\"1003\":\"2de15a5d-c62c-4d2f-b218-88c83811d2ec\"}}];\n",
       "  root.Bokeh.embed.embed_items_notebook(docs_json, render_items);\n",
       "\n",
       "  }\n",
       "  if (root.Bokeh !== undefined) {\n",
       "    embed_document(root);\n",
       "  } else {\n",
       "    var attempts = 0;\n",
       "    var timer = setInterval(function(root) {\n",
       "      if (root.Bokeh !== undefined) {\n",
       "        clearInterval(timer);\n",
       "        embed_document(root);\n",
       "      } else {\n",
       "        attempts++;\n",
       "        if (attempts > 100) {\n",
       "          clearInterval(timer);\n",
       "          console.log(\"Bokeh: ERROR: Unable to run BokehJS code because BokehJS library is missing\");\n",
       "        }\n",
       "      }\n",
       "    }, 10, root)\n",
       "  }\n",
       "})(window);"
      ],
      "application/vnd.bokehjs_exec.v0+json": ""
     },
     "metadata": {
      "application/vnd.bokehjs_exec.v0+json": {
       "id": "1003"
      }
     },
     "output_type": "display_data"
    }
   ],
   "source": [
    "stacked_visual.xgrid.grid_line_color = None\n",
    "stacked_visual.legend.orientation = \"horizontal\"\n",
    "stacked_visual.legend.location = \"top_left\"\n",
    "\n",
    "show(stacked_visual)    # Remember to call this, or the graph will not display"
   ]
  },
  {
   "cell_type": "markdown",
   "metadata": {},
   "source": [
    "## 2B: Grouped Bar Chart\n",
    "\n",
    "**We will once again compare male and female enrollment, but this time we will group the bars by grade (beside each other) instead of stacking them.**"
   ]
  },
  {
   "cell_type": "markdown",
   "metadata": {},
   "source": [
    "## Step 1: Bokeh Setup\n",
    "\n",
    "Because we have already set up Bokeh in this notebook, we should be able to skip this step. However, we need `FactorRange` and `factor_cmap` from Bokeh in this chart, and so we need to `import` them here."
   ]
  },
  {
   "cell_type": "code",
   "execution_count": 9,
   "metadata": {},
   "outputs": [],
   "source": [
    "from bokeh.models import FactorRange\n",
    "from bokeh.transform import factor_cmap"
   ]
  },
  {
   "cell_type": "markdown",
   "metadata": {},
   "source": [
    "## Step 2: Select Data\n",
    "\n",
    "We care about the same three columns of data: Grade, Male, and Female. We can once again view the data by printing each column."
   ]
  },
  {
   "cell_type": "code",
   "execution_count": 10,
   "metadata": {},
   "outputs": [
    {
     "name": "stdout",
     "output_type": "stream",
     "text": [
      "Grade Column:\n",
      "['1', '2', '3', '4', '5', '6', '7', '8', '9', '10', '11', '12']\n",
      "\n",
      "Male Column:\n",
      "[16, 12, 10, 17, 15, 11, 14, 15, 13, 12, 16, 14]\n",
      "\n",
      "Female Column:\n",
      "[15, 15, 18, 13, 15, 12, 12, 11, 14, 16, 14, 14]\n"
     ]
    }
   ],
   "source": [
    "print(\"Grade Column:\")\n",
    "print(grades)\n",
    "print(\"\")\n",
    "print(\"Male Column:\")\n",
    "print(males)\n",
    "print(\"\")\n",
    "print(\"Female Column:\")\n",
    "print(females)"
   ]
  },
  {
   "cell_type": "markdown",
   "metadata": {},
   "source": [
    "In the next few lines of code, we prepare our data to be grouped by category."
   ]
  },
  {
   "cell_type": "code",
   "execution_count": 11,
   "metadata": {},
   "outputs": [
    {
     "name": "stdout",
     "output_type": "stream",
     "text": [
      "X Data:\n",
      "[('1', 'm'), ('1', 'f'), ('2', 'm'), ('2', 'f'), ('3', 'm'), ('3', 'f'), ('4', 'm'), ('4', 'f'), ('5', 'm'), ('5', 'f'), ('6', 'm'), ('6', 'f'), ('7', 'm'), ('7', 'f'), ('8', 'm'), ('8', 'f'), ('9', 'm'), ('9', 'f'), ('10', 'm'), ('10', 'f'), ('11', 'm'), ('11', 'f'), ('12', 'm'), ('12', 'f')]\n",
      "\n",
      "Y Data:\n",
      "(16, 15, 12, 15, 10, 18, 17, 13, 15, 15, 11, 12, 14, 12, 15, 11, 13, 14, 12, 16, 16, 14, 14, 14)\n"
     ]
    }
   ],
   "source": [
    "categories = ['m', 'f']                                                # We rename the categories so the labels display better on our graph\n",
    "x = [(grade, category) for grade in grades for category in categories] # X-axis is every possible combination of grade and category\n",
    "y = sum(zip(data['males'], data['females']), ())                       # Y-axis is the total count of males and females by grade and category\n",
    "print(\"X Data:\")\n",
    "print(x)\n",
    "print(\"\")\n",
    "print(\"Y Data:\")\n",
    "print(y)"
   ]
  },
  {
   "cell_type": "markdown",
   "metadata": {},
   "source": [
    "Note: `x` is an array of (grade, category) pairs, while `y` is a matching array containing the count of individuals in that grade and category. Once again, we wrap the data into a type that Bokeh can easily understand; `ColumnDataSource`."
   ]
  },
  {
   "cell_type": "code",
   "execution_count": 12,
   "metadata": {},
   "outputs": [
    {
     "name": "stdout",
     "output_type": "stream",
     "text": [
      "{'x': [('1', 'm'), ('1', 'f'), ('2', 'm'), ('2', 'f'), ('3', 'm'), ('3', 'f'), ('4', 'm'), ('4', 'f'), ('5', 'm'), ('5', 'f'), ('6', 'm'), ('6', 'f'), ('7', 'm'), ('7', 'f'), ('8', 'm'), ('8', 'f'), ('9', 'm'), ('9', 'f'), ('10', 'm'), ('10', 'f'), ('11', 'm'), ('11', 'f'), ('12', 'm'), ('12', 'f')], 'y': (16, 15, 12, 15, 10, 18, 17, 13, 15, 15, 11, 12, 14, 12, 15, 11, 13, 14, 12, 16, 16, 14, 14, 14)}\n"
     ]
    }
   ],
   "source": [
    "data = dict(x=x, y=y)\n",
    "print(data)\n",
    "source = ColumnDataSource(data=data)"
   ]
  },
  {
   "cell_type": "markdown",
   "metadata": {},
   "source": [
    "Now, we create the `figure` and plot our data with `vbar`. We use `vbar` and not `vbar_stack`. We also use `FactorRange(*x)` to parse the (grade, category) pairs we created earlier. Finally, we use `factor_cmap` to map the two colors to the two categories."
   ]
  },
  {
   "cell_type": "code",
   "execution_count": 13,
   "metadata": {},
   "outputs": [
    {
     "data": {
      "text/html": [
       "\n",
       "\n",
       "\n",
       "\n",
       "\n",
       "\n",
       "  <div class=\"bk-root\" id=\"892491dc-0319-44a9-bcba-d7e4816f012b\" data-root-id=\"1125\"></div>\n"
      ]
     },
     "metadata": {},
     "output_type": "display_data"
    },
    {
     "data": {
      "application/javascript": [
       "(function(root) {\n",
       "  function embed_document(root) {\n",
       "    \n",
       "  var docs_json = {\"7c712d72-b706-478f-b0a8-32fb2ac4bbc5\":{\"roots\":{\"references\":[{\"attributes\":{\"below\":[{\"id\":\"1135\",\"type\":\"CategoricalAxis\"}],\"center\":[{\"id\":\"1138\",\"type\":\"Grid\"},{\"id\":\"1143\",\"type\":\"Grid\"}],\"left\":[{\"id\":\"1139\",\"type\":\"LinearAxis\"}],\"plot_height\":300,\"plot_width\":800,\"renderers\":[{\"id\":\"1161\",\"type\":\"GlyphRenderer\"}],\"title\":{\"id\":\"1126\",\"type\":\"Title\"},\"toolbar\":{\"id\":\"1150\",\"type\":\"Toolbar\"},\"x_range\":{\"id\":\"1124\",\"type\":\"FactorRange\"},\"x_scale\":{\"id\":\"1131\",\"type\":\"CategoricalScale\"},\"y_range\":{\"id\":\"1129\",\"type\":\"Range1d\"},\"y_scale\":{\"id\":\"1133\",\"type\":\"LinearScale\"}},\"id\":\"1125\",\"subtype\":\"Figure\",\"type\":\"Plot\"},{\"attributes\":{\"end\":2,\"factors\":[\"m\",\"f\"],\"palette\":[\"#718dbf\",\"#e84d60\"],\"start\":1},\"id\":\"1157\",\"type\":\"CategoricalColorMapper\"},{\"attributes\":{\"callback\":null,\"factors\":[[\"1\",\"m\"],[\"1\",\"f\"],[\"2\",\"m\"],[\"2\",\"f\"],[\"3\",\"m\"],[\"3\",\"f\"],[\"4\",\"m\"],[\"4\",\"f\"],[\"5\",\"m\"],[\"5\",\"f\"],[\"6\",\"m\"],[\"6\",\"f\"],[\"7\",\"m\"],[\"7\",\"f\"],[\"8\",\"m\"],[\"8\",\"f\"],[\"9\",\"m\"],[\"9\",\"f\"],[\"10\",\"m\"],[\"10\",\"f\"],[\"11\",\"m\"],[\"11\",\"f\"],[\"12\",\"m\"],[\"12\",\"f\"]]},\"id\":\"1124\",\"type\":\"FactorRange\"},{\"attributes\":{\"text\":\"Total Male vs. Female Enrollment by Grade\"},\"id\":\"1126\",\"type\":\"Title\"},{\"attributes\":{\"fill_color\":{\"field\":\"x\",\"transform\":{\"id\":\"1157\",\"type\":\"CategoricalColorMapper\"}},\"line_color\":{\"value\":\"#1f77b4\"},\"top\":{\"field\":\"y\"},\"width\":{\"value\":0.7},\"x\":{\"field\":\"x\"}},\"id\":\"1159\",\"type\":\"VBar\"},{\"attributes\":{\"fill_alpha\":{\"value\":0.1},\"fill_color\":{\"value\":\"#1f77b4\"},\"line_alpha\":{\"value\":0.1},\"line_color\":{\"value\":\"#1f77b4\"},\"top\":{\"field\":\"y\"},\"width\":{\"value\":0.7},\"x\":{\"field\":\"x\"}},\"id\":\"1160\",\"type\":\"VBar\"},{\"attributes\":{},\"id\":\"1144\",\"type\":\"PanTool\"},{\"attributes\":{\"axis_label\":\"Grade\",\"formatter\":{\"id\":\"1175\",\"type\":\"CategoricalTickFormatter\"},\"ticker\":{\"id\":\"1136\",\"type\":\"CategoricalTicker\"}},\"id\":\"1135\",\"type\":\"CategoricalAxis\"},{\"attributes\":{},\"id\":\"1145\",\"type\":\"WheelZoomTool\"},{\"attributes\":{\"callback\":null,\"end\":40},\"id\":\"1129\",\"type\":\"Range1d\"},{\"attributes\":{\"overlay\":{\"id\":\"1178\",\"type\":\"BoxAnnotation\"}},\"id\":\"1146\",\"type\":\"BoxZoomTool\"},{\"attributes\":{},\"id\":\"1147\",\"type\":\"SaveTool\"},{\"attributes\":{},\"id\":\"1149\",\"type\":\"HelpTool\"},{\"attributes\":{},\"id\":\"1131\",\"type\":\"CategoricalScale\"},{\"attributes\":{},\"id\":\"1177\",\"type\":\"Selection\"},{\"attributes\":{},\"id\":\"1173\",\"type\":\"BasicTickFormatter\"},{\"attributes\":{},\"id\":\"1148\",\"type\":\"ResetTool\"},{\"attributes\":{},\"id\":\"1133\",\"type\":\"LinearScale\"},{\"attributes\":{\"data_source\":{\"id\":\"1123\",\"type\":\"ColumnDataSource\"},\"glyph\":{\"id\":\"1159\",\"type\":\"VBar\"},\"hover_glyph\":null,\"muted_glyph\":null,\"nonselection_glyph\":{\"id\":\"1160\",\"type\":\"VBar\"},\"selection_glyph\":null,\"view\":{\"id\":\"1162\",\"type\":\"CDSView\"}},\"id\":\"1161\",\"type\":\"GlyphRenderer\"},{\"attributes\":{\"dimension\":1,\"ticker\":{\"id\":\"1140\",\"type\":\"BasicTicker\"}},\"id\":\"1143\",\"type\":\"Grid\"},{\"attributes\":{\"grid_line_color\":null,\"ticker\":{\"id\":\"1136\",\"type\":\"CategoricalTicker\"}},\"id\":\"1138\",\"type\":\"Grid\"},{\"attributes\":{\"source\":{\"id\":\"1123\",\"type\":\"ColumnDataSource\"}},\"id\":\"1162\",\"type\":\"CDSView\"},{\"attributes\":{},\"id\":\"1136\",\"type\":\"CategoricalTicker\"},{\"attributes\":{},\"id\":\"1175\",\"type\":\"CategoricalTickFormatter\"},{\"attributes\":{\"callback\":null,\"data\":{\"x\":[[\"1\",\"m\"],[\"1\",\"f\"],[\"2\",\"m\"],[\"2\",\"f\"],[\"3\",\"m\"],[\"3\",\"f\"],[\"4\",\"m\"],[\"4\",\"f\"],[\"5\",\"m\"],[\"5\",\"f\"],[\"6\",\"m\"],[\"6\",\"f\"],[\"7\",\"m\"],[\"7\",\"f\"],[\"8\",\"m\"],[\"8\",\"f\"],[\"9\",\"m\"],[\"9\",\"f\"],[\"10\",\"m\"],[\"10\",\"f\"],[\"11\",\"m\"],[\"11\",\"f\"],[\"12\",\"m\"],[\"12\",\"f\"]],\"y\":[16,15,12,15,10,18,17,13,15,15,11,12,14,12,15,11,13,14,12,16,16,14,14,14]},\"selected\":{\"id\":\"1177\",\"type\":\"Selection\"},\"selection_policy\":{\"id\":\"1176\",\"type\":\"UnionRenderers\"}},\"id\":\"1123\",\"type\":\"ColumnDataSource\"},{\"attributes\":{},\"id\":\"1140\",\"type\":\"BasicTicker\"},{\"attributes\":{\"axis_label\":\"Enrollment\",\"formatter\":{\"id\":\"1173\",\"type\":\"BasicTickFormatter\"},\"ticker\":{\"id\":\"1140\",\"type\":\"BasicTicker\"}},\"id\":\"1139\",\"type\":\"LinearAxis\"},{\"attributes\":{\"active_drag\":\"auto\",\"active_inspect\":\"auto\",\"active_multi\":null,\"active_scroll\":\"auto\",\"active_tap\":\"auto\",\"tools\":[{\"id\":\"1144\",\"type\":\"PanTool\"},{\"id\":\"1145\",\"type\":\"WheelZoomTool\"},{\"id\":\"1146\",\"type\":\"BoxZoomTool\"},{\"id\":\"1147\",\"type\":\"SaveTool\"},{\"id\":\"1148\",\"type\":\"ResetTool\"},{\"id\":\"1149\",\"type\":\"HelpTool\"}]},\"id\":\"1150\",\"type\":\"Toolbar\"},{\"attributes\":{},\"id\":\"1176\",\"type\":\"UnionRenderers\"},{\"attributes\":{\"bottom_units\":\"screen\",\"fill_alpha\":{\"value\":0.5},\"fill_color\":{\"value\":\"lightgrey\"},\"left_units\":\"screen\",\"level\":\"overlay\",\"line_alpha\":{\"value\":1.0},\"line_color\":{\"value\":\"black\"},\"line_dash\":[4,4],\"line_width\":{\"value\":2},\"render_mode\":\"css\",\"right_units\":\"screen\",\"top_units\":\"screen\"},\"id\":\"1178\",\"type\":\"BoxAnnotation\"}],\"root_ids\":[\"1125\"]},\"title\":\"Bokeh Application\",\"version\":\"1.4.0\"}};\n",
       "  var render_items = [{\"docid\":\"7c712d72-b706-478f-b0a8-32fb2ac4bbc5\",\"roots\":{\"1125\":\"892491dc-0319-44a9-bcba-d7e4816f012b\"}}];\n",
       "  root.Bokeh.embed.embed_items_notebook(docs_json, render_items);\n",
       "\n",
       "  }\n",
       "  if (root.Bokeh !== undefined) {\n",
       "    embed_document(root);\n",
       "  } else {\n",
       "    var attempts = 0;\n",
       "    var timer = setInterval(function(root) {\n",
       "      if (root.Bokeh !== undefined) {\n",
       "        clearInterval(timer);\n",
       "        embed_document(root);\n",
       "      } else {\n",
       "        attempts++;\n",
       "        if (attempts > 100) {\n",
       "          clearInterval(timer);\n",
       "          console.log(\"Bokeh: ERROR: Unable to run BokehJS code because BokehJS library is missing\");\n",
       "        }\n",
       "      }\n",
       "    }, 10, root)\n",
       "  }\n",
       "})(window);"
      ],
      "application/vnd.bokehjs_exec.v0+json": ""
     },
     "metadata": {
      "application/vnd.bokehjs_exec.v0+json": {
       "id": "1125"
      }
     },
     "output_type": "display_data"
    }
   ],
   "source": [
    "grouped_visual = figure(title=\"Total Male vs. Female Enrollment by Grade\", x_range=FactorRange(*x), y_range=(0,40),\n",
    "                        x_axis_label='Grade', y_axis_label=\"Enrollment\", plot_height=300, plot_width=800)\n",
    "\n",
    "grouped_visual.vbar(x='x', top='y', width=0.7, source=source, fill_color=factor_cmap('x', palette=colors, factors=categories, start=1, end=2))\n",
    "\n",
    "grouped_visual.xgrid.grid_line_color = None\n",
    "show(grouped_visual)                           # Remember to call this, or the graph will not display"
   ]
  },
  {
   "cell_type": "markdown",
   "metadata": {},
   "source": [
    "## 2C (Challenge): Stacked Bar Chart - Male and Female Enrollment by School "
   ]
  },
  {
   "cell_type": "markdown",
   "metadata": {},
   "source": [
    "**A more challenging task is to plot a stacked chart of Male/Female enrollment by School instead of Grade**\n",
    "\n",
    "In reality, this is quite similar to the first chart we made in this notebook. We simply need to change the input data, and we can use the same graphing function. First, we need to aggregate the male and female enrollment by school. We start by splitting our DataFrame into smaller ones, by School."
   ]
  },
  {
   "cell_type": "code",
   "execution_count": 14,
   "metadata": {},
   "outputs": [
    {
     "name": "stdout",
     "output_type": "stream",
     "text": [
      "Elementary\n",
      "       School  Grade  Male  Female  Total\n",
      "1  Elementary      1    16      15     31\n",
      "2  Elementary      2    12      15     27\n",
      "3  Elementary      3    10      18     28\n",
      "4  Elementary      4    17      13     30\n",
      "5  Elementary      5    15      15     30\n",
      "\n",
      "Middle\n",
      "   School  Grade  Male  Female  Total\n",
      "6  Middle      6    11      12     23\n",
      "7  Middle      7    14      12     26\n",
      "8  Middle      8    15      11     26\n",
      "\n",
      "High\n",
      "   School  Grade  Male  Female  Total\n",
      "9    High      9    13      14     27\n",
      "10   High     10    12      16     28\n",
      "11   High     11    16      14     30\n",
      "12   High     12    14      14     28\n"
     ]
    }
   ],
   "source": [
    "grouped_df = df.groupby(['School'])                # Tells Python to group the data by the School column\n",
    "schools = {}                                       # Creates an empty dictionary to store each school's DataFrame\n",
    "for group in grouped_df.groups:                    # For every group in our grouped_df (for every school), get data only on\n",
    "    schools[group] = grouped_df.get_group(group)   # that group (school), and put it into our dictionary \n",
    "    \n",
    "print(\"Elementary\")\n",
    "print(schools['Elementary'])\n",
    "print(\"\")\n",
    "print(\"Middle\")\n",
    "print(schools['Middle'])\n",
    "print(\"\")\n",
    "print(\"High\")\n",
    "print(schools['High'])"
   ]
  },
  {
   "cell_type": "markdown",
   "metadata": {},
   "source": [
    "We can now calculate totals for Male and Female enrollment for each school."
   ]
  },
  {
   "cell_type": "code",
   "execution_count": 15,
   "metadata": {},
   "outputs": [
    {
     "name": "stdout",
     "output_type": "stream",
     "text": [
      "Schools\n",
      "['Elementary', 'Middle', 'High']\n",
      "\n",
      "Males\n",
      "[70, 40, 55]\n",
      "\n",
      "Females\n",
      "[76, 35, 58]\n"
     ]
    }
   ],
   "source": [
    "school_names = [\"Elementary\", \"Middle\", \"High\"]\n",
    "males = []\n",
    "females = []\n",
    "for school in school_names:\n",
    "    # Calulate the sum of Male enrollment for the given school and add to males array\n",
    "    males.append(schools[school]['Male'].sum())\n",
    "    # Calculate the sum of Female enrollment for the given school and add to females array\n",
    "    females.append(schools[school]['Female'].sum()) \n",
    "\n",
    "print(\"Schools\")\n",
    "print(school_names)\n",
    "print(\"\")\n",
    "print(\"Males\")\n",
    "print(males)\n",
    "print(\"\")\n",
    "print(\"Females\")\n",
    "print(females)"
   ]
  },
  {
   "cell_type": "markdown",
   "metadata": {},
   "source": [
    "Finally, we can use the exact same steps we followed in 2A to create a stacked chart. First, let's wrap our data into `ColumnDataSource`"
   ]
  },
  {
   "cell_type": "code",
   "execution_count": 16,
   "metadata": {},
   "outputs": [
    {
     "name": "stdout",
     "output_type": "stream",
     "text": [
      "{'school_names': ['Elementary', 'Middle', 'High'], 'males': [70, 40, 55], 'females': [76, 35, 58]}\n"
     ]
    }
   ],
   "source": [
    "data = dict(school_names=school_names, males=males, females=females) # Creates a dictionary to store these three sets of data\n",
    "print(data)\n",
    "source = ColumnDataSource(data=data) # Similar to last time, we create a ColumnDataSource object for Bokeh to easily read our data"
   ]
  },
  {
   "cell_type": "markdown",
   "metadata": {},
   "source": [
    "Then, we create an empty figure before we can plot our data. Note that we change `grades` to `school_names` because that is our new x-axis. We also changed the `y_range` to display the visual more clearly."
   ]
  },
  {
   "cell_type": "code",
   "execution_count": 17,
   "metadata": {},
   "outputs": [],
   "source": [
    "categories = ('males', 'females')    # Specifies that we want two categories stacked: males and females\n",
    "colors = [\"#718dbf\", \"#e84d60\"]      # Specifies the two colors we will use\n",
    "\n",
    "challenge_visual = figure(title=\"Total Male vs. Female Enrollment by Grade\", x_range=school_names, y_range=(0,200), \n",
    "                        x_axis_label='School', y_axis_label=\"Enrollment\", plot_height=300, plot_width=800)"
   ]
  },
  {
   "cell_type": "markdown",
   "metadata": {},
   "source": [
    "Finally, we plot our data and add some visual refinements."
   ]
  },
  {
   "cell_type": "code",
   "execution_count": 18,
   "metadata": {},
   "outputs": [
    {
     "data": {
      "text/html": [
       "\n",
       "\n",
       "\n",
       "\n",
       "\n",
       "\n",
       "  <div class=\"bk-root\" id=\"b0f27c5e-f713-48e4-b1e3-2a301607d5d5\" data-root-id=\"1228\"></div>\n"
      ]
     },
     "metadata": {},
     "output_type": "display_data"
    },
    {
     "data": {
      "application/javascript": [
       "(function(root) {\n",
       "  function embed_document(root) {\n",
       "    \n",
       "  var docs_json = {\"d03dd685-651d-4ee6-a36a-8f3ff7a71dcc\":{\"roots\":{\"references\":[{\"attributes\":{\"below\":[{\"id\":\"1239\",\"type\":\"CategoricalAxis\"}],\"center\":[{\"id\":\"1242\",\"type\":\"Grid\"},{\"id\":\"1247\",\"type\":\"Grid\"},{\"id\":\"1276\",\"type\":\"Legend\"}],\"left\":[{\"id\":\"1243\",\"type\":\"LinearAxis\"}],\"plot_height\":300,\"plot_width\":800,\"renderers\":[{\"id\":\"1268\",\"type\":\"GlyphRenderer\"},{\"id\":\"1281\",\"type\":\"GlyphRenderer\"}],\"title\":{\"id\":\"1229\",\"type\":\"Title\"},\"toolbar\":{\"id\":\"1254\",\"type\":\"Toolbar\"},\"x_range\":{\"id\":\"1231\",\"type\":\"FactorRange\"},\"x_scale\":{\"id\":\"1235\",\"type\":\"CategoricalScale\"},\"y_range\":{\"id\":\"1233\",\"type\":\"Range1d\"},\"y_scale\":{\"id\":\"1237\",\"type\":\"LinearScale\"}},\"id\":\"1228\",\"subtype\":\"Figure\",\"type\":\"Plot\"},{\"attributes\":{\"source\":{\"id\":\"1227\",\"type\":\"ColumnDataSource\"}},\"id\":\"1269\",\"type\":\"CDSView\"},{\"attributes\":{},\"id\":\"1288\",\"type\":\"UnionRenderers\"},{\"attributes\":{\"data_source\":{\"id\":\"1227\",\"type\":\"ColumnDataSource\"},\"glyph\":{\"id\":\"1266\",\"type\":\"VBar\"},\"hover_glyph\":null,\"muted_glyph\":null,\"name\":\"males\",\"nonselection_glyph\":{\"id\":\"1267\",\"type\":\"VBar\"},\"selection_glyph\":null,\"view\":{\"id\":\"1269\",\"type\":\"CDSView\"}},\"id\":\"1268\",\"type\":\"GlyphRenderer\"},{\"attributes\":{\"dimension\":1,\"ticker\":{\"id\":\"1244\",\"type\":\"BasicTicker\"}},\"id\":\"1247\",\"type\":\"Grid\"},{\"attributes\":{},\"id\":\"1244\",\"type\":\"BasicTicker\"},{\"attributes\":{\"active_drag\":\"auto\",\"active_inspect\":\"auto\",\"active_multi\":null,\"active_scroll\":\"auto\",\"active_tap\":\"auto\",\"tools\":[{\"id\":\"1248\",\"type\":\"PanTool\"},{\"id\":\"1249\",\"type\":\"WheelZoomTool\"},{\"id\":\"1250\",\"type\":\"BoxZoomTool\"},{\"id\":\"1251\",\"type\":\"SaveTool\"},{\"id\":\"1252\",\"type\":\"ResetTool\"},{\"id\":\"1253\",\"type\":\"HelpTool\"}]},\"id\":\"1254\",\"type\":\"Toolbar\"},{\"attributes\":{\"bottom\":{\"expr\":{\"id\":\"1261\",\"type\":\"Stack\"}},\"fill_alpha\":{\"value\":0.1},\"fill_color\":{\"value\":\"#1f77b4\"},\"line_alpha\":{\"value\":0.1},\"line_color\":{\"value\":\"#1f77b4\"},\"top\":{\"expr\":{\"id\":\"1262\",\"type\":\"Stack\"}},\"width\":{\"value\":0.7},\"x\":{\"field\":\"school_names\"}},\"id\":\"1267\",\"type\":\"VBar\"},{\"attributes\":{\"items\":[{\"id\":\"1277\",\"type\":\"LegendItem\"},{\"id\":\"1291\",\"type\":\"LegendItem\"}],\"location\":\"top_left\",\"orientation\":\"horizontal\"},\"id\":\"1276\",\"type\":\"Legend\"},{\"attributes\":{\"bottom\":{\"expr\":{\"id\":\"1263\",\"type\":\"Stack\"}},\"fill_alpha\":{\"value\":0.1},\"fill_color\":{\"value\":\"#1f77b4\"},\"line_alpha\":{\"value\":0.1},\"line_color\":{\"value\":\"#1f77b4\"},\"top\":{\"expr\":{\"id\":\"1264\",\"type\":\"Stack\"}},\"width\":{\"value\":0.7},\"x\":{\"field\":\"school_names\"}},\"id\":\"1280\",\"type\":\"VBar\"},{\"attributes\":{},\"id\":\"1289\",\"type\":\"Selection\"},{\"attributes\":{},\"id\":\"1274\",\"type\":\"CategoricalTickFormatter\"},{\"attributes\":{\"label\":{\"value\":\"females\"},\"renderers\":[{\"id\":\"1281\",\"type\":\"GlyphRenderer\"}]},\"id\":\"1291\",\"type\":\"LegendItem\"},{\"attributes\":{},\"id\":\"1272\",\"type\":\"BasicTickFormatter\"},{\"attributes\":{\"callback\":null,\"data\":{\"females\":[76,35,58],\"males\":[70,40,55],\"school_names\":[\"Elementary\",\"Middle\",\"High\"]},\"selected\":{\"id\":\"1289\",\"type\":\"Selection\"},\"selection_policy\":{\"id\":\"1288\",\"type\":\"UnionRenderers\"}},\"id\":\"1227\",\"type\":\"ColumnDataSource\"},{\"attributes\":{\"text\":\"Total Male vs. Female Enrollment by Grade\"},\"id\":\"1229\",\"type\":\"Title\"},{\"attributes\":{\"fields\":[]},\"id\":\"1261\",\"type\":\"Stack\"},{\"attributes\":{\"label\":{\"value\":\"males\"},\"renderers\":[{\"id\":\"1268\",\"type\":\"GlyphRenderer\"}]},\"id\":\"1277\",\"type\":\"LegendItem\"},{\"attributes\":{\"bottom_units\":\"screen\",\"fill_alpha\":{\"value\":0.5},\"fill_color\":{\"value\":\"lightgrey\"},\"left_units\":\"screen\",\"level\":\"overlay\",\"line_alpha\":{\"value\":1.0},\"line_color\":{\"value\":\"black\"},\"line_dash\":[4,4],\"line_width\":{\"value\":2},\"render_mode\":\"css\",\"right_units\":\"screen\",\"top_units\":\"screen\"},\"id\":\"1275\",\"type\":\"BoxAnnotation\"},{\"attributes\":{\"callback\":null,\"factors\":[\"Elementary\",\"Middle\",\"High\"]},\"id\":\"1231\",\"type\":\"FactorRange\"},{\"attributes\":{\"data_source\":{\"id\":\"1227\",\"type\":\"ColumnDataSource\"},\"glyph\":{\"id\":\"1279\",\"type\":\"VBar\"},\"hover_glyph\":null,\"muted_glyph\":null,\"name\":\"females\",\"nonselection_glyph\":{\"id\":\"1280\",\"type\":\"VBar\"},\"selection_glyph\":null,\"view\":{\"id\":\"1282\",\"type\":\"CDSView\"}},\"id\":\"1281\",\"type\":\"GlyphRenderer\"},{\"attributes\":{\"fields\":[\"males\"]},\"id\":\"1262\",\"type\":\"Stack\"},{\"attributes\":{\"axis_label\":\"School\",\"formatter\":{\"id\":\"1274\",\"type\":\"CategoricalTickFormatter\"},\"ticker\":{\"id\":\"1240\",\"type\":\"CategoricalTicker\"}},\"id\":\"1239\",\"type\":\"CategoricalAxis\"},{\"attributes\":{},\"id\":\"1248\",\"type\":\"PanTool\"},{\"attributes\":{},\"id\":\"1249\",\"type\":\"WheelZoomTool\"},{\"attributes\":{\"axis_label\":\"Enrollment\",\"formatter\":{\"id\":\"1272\",\"type\":\"BasicTickFormatter\"},\"ticker\":{\"id\":\"1244\",\"type\":\"BasicTicker\"}},\"id\":\"1243\",\"type\":\"LinearAxis\"},{\"attributes\":{\"overlay\":{\"id\":\"1275\",\"type\":\"BoxAnnotation\"}},\"id\":\"1250\",\"type\":\"BoxZoomTool\"},{\"attributes\":{},\"id\":\"1251\",\"type\":\"SaveTool\"},{\"attributes\":{\"callback\":null,\"end\":200},\"id\":\"1233\",\"type\":\"Range1d\"},{\"attributes\":{\"fields\":[\"males\"]},\"id\":\"1263\",\"type\":\"Stack\"},{\"attributes\":{},\"id\":\"1253\",\"type\":\"HelpTool\"},{\"attributes\":{\"fields\":[\"males\",\"females\"]},\"id\":\"1264\",\"type\":\"Stack\"},{\"attributes\":{},\"id\":\"1235\",\"type\":\"CategoricalScale\"},{\"attributes\":{},\"id\":\"1252\",\"type\":\"ResetTool\"},{\"attributes\":{},\"id\":\"1237\",\"type\":\"LinearScale\"},{\"attributes\":{\"grid_line_color\":null,\"ticker\":{\"id\":\"1240\",\"type\":\"CategoricalTicker\"}},\"id\":\"1242\",\"type\":\"Grid\"},{\"attributes\":{\"bottom\":{\"expr\":{\"id\":\"1261\",\"type\":\"Stack\"}},\"fill_color\":{\"value\":\"#718dbf\"},\"line_color\":{\"value\":\"#718dbf\"},\"top\":{\"expr\":{\"id\":\"1262\",\"type\":\"Stack\"}},\"width\":{\"value\":0.7},\"x\":{\"field\":\"school_names\"}},\"id\":\"1266\",\"type\":\"VBar\"},{\"attributes\":{\"bottom\":{\"expr\":{\"id\":\"1263\",\"type\":\"Stack\"}},\"fill_color\":{\"value\":\"#e84d60\"},\"line_color\":{\"value\":\"#e84d60\"},\"top\":{\"expr\":{\"id\":\"1264\",\"type\":\"Stack\"}},\"width\":{\"value\":0.7},\"x\":{\"field\":\"school_names\"}},\"id\":\"1279\",\"type\":\"VBar\"},{\"attributes\":{},\"id\":\"1240\",\"type\":\"CategoricalTicker\"},{\"attributes\":{\"source\":{\"id\":\"1227\",\"type\":\"ColumnDataSource\"}},\"id\":\"1282\",\"type\":\"CDSView\"}],\"root_ids\":[\"1228\"]},\"title\":\"Bokeh Application\",\"version\":\"1.4.0\"}};\n",
       "  var render_items = [{\"docid\":\"d03dd685-651d-4ee6-a36a-8f3ff7a71dcc\",\"roots\":{\"1228\":\"b0f27c5e-f713-48e4-b1e3-2a301607d5d5\"}}];\n",
       "  root.Bokeh.embed.embed_items_notebook(docs_json, render_items);\n",
       "\n",
       "  }\n",
       "  if (root.Bokeh !== undefined) {\n",
       "    embed_document(root);\n",
       "  } else {\n",
       "    var attempts = 0;\n",
       "    var timer = setInterval(function(root) {\n",
       "      if (root.Bokeh !== undefined) {\n",
       "        clearInterval(timer);\n",
       "        embed_document(root);\n",
       "      } else {\n",
       "        attempts++;\n",
       "        if (attempts > 100) {\n",
       "          clearInterval(timer);\n",
       "          console.log(\"Bokeh: ERROR: Unable to run BokehJS code because BokehJS library is missing\");\n",
       "        }\n",
       "      }\n",
       "    }, 10, root)\n",
       "  }\n",
       "})(window);"
      ],
      "application/vnd.bokehjs_exec.v0+json": ""
     },
     "metadata": {
      "application/vnd.bokehjs_exec.v0+json": {
       "id": "1228"
      }
     },
     "output_type": "display_data"
    }
   ],
   "source": [
    "challenge_visual.vbar_stack(categories, x='school_names', width=0.7, color=colors, source=source, legend_label=categories)\n",
    "\n",
    "challenge_visual.xgrid.grid_line_color = None\n",
    "challenge_visual.legend.orientation = \"horizontal\"\n",
    "challenge_visual.legend.location = \"top_left\"\n",
    "\n",
    "show(challenge_visual)    # Remember to call this, or the graph will not display"
   ]
  },
  {
   "cell_type": "markdown",
   "metadata": {},
   "source": [
    "## Exercise\n",
    "\n",
    "To test your understanding, try creating a similar graph to the one above, except grouping the categories instead of stacking them.\n",
    "\n",
    "For more information, check out the documentation at: https://docs.bokeh.org/en/latest/docs/user_guide/categorical.html."
   ]
  }
 ],
 "metadata": {
  "kernelspec": {
   "display_name": "Python 3",
   "language": "python",
   "name": "python3"
  },
  "language_info": {
   "codemirror_mode": {
    "name": "ipython",
    "version": 3
   },
   "file_extension": ".py",
   "mimetype": "text/x-python",
   "name": "python",
   "nbconvert_exporter": "python",
   "pygments_lexer": "ipython3",
   "version": "3.7.6"
  }
 },
 "nbformat": 4,
 "nbformat_minor": 4
}
