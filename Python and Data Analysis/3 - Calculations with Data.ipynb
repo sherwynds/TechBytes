{
 "cells": [
  {
   "cell_type": "markdown",
   "metadata": {},
   "source": [
    "# Python and Data Analysis 3 - Calculations with Data\n",
    "\n",
    "**Goal:** The goal of this project is to learn to calculate information from measured data.\n",
    "\n",
    "**Description:** Data that is given to us is often considered *measured* - it is a real world observation that is recorded and put into a DataFrame. To turn this into information, we need to be able to use the data in calculations. This workshop covers how to create *calculated columns*, and how to calculate *summary statistics*."
   ]
  },
  {
   "cell_type": "markdown",
   "metadata": {},
   "source": [
    "## 3A: Calculated Columns\n",
    "\n",
    "A calculated column is a column that is added to a DataFrame based on existing columns. In the following DataFrame, we have price information for Amazon's stock. It contains the columns `date`, `open`, `high`, `low`, `close`, and `volume`. We can create a calculated column in two ways."
   ]
  },
  {
   "cell_type": "code",
   "execution_count": 1,
   "metadata": {},
   "outputs": [
    {
     "name": "stdout",
     "output_type": "stream",
     "text": [
      "         date    open    high     low   close    volume\n",
      "0  1997-05-16  1.8650  1.9792  1.7083  1.7292  14700000\n",
      "1  1997-05-19  1.7083  1.7708  1.6250  1.7083   6106800\n",
      "2  1997-05-20  1.7292  1.7500  1.6358  1.6358   5467200\n",
      "3  1997-05-21  1.6042  1.6458  1.3750  1.4275  18853200\n",
      "4  1997-05-22  1.4375  1.4483  1.3125  1.3958  11776800\n"
     ]
    }
   ],
   "source": [
    "import pandas as pd\n",
    "amzn = pd.read_csv('AMZN.csv')\n",
    "print(amzn.head())"
   ]
  },
  {
   "cell_type": "markdown",
   "metadata": {},
   "source": [
    "### Calculations Across Two Columns\n",
    "\n",
    "Frequently, we want to be able to carry out mathematical operations between two or more columns. The syntax is quite intuitive. For example, we might want to keep track of the daily gains/losses. This can be calculated by subtracting the close price from the opening price: `open - close`. "
   ]
  },
  {
   "cell_type": "code",
   "execution_count": 2,
   "metadata": {},
   "outputs": [
    {
     "name": "stdout",
     "output_type": "stream",
     "text": [
      "         date    open    high     low   close    volume  daily_change\n",
      "0  1997-05-16  1.8650  1.9792  1.7083  1.7292  14700000        0.1358\n",
      "1  1997-05-19  1.7083  1.7708  1.6250  1.7083   6106800        0.0000\n",
      "2  1997-05-20  1.7292  1.7500  1.6358  1.6358   5467200        0.0934\n",
      "3  1997-05-21  1.6042  1.6458  1.3750  1.4275  18853200        0.1767\n",
      "4  1997-05-22  1.4375  1.4483  1.3125  1.3958  11776800        0.0417\n"
     ]
    }
   ],
   "source": [
    "amzn['daily_change'] = amzn['open'] - amzn['close']\n",
    "print(amzn.head())"
   ]
  },
  {
   "cell_type": "markdown",
   "metadata": {},
   "source": [
    "A similar syntax can be used for other operations, including multiplication (`*`), division (`/`), addition (`+`) and exponents (`**`). As another example, perhaps we want an approximation of value of trades executed on a particular day by multiplying an average price by the volume. To estimate of average price, we will use `(open + high + low + close) / 4`. The final formula is `((open + high + low + close) / 4) * volume)`."
   ]
  },
  {
   "cell_type": "code",
   "execution_count": 3,
   "metadata": {},
   "outputs": [
    {
     "name": "stdout",
     "output_type": "stream",
     "text": [
      "         date    open    high     low   close    volume  daily_value\n",
      "0  1997-05-16  1.8650  1.9792  1.7083  1.7292  14700000  26760247.50\n",
      "1  1997-05-19  1.7083  1.7708  1.6250  1.7083   6106800  10400491.08\n",
      "2  1997-05-20  1.7292  1.7500  1.6358  1.6358   5467200   9226993.44\n",
      "3  1997-05-21  1.6042  1.6458  1.3750  1.4275  18853200  28527248.25\n",
      "4  1997-05-22  1.4375  1.4483  1.3125  1.3958  11776800  16470149.22\n"
     ]
    }
   ],
   "source": [
    "amzn = amzn.drop(columns=['daily_change']) # Removes the 'daily_change' column we created earlier\n",
    "amzn['daily_value'] = ((amzn['open'] + amzn['high'] + amzn['low'] + amzn['close']) / 4) * amzn['volume']\n",
    "print(amzn.head())"
   ]
  },
  {
   "cell_type": "markdown",
   "metadata": {},
   "source": [
    "For practice, try:\n",
    " - Calculating the difference between the `high` and `low` columns\n",
    " - Returning the higher value between the `open` and `close` columns (hint: look into the `max` function)\n",
    " - Returning the `close` price as a percentage of the original `close` price (useful when comparing the growth of different stocks)"
   ]
  },
  {
   "cell_type": "markdown",
   "metadata": {},
   "source": [
    "### Operations on a Column\n",
    "\n",
    "There is another way to carry out calculations on a column, but it can easily be used for other operations too. The `apply` function takes a column or entire DataFrame and applies a function to each item. This is convenient when the operation we want to perform for each item is quite complex. Below, we have a function `change_date` that takes a date in the form `YYYY-MM-DD` as a string, and outputs it in the form `Month Day, Year`. "
   ]
  },
  {
   "cell_type": "code",
   "execution_count": 4,
   "metadata": {},
   "outputs": [
    {
     "name": "stdout",
     "output_type": "stream",
     "text": [
      "May 16, 1997\n"
     ]
    }
   ],
   "source": [
    "def change_date(original_date):\n",
    "    year = original_date[0:4]    # Get the first four characters in the string\n",
    "    month = original_date[5:7]   # Get the month from the string\n",
    "   \n",
    "    month_name = \"\"\n",
    "    if month == '01':            # Determine the full name of the month\n",
    "        month_name = \"January\"\n",
    "    elif month == '02':\n",
    "        month_name = \"February\"\n",
    "    elif month == '03':\n",
    "        month_name = \"March\"\n",
    "    elif month == '04':\n",
    "        month_name = \"April\"\n",
    "    elif month == '05':\n",
    "        month_name = \"May\"\n",
    "    elif month == '06':\n",
    "        month_name = \"June\"\n",
    "    elif month == '07':\n",
    "        month_name = \"July\"\n",
    "    elif month == '08':\n",
    "        month_name = \"August\"\n",
    "    elif month == '09':\n",
    "        month_name = \"September\"\n",
    "    elif month == '10':\n",
    "        month_name = \"October\"\n",
    "    elif month == '11':\n",
    "        month_name = \"November\"\n",
    "    elif month == '12':\n",
    "        month_name = \"December\"\n",
    "    day = original_date[-2:]    # Get the last two characters in the string\n",
    "\n",
    "    return(month_name + \" \" + day + \", \" + year)\n",
    "\n",
    "print(change_date(amzn['date'][0]))"
   ]
  },
  {
   "cell_type": "markdown",
   "metadata": {},
   "source": [
    "Because this operation is quite complex, we created a new function for it, and now just need to `apply` `change_date` to our `date` column."
   ]
  },
  {
   "cell_type": "code",
   "execution_count": 5,
   "metadata": {},
   "outputs": [
    {
     "name": "stdout",
     "output_type": "stream",
     "text": [
      "           date    open    high     low   close    volume  daily_value\n",
      "0  May 16, 1997  1.8650  1.9792  1.7083  1.7292  14700000  26760247.50\n",
      "1  May 19, 1997  1.7083  1.7708  1.6250  1.7083   6106800  10400491.08\n",
      "2  May 20, 1997  1.7292  1.7500  1.6358  1.6358   5467200   9226993.44\n",
      "3  May 21, 1997  1.6042  1.6458  1.3750  1.4275  18853200  28527248.25\n",
      "4  May 22, 1997  1.4375  1.4483  1.3125  1.3958  11776800  16470149.22\n"
     ]
    }
   ],
   "source": [
    "amzn['date'] = amzn['date'].apply(change_date)\n",
    "print(amzn.head())"
   ]
  },
  {
   "cell_type": "markdown",
   "metadata": {},
   "source": [
    "Ultimately, `apply` allows us to carry out more complex operations on a column, and *abstract* their functionality into helper functions."
   ]
  },
  {
   "cell_type": "markdown",
   "metadata": {},
   "source": [
    "## 3B: Summary Statistics"
   ]
  },
  {
   "cell_type": "markdown",
   "metadata": {},
   "source": [
    "Previously, we carried out operations to fill each row in a new or existing column with a calculated value. Now we turn our attention to *summary statistics*. These aggregate calculations accross multiple rows within the same column. There are many different types of summary statistics, but common ones are:\n",
    " - `size`: Counts the number of rows in the given column\n",
    " - `count`: Counts the number of rows, excluding NaNs, in the given column\n",
    " - `sum`: Calculates the sum of the values in the given column\n",
    " - `min` and `max`: Calculates the minimum or maximum value in the given column\n",
    " - `mean`, `median`, and `mode`: Calculates the average value in the given column\n",
    " - `std`: Calculates the standard deviation in the given column\n",
    " - `describe`: Many statistics at once\n",
    " \n",
    " Lets look at a few examples:"
   ]
  },
  {
   "cell_type": "markdown",
   "metadata": {},
   "source": [
    "Get the mean close price in the `amzn` DataFrame."
   ]
  },
  {
   "cell_type": "code",
   "execution_count": 6,
   "metadata": {},
   "outputs": [
    {
     "name": "stdout",
     "output_type": "stream",
     "text": [
      "Mean Close Price: 357.8692016015156\n"
     ]
    }
   ],
   "source": [
    "amzn = pd.read_csv('AMZN.csv')\n",
    "mean_close = amzn['close'].mean()\n",
    "print(\"Mean Close Price: \" + str(mean_close))"
   ]
  },
  {
   "cell_type": "markdown",
   "metadata": {},
   "source": [
    "Find the highest and lowest close price."
   ]
  },
  {
   "cell_type": "code",
   "execution_count": 7,
   "metadata": {},
   "outputs": [
    {
     "name": "stdout",
     "output_type": "stream",
     "text": [
      "Highest Close Price: 2647.45\n",
      "Lowest Close Price: 1.3958\n"
     ]
    }
   ],
   "source": [
    "highest_close = amzn['close'].max()\n",
    "print(\"Highest Close Price: \" + str(highest_close))\n",
    "\n",
    "lowest_close = amzn['close'].min()\n",
    "print(\"Lowest Close Price: \" + str(lowest_close))"
   ]
  },
  {
   "cell_type": "markdown",
   "metadata": {},
   "source": [
    "Find the median value for both the `high` and `low` column. We can calculate summary statistics on more than one column by passing a list of columns."
   ]
  },
  {
   "cell_type": "code",
   "execution_count": 8,
   "metadata": {},
   "outputs": [
    {
     "name": "stdout",
     "output_type": "stream",
     "text": [
      "high    84.47\n",
      "low     81.00\n",
      "dtype: float64\n"
     ]
    }
   ],
   "source": [
    "median_value = amzn[['high', 'low']].median()\n",
    "print(median_value)"
   ]
  },
  {
   "cell_type": "markdown",
   "metadata": {},
   "source": [
    "Describe the close prices."
   ]
  },
  {
   "cell_type": "code",
   "execution_count": 9,
   "metadata": {},
   "outputs": [
    {
     "name": "stdout",
     "output_type": "stream",
     "text": [
      "count    5807.000000\n",
      "mean      357.869202\n",
      "std       553.538559\n",
      "min         1.395800\n",
      "25%        37.835000\n",
      "50%        82.700000\n",
      "75%       352.152000\n",
      "max      2647.450000\n",
      "Name: close, dtype: float64\n"
     ]
    }
   ],
   "source": [
    "described = amzn['close'].describe()\n",
    "print(described)"
   ]
  },
  {
   "cell_type": "markdown",
   "metadata": {},
   "source": [
    "As a challenge, try to find the greatest difference in `high` and `low` prices on a given day. Think about the steps you need to perform, and whether the given DataFrame contains all the information we need."
   ]
  },
  {
   "cell_type": "markdown",
   "metadata": {},
   "source": [
    "### Summary Statistics by Group"
   ]
  },
  {
   "cell_type": "markdown",
   "metadata": {},
   "source": [
    "If we have data from multiple categories in the same DataFrame, we can split it into separate DataFrames and then calculate the summary statistics. Lets look at the DataFrame we create before, with stock prices for Microsoft, Amazon, Google, and Apple."
   ]
  },
  {
   "cell_type": "code",
   "execution_count": 10,
   "metadata": {},
   "outputs": [
    {
     "name": "stdout",
     "output_type": "stream",
     "text": [
      "            date       open       high        low      close      volume  name\n",
      "0     1986-03-13     0.0885     0.1016     0.0885     0.0972  1031788800  MSFT\n",
      "1     1986-03-14     0.0972     0.1024     0.0972     0.1007   308160000  MSFT\n",
      "2     1986-03-17     0.1007     0.1033     0.1007     0.1024   133171200  MSFT\n",
      "3     1986-03-18     0.1024     0.1033     0.0990     0.0998    67766400  MSFT\n",
      "4     1986-03-19     0.0998     0.1007     0.0972     0.0981    47894400  MSFT\n",
      "...          ...        ...        ...        ...        ...         ...   ...\n",
      "1560  2020-06-08  1422.3400  1447.9900  1422.3400  1446.6100     1401827  GOOG\n",
      "1561  2020-06-09  1445.3600  1468.0000  1443.2100  1456.1600     1409249  GOOG\n",
      "1562  2020-06-10  1459.5400  1474.2600  1456.2700  1465.8500     1521378  GOOG\n",
      "1563  2020-06-11  1442.4800  1454.4700  1402.0000  1403.8400     1983710  GOOG\n",
      "1564  2020-06-12  1428.4900  1437.0000  1386.0200  1413.1800     1946367  GOOG\n",
      "\n",
      "[25965 rows x 7 columns]\n"
     ]
    }
   ],
   "source": [
    "msft = pd.read_csv('MSFT.csv')\n",
    "msft['name'] = ['MSFT' for i in range(len(msft.index))]\n",
    "aapl = pd.read_csv('AAPL.csv')\n",
    "aapl['name'] = ['AAPL' for i in range(len(aapl.index))]\n",
    "amzn = pd.read_csv('AMZN.csv')\n",
    "amzn['name'] = ['AMZN' for i in range(len(amzn.index))]\n",
    "goog = pd.read_csv('GOOG.csv')\n",
    "goog['name'] = ['GOOG' for i in range(len(goog.index))]\n",
    "df = msft.append(aapl)\n",
    "df = df.append(amzn)\n",
    "df = df.append(goog)\n",
    "print(df)"
   ]
  },
  {
   "cell_type": "markdown",
   "metadata": {},
   "source": [
    "Combining our knowledge of the `groupby` function with our knowledge of summary statistics, we can do the following:"
   ]
  },
  {
   "cell_type": "code",
   "execution_count": 11,
   "metadata": {},
   "outputs": [
    {
     "name": "stdout",
     "output_type": "stream",
     "text": [
      "AAPL Avg Trading Volume: 85488428.64624962\n",
      "AMZN Avg Trading Volume: 7512299.565696573\n",
      "GOOG Avg Trading Volume: 1753946.9469648562\n",
      "MSFT Avg Trading Volume: 60234781.231410705\n"
     ]
    }
   ],
   "source": [
    "stocks = df.groupby('name')\n",
    "for stock in stocks.groups.keys():\n",
    "    stock_df = stocks.get_group(stock)\n",
    "    avg_vol = stock_df['volume'].mean()\n",
    "    print(stock + \" Avg Trading Volume: \" + str(avg_vol))"
   ]
  },
  {
   "cell_type": "markdown",
   "metadata": {},
   "source": [
    "Even more simply, we can do `grouped-object.summary-statistic()['name-of-col']`. "
   ]
  },
  {
   "cell_type": "code",
   "execution_count": 12,
   "metadata": {},
   "outputs": [
    {
     "name": "stdout",
     "output_type": "stream",
     "text": [
      "name\n",
      "AAPL    8.548843e+07\n",
      "AMZN    7.512300e+06\n",
      "GOOG    1.753947e+06\n",
      "MSFT    6.023478e+07\n",
      "Name: volume, dtype: float64\n"
     ]
    }
   ],
   "source": [
    "print(stocks.mean()['volume'])"
   ]
  },
  {
   "cell_type": "markdown",
   "metadata": {},
   "source": [
    "The key takeaway is that Pandas allows us to easily calculate columns, operate on existing columns, and create summary statistics for columns and groups."
   ]
  }
 ],
 "metadata": {
  "kernelspec": {
   "display_name": "Python 3",
   "language": "python",
   "name": "python3"
  },
  "language_info": {
   "codemirror_mode": {
    "name": "ipython",
    "version": 3
   },
   "file_extension": ".py",
   "mimetype": "text/x-python",
   "name": "python",
   "nbconvert_exporter": "python",
   "pygments_lexer": "ipython3",
   "version": "3.7.6"
  }
 },
 "nbformat": 4,
 "nbformat_minor": 4
}
