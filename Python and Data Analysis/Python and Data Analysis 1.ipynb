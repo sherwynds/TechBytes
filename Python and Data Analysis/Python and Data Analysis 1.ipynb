{
 "cells": [
  {
   "cell_type": "markdown",
   "metadata": {},
   "source": [
    "# Python and Data Analysis 1\n",
    "\n",
    "**Goal:** The goal of this project is to become comfortable working with data in Pandas.\n",
    "\n",
    "**Description:** This project will cover the basics of Pandas: importing, manipulating, and filtering data in Pandas DataFrames. Becoming fluent takes practice, but is necessary when building larger data analysis projects. After this project, you should feel comfortable navigating any dataset using Pandas."
   ]
  },
  {
   "cell_type": "markdown",
   "metadata": {},
   "source": [
    "## 1A: Data Basics"
   ]
  },
  {
   "cell_type": "markdown",
   "metadata": {},
   "source": [
    "### Types of Data\n",
    "\n",
    "At the most fundemental level, there are three kinds of data:\n",
    " - *Qualitative/Categorical*: Country, Industry, Faculty...\n",
    " - *Quantitative/Numerical*: Height, Rank, Price...\n",
    " - *Identifying*: Stock Ticker, Card Number, Product ID\n",
    " \n",
    "Pandas DataFrames can store different data types, but the basic ones we will focus on here are:\n",
    " - *Strings* (`object`): Text\n",
    " - *Integers* (`int64`): Numbers without decimals\n",
    " - *Floats* (`float64`): Numbers with decimals\n",
    " - *Booleans* (`bool`): Values that are either True or False\n",
    " - *DateTimes* (`datetime64`): Values that store a specific date and time"
   ]
  },
  {
   "cell_type": "markdown",
   "metadata": {},
   "source": [
    "### Importing and Displaying Data\n",
    "\n",
    "We can import data from CSV (comma separated value) files with `read_csv`. The following stock dataset is sourced from https://www.macrotrends.net/."
   ]
  },
  {
   "cell_type": "code",
   "execution_count": 1,
   "metadata": {},
   "outputs": [],
   "source": [
    "import pandas as pd\n",
    "df = pd.read_csv('MSFT.csv') # Import the CSV"
   ]
  },
  {
   "cell_type": "markdown",
   "metadata": {},
   "source": [
    "We can then print the entire DataFrame."
   ]
  },
  {
   "cell_type": "code",
   "execution_count": 2,
   "metadata": {},
   "outputs": [
    {
     "name": "stdout",
     "output_type": "stream",
     "text": [
      "            date      open      high       low     close      volume\n",
      "0     1986-03-13    0.0885    0.1016    0.0885    0.0972  1031788800\n",
      "1     1986-03-14    0.0972    0.1024    0.0972    0.1007   308160000\n",
      "2     1986-03-17    0.1007    0.1033    0.1007    0.1024   133171200\n",
      "3     1986-03-18    0.1024    0.1033    0.0990    0.0998    67766400\n",
      "4     1986-03-19    0.0998    0.1007    0.0972    0.0981    47894400\n",
      "...          ...       ...       ...       ...       ...         ...\n",
      "8629  2020-06-08  185.9400  188.5500  184.4400  188.3600    33123035\n",
      "8630  2020-06-09  188.0000  190.7000  187.2605  189.8000    29783916\n",
      "8631  2020-06-10  191.1250  198.5200  191.0100  196.8400    43568260\n",
      "8632  2020-06-11  193.1300  195.7600  186.0700  186.2700    52645278\n",
      "8633  2020-06-12  190.5400  191.7200  185.1800  187.7400    43373587\n",
      "\n",
      "[8634 rows x 6 columns]\n"
     ]
    }
   ],
   "source": [
    "print(df)"
   ]
  },
  {
   "cell_type": "markdown",
   "metadata": {},
   "source": [
    "Print the first five rows with `head`."
   ]
  },
  {
   "cell_type": "code",
   "execution_count": 3,
   "metadata": {},
   "outputs": [
    {
     "name": "stdout",
     "output_type": "stream",
     "text": [
      "         date    open    high     low   close      volume\n",
      "0  1986-03-13  0.0885  0.1016  0.0885  0.0972  1031788800\n",
      "1  1986-03-14  0.0972  0.1024  0.0972  0.1007   308160000\n",
      "2  1986-03-17  0.1007  0.1033  0.1007  0.1024   133171200\n",
      "3  1986-03-18  0.1024  0.1033  0.0990  0.0998    67766400\n",
      "4  1986-03-19  0.0998  0.1007  0.0972  0.0981    47894400\n"
     ]
    }
   ],
   "source": [
    "print(df.head())"
   ]
  },
  {
   "cell_type": "markdown",
   "metadata": {},
   "source": [
    "Print the last five rows with `tail`."
   ]
  },
  {
   "cell_type": "code",
   "execution_count": 4,
   "metadata": {},
   "outputs": [
    {
     "name": "stdout",
     "output_type": "stream",
     "text": [
      "            date     open    high       low   close    volume\n",
      "8629  2020-06-08  185.940  188.55  184.4400  188.36  33123035\n",
      "8630  2020-06-09  188.000  190.70  187.2605  189.80  29783916\n",
      "8631  2020-06-10  191.125  198.52  191.0100  196.84  43568260\n",
      "8632  2020-06-11  193.130  195.76  186.0700  186.27  52645278\n",
      "8633  2020-06-12  190.540  191.72  185.1800  187.74  43373587\n"
     ]
    }
   ],
   "source": [
    "print(df.tail())"
   ]
  },
  {
   "cell_type": "markdown",
   "metadata": {},
   "source": [
    "Use `dtype` to determine the type of data."
   ]
  },
  {
   "cell_type": "code",
   "execution_count": 5,
   "metadata": {},
   "outputs": [
    {
     "data": {
      "text/plain": [
       "dtype('float64')"
      ]
     },
     "execution_count": 5,
     "metadata": {},
     "output_type": "execute_result"
    }
   ],
   "source": [
    "df['close'].dtype # Find the type of data in the 'close' column"
   ]
  },
  {
   "cell_type": "markdown",
   "metadata": {},
   "source": [
    "### DataFrame Elements\n",
    "\n",
    "DataFrames have three key elements:\n",
    " - *Data*: The content of the DataFrame\n",
    " - *Columns*: Horizontal headings (`date`, `open`, `high`, `low`, `close`, `volume`) uniquelely identifying a column\n",
    " - *Index*: Vertical values uniquely identifying a row (the numbers on the leftmost side)\n",
    " \n",
    " \n",
    "Note: The *position* of a column or index is the order in which it appears, starting from 0. The column positions are numbered 0, 1, 2, 3, 4, 5, in order of appearance. In this DataFrame, the index is the same as the index position for all rows (index at position 0 has value 0)."
   ]
  },
  {
   "cell_type": "markdown",
   "metadata": {},
   "source": [
    "## 1B: Slicing and Dicing Data"
   ]
  },
  {
   "cell_type": "markdown",
   "metadata": {},
   "source": [
    "When analyzing data, we need to be able to manipulate DataFrames to select the exact subset of data that we want. Here, we will cover a few key techniques."
   ]
  },
  {
   "cell_type": "markdown",
   "metadata": {},
   "source": [
    "### Column Select\n",
    "\n",
    "If we want to get data from a particular column, we can use the syntax `df-name['column-name']`. This returns a Pandas *Series*. For example, if we want to get the `date` column from the DataFrame called `df`, we can do:"
   ]
  },
  {
   "cell_type": "code",
   "execution_count": 6,
   "metadata": {},
   "outputs": [
    {
     "name": "stdout",
     "output_type": "stream",
     "text": [
      "0       1986-03-13\n",
      "1       1986-03-14\n",
      "2       1986-03-17\n",
      "3       1986-03-18\n",
      "4       1986-03-19\n",
      "           ...    \n",
      "8629    2020-06-08\n",
      "8630    2020-06-09\n",
      "8631    2020-06-10\n",
      "8632    2020-06-11\n",
      "8633    2020-06-12\n",
      "Name: date, Length: 8634, dtype: object\n"
     ]
    }
   ],
   "source": [
    "dates = df['date']\n",
    "print(dates)"
   ]
  },
  {
   "cell_type": "markdown",
   "metadata": {},
   "source": [
    "To select multiple columns, we use `df-name[['col1', 'col2', ...]]`. Instead of passing a single column, we pass a list of columns. Instead of returning a Series, Pandas will return a DataFrame. This also allows us to rearrange the order of columns."
   ]
  },
  {
   "cell_type": "code",
   "execution_count": 7,
   "metadata": {},
   "outputs": [
    {
     "name": "stdout",
     "output_type": "stream",
     "text": [
      "          volume     close        date\n",
      "0     1031788800    0.0972  1986-03-13\n",
      "1      308160000    0.1007  1986-03-14\n",
      "2      133171200    0.1024  1986-03-17\n",
      "3       67766400    0.0998  1986-03-18\n",
      "4       47894400    0.0981  1986-03-19\n",
      "...          ...       ...         ...\n",
      "8629    33123035  188.3600  2020-06-08\n",
      "8630    29783916  189.8000  2020-06-09\n",
      "8631    43568260  196.8400  2020-06-10\n",
      "8632    52645278  186.2700  2020-06-11\n",
      "8633    43373587  187.7400  2020-06-12\n",
      "\n",
      "[8634 rows x 3 columns]\n"
     ]
    }
   ],
   "source": [
    "multiple_cols = df[['volume', 'close', 'date']]\n",
    "print(multiple_cols)"
   ]
  },
  {
   "cell_type": "markdown",
   "metadata": {},
   "source": [
    "### Row Select"
   ]
  },
  {
   "cell_type": "markdown",
   "metadata": {},
   "source": [
    "Pandas provides two ways to select particular rows from a DataFrame."
   ]
  },
  {
   "cell_type": "markdown",
   "metadata": {},
   "source": [
    "#### Row Select by Value\n",
    "\n",
    "We use the row's index value to uniquely select the row, following the syntax `df-name.loc[index-value]`. This will return a Series. Here, the index value is the same as its position (the index value at position 0 is 0), but this is not always the case. The index value can be a non-integer, but its position will always be an integer from 0 to the number of rows minus one."
   ]
  },
  {
   "cell_type": "code",
   "execution_count": 8,
   "metadata": {},
   "outputs": [
    {
     "name": "stdout",
     "output_type": "stream",
     "text": [
      "date      1986-03-13\n",
      "open          0.0885\n",
      "high          0.1016\n",
      "low           0.0885\n",
      "close         0.0972\n",
      "volume    1031788800\n",
      "Name: 0, dtype: object\n"
     ]
    }
   ],
   "source": [
    "first_row = df.loc[0]\n",
    "print(first_row)"
   ]
  },
  {
   "cell_type": "markdown",
   "metadata": {},
   "source": [
    "For multiple rows, we can pass a list of rows, or a range using `df-name.loc[[values-list]]` or `df-name.loc[start-value:end-value]`."
   ]
  },
  {
   "cell_type": "code",
   "execution_count": 9,
   "metadata": {},
   "outputs": [
    {
     "name": "stdout",
     "output_type": "stream",
     "text": [
      "         date    open    high     low   close      volume\n",
      "0  1986-03-13  0.0885  0.1016  0.0885  0.0972  1031788800\n",
      "1  1986-03-14  0.0972  0.1024  0.0972  0.1007   308160000\n",
      "2  1986-03-17  0.1007  0.1033  0.1007  0.1024   133171200\n",
      "3  1986-03-18  0.1024  0.1033  0.0990  0.0998    67766400\n",
      "4  1986-03-19  0.0998  0.1007  0.0972  0.0981    47894400\n",
      "         date    open    high     low   close      volume\n",
      "0  1986-03-13  0.0885  0.1016  0.0885  0.0972  1031788800\n",
      "1  1986-03-14  0.0972  0.1024  0.0972  0.1007   308160000\n",
      "2  1986-03-17  0.1007  0.1033  0.1007  0.1024   133171200\n",
      "3  1986-03-18  0.1024  0.1033  0.0990  0.0998    67766400\n",
      "4  1986-03-19  0.0998  0.1007  0.0972  0.0981    47894400\n"
     ]
    }
   ],
   "source": [
    "first_five_rows = df.loc[[0,1,2,3,4]] # Access the rows with index 0,1,2,3,4\n",
    "print(first_five_rows)\n",
    "\n",
    "first_five_rows_range = df.loc[0:4] # Access the rows starting with index 0 up to and including index 4\n",
    "print(first_five_rows_range)"
   ]
  },
  {
   "cell_type": "markdown",
   "metadata": {},
   "source": [
    "#### Row Select by Position\n",
    "\n",
    "Instead of using the value of the index, we can also use its position. This is useful if our index values are not common-sense integers. If our index was a string, but we wanted to select the first 20 rows of data, `loc` would not work unless we knew the first 20 values in our index. With the exception of using positions instead of values, `iloc` is quite similar to `loc`. We use the syntax `df-name.iloc[index-position]` for a single row and `df-name.iloc[[positions-list]]` or `df-name.iloc[start-position:end-position]` for multiple rows."
   ]
  },
  {
   "cell_type": "code",
   "execution_count": 10,
   "metadata": {},
   "outputs": [
    {
     "name": "stdout",
     "output_type": "stream",
     "text": [
      "date      1986-03-19\n",
      "open          0.0998\n",
      "high          0.1007\n",
      "low           0.0972\n",
      "close         0.0981\n",
      "volume      47894400\n",
      "Name: 4, dtype: object\n",
      "            date     open    high       low   close    volume\n",
      "8629  2020-06-08  185.940  188.55  184.4400  188.36  33123035\n",
      "8630  2020-06-09  188.000  190.70  187.2605  189.80  29783916\n",
      "8631  2020-06-10  191.125  198.52  191.0100  196.84  43568260\n",
      "8632  2020-06-11  193.130  195.76  186.0700  186.27  52645278\n",
      "8633  2020-06-12  190.540  191.72  185.1800  187.74  43373587\n",
      "            date     open    high       low   close    volume\n",
      "8629  2020-06-08  185.940  188.55  184.4400  188.36  33123035\n",
      "8630  2020-06-09  188.000  190.70  187.2605  189.80  29783916\n",
      "8631  2020-06-10  191.125  198.52  191.0100  196.84  43568260\n",
      "8632  2020-06-11  193.130  195.76  186.0700  186.27  52645278\n",
      "8633  2020-06-12  190.540  191.72  185.1800  187.74  43373587\n"
     ]
    }
   ],
   "source": [
    "row_at_position_4 = df.iloc[4] # Access row with position 4\n",
    "print(row_at_position_4)\n",
    "\n",
    "last_five_rows = df.iloc[[-5,-4,-3,-2,-1]] # Access rows with positions -5,-4,-3,-2,-1\n",
    "print(last_five_rows)\n",
    "\n",
    "last_five_rows_range = df.iloc[-5:] # Access rows with positions -5 to the end\n",
    "print(last_five_rows_range)"
   ]
  },
  {
   "cell_type": "markdown",
   "metadata": {},
   "source": [
    "### Subsection Select"
   ]
  },
  {
   "cell_type": "markdown",
   "metadata": {},
   "source": [
    "To select a subsection of rows and columns at the same time, we can use either `df-name.loc[row-values, column-values]` or `df-name.iloc[row-positions, column-positions]`. The key difference is `loc` takes the value itself, whereas `iloc` takes the position."
   ]
  },
  {
   "cell_type": "code",
   "execution_count": 11,
   "metadata": {},
   "outputs": [
    {
     "name": "stdout",
     "output_type": "stream",
     "text": [
      "    close      volume\n",
      "0  0.0972  1031788800\n",
      "1  0.1007   308160000\n",
      "2  0.1024   133171200\n",
      "3  0.0998    67766400\n",
      "4  0.0981    47894400\n",
      "            date   close    volume\n",
      "8632  2020-06-11  186.27  52645278\n",
      "8633  2020-06-12  187.74  43373587\n"
     ]
    }
   ],
   "source": [
    "first_5_close_and_vol = df.loc[[0,1,2,3,4], ['close', 'volume']] # Access the 'close' and 'volume' columns for the rows with index values 0,1,2,3,4\n",
    "print(first_5_close_and_vol)\n",
    "\n",
    "last_2_date_close_and_volume = df.iloc[-2:, [0,4,5]] # Access the 'date' and 'close' and 'volume' columns for rows with index position -2 to the end\n",
    "print(last_2_date_close_and_volume)"
   ]
  },
  {
   "cell_type": "markdown",
   "metadata": {},
   "source": [
    "For practice, try selecting and displaying the `high` and `low` prices for a few rows in the middle, and the first/last row using both `loc` and `iloc`."
   ]
  },
  {
   "cell_type": "markdown",
   "metadata": {},
   "source": [
    "## 1C: Filtering Data"
   ]
  },
  {
   "cell_type": "markdown",
   "metadata": {},
   "source": [
    "Perhaps more interesting than manually selecting data, *filtering* allows us to access a subset of rows based on a condition or set of conditions. For example, if we were only interested in rows where the trading volume was greater than 35 Million, we would filter out all other rows. To do this, we use the syntax `df-name[condition]`."
   ]
  },
  {
   "cell_type": "code",
   "execution_count": 12,
   "metadata": {},
   "outputs": [
    {
     "name": "stdout",
     "output_type": "stream",
     "text": [
      "            date      open      high       low     close      volume\n",
      "0     1986-03-13    0.0885    0.1016    0.0885    0.0972  1031788800\n",
      "1     1986-03-14    0.0972    0.1024    0.0972    0.1007   308160000\n",
      "2     1986-03-17    0.1007    0.1033    0.1007    0.1024   133171200\n",
      "3     1986-03-18    0.1024    0.1033    0.0990    0.0998    67766400\n",
      "4     1986-03-19    0.0998    0.1007    0.0972    0.0981    47894400\n",
      "...          ...       ...       ...       ...       ...         ...\n",
      "8623  2020-05-29  182.7300  184.2700  180.4100  183.2500    42146720\n",
      "8628  2020-06-05  182.6200  187.7300  182.0100  187.2000    39893643\n",
      "8631  2020-06-10  191.1250  198.5200  191.0100  196.8400    43568260\n",
      "8632  2020-06-11  193.1300  195.7600  186.0700  186.2700    52645278\n",
      "8633  2020-06-12  190.5400  191.7200  185.1800  187.7400    43373587\n",
      "\n",
      "[6667 rows x 6 columns]\n"
     ]
    }
   ],
   "source": [
    "filtered = df[df.volume > 35000000] # Select only the rows where volume > 35 Million\n",
    "print(filtered)"
   ]
  },
  {
   "cell_type": "markdown",
   "metadata": {},
   "source": [
    "We can combine more than one condition using the bitwise comparators `&` (and) and `||` (or). If we wanted the rows where `volume` was larger than 35 Million and `close` was greater than 184, we could combine the two conditions with `&`."
   ]
  },
  {
   "cell_type": "code",
   "execution_count": 13,
   "metadata": {},
   "outputs": [
    {
     "name": "stdout",
     "output_type": "stream",
     "text": [
      "            date     open    high     low   close    volume\n",
      "8547  2020-02-10  183.580  188.84  183.25  188.70  35844267\n",
      "8548  2020-02-11  190.650  190.70  183.50  184.44  53159906\n",
      "8549  2020-02-12  185.580  185.85  181.85  184.71  47062921\n",
      "8554  2020-02-20  186.950  187.25  181.10  184.42  36862376\n",
      "8615  2020-05-18  185.750  186.20  183.96  184.91  35306620\n",
      "8628  2020-06-05  182.620  187.73  182.01  187.20  39893643\n",
      "8631  2020-06-10  191.125  198.52  191.01  196.84  43568260\n",
      "8632  2020-06-11  193.130  195.76  186.07  186.27  52645278\n",
      "8633  2020-06-12  190.540  191.72  185.18  187.74  43373587\n"
     ]
    }
   ],
   "source": [
    "filtered = df[(df.volume > 35000000) & (df.close > 184)]\n",
    "print(filtered)"
   ]
  },
  {
   "cell_type": "markdown",
   "metadata": {},
   "source": [
    "Notice that the number of rows decreases the more conditions we combine. This makes sense, because as we combine conditions, more rows fail to meet the criteria and are filtered out, resulting in a smaller DataFrame.\n",
    "\n",
    "For practice, try selecting and displaying only the rows where the difference between the open and close price is greater than 5. "
   ]
  },
  {
   "cell_type": "code",
   "execution_count": null,
   "metadata": {},
   "outputs": [],
   "source": []
  }
 ],
 "metadata": {
  "kernelspec": {
   "display_name": "Python 3",
   "language": "python",
   "name": "python3"
  },
  "language_info": {
   "codemirror_mode": {
    "name": "ipython",
    "version": 3
   },
   "file_extension": ".py",
   "mimetype": "text/x-python",
   "name": "python",
   "nbconvert_exporter": "python",
   "pygments_lexer": "ipython3",
   "version": "3.7.6"
  }
 },
 "nbformat": 4,
 "nbformat_minor": 4
}
