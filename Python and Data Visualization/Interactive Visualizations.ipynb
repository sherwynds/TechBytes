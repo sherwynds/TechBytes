{
 "cells": [
  {
   "cell_type": "markdown",
   "metadata": {},
   "source": [
    "# Python and Data Visualization - Part 4"
   ]
  },
  {
   "cell_type": "markdown",
   "metadata": {},
   "source": [
    "**Goal:** The goal of this project is to learn to construct more advanced visualizations in Python using Bokeh.\n",
    "\n",
    "**Description:** This project will involve creating two deliverables, combining everything we have learned so far. First, we will learn how to use layouts to plot multiple charts at once, and then we will learn to make our charts more interactive."
   ]
  },
  {
   "cell_type": "markdown",
   "metadata": {},
   "source": [
    "## 4A: Plotting Multiple Figures\n",
    "\n",
    "When visualizing complex data, we may need more than one chart to represent the data. For example, we may want to view the price of a stock over time in addition to its trading volume in order to make better decisions over time.\n",
    "\n",
    "We will look at four more stocks with data sourced from https://www.macrotrends.net/: `GOOG.csv`, `AAPL.csv`, `AMZN.csv`, `MSFT.csv`. Let's make two charts for the stock of your choice (this example will use `MSFT.csv`):\n",
    " - High, Low, and Close Prices (Line)\n",
    " - Volume (Column)"
   ]
  },
  {
   "cell_type": "markdown",
   "metadata": {},
   "source": [
    "### Line Chart: High, Low, and Close Prices\n",
    "\n",
    "Just like the last project, we first need to load the data, select the columns we want, and put them into Python lists."
   ]
  },
  {
   "cell_type": "code",
   "execution_count": 1,
   "metadata": {},
   "outputs": [
    {
     "name": "stdout",
     "output_type": "stream",
     "text": [
      "            date     open      high       low   close    volume\n",
      "8544  2020-02-05  184.030  184.2000  178.4101  179.90  39186324\n",
      "8545  2020-02-06  180.970  183.8199  180.0590  183.63  27532204\n",
      "8546  2020-02-07  182.845  185.6300  182.4800  183.89  33197681\n",
      "8547  2020-02-10  183.580  188.8400  183.2500  188.70  35844267\n",
      "8548  2020-02-11  190.650  190.7000  183.5000  184.44  53159906\n",
      "...          ...      ...       ...       ...     ...       ...\n",
      "8629  2020-06-08  185.940  188.5500  184.4400  188.36  33123035\n",
      "8630  2020-06-09  188.000  190.7000  187.2605  189.80  29783916\n",
      "8631  2020-06-10  191.125  198.5200  191.0100  196.84  43568260\n",
      "8632  2020-06-11  193.130  195.7600  186.0700  186.27  52645278\n",
      "8633  2020-06-12  190.540  191.7200  185.1800  187.74  43373587\n",
      "\n",
      "[90 rows x 6 columns]\n",
      "\n",
      "Dates\n",
      "[Timestamp('2020-02-05 00:00:00'), Timestamp('2020-02-06 00:00:00'), Timestamp('2020-02-07 00:00:00'), Timestamp('2020-02-10 00:00:00'), Timestamp('2020-02-11 00:00:00')]\n",
      "\n",
      "Close\n",
      "[179.9, 183.63, 183.89, 188.7, 184.44]\n",
      "\n",
      "Low\n",
      "[178.4101, 180.05900000000003, 182.48, 183.25, 183.5]\n",
      "\n",
      "High\n",
      "[184.2, 183.8199, 185.63, 188.84, 190.7]\n"
     ]
    }
   ],
   "source": [
    "import pandas as pd\n",
    "msft_df = pd.read_csv(\"MSFT.csv\")\n",
    "msft_df = msft_df[-90:] # Select only 90 data points (2020-02-05 to 2020-06-12)\n",
    "print(msft_df)\n",
    "\n",
    "dates = pd.to_datetime(msft_df['date']).tolist() # Convert date column to datetime and save as list\n",
    "close = msft_df['close'].tolist() # Close prices as a list\n",
    "low = msft_df['low'].tolist() # Low prices as a list\n",
    "high = msft_df['high'].tolist() # High prices as a list\n",
    "\n",
    "print(\"\")\n",
    "print(\"Dates\")\n",
    "print(dates[0:5])\n",
    "print(\"\")\n",
    "print(\"Close\")\n",
    "print(close[0:5])\n",
    "print(\"\")\n",
    "print(\"Low\")\n",
    "print(low[0:5])\n",
    "print(\"\")\n",
    "print(\"High\")\n",
    "print(high[0:5])"
   ]
  },
  {
   "cell_type": "markdown",
   "metadata": {},
   "source": [
    "Next we will create our `figure`, plot each `line`, and finally `show` the chart."
   ]
  },
  {
   "cell_type": "code",
   "execution_count": 2,
   "metadata": {},
   "outputs": [
    {
     "data": {
      "text/html": [
       "\n",
       "    <div class=\"bk-root\">\n",
       "        <a href=\"https://bokeh.org\" target=\"_blank\" class=\"bk-logo bk-logo-small bk-logo-notebook\"></a>\n",
       "        <span id=\"1001\">Loading BokehJS ...</span>\n",
       "    </div>"
      ]
     },
     "metadata": {},
     "output_type": "display_data"
    },
    {
     "data": {
      "application/javascript": [
       "\n",
       "(function(root) {\n",
       "  function now() {\n",
       "    return new Date();\n",
       "  }\n",
       "\n",
       "  var force = true;\n",
       "\n",
       "  if (typeof root._bokeh_onload_callbacks === \"undefined\" || force === true) {\n",
       "    root._bokeh_onload_callbacks = [];\n",
       "    root._bokeh_is_loading = undefined;\n",
       "  }\n",
       "\n",
       "  var JS_MIME_TYPE = 'application/javascript';\n",
       "  var HTML_MIME_TYPE = 'text/html';\n",
       "  var EXEC_MIME_TYPE = 'application/vnd.bokehjs_exec.v0+json';\n",
       "  var CLASS_NAME = 'output_bokeh rendered_html';\n",
       "\n",
       "  /**\n",
       "   * Render data to the DOM node\n",
       "   */\n",
       "  function render(props, node) {\n",
       "    var script = document.createElement(\"script\");\n",
       "    node.appendChild(script);\n",
       "  }\n",
       "\n",
       "  /**\n",
       "   * Handle when an output is cleared or removed\n",
       "   */\n",
       "  function handleClearOutput(event, handle) {\n",
       "    var cell = handle.cell;\n",
       "\n",
       "    var id = cell.output_area._bokeh_element_id;\n",
       "    var server_id = cell.output_area._bokeh_server_id;\n",
       "    // Clean up Bokeh references\n",
       "    if (id != null && id in Bokeh.index) {\n",
       "      Bokeh.index[id].model.document.clear();\n",
       "      delete Bokeh.index[id];\n",
       "    }\n",
       "\n",
       "    if (server_id !== undefined) {\n",
       "      // Clean up Bokeh references\n",
       "      var cmd = \"from bokeh.io.state import curstate; print(curstate().uuid_to_server['\" + server_id + \"'].get_sessions()[0].document.roots[0]._id)\";\n",
       "      cell.notebook.kernel.execute(cmd, {\n",
       "        iopub: {\n",
       "          output: function(msg) {\n",
       "            var id = msg.content.text.trim();\n",
       "            if (id in Bokeh.index) {\n",
       "              Bokeh.index[id].model.document.clear();\n",
       "              delete Bokeh.index[id];\n",
       "            }\n",
       "          }\n",
       "        }\n",
       "      });\n",
       "      // Destroy server and session\n",
       "      var cmd = \"import bokeh.io.notebook as ion; ion.destroy_server('\" + server_id + \"')\";\n",
       "      cell.notebook.kernel.execute(cmd);\n",
       "    }\n",
       "  }\n",
       "\n",
       "  /**\n",
       "   * Handle when a new output is added\n",
       "   */\n",
       "  function handleAddOutput(event, handle) {\n",
       "    var output_area = handle.output_area;\n",
       "    var output = handle.output;\n",
       "\n",
       "    // limit handleAddOutput to display_data with EXEC_MIME_TYPE content only\n",
       "    if ((output.output_type != \"display_data\") || (!output.data.hasOwnProperty(EXEC_MIME_TYPE))) {\n",
       "      return\n",
       "    }\n",
       "\n",
       "    var toinsert = output_area.element.find(\".\" + CLASS_NAME.split(' ')[0]);\n",
       "\n",
       "    if (output.metadata[EXEC_MIME_TYPE][\"id\"] !== undefined) {\n",
       "      toinsert[toinsert.length - 1].firstChild.textContent = output.data[JS_MIME_TYPE];\n",
       "      // store reference to embed id on output_area\n",
       "      output_area._bokeh_element_id = output.metadata[EXEC_MIME_TYPE][\"id\"];\n",
       "    }\n",
       "    if (output.metadata[EXEC_MIME_TYPE][\"server_id\"] !== undefined) {\n",
       "      var bk_div = document.createElement(\"div\");\n",
       "      bk_div.innerHTML = output.data[HTML_MIME_TYPE];\n",
       "      var script_attrs = bk_div.children[0].attributes;\n",
       "      for (var i = 0; i < script_attrs.length; i++) {\n",
       "        toinsert[toinsert.length - 1].firstChild.setAttribute(script_attrs[i].name, script_attrs[i].value);\n",
       "      }\n",
       "      // store reference to server id on output_area\n",
       "      output_area._bokeh_server_id = output.metadata[EXEC_MIME_TYPE][\"server_id\"];\n",
       "    }\n",
       "  }\n",
       "\n",
       "  function register_renderer(events, OutputArea) {\n",
       "\n",
       "    function append_mime(data, metadata, element) {\n",
       "      // create a DOM node to render to\n",
       "      var toinsert = this.create_output_subarea(\n",
       "        metadata,\n",
       "        CLASS_NAME,\n",
       "        EXEC_MIME_TYPE\n",
       "      );\n",
       "      this.keyboard_manager.register_events(toinsert);\n",
       "      // Render to node\n",
       "      var props = {data: data, metadata: metadata[EXEC_MIME_TYPE]};\n",
       "      render(props, toinsert[toinsert.length - 1]);\n",
       "      element.append(toinsert);\n",
       "      return toinsert\n",
       "    }\n",
       "\n",
       "    /* Handle when an output is cleared or removed */\n",
       "    events.on('clear_output.CodeCell', handleClearOutput);\n",
       "    events.on('delete.Cell', handleClearOutput);\n",
       "\n",
       "    /* Handle when a new output is added */\n",
       "    events.on('output_added.OutputArea', handleAddOutput);\n",
       "\n",
       "    /**\n",
       "     * Register the mime type and append_mime function with output_area\n",
       "     */\n",
       "    OutputArea.prototype.register_mime_type(EXEC_MIME_TYPE, append_mime, {\n",
       "      /* Is output safe? */\n",
       "      safe: true,\n",
       "      /* Index of renderer in `output_area.display_order` */\n",
       "      index: 0\n",
       "    });\n",
       "  }\n",
       "\n",
       "  // register the mime type if in Jupyter Notebook environment and previously unregistered\n",
       "  if (root.Jupyter !== undefined) {\n",
       "    var events = require('base/js/events');\n",
       "    var OutputArea = require('notebook/js/outputarea').OutputArea;\n",
       "\n",
       "    if (OutputArea.prototype.mime_types().indexOf(EXEC_MIME_TYPE) == -1) {\n",
       "      register_renderer(events, OutputArea);\n",
       "    }\n",
       "  }\n",
       "\n",
       "  \n",
       "  if (typeof (root._bokeh_timeout) === \"undefined\" || force === true) {\n",
       "    root._bokeh_timeout = Date.now() + 5000;\n",
       "    root._bokeh_failed_load = false;\n",
       "  }\n",
       "\n",
       "  var NB_LOAD_WARNING = {'data': {'text/html':\n",
       "     \"<div style='background-color: #fdd'>\\n\"+\n",
       "     \"<p>\\n\"+\n",
       "     \"BokehJS does not appear to have successfully loaded. If loading BokehJS from CDN, this \\n\"+\n",
       "     \"may be due to a slow or bad network connection. Possible fixes:\\n\"+\n",
       "     \"</p>\\n\"+\n",
       "     \"<ul>\\n\"+\n",
       "     \"<li>re-rerun `output_notebook()` to attempt to load from CDN again, or</li>\\n\"+\n",
       "     \"<li>use INLINE resources instead, as so:</li>\\n\"+\n",
       "     \"</ul>\\n\"+\n",
       "     \"<code>\\n\"+\n",
       "     \"from bokeh.resources import INLINE\\n\"+\n",
       "     \"output_notebook(resources=INLINE)\\n\"+\n",
       "     \"</code>\\n\"+\n",
       "     \"</div>\"}};\n",
       "\n",
       "  function display_loaded() {\n",
       "    var el = document.getElementById(\"1001\");\n",
       "    if (el != null) {\n",
       "      el.textContent = \"BokehJS is loading...\";\n",
       "    }\n",
       "    if (root.Bokeh !== undefined) {\n",
       "      if (el != null) {\n",
       "        el.textContent = \"BokehJS \" + root.Bokeh.version + \" successfully loaded.\";\n",
       "      }\n",
       "    } else if (Date.now() < root._bokeh_timeout) {\n",
       "      setTimeout(display_loaded, 100)\n",
       "    }\n",
       "  }\n",
       "\n",
       "\n",
       "  function run_callbacks() {\n",
       "    try {\n",
       "      root._bokeh_onload_callbacks.forEach(function(callback) {\n",
       "        if (callback != null)\n",
       "          callback();\n",
       "      });\n",
       "    } finally {\n",
       "      delete root._bokeh_onload_callbacks\n",
       "    }\n",
       "    console.debug(\"Bokeh: all callbacks have finished\");\n",
       "  }\n",
       "\n",
       "  function load_libs(css_urls, js_urls, callback) {\n",
       "    if (css_urls == null) css_urls = [];\n",
       "    if (js_urls == null) js_urls = [];\n",
       "\n",
       "    root._bokeh_onload_callbacks.push(callback);\n",
       "    if (root._bokeh_is_loading > 0) {\n",
       "      console.debug(\"Bokeh: BokehJS is being loaded, scheduling callback at\", now());\n",
       "      return null;\n",
       "    }\n",
       "    if (js_urls == null || js_urls.length === 0) {\n",
       "      run_callbacks();\n",
       "      return null;\n",
       "    }\n",
       "    console.debug(\"Bokeh: BokehJS not loaded, scheduling load and callback at\", now());\n",
       "    root._bokeh_is_loading = css_urls.length + js_urls.length;\n",
       "\n",
       "    function on_load() {\n",
       "      root._bokeh_is_loading--;\n",
       "      if (root._bokeh_is_loading === 0) {\n",
       "        console.debug(\"Bokeh: all BokehJS libraries/stylesheets loaded\");\n",
       "        run_callbacks()\n",
       "      }\n",
       "    }\n",
       "\n",
       "    function on_error() {\n",
       "      console.error(\"failed to load \" + url);\n",
       "    }\n",
       "\n",
       "    for (var i = 0; i < css_urls.length; i++) {\n",
       "      var url = css_urls[i];\n",
       "      const element = document.createElement(\"link\");\n",
       "      element.onload = on_load;\n",
       "      element.onerror = on_error;\n",
       "      element.rel = \"stylesheet\";\n",
       "      element.type = \"text/css\";\n",
       "      element.href = url;\n",
       "      console.debug(\"Bokeh: injecting link tag for BokehJS stylesheet: \", url);\n",
       "      document.body.appendChild(element);\n",
       "    }\n",
       "\n",
       "    for (var i = 0; i < js_urls.length; i++) {\n",
       "      var url = js_urls[i];\n",
       "      var element = document.createElement('script');\n",
       "      element.onload = on_load;\n",
       "      element.onerror = on_error;\n",
       "      element.async = false;\n",
       "      element.src = url;\n",
       "      console.debug(\"Bokeh: injecting script tag for BokehJS library: \", url);\n",
       "      document.head.appendChild(element);\n",
       "    }\n",
       "  };var element = document.getElementById(\"1001\");\n",
       "  if (element == null) {\n",
       "    console.error(\"Bokeh: ERROR: autoload.js configured with elementid '1001' but no matching script tag was found. \")\n",
       "    return false;\n",
       "  }\n",
       "\n",
       "  function inject_raw_css(css) {\n",
       "    const element = document.createElement(\"style\");\n",
       "    element.appendChild(document.createTextNode(css));\n",
       "    document.body.appendChild(element);\n",
       "  }\n",
       "\n",
       "  \n",
       "  var js_urls = [\"https://cdn.pydata.org/bokeh/release/bokeh-1.4.0.min.js\", \"https://cdn.pydata.org/bokeh/release/bokeh-widgets-1.4.0.min.js\", \"https://cdn.pydata.org/bokeh/release/bokeh-tables-1.4.0.min.js\", \"https://cdn.pydata.org/bokeh/release/bokeh-gl-1.4.0.min.js\"];\n",
       "  var css_urls = [];\n",
       "  \n",
       "\n",
       "  var inline_js = [\n",
       "    function(Bokeh) {\n",
       "      Bokeh.set_log_level(\"info\");\n",
       "    },\n",
       "    function(Bokeh) {\n",
       "    \n",
       "    \n",
       "    }\n",
       "  ];\n",
       "\n",
       "  function run_inline_js() {\n",
       "    \n",
       "    if (root.Bokeh !== undefined || force === true) {\n",
       "      \n",
       "    for (var i = 0; i < inline_js.length; i++) {\n",
       "      inline_js[i].call(root, root.Bokeh);\n",
       "    }\n",
       "    if (force === true) {\n",
       "        display_loaded();\n",
       "      }} else if (Date.now() < root._bokeh_timeout) {\n",
       "      setTimeout(run_inline_js, 100);\n",
       "    } else if (!root._bokeh_failed_load) {\n",
       "      console.log(\"Bokeh: BokehJS failed to load within specified timeout.\");\n",
       "      root._bokeh_failed_load = true;\n",
       "    } else if (force !== true) {\n",
       "      var cell = $(document.getElementById(\"1001\")).parents('.cell').data().cell;\n",
       "      cell.output_area.append_execute_result(NB_LOAD_WARNING)\n",
       "    }\n",
       "\n",
       "  }\n",
       "\n",
       "  if (root._bokeh_is_loading === 0) {\n",
       "    console.debug(\"Bokeh: BokehJS loaded, going straight to plotting\");\n",
       "    run_inline_js();\n",
       "  } else {\n",
       "    load_libs(css_urls, js_urls, function() {\n",
       "      console.debug(\"Bokeh: BokehJS plotting callback run at\", now());\n",
       "      run_inline_js();\n",
       "    });\n",
       "  }\n",
       "}(window));"
      ],
      "application/vnd.bokehjs_load.v0+json": "\n(function(root) {\n  function now() {\n    return new Date();\n  }\n\n  var force = true;\n\n  if (typeof root._bokeh_onload_callbacks === \"undefined\" || force === true) {\n    root._bokeh_onload_callbacks = [];\n    root._bokeh_is_loading = undefined;\n  }\n\n  \n\n  \n  if (typeof (root._bokeh_timeout) === \"undefined\" || force === true) {\n    root._bokeh_timeout = Date.now() + 5000;\n    root._bokeh_failed_load = false;\n  }\n\n  var NB_LOAD_WARNING = {'data': {'text/html':\n     \"<div style='background-color: #fdd'>\\n\"+\n     \"<p>\\n\"+\n     \"BokehJS does not appear to have successfully loaded. If loading BokehJS from CDN, this \\n\"+\n     \"may be due to a slow or bad network connection. Possible fixes:\\n\"+\n     \"</p>\\n\"+\n     \"<ul>\\n\"+\n     \"<li>re-rerun `output_notebook()` to attempt to load from CDN again, or</li>\\n\"+\n     \"<li>use INLINE resources instead, as so:</li>\\n\"+\n     \"</ul>\\n\"+\n     \"<code>\\n\"+\n     \"from bokeh.resources import INLINE\\n\"+\n     \"output_notebook(resources=INLINE)\\n\"+\n     \"</code>\\n\"+\n     \"</div>\"}};\n\n  function display_loaded() {\n    var el = document.getElementById(\"1001\");\n    if (el != null) {\n      el.textContent = \"BokehJS is loading...\";\n    }\n    if (root.Bokeh !== undefined) {\n      if (el != null) {\n        el.textContent = \"BokehJS \" + root.Bokeh.version + \" successfully loaded.\";\n      }\n    } else if (Date.now() < root._bokeh_timeout) {\n      setTimeout(display_loaded, 100)\n    }\n  }\n\n\n  function run_callbacks() {\n    try {\n      root._bokeh_onload_callbacks.forEach(function(callback) {\n        if (callback != null)\n          callback();\n      });\n    } finally {\n      delete root._bokeh_onload_callbacks\n    }\n    console.debug(\"Bokeh: all callbacks have finished\");\n  }\n\n  function load_libs(css_urls, js_urls, callback) {\n    if (css_urls == null) css_urls = [];\n    if (js_urls == null) js_urls = [];\n\n    root._bokeh_onload_callbacks.push(callback);\n    if (root._bokeh_is_loading > 0) {\n      console.debug(\"Bokeh: BokehJS is being loaded, scheduling callback at\", now());\n      return null;\n    }\n    if (js_urls == null || js_urls.length === 0) {\n      run_callbacks();\n      return null;\n    }\n    console.debug(\"Bokeh: BokehJS not loaded, scheduling load and callback at\", now());\n    root._bokeh_is_loading = css_urls.length + js_urls.length;\n\n    function on_load() {\n      root._bokeh_is_loading--;\n      if (root._bokeh_is_loading === 0) {\n        console.debug(\"Bokeh: all BokehJS libraries/stylesheets loaded\");\n        run_callbacks()\n      }\n    }\n\n    function on_error() {\n      console.error(\"failed to load \" + url);\n    }\n\n    for (var i = 0; i < css_urls.length; i++) {\n      var url = css_urls[i];\n      const element = document.createElement(\"link\");\n      element.onload = on_load;\n      element.onerror = on_error;\n      element.rel = \"stylesheet\";\n      element.type = \"text/css\";\n      element.href = url;\n      console.debug(\"Bokeh: injecting link tag for BokehJS stylesheet: \", url);\n      document.body.appendChild(element);\n    }\n\n    for (var i = 0; i < js_urls.length; i++) {\n      var url = js_urls[i];\n      var element = document.createElement('script');\n      element.onload = on_load;\n      element.onerror = on_error;\n      element.async = false;\n      element.src = url;\n      console.debug(\"Bokeh: injecting script tag for BokehJS library: \", url);\n      document.head.appendChild(element);\n    }\n  };var element = document.getElementById(\"1001\");\n  if (element == null) {\n    console.error(\"Bokeh: ERROR: autoload.js configured with elementid '1001' but no matching script tag was found. \")\n    return false;\n  }\n\n  function inject_raw_css(css) {\n    const element = document.createElement(\"style\");\n    element.appendChild(document.createTextNode(css));\n    document.body.appendChild(element);\n  }\n\n  \n  var js_urls = [\"https://cdn.pydata.org/bokeh/release/bokeh-1.4.0.min.js\", \"https://cdn.pydata.org/bokeh/release/bokeh-widgets-1.4.0.min.js\", \"https://cdn.pydata.org/bokeh/release/bokeh-tables-1.4.0.min.js\", \"https://cdn.pydata.org/bokeh/release/bokeh-gl-1.4.0.min.js\"];\n  var css_urls = [];\n  \n\n  var inline_js = [\n    function(Bokeh) {\n      Bokeh.set_log_level(\"info\");\n    },\n    function(Bokeh) {\n    \n    \n    }\n  ];\n\n  function run_inline_js() {\n    \n    if (root.Bokeh !== undefined || force === true) {\n      \n    for (var i = 0; i < inline_js.length; i++) {\n      inline_js[i].call(root, root.Bokeh);\n    }\n    if (force === true) {\n        display_loaded();\n      }} else if (Date.now() < root._bokeh_timeout) {\n      setTimeout(run_inline_js, 100);\n    } else if (!root._bokeh_failed_load) {\n      console.log(\"Bokeh: BokehJS failed to load within specified timeout.\");\n      root._bokeh_failed_load = true;\n    } else if (force !== true) {\n      var cell = $(document.getElementById(\"1001\")).parents('.cell').data().cell;\n      cell.output_area.append_execute_result(NB_LOAD_WARNING)\n    }\n\n  }\n\n  if (root._bokeh_is_loading === 0) {\n    console.debug(\"Bokeh: BokehJS loaded, going straight to plotting\");\n    run_inline_js();\n  } else {\n    load_libs(css_urls, js_urls, function() {\n      console.debug(\"Bokeh: BokehJS plotting callback run at\", now());\n      run_inline_js();\n    });\n  }\n}(window));"
     },
     "metadata": {},
     "output_type": "display_data"
    },
    {
     "data": {
      "text/html": [
       "\n",
       "\n",
       "\n",
       "\n",
       "\n",
       "\n",
       "  <div class=\"bk-root\" id=\"2b8e52f2-c5c2-4246-a415-6fe7d971e8f4\" data-root-id=\"1002\"></div>\n"
      ]
     },
     "metadata": {},
     "output_type": "display_data"
    },
    {
     "data": {
      "application/javascript": [
       "(function(root) {\n",
       "  function embed_document(root) {\n",
       "    \n",
       "  var docs_json = {\"3e072476-cbe9-4485-abaa-a6940c853b84\":{\"roots\":{\"references\":[{\"attributes\":{\"below\":[{\"id\":\"1013\",\"type\":\"DatetimeAxis\"}],\"center\":[{\"id\":\"1017\",\"type\":\"Grid\"},{\"id\":\"1022\",\"type\":\"Grid\"},{\"id\":\"1059\",\"type\":\"Legend\"}],\"left\":[{\"id\":\"1018\",\"type\":\"LinearAxis\"}],\"renderers\":[{\"id\":\"1039\",\"type\":\"GlyphRenderer\"},{\"id\":\"1064\",\"type\":\"GlyphRenderer\"},{\"id\":\"1090\",\"type\":\"GlyphRenderer\"}],\"title\":{\"id\":\"1003\",\"type\":\"Title\"},\"toolbar\":{\"id\":\"1029\",\"type\":\"Toolbar\"},\"x_range\":{\"id\":\"1005\",\"type\":\"DataRange1d\"},\"x_scale\":{\"id\":\"1009\",\"type\":\"LinearScale\"},\"y_range\":{\"id\":\"1007\",\"type\":\"DataRange1d\"},\"y_scale\":{\"id\":\"1011\",\"type\":\"LinearScale\"}},\"id\":\"1002\",\"subtype\":\"Figure\",\"type\":\"Plot\"},{\"attributes\":{},\"id\":\"1058\",\"type\":\"YearsTicker\"},{\"attributes\":{\"items\":[{\"id\":\"1060\",\"type\":\"LegendItem\"},{\"id\":\"1086\",\"type\":\"LegendItem\"},{\"id\":\"1114\",\"type\":\"LegendItem\"}]},\"id\":\"1059\",\"type\":\"Legend\"},{\"attributes\":{\"base\":60,\"mantissas\":[1,2,5,10,15,20,30],\"max_interval\":1800000.0,\"min_interval\":1000.0,\"num_minor_ticks\":0},\"id\":\"1048\",\"type\":\"AdaptiveTicker\"},{\"attributes\":{},\"id\":\"1023\",\"type\":\"PanTool\"},{\"attributes\":{\"mantissas\":[1,2,5],\"max_interval\":500.0,\"num_minor_ticks\":0},\"id\":\"1047\",\"type\":\"AdaptiveTicker\"},{\"attributes\":{\"line_color\":\"#d83939\",\"x\":{\"field\":\"x\"},\"y\":{\"field\":\"y\"}},\"id\":\"1088\",\"type\":\"Line\"},{\"attributes\":{},\"id\":\"1024\",\"type\":\"WheelZoomTool\"},{\"attributes\":{},\"id\":\"1125\",\"type\":\"Selection\"},{\"attributes\":{\"overlay\":{\"id\":\"1046\",\"type\":\"BoxAnnotation\"}},\"id\":\"1025\",\"type\":\"BoxZoomTool\"},{\"attributes\":{\"text\":\"Microsoft Low, High, and Close Prices\"},\"id\":\"1003\",\"type\":\"Title\"},{\"attributes\":{},\"id\":\"1009\",\"type\":\"LinearScale\"},{\"attributes\":{},\"id\":\"1026\",\"type\":\"SaveTool\"},{\"attributes\":{},\"id\":\"1124\",\"type\":\"UnionRenderers\"},{\"attributes\":{\"bottom_units\":\"screen\",\"fill_alpha\":{\"value\":0.5},\"fill_color\":{\"value\":\"lightgrey\"},\"left_units\":\"screen\",\"level\":\"overlay\",\"line_alpha\":{\"value\":1.0},\"line_color\":{\"value\":\"black\"},\"line_dash\":[4,4],\"line_width\":{\"value\":2},\"render_mode\":\"css\",\"right_units\":\"screen\",\"top_units\":\"screen\"},\"id\":\"1046\",\"type\":\"BoxAnnotation\"},{\"attributes\":{},\"id\":\"1028\",\"type\":\"HelpTool\"},{\"attributes\":{\"base\":24,\"mantissas\":[1,2,4,6,8,12],\"max_interval\":43200000.0,\"min_interval\":3600000.0,\"num_minor_ticks\":0},\"id\":\"1049\",\"type\":\"AdaptiveTicker\"},{\"attributes\":{\"callback\":null},\"id\":\"1007\",\"type\":\"DataRange1d\"},{\"attributes\":{\"data_source\":{\"id\":\"1087\",\"type\":\"ColumnDataSource\"},\"glyph\":{\"id\":\"1088\",\"type\":\"Line\"},\"hover_glyph\":null,\"muted_glyph\":null,\"nonselection_glyph\":{\"id\":\"1089\",\"type\":\"Line\"},\"selection_glyph\":null,\"view\":{\"id\":\"1091\",\"type\":\"CDSView\"}},\"id\":\"1090\",\"type\":\"GlyphRenderer\"},{\"attributes\":{\"label\":{\"value\":\"Close\"},\"renderers\":[{\"id\":\"1039\",\"type\":\"GlyphRenderer\"}]},\"id\":\"1060\",\"type\":\"LegendItem\"},{\"attributes\":{},\"id\":\"1027\",\"type\":\"ResetTool\"},{\"attributes\":{},\"id\":\"1042\",\"type\":\"BasicTickFormatter\"},{\"attributes\":{},\"id\":\"1044\",\"type\":\"DatetimeTickFormatter\"},{\"attributes\":{},\"id\":\"1011\",\"type\":\"LinearScale\"},{\"attributes\":{\"callback\":null},\"id\":\"1005\",\"type\":\"DataRange1d\"},{\"attributes\":{\"line_alpha\":0.1,\"line_color\":\"#1f77b4\",\"x\":{\"field\":\"x\"},\"y\":{\"field\":\"y\"}},\"id\":\"1089\",\"type\":\"Line\"},{\"attributes\":{\"days\":[1,2,3,4,5,6,7,8,9,10,11,12,13,14,15,16,17,18,19,20,21,22,23,24,25,26,27,28,29,30,31]},\"id\":\"1050\",\"type\":\"DaysTicker\"},{\"attributes\":{\"callback\":null,\"data\":{\"x\":[1580860800000.0,1580947200000.0,1581033600000.0,1581292800000.0,1581379200000.0,1581465600000.0,1581552000000.0,1581638400000.0,1581984000000.0,1582070400000.0,1582156800000.0,1582243200000.0,1582502400000.0,1582588800000.0,1582675200000.0,1582761600000.0,1582848000000.0,1583107200000.0,1583193600000.0,1583280000000.0,1583366400000.0,1583452800000.0,1583712000000.0,1583798400000.0,1583884800000.0,1583971200000.0,1584057600000.0,1584316800000.0,1584403200000.0,1584489600000.0,1584576000000.0,1584662400000.0,1584921600000.0,1585008000000.0,1585094400000.0,1585180800000.0,1585267200000.0,1585526400000.0,1585612800000.0,1585699200000.0,1585785600000.0,1585872000000.0,1586131200000.0,1586217600000.0,1586304000000.0,1586390400000.0,1586736000000.0,1586822400000.0,1586908800000.0,1586995200000.0,1587081600000.0,1587340800000.0,1587427200000.0,1587513600000.0,1587600000000.0,1587686400000.0,1587945600000.0,1588032000000.0,1588118400000.0,1588204800000.0,1588291200000.0,1588550400000.0,1588636800000.0,1588723200000.0,1588809600000.0,1588896000000.0,1589155200000.0,1589241600000.0,1589328000000.0,1589414400000.0,1589500800000.0,1589760000000.0,1589846400000.0,1589932800000.0,1590019200000.0,1590105600000.0,1590451200000.0,1590537600000.0,1590624000000.0,1590710400000.0,1590969600000.0,1591056000000.0,1591142400000.0,1591228800000.0,1591315200000.0,1591574400000.0,1591660800000.0,1591747200000.0,1591833600000.0,1591920000000.0],\"y\":[178.4101,180.05900000000003,182.48,183.25,183.5,181.85,182.872,182.65,185.5,186.47,181.1,177.25,163.23,167.6462,168.21,157.98,152.0,162.31,162.26,165.62,165.69,156.0,150.0,152.58,151.15,138.58,140.73,135.0,135.0,135.02,139.0,135.86,132.52,141.27,144.44,148.37,149.2,150.01,156.56,150.82,150.36,152.19,157.58,163.26,163.5,163.33,162.3,168.0,169.24,172.9,175.87,174.99,166.1102,170.82,170.91,170.71,173.3,169.39,171.88,176.23,174.01,173.8,179.9,181.6306,182.58,183.36,182.85,182.3,176.54,175.68,177.0,183.96,183.49,183.94,183.29,182.54,181.1,176.6,180.38,180.41,181.46,181.35,183.58,182.3,182.01,184.44,187.2605,191.01,186.07,185.18]},\"selected\":{\"id\":\"1125\",\"type\":\"Selection\"},\"selection_policy\":{\"id\":\"1124\",\"type\":\"UnionRenderers\"}},\"id\":\"1087\",\"type\":\"ColumnDataSource\"},{\"attributes\":{\"ticker\":{\"id\":\"1014\",\"type\":\"DatetimeTicker\"}},\"id\":\"1017\",\"type\":\"Grid\"},{\"attributes\":{\"line_color\":\"#2785db\",\"x\":{\"field\":\"x\"},\"y\":{\"field\":\"y\"}},\"id\":\"1062\",\"type\":\"Line\"},{\"attributes\":{\"axis_label\":\"Date\",\"formatter\":{\"id\":\"1044\",\"type\":\"DatetimeTickFormatter\"},\"ticker\":{\"id\":\"1014\",\"type\":\"DatetimeTicker\"}},\"id\":\"1013\",\"type\":\"DatetimeAxis\"},{\"attributes\":{\"days\":[1,4,7,10,13,16,19,22,25,28]},\"id\":\"1051\",\"type\":\"DaysTicker\"},{\"attributes\":{\"days\":[1,8,15,22]},\"id\":\"1052\",\"type\":\"DaysTicker\"},{\"attributes\":{\"num_minor_ticks\":5,\"tickers\":[{\"id\":\"1047\",\"type\":\"AdaptiveTicker\"},{\"id\":\"1048\",\"type\":\"AdaptiveTicker\"},{\"id\":\"1049\",\"type\":\"AdaptiveTicker\"},{\"id\":\"1050\",\"type\":\"DaysTicker\"},{\"id\":\"1051\",\"type\":\"DaysTicker\"},{\"id\":\"1052\",\"type\":\"DaysTicker\"},{\"id\":\"1053\",\"type\":\"DaysTicker\"},{\"id\":\"1054\",\"type\":\"MonthsTicker\"},{\"id\":\"1055\",\"type\":\"MonthsTicker\"},{\"id\":\"1056\",\"type\":\"MonthsTicker\"},{\"id\":\"1057\",\"type\":\"MonthsTicker\"},{\"id\":\"1058\",\"type\":\"YearsTicker\"}]},\"id\":\"1014\",\"type\":\"DatetimeTicker\"},{\"attributes\":{\"data_source\":{\"id\":\"1061\",\"type\":\"ColumnDataSource\"},\"glyph\":{\"id\":\"1062\",\"type\":\"Line\"},\"hover_glyph\":null,\"muted_glyph\":null,\"nonselection_glyph\":{\"id\":\"1063\",\"type\":\"Line\"},\"selection_glyph\":null,\"view\":{\"id\":\"1065\",\"type\":\"CDSView\"}},\"id\":\"1064\",\"type\":\"GlyphRenderer\"},{\"attributes\":{},\"id\":\"1099\",\"type\":\"UnionRenderers\"},{\"attributes\":{\"days\":[1,15]},\"id\":\"1053\",\"type\":\"DaysTicker\"},{\"attributes\":{\"months\":[0,6]},\"id\":\"1057\",\"type\":\"MonthsTicker\"},{\"attributes\":{\"line_alpha\":0.1,\"line_color\":\"#1f77b4\",\"x\":{\"field\":\"x\"},\"y\":{\"field\":\"y\"}},\"id\":\"1038\",\"type\":\"Line\"},{\"attributes\":{\"axis_label\":\"Price\",\"formatter\":{\"id\":\"1042\",\"type\":\"BasicTickFormatter\"},\"ticker\":{\"id\":\"1019\",\"type\":\"BasicTicker\"}},\"id\":\"1018\",\"type\":\"LinearAxis\"},{\"attributes\":{\"line_alpha\":0.1,\"line_color\":\"#1f77b4\",\"x\":{\"field\":\"x\"},\"y\":{\"field\":\"y\"}},\"id\":\"1063\",\"type\":\"Line\"},{\"attributes\":{\"line_color\":\"#000000\",\"x\":{\"field\":\"x\"},\"y\":{\"field\":\"y\"}},\"id\":\"1037\",\"type\":\"Line\"},{\"attributes\":{},\"id\":\"1019\",\"type\":\"BasicTicker\"},{\"attributes\":{\"label\":{\"value\":\"Low\"},\"renderers\":[{\"id\":\"1090\",\"type\":\"GlyphRenderer\"}]},\"id\":\"1114\",\"type\":\"LegendItem\"},{\"attributes\":{\"months\":[0,1,2,3,4,5,6,7,8,9,10,11]},\"id\":\"1054\",\"type\":\"MonthsTicker\"},{\"attributes\":{\"dimension\":1,\"ticker\":{\"id\":\"1019\",\"type\":\"BasicTicker\"}},\"id\":\"1022\",\"type\":\"Grid\"},{\"attributes\":{\"active_drag\":\"auto\",\"active_inspect\":\"auto\",\"active_multi\":null,\"active_scroll\":\"auto\",\"active_tap\":\"auto\",\"tools\":[{\"id\":\"1023\",\"type\":\"PanTool\"},{\"id\":\"1024\",\"type\":\"WheelZoomTool\"},{\"id\":\"1025\",\"type\":\"BoxZoomTool\"},{\"id\":\"1026\",\"type\":\"SaveTool\"},{\"id\":\"1027\",\"type\":\"ResetTool\"},{\"id\":\"1028\",\"type\":\"HelpTool\"}]},\"id\":\"1029\",\"type\":\"Toolbar\"},{\"attributes\":{\"callback\":null,\"data\":{\"x\":[1580860800000.0,1580947200000.0,1581033600000.0,1581292800000.0,1581379200000.0,1581465600000.0,1581552000000.0,1581638400000.0,1581984000000.0,1582070400000.0,1582156800000.0,1582243200000.0,1582502400000.0,1582588800000.0,1582675200000.0,1582761600000.0,1582848000000.0,1583107200000.0,1583193600000.0,1583280000000.0,1583366400000.0,1583452800000.0,1583712000000.0,1583798400000.0,1583884800000.0,1583971200000.0,1584057600000.0,1584316800000.0,1584403200000.0,1584489600000.0,1584576000000.0,1584662400000.0,1584921600000.0,1585008000000.0,1585094400000.0,1585180800000.0,1585267200000.0,1585526400000.0,1585612800000.0,1585699200000.0,1585785600000.0,1585872000000.0,1586131200000.0,1586217600000.0,1586304000000.0,1586390400000.0,1586736000000.0,1586822400000.0,1586908800000.0,1586995200000.0,1587081600000.0,1587340800000.0,1587427200000.0,1587513600000.0,1587600000000.0,1587686400000.0,1587945600000.0,1588032000000.0,1588118400000.0,1588204800000.0,1588291200000.0,1588550400000.0,1588636800000.0,1588723200000.0,1588809600000.0,1588896000000.0,1589155200000.0,1589241600000.0,1589328000000.0,1589414400000.0,1589500800000.0,1589760000000.0,1589846400000.0,1589932800000.0,1590019200000.0,1590105600000.0,1590451200000.0,1590537600000.0,1590624000000.0,1590710400000.0,1590969600000.0,1591056000000.0,1591142400000.0,1591228800000.0,1591315200000.0,1591574400000.0,1591660800000.0,1591747200000.0,1591833600000.0,1591920000000.0],\"y\":[184.2,183.8199,185.63,188.84,190.7,185.85,186.23,185.41,187.7,188.18,187.25,183.5,174.55,174.84,173.26,167.03,163.71,172.92,175.0,170.7,170.87,163.11,157.75,161.03,157.7,153.47,161.91,149.35,147.4998,146.0,150.15,147.1,140.57,149.6,154.33,156.66,154.89,160.6,164.78,157.75,155.48,157.38,166.5,170.0,166.67,167.37,165.57,173.75,173.57,177.28,180.0,178.75,173.6699,174.0,175.06,174.56,176.9,175.67,177.68,180.4,178.64,179.0,183.65,184.2,184.55,185.0,187.51,187.04,184.05,180.69,187.06,186.2,186.6,185.85,186.67,184.46,186.5,181.9877,184.1474,184.27,183.0,185.0,185.94,185.84,187.73,188.55,190.7,198.52,195.76,191.72]},\"selected\":{\"id\":\"1100\",\"type\":\"Selection\"},\"selection_policy\":{\"id\":\"1099\",\"type\":\"UnionRenderers\"}},\"id\":\"1061\",\"type\":\"ColumnDataSource\"},{\"attributes\":{\"source\":{\"id\":\"1036\",\"type\":\"ColumnDataSource\"}},\"id\":\"1040\",\"type\":\"CDSView\"},{\"attributes\":{\"label\":{\"value\":\"High\"},\"renderers\":[{\"id\":\"1064\",\"type\":\"GlyphRenderer\"}]},\"id\":\"1086\",\"type\":\"LegendItem\"},{\"attributes\":{\"months\":[0,2,4,6,8,10]},\"id\":\"1055\",\"type\":\"MonthsTicker\"},{\"attributes\":{\"source\":{\"id\":\"1087\",\"type\":\"ColumnDataSource\"}},\"id\":\"1091\",\"type\":\"CDSView\"},{\"attributes\":{},\"id\":\"1071\",\"type\":\"UnionRenderers\"},{\"attributes\":{\"source\":{\"id\":\"1061\",\"type\":\"ColumnDataSource\"}},\"id\":\"1065\",\"type\":\"CDSView\"},{\"attributes\":{},\"id\":\"1072\",\"type\":\"Selection\"},{\"attributes\":{\"months\":[0,4,8]},\"id\":\"1056\",\"type\":\"MonthsTicker\"},{\"attributes\":{},\"id\":\"1100\",\"type\":\"Selection\"},{\"attributes\":{\"data_source\":{\"id\":\"1036\",\"type\":\"ColumnDataSource\"},\"glyph\":{\"id\":\"1037\",\"type\":\"Line\"},\"hover_glyph\":null,\"muted_glyph\":null,\"nonselection_glyph\":{\"id\":\"1038\",\"type\":\"Line\"},\"selection_glyph\":null,\"view\":{\"id\":\"1040\",\"type\":\"CDSView\"}},\"id\":\"1039\",\"type\":\"GlyphRenderer\"},{\"attributes\":{\"callback\":null,\"data\":{\"x\":[1580860800000.0,1580947200000.0,1581033600000.0,1581292800000.0,1581379200000.0,1581465600000.0,1581552000000.0,1581638400000.0,1581984000000.0,1582070400000.0,1582156800000.0,1582243200000.0,1582502400000.0,1582588800000.0,1582675200000.0,1582761600000.0,1582848000000.0,1583107200000.0,1583193600000.0,1583280000000.0,1583366400000.0,1583452800000.0,1583712000000.0,1583798400000.0,1583884800000.0,1583971200000.0,1584057600000.0,1584316800000.0,1584403200000.0,1584489600000.0,1584576000000.0,1584662400000.0,1584921600000.0,1585008000000.0,1585094400000.0,1585180800000.0,1585267200000.0,1585526400000.0,1585612800000.0,1585699200000.0,1585785600000.0,1585872000000.0,1586131200000.0,1586217600000.0,1586304000000.0,1586390400000.0,1586736000000.0,1586822400000.0,1586908800000.0,1586995200000.0,1587081600000.0,1587340800000.0,1587427200000.0,1587513600000.0,1587600000000.0,1587686400000.0,1587945600000.0,1588032000000.0,1588118400000.0,1588204800000.0,1588291200000.0,1588550400000.0,1588636800000.0,1588723200000.0,1588809600000.0,1588896000000.0,1589155200000.0,1589241600000.0,1589328000000.0,1589414400000.0,1589500800000.0,1589760000000.0,1589846400000.0,1589932800000.0,1590019200000.0,1590105600000.0,1590451200000.0,1590537600000.0,1590624000000.0,1590710400000.0,1590969600000.0,1591056000000.0,1591142400000.0,1591228800000.0,1591315200000.0,1591574400000.0,1591660800000.0,1591747200000.0,1591833600000.0,1591920000000.0],\"y\":[179.9,183.63,183.89,188.7,184.44,184.71,183.71,185.35,187.23,187.28,184.42,178.59,170.89,168.07,170.17,158.18,162.01,172.79,164.51,170.55,166.27,161.57,150.62,160.92,153.63,139.06,158.83,135.42,146.57,140.4,142.71,137.35,135.98,148.34,146.92,156.11,149.7,160.23,157.71,152.11,155.26,153.83,165.27,163.49,165.13,165.14,165.51,173.7,171.88,177.04,178.6,175.06,167.82,173.52,171.42,174.55,174.05,169.81,177.43,179.21,174.57,178.84,180.76,182.54,183.6,184.68,186.74,182.51,179.75,180.53,183.16,184.91,183.63,185.66,183.43,183.51,181.57,181.81,181.4,183.25,182.83,184.91,185.36,182.92,187.2,188.36,189.8,196.84,186.27,187.74]},\"selected\":{\"id\":\"1072\",\"type\":\"Selection\"},\"selection_policy\":{\"id\":\"1071\",\"type\":\"UnionRenderers\"}},\"id\":\"1036\",\"type\":\"ColumnDataSource\"}],\"root_ids\":[\"1002\"]},\"title\":\"Bokeh Application\",\"version\":\"1.4.0\"}};\n",
       "  var render_items = [{\"docid\":\"3e072476-cbe9-4485-abaa-a6940c853b84\",\"roots\":{\"1002\":\"2b8e52f2-c5c2-4246-a415-6fe7d971e8f4\"}}];\n",
       "  root.Bokeh.embed.embed_items_notebook(docs_json, render_items);\n",
       "\n",
       "  }\n",
       "  if (root.Bokeh !== undefined) {\n",
       "    embed_document(root);\n",
       "  } else {\n",
       "    var attempts = 0;\n",
       "    var timer = setInterval(function(root) {\n",
       "      if (root.Bokeh !== undefined) {\n",
       "        clearInterval(timer);\n",
       "        embed_document(root);\n",
       "      } else {\n",
       "        attempts++;\n",
       "        if (attempts > 100) {\n",
       "          clearInterval(timer);\n",
       "          console.log(\"Bokeh: ERROR: Unable to run BokehJS code because BokehJS library is missing\");\n",
       "        }\n",
       "      }\n",
       "    }, 10, root)\n",
       "  }\n",
       "})(window);"
      ],
      "application/vnd.bokehjs_exec.v0+json": ""
     },
     "metadata": {
      "application/vnd.bokehjs_exec.v0+json": {
       "id": "1002"
      }
     },
     "output_type": "display_data"
    }
   ],
   "source": [
    "from bokeh.plotting import figure, show\n",
    "from bokeh.io import output_notebook\n",
    "output_notebook()\n",
    "\n",
    "msft = figure(title='Microsoft Low, High, and Close Prices', x_axis_label='Date', y_axis_label='Price', x_axis_type='datetime')\n",
    "msft.line(x=dates, y=close, color=\"#000000\", legend_label='Close')\n",
    "msft.line(x=dates, y=high, color=\"#2785db\", legend_label='High')\n",
    "msft.line(x=dates, y=low, color=\"#d83939\", legend_label='Low')\n",
    "show(msft)"
   ]
  },
  {
   "cell_type": "markdown",
   "metadata": {},
   "source": [
    "### Column Chart: Trading Volume\n",
    "\n",
    "Next, we want to visualize the trading volume per day on a seperate graph. Let's display this in a column chart, as is often done with financial visualization. Lets start by selecting the trading volume data."
   ]
  },
  {
   "cell_type": "code",
   "execution_count": 3,
   "metadata": {},
   "outputs": [
    {
     "name": "stdout",
     "output_type": "stream",
     "text": [
      "[39186324, 27532204, 33197681, 35844267, 53159906]\n"
     ]
    }
   ],
   "source": [
    "volume = msft_df['volume'].tolist()\n",
    "print(volume[0:5])"
   ]
  },
  {
   "cell_type": "markdown",
   "metadata": {},
   "source": [
    "Then, we plot the data as a column chart."
   ]
  },
  {
   "cell_type": "code",
   "execution_count": 4,
   "metadata": {
    "scrolled": true
   },
   "outputs": [
    {
     "data": {
      "text/html": [
       "\n",
       "\n",
       "\n",
       "\n",
       "\n",
       "\n",
       "  <div class=\"bk-root\" id=\"fe8fdfde-bd55-49e2-8cd7-90313ea8288d\" data-root-id=\"1283\"></div>\n"
      ]
     },
     "metadata": {},
     "output_type": "display_data"
    },
    {
     "data": {
      "application/javascript": [
       "(function(root) {\n",
       "  function embed_document(root) {\n",
       "    \n",
       "  var docs_json = {\"f19dab3f-164c-415a-8b0d-4b2da3a439e2\":{\"roots\":{\"references\":[{\"attributes\":{\"below\":[{\"id\":\"1294\",\"type\":\"DatetimeAxis\"}],\"center\":[{\"id\":\"1298\",\"type\":\"Grid\"},{\"id\":\"1303\",\"type\":\"Grid\"}],\"left\":[{\"id\":\"1299\",\"type\":\"LinearAxis\"}],\"plot_height\":200,\"renderers\":[{\"id\":\"1320\",\"type\":\"GlyphRenderer\"}],\"title\":{\"id\":\"1284\",\"type\":\"Title\"},\"toolbar\":{\"id\":\"1310\",\"type\":\"Toolbar\"},\"x_range\":{\"id\":\"1286\",\"type\":\"DataRange1d\"},\"x_scale\":{\"id\":\"1290\",\"type\":\"LinearScale\"},\"y_range\":{\"id\":\"1288\",\"type\":\"DataRange1d\"},\"y_scale\":{\"id\":\"1292\",\"type\":\"LinearScale\"}},\"id\":\"1283\",\"subtype\":\"Figure\",\"type\":\"Plot\"},{\"attributes\":{},\"id\":\"1309\",\"type\":\"HelpTool\"},{\"attributes\":{},\"id\":\"1351\",\"type\":\"UnionRenderers\"},{\"attributes\":{\"days\":[1,2,3,4,5,6,7,8,9,10,11,12,13,14,15,16,17,18,19,20,21,22,23,24,25,26,27,28,29,30,31]},\"id\":\"1357\",\"type\":\"DaysTicker\"},{\"attributes\":{},\"id\":\"1308\",\"type\":\"ResetTool\"},{\"attributes\":{\"text\":\"Microsoft Trading Volume\"},\"id\":\"1284\",\"type\":\"Title\"},{\"attributes\":{\"callback\":null},\"id\":\"1286\",\"type\":\"DataRange1d\"},{\"attributes\":{\"bottom_units\":\"screen\",\"fill_alpha\":{\"value\":0.5},\"fill_color\":{\"value\":\"lightgrey\"},\"left_units\":\"screen\",\"level\":\"overlay\",\"line_alpha\":{\"value\":1.0},\"line_color\":{\"value\":\"black\"},\"line_dash\":[4,4],\"line_width\":{\"value\":2},\"render_mode\":\"css\",\"right_units\":\"screen\",\"top_units\":\"screen\"},\"id\":\"1353\",\"type\":\"BoxAnnotation\"},{\"attributes\":{\"overlay\":{\"id\":\"1353\",\"type\":\"BoxAnnotation\"}},\"id\":\"1306\",\"type\":\"BoxZoomTool\"},{\"attributes\":{\"mantissas\":[1,2,5],\"max_interval\":500.0,\"num_minor_ticks\":0},\"id\":\"1354\",\"type\":\"AdaptiveTicker\"},{\"attributes\":{},\"id\":\"1305\",\"type\":\"WheelZoomTool\"},{\"attributes\":{\"base\":24,\"mantissas\":[1,2,4,6,8,12],\"max_interval\":43200000.0,\"min_interval\":3600000.0,\"num_minor_ticks\":0},\"id\":\"1356\",\"type\":\"AdaptiveTicker\"},{\"attributes\":{\"fill_color\":{\"value\":\"#000000\"},\"line_color\":{\"value\":\"#000000\"},\"top\":{\"field\":\"top\"},\"width\":{\"value\":1.0},\"x\":{\"field\":\"x\"}},\"id\":\"1318\",\"type\":\"VBar\"},{\"attributes\":{\"fill_alpha\":{\"value\":0.1},\"fill_color\":{\"value\":\"#1f77b4\"},\"line_alpha\":{\"value\":0.1},\"line_color\":{\"value\":\"#1f77b4\"},\"top\":{\"field\":\"top\"},\"width\":{\"value\":1.0},\"x\":{\"field\":\"x\"}},\"id\":\"1319\",\"type\":\"VBar\"},{\"attributes\":{\"months\":[0,6]},\"id\":\"1364\",\"type\":\"MonthsTicker\"},{\"attributes\":{},\"id\":\"1304\",\"type\":\"PanTool\"},{\"attributes\":{},\"id\":\"1365\",\"type\":\"YearsTicker\"},{\"attributes\":{},\"id\":\"1347\",\"type\":\"BasicTickFormatter\"},{\"attributes\":{},\"id\":\"1352\",\"type\":\"Selection\"},{\"attributes\":{\"months\":[0,4,8]},\"id\":\"1363\",\"type\":\"MonthsTicker\"},{\"attributes\":{},\"id\":\"1290\",\"type\":\"LinearScale\"},{\"attributes\":{},\"id\":\"1292\",\"type\":\"LinearScale\"},{\"attributes\":{\"days\":[1,15]},\"id\":\"1360\",\"type\":\"DaysTicker\"},{\"attributes\":{\"data_source\":{\"id\":\"1317\",\"type\":\"ColumnDataSource\"},\"glyph\":{\"id\":\"1318\",\"type\":\"VBar\"},\"hover_glyph\":null,\"muted_glyph\":null,\"nonselection_glyph\":{\"id\":\"1319\",\"type\":\"VBar\"},\"selection_glyph\":null,\"view\":{\"id\":\"1321\",\"type\":\"CDSView\"}},\"id\":\"1320\",\"type\":\"GlyphRenderer\"},{\"attributes\":{\"dimension\":1,\"ticker\":{\"id\":\"1300\",\"type\":\"BasicTicker\"}},\"id\":\"1303\",\"type\":\"Grid\"},{\"attributes\":{\"callback\":null,\"data\":{\"top\":[39186324,27532204,33197681,35844267,53159906,47062921,35295834,23149516,27853113,29997471,36862376,48600385,67892482,68073295,56387148,93174906,97073557,71030810,71677019,49814383,47817251,72821057,69857710,65354385,56029209,93226366,92727446,87399210,80354185,81593173,85922661,84866215,78975176,82516727,74361389,64694427,57042291,63420326,77527535,57560617,49316522,41243284,66199798,62415153,48107016,50516088,41905264,52874338,40940833,50479610,52765625,36108430,56203749,33856446,32269983,34305320,33110779,33687238,51286559,53875857,39370474,30372862,36406479,32139299,28315992,30912638,30394129,32038199,44711488,41873911,46267327,35306620,26358318,31261334,29119513,20826898,36073609,39517146,33526412,42146720,22668821,30674990,27236011,28659255,39893643,33123035,29783916,43568260,52645278,43373587],\"x\":[1580860800000.0,1580947200000.0,1581033600000.0,1581292800000.0,1581379200000.0,1581465600000.0,1581552000000.0,1581638400000.0,1581984000000.0,1582070400000.0,1582156800000.0,1582243200000.0,1582502400000.0,1582588800000.0,1582675200000.0,1582761600000.0,1582848000000.0,1583107200000.0,1583193600000.0,1583280000000.0,1583366400000.0,1583452800000.0,1583712000000.0,1583798400000.0,1583884800000.0,1583971200000.0,1584057600000.0,1584316800000.0,1584403200000.0,1584489600000.0,1584576000000.0,1584662400000.0,1584921600000.0,1585008000000.0,1585094400000.0,1585180800000.0,1585267200000.0,1585526400000.0,1585612800000.0,1585699200000.0,1585785600000.0,1585872000000.0,1586131200000.0,1586217600000.0,1586304000000.0,1586390400000.0,1586736000000.0,1586822400000.0,1586908800000.0,1586995200000.0,1587081600000.0,1587340800000.0,1587427200000.0,1587513600000.0,1587600000000.0,1587686400000.0,1587945600000.0,1588032000000.0,1588118400000.0,1588204800000.0,1588291200000.0,1588550400000.0,1588636800000.0,1588723200000.0,1588809600000.0,1588896000000.0,1589155200000.0,1589241600000.0,1589328000000.0,1589414400000.0,1589500800000.0,1589760000000.0,1589846400000.0,1589932800000.0,1590019200000.0,1590105600000.0,1590451200000.0,1590537600000.0,1590624000000.0,1590710400000.0,1590969600000.0,1591056000000.0,1591142400000.0,1591228800000.0,1591315200000.0,1591574400000.0,1591660800000.0,1591747200000.0,1591833600000.0,1591920000000.0]},\"selected\":{\"id\":\"1352\",\"type\":\"Selection\"},\"selection_policy\":{\"id\":\"1351\",\"type\":\"UnionRenderers\"}},\"id\":\"1317\",\"type\":\"ColumnDataSource\"},{\"attributes\":{},\"id\":\"1349\",\"type\":\"DatetimeTickFormatter\"},{\"attributes\":{},\"id\":\"1300\",\"type\":\"BasicTicker\"},{\"attributes\":{\"months\":[0,2,4,6,8,10]},\"id\":\"1362\",\"type\":\"MonthsTicker\"},{\"attributes\":{\"axis_label\":\"Volume\",\"formatter\":{\"id\":\"1347\",\"type\":\"BasicTickFormatter\"},\"ticker\":{\"id\":\"1300\",\"type\":\"BasicTicker\"}},\"id\":\"1299\",\"type\":\"LinearAxis\"},{\"attributes\":{\"days\":[1,4,7,10,13,16,19,22,25,28]},\"id\":\"1358\",\"type\":\"DaysTicker\"},{\"attributes\":{\"num_minor_ticks\":5,\"tickers\":[{\"id\":\"1354\",\"type\":\"AdaptiveTicker\"},{\"id\":\"1355\",\"type\":\"AdaptiveTicker\"},{\"id\":\"1356\",\"type\":\"AdaptiveTicker\"},{\"id\":\"1357\",\"type\":\"DaysTicker\"},{\"id\":\"1358\",\"type\":\"DaysTicker\"},{\"id\":\"1359\",\"type\":\"DaysTicker\"},{\"id\":\"1360\",\"type\":\"DaysTicker\"},{\"id\":\"1361\",\"type\":\"MonthsTicker\"},{\"id\":\"1362\",\"type\":\"MonthsTicker\"},{\"id\":\"1363\",\"type\":\"MonthsTicker\"},{\"id\":\"1364\",\"type\":\"MonthsTicker\"},{\"id\":\"1365\",\"type\":\"YearsTicker\"}]},\"id\":\"1295\",\"type\":\"DatetimeTicker\"},{\"attributes\":{\"active_drag\":\"auto\",\"active_inspect\":\"auto\",\"active_multi\":null,\"active_scroll\":\"auto\",\"active_tap\":\"auto\",\"tools\":[{\"id\":\"1304\",\"type\":\"PanTool\"},{\"id\":\"1305\",\"type\":\"WheelZoomTool\"},{\"id\":\"1306\",\"type\":\"BoxZoomTool\"},{\"id\":\"1307\",\"type\":\"SaveTool\"},{\"id\":\"1308\",\"type\":\"ResetTool\"},{\"id\":\"1309\",\"type\":\"HelpTool\"}]},\"id\":\"1310\",\"type\":\"Toolbar\"},{\"attributes\":{\"source\":{\"id\":\"1317\",\"type\":\"ColumnDataSource\"}},\"id\":\"1321\",\"type\":\"CDSView\"},{\"attributes\":{},\"id\":\"1307\",\"type\":\"SaveTool\"},{\"attributes\":{\"axis_label\":\"Date\",\"formatter\":{\"id\":\"1349\",\"type\":\"DatetimeTickFormatter\"},\"ticker\":{\"id\":\"1295\",\"type\":\"DatetimeTicker\"}},\"id\":\"1294\",\"type\":\"DatetimeAxis\"},{\"attributes\":{\"months\":[0,1,2,3,4,5,6,7,8,9,10,11]},\"id\":\"1361\",\"type\":\"MonthsTicker\"},{\"attributes\":{\"callback\":null},\"id\":\"1288\",\"type\":\"DataRange1d\"},{\"attributes\":{\"base\":60,\"mantissas\":[1,2,5,10,15,20,30],\"max_interval\":1800000.0,\"min_interval\":1000.0,\"num_minor_ticks\":0},\"id\":\"1355\",\"type\":\"AdaptiveTicker\"},{\"attributes\":{\"days\":[1,8,15,22]},\"id\":\"1359\",\"type\":\"DaysTicker\"},{\"attributes\":{\"ticker\":{\"id\":\"1295\",\"type\":\"DatetimeTicker\"}},\"id\":\"1298\",\"type\":\"Grid\"}],\"root_ids\":[\"1283\"]},\"title\":\"Bokeh Application\",\"version\":\"1.4.0\"}};\n",
       "  var render_items = [{\"docid\":\"f19dab3f-164c-415a-8b0d-4b2da3a439e2\",\"roots\":{\"1283\":\"fe8fdfde-bd55-49e2-8cd7-90313ea8288d\"}}];\n",
       "  root.Bokeh.embed.embed_items_notebook(docs_json, render_items);\n",
       "\n",
       "  }\n",
       "  if (root.Bokeh !== undefined) {\n",
       "    embed_document(root);\n",
       "  } else {\n",
       "    var attempts = 0;\n",
       "    var timer = setInterval(function(root) {\n",
       "      if (root.Bokeh !== undefined) {\n",
       "        clearInterval(timer);\n",
       "        embed_document(root);\n",
       "      } else {\n",
       "        attempts++;\n",
       "        if (attempts > 100) {\n",
       "          clearInterval(timer);\n",
       "          console.log(\"Bokeh: ERROR: Unable to run BokehJS code because BokehJS library is missing\");\n",
       "        }\n",
       "      }\n",
       "    }, 10, root)\n",
       "  }\n",
       "})(window);"
      ],
      "application/vnd.bokehjs_exec.v0+json": ""
     },
     "metadata": {
      "application/vnd.bokehjs_exec.v0+json": {
       "id": "1283"
      }
     },
     "output_type": "display_data"
    }
   ],
   "source": [
    "msft_volume = figure(title=\"Microsoft Trading Volume\", x_axis_label='Date', y_axis_label='Volume', x_axis_type='datetime', plot_height=200)\n",
    "msft_volume.vbar(x=dates, top=volume, width=1.0, color='#000000')\n",
    "show(msft_volume)"
   ]
  },
  {
   "cell_type": "markdown",
   "metadata": {},
   "source": [
    "### Chart Layouts\n",
    "\n",
    "Now that we have multiple figures, we can create a layout to see both at once. To stack charts horizontally, we can use `row` to create a *Row Layout*. To stack charts vertically, we can use `column` to create a *Column Layout*. We can use `Grid Layout` for more advanced options. For more information, check out https://docs.bokeh.org/en/latest/docs/user_guide/layout.html."
   ]
  },
  {
   "cell_type": "markdown",
   "metadata": {},
   "source": [
    "#### Row Layout"
   ]
  },
  {
   "cell_type": "code",
   "execution_count": 5,
   "metadata": {},
   "outputs": [
    {
     "data": {
      "text/html": [
       "\n",
       "\n",
       "\n",
       "\n",
       "\n",
       "\n",
       "  <div class=\"bk-root\" id=\"f1d0a6fd-4246-4205-ab81-8e4f2c29b629\" data-root-id=\"1486\"></div>\n"
      ]
     },
     "metadata": {},
     "output_type": "display_data"
    },
    {
     "data": {
      "application/javascript": [
       "(function(root) {\n",
       "  function embed_document(root) {\n",
       "    \n",
       "  var docs_json = {\"ae6942a0-29a4-4490-ad26-abee0a87507b\":{\"roots\":{\"references\":[{\"attributes\":{\"children\":[{\"id\":\"1002\",\"subtype\":\"Figure\",\"type\":\"Plot\"},{\"id\":\"1283\",\"subtype\":\"Figure\",\"type\":\"Plot\"}]},\"id\":\"1486\",\"type\":\"Row\"},{\"attributes\":{\"callback\":null},\"id\":\"1286\",\"type\":\"DataRange1d\"},{\"attributes\":{\"line_color\":\"#d83939\",\"x\":{\"field\":\"x\"},\"y\":{\"field\":\"y\"}},\"id\":\"1088\",\"type\":\"Line\"},{\"attributes\":{},\"id\":\"1009\",\"type\":\"LinearScale\"},{\"attributes\":{\"base\":24,\"mantissas\":[1,2,4,6,8,12],\"max_interval\":43200000.0,\"min_interval\":3600000.0,\"num_minor_ticks\":0},\"id\":\"1356\",\"type\":\"AdaptiveTicker\"},{\"attributes\":{\"callback\":null},\"id\":\"1007\",\"type\":\"DataRange1d\"},{\"attributes\":{\"data_source\":{\"id\":\"1087\",\"type\":\"ColumnDataSource\"},\"glyph\":{\"id\":\"1088\",\"type\":\"Line\"},\"hover_glyph\":null,\"muted_glyph\":null,\"nonselection_glyph\":{\"id\":\"1089\",\"type\":\"Line\"},\"selection_glyph\":null,\"view\":{\"id\":\"1091\",\"type\":\"CDSView\"}},\"id\":\"1090\",\"type\":\"GlyphRenderer\"},{\"attributes\":{},\"id\":\"1042\",\"type\":\"BasicTickFormatter\"},{\"attributes\":{},\"id\":\"1011\",\"type\":\"LinearScale\"},{\"attributes\":{\"line_alpha\":0.1,\"line_color\":\"#1f77b4\",\"x\":{\"field\":\"x\"},\"y\":{\"field\":\"y\"}},\"id\":\"1089\",\"type\":\"Line\"},{\"attributes\":{\"ticker\":{\"id\":\"1014\",\"type\":\"DatetimeTicker\"}},\"id\":\"1017\",\"type\":\"Grid\"},{\"attributes\":{\"months\":[0,4,8]},\"id\":\"1363\",\"type\":\"MonthsTicker\"},{\"attributes\":{\"axis_label\":\"Date\",\"formatter\":{\"id\":\"1044\",\"type\":\"DatetimeTickFormatter\"},\"ticker\":{\"id\":\"1014\",\"type\":\"DatetimeTicker\"}},\"id\":\"1013\",\"type\":\"DatetimeAxis\"},{\"attributes\":{\"num_minor_ticks\":5,\"tickers\":[{\"id\":\"1047\",\"type\":\"AdaptiveTicker\"},{\"id\":\"1048\",\"type\":\"AdaptiveTicker\"},{\"id\":\"1049\",\"type\":\"AdaptiveTicker\"},{\"id\":\"1050\",\"type\":\"DaysTicker\"},{\"id\":\"1051\",\"type\":\"DaysTicker\"},{\"id\":\"1052\",\"type\":\"DaysTicker\"},{\"id\":\"1053\",\"type\":\"DaysTicker\"},{\"id\":\"1054\",\"type\":\"MonthsTicker\"},{\"id\":\"1055\",\"type\":\"MonthsTicker\"},{\"id\":\"1056\",\"type\":\"MonthsTicker\"},{\"id\":\"1057\",\"type\":\"MonthsTicker\"},{\"id\":\"1058\",\"type\":\"YearsTicker\"}]},\"id\":\"1014\",\"type\":\"DatetimeTicker\"},{\"attributes\":{},\"id\":\"1099\",\"type\":\"UnionRenderers\"},{\"attributes\":{\"axis_label\":\"Price\",\"formatter\":{\"id\":\"1042\",\"type\":\"BasicTickFormatter\"},\"ticker\":{\"id\":\"1019\",\"type\":\"BasicTicker\"}},\"id\":\"1018\",\"type\":\"LinearAxis\"},{\"attributes\":{\"callback\":null,\"data\":{\"top\":[39186324,27532204,33197681,35844267,53159906,47062921,35295834,23149516,27853113,29997471,36862376,48600385,67892482,68073295,56387148,93174906,97073557,71030810,71677019,49814383,47817251,72821057,69857710,65354385,56029209,93226366,92727446,87399210,80354185,81593173,85922661,84866215,78975176,82516727,74361389,64694427,57042291,63420326,77527535,57560617,49316522,41243284,66199798,62415153,48107016,50516088,41905264,52874338,40940833,50479610,52765625,36108430,56203749,33856446,32269983,34305320,33110779,33687238,51286559,53875857,39370474,30372862,36406479,32139299,28315992,30912638,30394129,32038199,44711488,41873911,46267327,35306620,26358318,31261334,29119513,20826898,36073609,39517146,33526412,42146720,22668821,30674990,27236011,28659255,39893643,33123035,29783916,43568260,52645278,43373587],\"x\":[1580860800000.0,1580947200000.0,1581033600000.0,1581292800000.0,1581379200000.0,1581465600000.0,1581552000000.0,1581638400000.0,1581984000000.0,1582070400000.0,1582156800000.0,1582243200000.0,1582502400000.0,1582588800000.0,1582675200000.0,1582761600000.0,1582848000000.0,1583107200000.0,1583193600000.0,1583280000000.0,1583366400000.0,1583452800000.0,1583712000000.0,1583798400000.0,1583884800000.0,1583971200000.0,1584057600000.0,1584316800000.0,1584403200000.0,1584489600000.0,1584576000000.0,1584662400000.0,1584921600000.0,1585008000000.0,1585094400000.0,1585180800000.0,1585267200000.0,1585526400000.0,1585612800000.0,1585699200000.0,1585785600000.0,1585872000000.0,1586131200000.0,1586217600000.0,1586304000000.0,1586390400000.0,1586736000000.0,1586822400000.0,1586908800000.0,1586995200000.0,1587081600000.0,1587340800000.0,1587427200000.0,1587513600000.0,1587600000000.0,1587686400000.0,1587945600000.0,1588032000000.0,1588118400000.0,1588204800000.0,1588291200000.0,1588550400000.0,1588636800000.0,1588723200000.0,1588809600000.0,1588896000000.0,1589155200000.0,1589241600000.0,1589328000000.0,1589414400000.0,1589500800000.0,1589760000000.0,1589846400000.0,1589932800000.0,1590019200000.0,1590105600000.0,1590451200000.0,1590537600000.0,1590624000000.0,1590710400000.0,1590969600000.0,1591056000000.0,1591142400000.0,1591228800000.0,1591315200000.0,1591574400000.0,1591660800000.0,1591747200000.0,1591833600000.0,1591920000000.0]},\"selected\":{\"id\":\"1352\",\"type\":\"Selection\"},\"selection_policy\":{\"id\":\"1351\",\"type\":\"UnionRenderers\"}},\"id\":\"1317\",\"type\":\"ColumnDataSource\"},{\"attributes\":{},\"id\":\"1019\",\"type\":\"BasicTicker\"},{\"attributes\":{\"label\":{\"value\":\"Low\"},\"renderers\":[{\"id\":\"1090\",\"type\":\"GlyphRenderer\"}]},\"id\":\"1114\",\"type\":\"LegendItem\"},{\"attributes\":{\"months\":[0,2,4,6,8,10]},\"id\":\"1362\",\"type\":\"MonthsTicker\"},{\"attributes\":{\"dimension\":1,\"ticker\":{\"id\":\"1019\",\"type\":\"BasicTicker\"}},\"id\":\"1022\",\"type\":\"Grid\"},{\"attributes\":{\"below\":[{\"id\":\"1294\",\"type\":\"DatetimeAxis\"}],\"center\":[{\"id\":\"1298\",\"type\":\"Grid\"},{\"id\":\"1303\",\"type\":\"Grid\"}],\"left\":[{\"id\":\"1299\",\"type\":\"LinearAxis\"}],\"plot_height\":200,\"renderers\":[{\"id\":\"1320\",\"type\":\"GlyphRenderer\"}],\"title\":{\"id\":\"1284\",\"type\":\"Title\"},\"toolbar\":{\"id\":\"1310\",\"type\":\"Toolbar\"},\"x_range\":{\"id\":\"1286\",\"type\":\"DataRange1d\"},\"x_scale\":{\"id\":\"1290\",\"type\":\"LinearScale\"},\"y_range\":{\"id\":\"1288\",\"type\":\"DataRange1d\"},\"y_scale\":{\"id\":\"1292\",\"type\":\"LinearScale\"}},\"id\":\"1283\",\"subtype\":\"Figure\",\"type\":\"Plot\"},{\"attributes\":{\"source\":{\"id\":\"1087\",\"type\":\"ColumnDataSource\"}},\"id\":\"1091\",\"type\":\"CDSView\"},{\"attributes\":{\"active_drag\":\"auto\",\"active_inspect\":\"auto\",\"active_multi\":null,\"active_scroll\":\"auto\",\"active_tap\":\"auto\",\"tools\":[{\"id\":\"1304\",\"type\":\"PanTool\"},{\"id\":\"1305\",\"type\":\"WheelZoomTool\"},{\"id\":\"1306\",\"type\":\"BoxZoomTool\"},{\"id\":\"1307\",\"type\":\"SaveTool\"},{\"id\":\"1308\",\"type\":\"ResetTool\"},{\"id\":\"1309\",\"type\":\"HelpTool\"}]},\"id\":\"1310\",\"type\":\"Toolbar\"},{\"attributes\":{\"source\":{\"id\":\"1317\",\"type\":\"ColumnDataSource\"}},\"id\":\"1321\",\"type\":\"CDSView\"},{\"attributes\":{},\"id\":\"1100\",\"type\":\"Selection\"},{\"attributes\":{\"base\":60,\"mantissas\":[1,2,5,10,15,20,30],\"max_interval\":1800000.0,\"min_interval\":1000.0,\"num_minor_ticks\":0},\"id\":\"1355\",\"type\":\"AdaptiveTicker\"},{\"attributes\":{\"data_source\":{\"id\":\"1036\",\"type\":\"ColumnDataSource\"},\"glyph\":{\"id\":\"1037\",\"type\":\"Line\"},\"hover_glyph\":null,\"muted_glyph\":null,\"nonselection_glyph\":{\"id\":\"1038\",\"type\":\"Line\"},\"selection_glyph\":null,\"view\":{\"id\":\"1040\",\"type\":\"CDSView\"}},\"id\":\"1039\",\"type\":\"GlyphRenderer\"},{\"attributes\":{},\"id\":\"1351\",\"type\":\"UnionRenderers\"},{\"attributes\":{\"days\":[1,2,3,4,5,6,7,8,9,10,11,12,13,14,15,16,17,18,19,20,21,22,23,24,25,26,27,28,29,30,31]},\"id\":\"1357\",\"type\":\"DaysTicker\"},{\"attributes\":{\"text\":\"Microsoft Trading Volume\"},\"id\":\"1284\",\"type\":\"Title\"},{\"attributes\":{},\"id\":\"1023\",\"type\":\"PanTool\"},{\"attributes\":{},\"id\":\"1024\",\"type\":\"WheelZoomTool\"},{\"attributes\":{},\"id\":\"1125\",\"type\":\"Selection\"},{\"attributes\":{\"overlay\":{\"id\":\"1046\",\"type\":\"BoxAnnotation\"}},\"id\":\"1025\",\"type\":\"BoxZoomTool\"},{\"attributes\":{\"mantissas\":[1,2,5],\"max_interval\":500.0,\"num_minor_ticks\":0},\"id\":\"1354\",\"type\":\"AdaptiveTicker\"},{\"attributes\":{},\"id\":\"1026\",\"type\":\"SaveTool\"},{\"attributes\":{},\"id\":\"1124\",\"type\":\"UnionRenderers\"},{\"attributes\":{\"below\":[{\"id\":\"1013\",\"type\":\"DatetimeAxis\"}],\"center\":[{\"id\":\"1017\",\"type\":\"Grid\"},{\"id\":\"1022\",\"type\":\"Grid\"},{\"id\":\"1059\",\"type\":\"Legend\"}],\"left\":[{\"id\":\"1018\",\"type\":\"LinearAxis\"}],\"renderers\":[{\"id\":\"1039\",\"type\":\"GlyphRenderer\"},{\"id\":\"1064\",\"type\":\"GlyphRenderer\"},{\"id\":\"1090\",\"type\":\"GlyphRenderer\"}],\"title\":{\"id\":\"1003\",\"type\":\"Title\"},\"toolbar\":{\"id\":\"1029\",\"type\":\"Toolbar\"},\"x_range\":{\"id\":\"1005\",\"type\":\"DataRange1d\"},\"x_scale\":{\"id\":\"1009\",\"type\":\"LinearScale\"},\"y_range\":{\"id\":\"1007\",\"type\":\"DataRange1d\"},\"y_scale\":{\"id\":\"1011\",\"type\":\"LinearScale\"}},\"id\":\"1002\",\"subtype\":\"Figure\",\"type\":\"Plot\"},{\"attributes\":{},\"id\":\"1028\",\"type\":\"HelpTool\"},{\"attributes\":{},\"id\":\"1027\",\"type\":\"ResetTool\"},{\"attributes\":{},\"id\":\"1347\",\"type\":\"BasicTickFormatter\"},{\"attributes\":{\"data_source\":{\"id\":\"1317\",\"type\":\"ColumnDataSource\"},\"glyph\":{\"id\":\"1318\",\"type\":\"VBar\"},\"hover_glyph\":null,\"muted_glyph\":null,\"nonselection_glyph\":{\"id\":\"1319\",\"type\":\"VBar\"},\"selection_glyph\":null,\"view\":{\"id\":\"1321\",\"type\":\"CDSView\"}},\"id\":\"1320\",\"type\":\"GlyphRenderer\"},{\"attributes\":{\"line_color\":\"#000000\",\"x\":{\"field\":\"x\"},\"y\":{\"field\":\"y\"}},\"id\":\"1037\",\"type\":\"Line\"},{\"attributes\":{\"active_drag\":\"auto\",\"active_inspect\":\"auto\",\"active_multi\":null,\"active_scroll\":\"auto\",\"active_tap\":\"auto\",\"tools\":[{\"id\":\"1023\",\"type\":\"PanTool\"},{\"id\":\"1024\",\"type\":\"WheelZoomTool\"},{\"id\":\"1025\",\"type\":\"BoxZoomTool\"},{\"id\":\"1026\",\"type\":\"SaveTool\"},{\"id\":\"1027\",\"type\":\"ResetTool\"},{\"id\":\"1028\",\"type\":\"HelpTool\"}]},\"id\":\"1029\",\"type\":\"Toolbar\"},{\"attributes\":{\"callback\":null,\"data\":{\"x\":[1580860800000.0,1580947200000.0,1581033600000.0,1581292800000.0,1581379200000.0,1581465600000.0,1581552000000.0,1581638400000.0,1581984000000.0,1582070400000.0,1582156800000.0,1582243200000.0,1582502400000.0,1582588800000.0,1582675200000.0,1582761600000.0,1582848000000.0,1583107200000.0,1583193600000.0,1583280000000.0,1583366400000.0,1583452800000.0,1583712000000.0,1583798400000.0,1583884800000.0,1583971200000.0,1584057600000.0,1584316800000.0,1584403200000.0,1584489600000.0,1584576000000.0,1584662400000.0,1584921600000.0,1585008000000.0,1585094400000.0,1585180800000.0,1585267200000.0,1585526400000.0,1585612800000.0,1585699200000.0,1585785600000.0,1585872000000.0,1586131200000.0,1586217600000.0,1586304000000.0,1586390400000.0,1586736000000.0,1586822400000.0,1586908800000.0,1586995200000.0,1587081600000.0,1587340800000.0,1587427200000.0,1587513600000.0,1587600000000.0,1587686400000.0,1587945600000.0,1588032000000.0,1588118400000.0,1588204800000.0,1588291200000.0,1588550400000.0,1588636800000.0,1588723200000.0,1588809600000.0,1588896000000.0,1589155200000.0,1589241600000.0,1589328000000.0,1589414400000.0,1589500800000.0,1589760000000.0,1589846400000.0,1589932800000.0,1590019200000.0,1590105600000.0,1590451200000.0,1590537600000.0,1590624000000.0,1590710400000.0,1590969600000.0,1591056000000.0,1591142400000.0,1591228800000.0,1591315200000.0,1591574400000.0,1591660800000.0,1591747200000.0,1591833600000.0,1591920000000.0],\"y\":[184.2,183.8199,185.63,188.84,190.7,185.85,186.23,185.41,187.7,188.18,187.25,183.5,174.55,174.84,173.26,167.03,163.71,172.92,175.0,170.7,170.87,163.11,157.75,161.03,157.7,153.47,161.91,149.35,147.4998,146.0,150.15,147.1,140.57,149.6,154.33,156.66,154.89,160.6,164.78,157.75,155.48,157.38,166.5,170.0,166.67,167.37,165.57,173.75,173.57,177.28,180.0,178.75,173.6699,174.0,175.06,174.56,176.9,175.67,177.68,180.4,178.64,179.0,183.65,184.2,184.55,185.0,187.51,187.04,184.05,180.69,187.06,186.2,186.6,185.85,186.67,184.46,186.5,181.9877,184.1474,184.27,183.0,185.0,185.94,185.84,187.73,188.55,190.7,198.52,195.76,191.72]},\"selected\":{\"id\":\"1100\",\"type\":\"Selection\"},\"selection_policy\":{\"id\":\"1099\",\"type\":\"UnionRenderers\"}},\"id\":\"1061\",\"type\":\"ColumnDataSource\"},{\"attributes\":{\"source\":{\"id\":\"1036\",\"type\":\"ColumnDataSource\"}},\"id\":\"1040\",\"type\":\"CDSView\"},{\"attributes\":{\"callback\":null,\"data\":{\"x\":[1580860800000.0,1580947200000.0,1581033600000.0,1581292800000.0,1581379200000.0,1581465600000.0,1581552000000.0,1581638400000.0,1581984000000.0,1582070400000.0,1582156800000.0,1582243200000.0,1582502400000.0,1582588800000.0,1582675200000.0,1582761600000.0,1582848000000.0,1583107200000.0,1583193600000.0,1583280000000.0,1583366400000.0,1583452800000.0,1583712000000.0,1583798400000.0,1583884800000.0,1583971200000.0,1584057600000.0,1584316800000.0,1584403200000.0,1584489600000.0,1584576000000.0,1584662400000.0,1584921600000.0,1585008000000.0,1585094400000.0,1585180800000.0,1585267200000.0,1585526400000.0,1585612800000.0,1585699200000.0,1585785600000.0,1585872000000.0,1586131200000.0,1586217600000.0,1586304000000.0,1586390400000.0,1586736000000.0,1586822400000.0,1586908800000.0,1586995200000.0,1587081600000.0,1587340800000.0,1587427200000.0,1587513600000.0,1587600000000.0,1587686400000.0,1587945600000.0,1588032000000.0,1588118400000.0,1588204800000.0,1588291200000.0,1588550400000.0,1588636800000.0,1588723200000.0,1588809600000.0,1588896000000.0,1589155200000.0,1589241600000.0,1589328000000.0,1589414400000.0,1589500800000.0,1589760000000.0,1589846400000.0,1589932800000.0,1590019200000.0,1590105600000.0,1590451200000.0,1590537600000.0,1590624000000.0,1590710400000.0,1590969600000.0,1591056000000.0,1591142400000.0,1591228800000.0,1591315200000.0,1591574400000.0,1591660800000.0,1591747200000.0,1591833600000.0,1591920000000.0],\"y\":[179.9,183.63,183.89,188.7,184.44,184.71,183.71,185.35,187.23,187.28,184.42,178.59,170.89,168.07,170.17,158.18,162.01,172.79,164.51,170.55,166.27,161.57,150.62,160.92,153.63,139.06,158.83,135.42,146.57,140.4,142.71,137.35,135.98,148.34,146.92,156.11,149.7,160.23,157.71,152.11,155.26,153.83,165.27,163.49,165.13,165.14,165.51,173.7,171.88,177.04,178.6,175.06,167.82,173.52,171.42,174.55,174.05,169.81,177.43,179.21,174.57,178.84,180.76,182.54,183.6,184.68,186.74,182.51,179.75,180.53,183.16,184.91,183.63,185.66,183.43,183.51,181.57,181.81,181.4,183.25,182.83,184.91,185.36,182.92,187.2,188.36,189.8,196.84,186.27,187.74]},\"selected\":{\"id\":\"1072\",\"type\":\"Selection\"},\"selection_policy\":{\"id\":\"1071\",\"type\":\"UnionRenderers\"}},\"id\":\"1036\",\"type\":\"ColumnDataSource\"},{\"attributes\":{\"base\":60,\"mantissas\":[1,2,5,10,15,20,30],\"max_interval\":1800000.0,\"min_interval\":1000.0,\"num_minor_ticks\":0},\"id\":\"1048\",\"type\":\"AdaptiveTicker\"},{\"attributes\":{\"mantissas\":[1,2,5],\"max_interval\":500.0,\"num_minor_ticks\":0},\"id\":\"1047\",\"type\":\"AdaptiveTicker\"},{\"attributes\":{\"bottom_units\":\"screen\",\"fill_alpha\":{\"value\":0.5},\"fill_color\":{\"value\":\"lightgrey\"},\"left_units\":\"screen\",\"level\":\"overlay\",\"line_alpha\":{\"value\":1.0},\"line_color\":{\"value\":\"black\"},\"line_dash\":[4,4],\"line_width\":{\"value\":2},\"render_mode\":\"css\",\"right_units\":\"screen\",\"top_units\":\"screen\"},\"id\":\"1046\",\"type\":\"BoxAnnotation\"},{\"attributes\":{\"base\":24,\"mantissas\":[1,2,4,6,8,12],\"max_interval\":43200000.0,\"min_interval\":3600000.0,\"num_minor_ticks\":0},\"id\":\"1049\",\"type\":\"AdaptiveTicker\"},{\"attributes\":{\"days\":[1,2,3,4,5,6,7,8,9,10,11,12,13,14,15,16,17,18,19,20,21,22,23,24,25,26,27,28,29,30,31]},\"id\":\"1050\",\"type\":\"DaysTicker\"},{\"attributes\":{},\"id\":\"1352\",\"type\":\"Selection\"},{\"attributes\":{\"days\":[1,4,7,10,13,16,19,22,25,28]},\"id\":\"1051\",\"type\":\"DaysTicker\"},{\"attributes\":{},\"id\":\"1290\",\"type\":\"LinearScale\"},{\"attributes\":{\"days\":[1,8,15,22]},\"id\":\"1052\",\"type\":\"DaysTicker\"},{\"attributes\":{\"days\":[1,15]},\"id\":\"1053\",\"type\":\"DaysTicker\"},{\"attributes\":{\"months\":[0,1,2,3,4,5,6,7,8,9,10,11]},\"id\":\"1054\",\"type\":\"MonthsTicker\"},{\"attributes\":{\"months\":[0,2,4,6,8,10]},\"id\":\"1055\",\"type\":\"MonthsTicker\"},{\"attributes\":{},\"id\":\"1307\",\"type\":\"SaveTool\"},{\"attributes\":{\"months\":[0,4,8]},\"id\":\"1056\",\"type\":\"MonthsTicker\"},{\"attributes\":{\"callback\":null},\"id\":\"1288\",\"type\":\"DataRange1d\"},{\"attributes\":{\"months\":[0,6]},\"id\":\"1057\",\"type\":\"MonthsTicker\"},{\"attributes\":{\"days\":[1,8,15,22]},\"id\":\"1359\",\"type\":\"DaysTicker\"},{\"attributes\":{},\"id\":\"1309\",\"type\":\"HelpTool\"},{\"attributes\":{},\"id\":\"1058\",\"type\":\"YearsTicker\"},{\"attributes\":{},\"id\":\"1308\",\"type\":\"ResetTool\"},{\"attributes\":{\"items\":[{\"id\":\"1060\",\"type\":\"LegendItem\"},{\"id\":\"1086\",\"type\":\"LegendItem\"},{\"id\":\"1114\",\"type\":\"LegendItem\"}]},\"id\":\"1059\",\"type\":\"Legend\"},{\"attributes\":{\"bottom_units\":\"screen\",\"fill_alpha\":{\"value\":0.5},\"fill_color\":{\"value\":\"lightgrey\"},\"left_units\":\"screen\",\"level\":\"overlay\",\"line_alpha\":{\"value\":1.0},\"line_color\":{\"value\":\"black\"},\"line_dash\":[4,4],\"line_width\":{\"value\":2},\"render_mode\":\"css\",\"right_units\":\"screen\",\"top_units\":\"screen\"},\"id\":\"1353\",\"type\":\"BoxAnnotation\"},{\"attributes\":{\"overlay\":{\"id\":\"1353\",\"type\":\"BoxAnnotation\"}},\"id\":\"1306\",\"type\":\"BoxZoomTool\"},{\"attributes\":{\"text\":\"Microsoft Low, High, and Close Prices\"},\"id\":\"1003\",\"type\":\"Title\"},{\"attributes\":{},\"id\":\"1305\",\"type\":\"WheelZoomTool\"},{\"attributes\":{\"fill_color\":{\"value\":\"#000000\"},\"line_color\":{\"value\":\"#000000\"},\"top\":{\"field\":\"top\"},\"width\":{\"value\":1.0},\"x\":{\"field\":\"x\"}},\"id\":\"1318\",\"type\":\"VBar\"},{\"attributes\":{\"fill_alpha\":{\"value\":0.1},\"fill_color\":{\"value\":\"#1f77b4\"},\"line_alpha\":{\"value\":0.1},\"line_color\":{\"value\":\"#1f77b4\"},\"top\":{\"field\":\"top\"},\"width\":{\"value\":1.0},\"x\":{\"field\":\"x\"}},\"id\":\"1319\",\"type\":\"VBar\"},{\"attributes\":{\"months\":[0,6]},\"id\":\"1364\",\"type\":\"MonthsTicker\"},{\"attributes\":{\"label\":{\"value\":\"Close\"},\"renderers\":[{\"id\":\"1039\",\"type\":\"GlyphRenderer\"}]},\"id\":\"1060\",\"type\":\"LegendItem\"},{\"attributes\":{},\"id\":\"1304\",\"type\":\"PanTool\"},{\"attributes\":{},\"id\":\"1044\",\"type\":\"DatetimeTickFormatter\"},{\"attributes\":{},\"id\":\"1365\",\"type\":\"YearsTicker\"},{\"attributes\":{\"callback\":null},\"id\":\"1005\",\"type\":\"DataRange1d\"},{\"attributes\":{\"callback\":null,\"data\":{\"x\":[1580860800000.0,1580947200000.0,1581033600000.0,1581292800000.0,1581379200000.0,1581465600000.0,1581552000000.0,1581638400000.0,1581984000000.0,1582070400000.0,1582156800000.0,1582243200000.0,1582502400000.0,1582588800000.0,1582675200000.0,1582761600000.0,1582848000000.0,1583107200000.0,1583193600000.0,1583280000000.0,1583366400000.0,1583452800000.0,1583712000000.0,1583798400000.0,1583884800000.0,1583971200000.0,1584057600000.0,1584316800000.0,1584403200000.0,1584489600000.0,1584576000000.0,1584662400000.0,1584921600000.0,1585008000000.0,1585094400000.0,1585180800000.0,1585267200000.0,1585526400000.0,1585612800000.0,1585699200000.0,1585785600000.0,1585872000000.0,1586131200000.0,1586217600000.0,1586304000000.0,1586390400000.0,1586736000000.0,1586822400000.0,1586908800000.0,1586995200000.0,1587081600000.0,1587340800000.0,1587427200000.0,1587513600000.0,1587600000000.0,1587686400000.0,1587945600000.0,1588032000000.0,1588118400000.0,1588204800000.0,1588291200000.0,1588550400000.0,1588636800000.0,1588723200000.0,1588809600000.0,1588896000000.0,1589155200000.0,1589241600000.0,1589328000000.0,1589414400000.0,1589500800000.0,1589760000000.0,1589846400000.0,1589932800000.0,1590019200000.0,1590105600000.0,1590451200000.0,1590537600000.0,1590624000000.0,1590710400000.0,1590969600000.0,1591056000000.0,1591142400000.0,1591228800000.0,1591315200000.0,1591574400000.0,1591660800000.0,1591747200000.0,1591833600000.0,1591920000000.0],\"y\":[178.4101,180.05900000000003,182.48,183.25,183.5,181.85,182.872,182.65,185.5,186.47,181.1,177.25,163.23,167.6462,168.21,157.98,152.0,162.31,162.26,165.62,165.69,156.0,150.0,152.58,151.15,138.58,140.73,135.0,135.0,135.02,139.0,135.86,132.52,141.27,144.44,148.37,149.2,150.01,156.56,150.82,150.36,152.19,157.58,163.26,163.5,163.33,162.3,168.0,169.24,172.9,175.87,174.99,166.1102,170.82,170.91,170.71,173.3,169.39,171.88,176.23,174.01,173.8,179.9,181.6306,182.58,183.36,182.85,182.3,176.54,175.68,177.0,183.96,183.49,183.94,183.29,182.54,181.1,176.6,180.38,180.41,181.46,181.35,183.58,182.3,182.01,184.44,187.2605,191.01,186.07,185.18]},\"selected\":{\"id\":\"1125\",\"type\":\"Selection\"},\"selection_policy\":{\"id\":\"1124\",\"type\":\"UnionRenderers\"}},\"id\":\"1087\",\"type\":\"ColumnDataSource\"},{\"attributes\":{\"line_color\":\"#2785db\",\"x\":{\"field\":\"x\"},\"y\":{\"field\":\"y\"}},\"id\":\"1062\",\"type\":\"Line\"},{\"attributes\":{},\"id\":\"1292\",\"type\":\"LinearScale\"},{\"attributes\":{\"days\":[1,15]},\"id\":\"1360\",\"type\":\"DaysTicker\"},{\"attributes\":{\"data_source\":{\"id\":\"1061\",\"type\":\"ColumnDataSource\"},\"glyph\":{\"id\":\"1062\",\"type\":\"Line\"},\"hover_glyph\":null,\"muted_glyph\":null,\"nonselection_glyph\":{\"id\":\"1063\",\"type\":\"Line\"},\"selection_glyph\":null,\"view\":{\"id\":\"1065\",\"type\":\"CDSView\"}},\"id\":\"1064\",\"type\":\"GlyphRenderer\"},{\"attributes\":{\"line_alpha\":0.1,\"line_color\":\"#1f77b4\",\"x\":{\"field\":\"x\"},\"y\":{\"field\":\"y\"}},\"id\":\"1038\",\"type\":\"Line\"},{\"attributes\":{\"dimension\":1,\"ticker\":{\"id\":\"1300\",\"type\":\"BasicTicker\"}},\"id\":\"1303\",\"type\":\"Grid\"},{\"attributes\":{\"line_alpha\":0.1,\"line_color\":\"#1f77b4\",\"x\":{\"field\":\"x\"},\"y\":{\"field\":\"y\"}},\"id\":\"1063\",\"type\":\"Line\"},{\"attributes\":{},\"id\":\"1349\",\"type\":\"DatetimeTickFormatter\"},{\"attributes\":{},\"id\":\"1300\",\"type\":\"BasicTicker\"},{\"attributes\":{\"axis_label\":\"Volume\",\"formatter\":{\"id\":\"1347\",\"type\":\"BasicTickFormatter\"},\"ticker\":{\"id\":\"1300\",\"type\":\"BasicTicker\"}},\"id\":\"1299\",\"type\":\"LinearAxis\"},{\"attributes\":{\"days\":[1,4,7,10,13,16,19,22,25,28]},\"id\":\"1358\",\"type\":\"DaysTicker\"},{\"attributes\":{\"label\":{\"value\":\"High\"},\"renderers\":[{\"id\":\"1064\",\"type\":\"GlyphRenderer\"}]},\"id\":\"1086\",\"type\":\"LegendItem\"},{\"attributes\":{\"num_minor_ticks\":5,\"tickers\":[{\"id\":\"1354\",\"type\":\"AdaptiveTicker\"},{\"id\":\"1355\",\"type\":\"AdaptiveTicker\"},{\"id\":\"1356\",\"type\":\"AdaptiveTicker\"},{\"id\":\"1357\",\"type\":\"DaysTicker\"},{\"id\":\"1358\",\"type\":\"DaysTicker\"},{\"id\":\"1359\",\"type\":\"DaysTicker\"},{\"id\":\"1360\",\"type\":\"DaysTicker\"},{\"id\":\"1361\",\"type\":\"MonthsTicker\"},{\"id\":\"1362\",\"type\":\"MonthsTicker\"},{\"id\":\"1363\",\"type\":\"MonthsTicker\"},{\"id\":\"1364\",\"type\":\"MonthsTicker\"},{\"id\":\"1365\",\"type\":\"YearsTicker\"}]},\"id\":\"1295\",\"type\":\"DatetimeTicker\"},{\"attributes\":{},\"id\":\"1071\",\"type\":\"UnionRenderers\"},{\"attributes\":{\"source\":{\"id\":\"1061\",\"type\":\"ColumnDataSource\"}},\"id\":\"1065\",\"type\":\"CDSView\"},{\"attributes\":{\"axis_label\":\"Date\",\"formatter\":{\"id\":\"1349\",\"type\":\"DatetimeTickFormatter\"},\"ticker\":{\"id\":\"1295\",\"type\":\"DatetimeTicker\"}},\"id\":\"1294\",\"type\":\"DatetimeAxis\"},{\"attributes\":{},\"id\":\"1072\",\"type\":\"Selection\"},{\"attributes\":{\"months\":[0,1,2,3,4,5,6,7,8,9,10,11]},\"id\":\"1361\",\"type\":\"MonthsTicker\"},{\"attributes\":{\"ticker\":{\"id\":\"1295\",\"type\":\"DatetimeTicker\"}},\"id\":\"1298\",\"type\":\"Grid\"}],\"root_ids\":[\"1486\"]},\"title\":\"Bokeh Application\",\"version\":\"1.4.0\"}};\n",
       "  var render_items = [{\"docid\":\"ae6942a0-29a4-4490-ad26-abee0a87507b\",\"roots\":{\"1486\":\"f1d0a6fd-4246-4205-ab81-8e4f2c29b629\"}}];\n",
       "  root.Bokeh.embed.embed_items_notebook(docs_json, render_items);\n",
       "\n",
       "  }\n",
       "  if (root.Bokeh !== undefined) {\n",
       "    embed_document(root);\n",
       "  } else {\n",
       "    var attempts = 0;\n",
       "    var timer = setInterval(function(root) {\n",
       "      if (root.Bokeh !== undefined) {\n",
       "        clearInterval(timer);\n",
       "        embed_document(root);\n",
       "      } else {\n",
       "        attempts++;\n",
       "        if (attempts > 100) {\n",
       "          clearInterval(timer);\n",
       "          console.log(\"Bokeh: ERROR: Unable to run BokehJS code because BokehJS library is missing\");\n",
       "        }\n",
       "      }\n",
       "    }, 10, root)\n",
       "  }\n",
       "})(window);"
      ],
      "application/vnd.bokehjs_exec.v0+json": ""
     },
     "metadata": {
      "application/vnd.bokehjs_exec.v0+json": {
       "id": "1486"
      }
     },
     "output_type": "display_data"
    }
   ],
   "source": [
    "from bokeh.layouts import row\n",
    "show(row(msft, msft_volume))"
   ]
  },
  {
   "cell_type": "markdown",
   "metadata": {},
   "source": [
    "#### Column Layout\n",
    "\n",
    "In this case, column layout is a better choice."
   ]
  },
  {
   "cell_type": "code",
   "execution_count": 6,
   "metadata": {},
   "outputs": [
    {
     "data": {
      "text/html": [
       "\n",
       "\n",
       "\n",
       "\n",
       "\n",
       "\n",
       "  <div class=\"bk-root\" id=\"cd478868-5aea-4a48-8348-5cd04836ae73\" data-root-id=\"1839\"></div>\n"
      ]
     },
     "metadata": {},
     "output_type": "display_data"
    },
    {
     "data": {
      "application/javascript": [
       "(function(root) {\n",
       "  function embed_document(root) {\n",
       "    \n",
       "  var docs_json = {\"efebec9a-2b36-4786-ab49-dd0ddc724d71\":{\"roots\":{\"references\":[{\"attributes\":{\"children\":[{\"id\":\"1002\",\"subtype\":\"Figure\",\"type\":\"Plot\"},{\"id\":\"1283\",\"subtype\":\"Figure\",\"type\":\"Plot\"}]},\"id\":\"1839\",\"type\":\"Column\"},{\"attributes\":{\"callback\":null},\"id\":\"1286\",\"type\":\"DataRange1d\"},{\"attributes\":{\"line_color\":\"#d83939\",\"x\":{\"field\":\"x\"},\"y\":{\"field\":\"y\"}},\"id\":\"1088\",\"type\":\"Line\"},{\"attributes\":{},\"id\":\"1009\",\"type\":\"LinearScale\"},{\"attributes\":{\"base\":24,\"mantissas\":[1,2,4,6,8,12],\"max_interval\":43200000.0,\"min_interval\":3600000.0,\"num_minor_ticks\":0},\"id\":\"1356\",\"type\":\"AdaptiveTicker\"},{\"attributes\":{\"callback\":null},\"id\":\"1007\",\"type\":\"DataRange1d\"},{\"attributes\":{\"data_source\":{\"id\":\"1087\",\"type\":\"ColumnDataSource\"},\"glyph\":{\"id\":\"1088\",\"type\":\"Line\"},\"hover_glyph\":null,\"muted_glyph\":null,\"nonselection_glyph\":{\"id\":\"1089\",\"type\":\"Line\"},\"selection_glyph\":null,\"view\":{\"id\":\"1091\",\"type\":\"CDSView\"}},\"id\":\"1090\",\"type\":\"GlyphRenderer\"},{\"attributes\":{},\"id\":\"1042\",\"type\":\"BasicTickFormatter\"},{\"attributes\":{},\"id\":\"1011\",\"type\":\"LinearScale\"},{\"attributes\":{\"line_alpha\":0.1,\"line_color\":\"#1f77b4\",\"x\":{\"field\":\"x\"},\"y\":{\"field\":\"y\"}},\"id\":\"1089\",\"type\":\"Line\"},{\"attributes\":{\"ticker\":{\"id\":\"1014\",\"type\":\"DatetimeTicker\"}},\"id\":\"1017\",\"type\":\"Grid\"},{\"attributes\":{\"months\":[0,4,8]},\"id\":\"1363\",\"type\":\"MonthsTicker\"},{\"attributes\":{\"axis_label\":\"Date\",\"formatter\":{\"id\":\"1044\",\"type\":\"DatetimeTickFormatter\"},\"ticker\":{\"id\":\"1014\",\"type\":\"DatetimeTicker\"}},\"id\":\"1013\",\"type\":\"DatetimeAxis\"},{\"attributes\":{\"num_minor_ticks\":5,\"tickers\":[{\"id\":\"1047\",\"type\":\"AdaptiveTicker\"},{\"id\":\"1048\",\"type\":\"AdaptiveTicker\"},{\"id\":\"1049\",\"type\":\"AdaptiveTicker\"},{\"id\":\"1050\",\"type\":\"DaysTicker\"},{\"id\":\"1051\",\"type\":\"DaysTicker\"},{\"id\":\"1052\",\"type\":\"DaysTicker\"},{\"id\":\"1053\",\"type\":\"DaysTicker\"},{\"id\":\"1054\",\"type\":\"MonthsTicker\"},{\"id\":\"1055\",\"type\":\"MonthsTicker\"},{\"id\":\"1056\",\"type\":\"MonthsTicker\"},{\"id\":\"1057\",\"type\":\"MonthsTicker\"},{\"id\":\"1058\",\"type\":\"YearsTicker\"}]},\"id\":\"1014\",\"type\":\"DatetimeTicker\"},{\"attributes\":{},\"id\":\"1099\",\"type\":\"UnionRenderers\"},{\"attributes\":{\"axis_label\":\"Price\",\"formatter\":{\"id\":\"1042\",\"type\":\"BasicTickFormatter\"},\"ticker\":{\"id\":\"1019\",\"type\":\"BasicTicker\"}},\"id\":\"1018\",\"type\":\"LinearAxis\"},{\"attributes\":{\"callback\":null,\"data\":{\"top\":[39186324,27532204,33197681,35844267,53159906,47062921,35295834,23149516,27853113,29997471,36862376,48600385,67892482,68073295,56387148,93174906,97073557,71030810,71677019,49814383,47817251,72821057,69857710,65354385,56029209,93226366,92727446,87399210,80354185,81593173,85922661,84866215,78975176,82516727,74361389,64694427,57042291,63420326,77527535,57560617,49316522,41243284,66199798,62415153,48107016,50516088,41905264,52874338,40940833,50479610,52765625,36108430,56203749,33856446,32269983,34305320,33110779,33687238,51286559,53875857,39370474,30372862,36406479,32139299,28315992,30912638,30394129,32038199,44711488,41873911,46267327,35306620,26358318,31261334,29119513,20826898,36073609,39517146,33526412,42146720,22668821,30674990,27236011,28659255,39893643,33123035,29783916,43568260,52645278,43373587],\"x\":[1580860800000.0,1580947200000.0,1581033600000.0,1581292800000.0,1581379200000.0,1581465600000.0,1581552000000.0,1581638400000.0,1581984000000.0,1582070400000.0,1582156800000.0,1582243200000.0,1582502400000.0,1582588800000.0,1582675200000.0,1582761600000.0,1582848000000.0,1583107200000.0,1583193600000.0,1583280000000.0,1583366400000.0,1583452800000.0,1583712000000.0,1583798400000.0,1583884800000.0,1583971200000.0,1584057600000.0,1584316800000.0,1584403200000.0,1584489600000.0,1584576000000.0,1584662400000.0,1584921600000.0,1585008000000.0,1585094400000.0,1585180800000.0,1585267200000.0,1585526400000.0,1585612800000.0,1585699200000.0,1585785600000.0,1585872000000.0,1586131200000.0,1586217600000.0,1586304000000.0,1586390400000.0,1586736000000.0,1586822400000.0,1586908800000.0,1586995200000.0,1587081600000.0,1587340800000.0,1587427200000.0,1587513600000.0,1587600000000.0,1587686400000.0,1587945600000.0,1588032000000.0,1588118400000.0,1588204800000.0,1588291200000.0,1588550400000.0,1588636800000.0,1588723200000.0,1588809600000.0,1588896000000.0,1589155200000.0,1589241600000.0,1589328000000.0,1589414400000.0,1589500800000.0,1589760000000.0,1589846400000.0,1589932800000.0,1590019200000.0,1590105600000.0,1590451200000.0,1590537600000.0,1590624000000.0,1590710400000.0,1590969600000.0,1591056000000.0,1591142400000.0,1591228800000.0,1591315200000.0,1591574400000.0,1591660800000.0,1591747200000.0,1591833600000.0,1591920000000.0]},\"selected\":{\"id\":\"1352\",\"type\":\"Selection\"},\"selection_policy\":{\"id\":\"1351\",\"type\":\"UnionRenderers\"}},\"id\":\"1317\",\"type\":\"ColumnDataSource\"},{\"attributes\":{},\"id\":\"1019\",\"type\":\"BasicTicker\"},{\"attributes\":{\"label\":{\"value\":\"Low\"},\"renderers\":[{\"id\":\"1090\",\"type\":\"GlyphRenderer\"}]},\"id\":\"1114\",\"type\":\"LegendItem\"},{\"attributes\":{\"months\":[0,2,4,6,8,10]},\"id\":\"1362\",\"type\":\"MonthsTicker\"},{\"attributes\":{\"dimension\":1,\"ticker\":{\"id\":\"1019\",\"type\":\"BasicTicker\"}},\"id\":\"1022\",\"type\":\"Grid\"},{\"attributes\":{\"below\":[{\"id\":\"1294\",\"type\":\"DatetimeAxis\"}],\"center\":[{\"id\":\"1298\",\"type\":\"Grid\"},{\"id\":\"1303\",\"type\":\"Grid\"}],\"left\":[{\"id\":\"1299\",\"type\":\"LinearAxis\"}],\"plot_height\":200,\"renderers\":[{\"id\":\"1320\",\"type\":\"GlyphRenderer\"}],\"title\":{\"id\":\"1284\",\"type\":\"Title\"},\"toolbar\":{\"id\":\"1310\",\"type\":\"Toolbar\"},\"x_range\":{\"id\":\"1286\",\"type\":\"DataRange1d\"},\"x_scale\":{\"id\":\"1290\",\"type\":\"LinearScale\"},\"y_range\":{\"id\":\"1288\",\"type\":\"DataRange1d\"},\"y_scale\":{\"id\":\"1292\",\"type\":\"LinearScale\"}},\"id\":\"1283\",\"subtype\":\"Figure\",\"type\":\"Plot\"},{\"attributes\":{\"source\":{\"id\":\"1087\",\"type\":\"ColumnDataSource\"}},\"id\":\"1091\",\"type\":\"CDSView\"},{\"attributes\":{\"active_drag\":\"auto\",\"active_inspect\":\"auto\",\"active_multi\":null,\"active_scroll\":\"auto\",\"active_tap\":\"auto\",\"tools\":[{\"id\":\"1304\",\"type\":\"PanTool\"},{\"id\":\"1305\",\"type\":\"WheelZoomTool\"},{\"id\":\"1306\",\"type\":\"BoxZoomTool\"},{\"id\":\"1307\",\"type\":\"SaveTool\"},{\"id\":\"1308\",\"type\":\"ResetTool\"},{\"id\":\"1309\",\"type\":\"HelpTool\"}]},\"id\":\"1310\",\"type\":\"Toolbar\"},{\"attributes\":{\"source\":{\"id\":\"1317\",\"type\":\"ColumnDataSource\"}},\"id\":\"1321\",\"type\":\"CDSView\"},{\"attributes\":{},\"id\":\"1100\",\"type\":\"Selection\"},{\"attributes\":{\"base\":60,\"mantissas\":[1,2,5,10,15,20,30],\"max_interval\":1800000.0,\"min_interval\":1000.0,\"num_minor_ticks\":0},\"id\":\"1355\",\"type\":\"AdaptiveTicker\"},{\"attributes\":{\"data_source\":{\"id\":\"1036\",\"type\":\"ColumnDataSource\"},\"glyph\":{\"id\":\"1037\",\"type\":\"Line\"},\"hover_glyph\":null,\"muted_glyph\":null,\"nonselection_glyph\":{\"id\":\"1038\",\"type\":\"Line\"},\"selection_glyph\":null,\"view\":{\"id\":\"1040\",\"type\":\"CDSView\"}},\"id\":\"1039\",\"type\":\"GlyphRenderer\"},{\"attributes\":{},\"id\":\"1351\",\"type\":\"UnionRenderers\"},{\"attributes\":{\"days\":[1,2,3,4,5,6,7,8,9,10,11,12,13,14,15,16,17,18,19,20,21,22,23,24,25,26,27,28,29,30,31]},\"id\":\"1357\",\"type\":\"DaysTicker\"},{\"attributes\":{\"text\":\"Microsoft Trading Volume\"},\"id\":\"1284\",\"type\":\"Title\"},{\"attributes\":{},\"id\":\"1023\",\"type\":\"PanTool\"},{\"attributes\":{},\"id\":\"1024\",\"type\":\"WheelZoomTool\"},{\"attributes\":{},\"id\":\"1125\",\"type\":\"Selection\"},{\"attributes\":{\"overlay\":{\"id\":\"1046\",\"type\":\"BoxAnnotation\"}},\"id\":\"1025\",\"type\":\"BoxZoomTool\"},{\"attributes\":{\"mantissas\":[1,2,5],\"max_interval\":500.0,\"num_minor_ticks\":0},\"id\":\"1354\",\"type\":\"AdaptiveTicker\"},{\"attributes\":{},\"id\":\"1026\",\"type\":\"SaveTool\"},{\"attributes\":{},\"id\":\"1124\",\"type\":\"UnionRenderers\"},{\"attributes\":{\"below\":[{\"id\":\"1013\",\"type\":\"DatetimeAxis\"}],\"center\":[{\"id\":\"1017\",\"type\":\"Grid\"},{\"id\":\"1022\",\"type\":\"Grid\"},{\"id\":\"1059\",\"type\":\"Legend\"}],\"left\":[{\"id\":\"1018\",\"type\":\"LinearAxis\"}],\"renderers\":[{\"id\":\"1039\",\"type\":\"GlyphRenderer\"},{\"id\":\"1064\",\"type\":\"GlyphRenderer\"},{\"id\":\"1090\",\"type\":\"GlyphRenderer\"}],\"title\":{\"id\":\"1003\",\"type\":\"Title\"},\"toolbar\":{\"id\":\"1029\",\"type\":\"Toolbar\"},\"x_range\":{\"id\":\"1005\",\"type\":\"DataRange1d\"},\"x_scale\":{\"id\":\"1009\",\"type\":\"LinearScale\"},\"y_range\":{\"id\":\"1007\",\"type\":\"DataRange1d\"},\"y_scale\":{\"id\":\"1011\",\"type\":\"LinearScale\"}},\"id\":\"1002\",\"subtype\":\"Figure\",\"type\":\"Plot\"},{\"attributes\":{},\"id\":\"1028\",\"type\":\"HelpTool\"},{\"attributes\":{},\"id\":\"1027\",\"type\":\"ResetTool\"},{\"attributes\":{},\"id\":\"1347\",\"type\":\"BasicTickFormatter\"},{\"attributes\":{\"data_source\":{\"id\":\"1317\",\"type\":\"ColumnDataSource\"},\"glyph\":{\"id\":\"1318\",\"type\":\"VBar\"},\"hover_glyph\":null,\"muted_glyph\":null,\"nonselection_glyph\":{\"id\":\"1319\",\"type\":\"VBar\"},\"selection_glyph\":null,\"view\":{\"id\":\"1321\",\"type\":\"CDSView\"}},\"id\":\"1320\",\"type\":\"GlyphRenderer\"},{\"attributes\":{\"line_color\":\"#000000\",\"x\":{\"field\":\"x\"},\"y\":{\"field\":\"y\"}},\"id\":\"1037\",\"type\":\"Line\"},{\"attributes\":{\"active_drag\":\"auto\",\"active_inspect\":\"auto\",\"active_multi\":null,\"active_scroll\":\"auto\",\"active_tap\":\"auto\",\"tools\":[{\"id\":\"1023\",\"type\":\"PanTool\"},{\"id\":\"1024\",\"type\":\"WheelZoomTool\"},{\"id\":\"1025\",\"type\":\"BoxZoomTool\"},{\"id\":\"1026\",\"type\":\"SaveTool\"},{\"id\":\"1027\",\"type\":\"ResetTool\"},{\"id\":\"1028\",\"type\":\"HelpTool\"}]},\"id\":\"1029\",\"type\":\"Toolbar\"},{\"attributes\":{\"callback\":null,\"data\":{\"x\":[1580860800000.0,1580947200000.0,1581033600000.0,1581292800000.0,1581379200000.0,1581465600000.0,1581552000000.0,1581638400000.0,1581984000000.0,1582070400000.0,1582156800000.0,1582243200000.0,1582502400000.0,1582588800000.0,1582675200000.0,1582761600000.0,1582848000000.0,1583107200000.0,1583193600000.0,1583280000000.0,1583366400000.0,1583452800000.0,1583712000000.0,1583798400000.0,1583884800000.0,1583971200000.0,1584057600000.0,1584316800000.0,1584403200000.0,1584489600000.0,1584576000000.0,1584662400000.0,1584921600000.0,1585008000000.0,1585094400000.0,1585180800000.0,1585267200000.0,1585526400000.0,1585612800000.0,1585699200000.0,1585785600000.0,1585872000000.0,1586131200000.0,1586217600000.0,1586304000000.0,1586390400000.0,1586736000000.0,1586822400000.0,1586908800000.0,1586995200000.0,1587081600000.0,1587340800000.0,1587427200000.0,1587513600000.0,1587600000000.0,1587686400000.0,1587945600000.0,1588032000000.0,1588118400000.0,1588204800000.0,1588291200000.0,1588550400000.0,1588636800000.0,1588723200000.0,1588809600000.0,1588896000000.0,1589155200000.0,1589241600000.0,1589328000000.0,1589414400000.0,1589500800000.0,1589760000000.0,1589846400000.0,1589932800000.0,1590019200000.0,1590105600000.0,1590451200000.0,1590537600000.0,1590624000000.0,1590710400000.0,1590969600000.0,1591056000000.0,1591142400000.0,1591228800000.0,1591315200000.0,1591574400000.0,1591660800000.0,1591747200000.0,1591833600000.0,1591920000000.0],\"y\":[184.2,183.8199,185.63,188.84,190.7,185.85,186.23,185.41,187.7,188.18,187.25,183.5,174.55,174.84,173.26,167.03,163.71,172.92,175.0,170.7,170.87,163.11,157.75,161.03,157.7,153.47,161.91,149.35,147.4998,146.0,150.15,147.1,140.57,149.6,154.33,156.66,154.89,160.6,164.78,157.75,155.48,157.38,166.5,170.0,166.67,167.37,165.57,173.75,173.57,177.28,180.0,178.75,173.6699,174.0,175.06,174.56,176.9,175.67,177.68,180.4,178.64,179.0,183.65,184.2,184.55,185.0,187.51,187.04,184.05,180.69,187.06,186.2,186.6,185.85,186.67,184.46,186.5,181.9877,184.1474,184.27,183.0,185.0,185.94,185.84,187.73,188.55,190.7,198.52,195.76,191.72]},\"selected\":{\"id\":\"1100\",\"type\":\"Selection\"},\"selection_policy\":{\"id\":\"1099\",\"type\":\"UnionRenderers\"}},\"id\":\"1061\",\"type\":\"ColumnDataSource\"},{\"attributes\":{\"source\":{\"id\":\"1036\",\"type\":\"ColumnDataSource\"}},\"id\":\"1040\",\"type\":\"CDSView\"},{\"attributes\":{\"callback\":null,\"data\":{\"x\":[1580860800000.0,1580947200000.0,1581033600000.0,1581292800000.0,1581379200000.0,1581465600000.0,1581552000000.0,1581638400000.0,1581984000000.0,1582070400000.0,1582156800000.0,1582243200000.0,1582502400000.0,1582588800000.0,1582675200000.0,1582761600000.0,1582848000000.0,1583107200000.0,1583193600000.0,1583280000000.0,1583366400000.0,1583452800000.0,1583712000000.0,1583798400000.0,1583884800000.0,1583971200000.0,1584057600000.0,1584316800000.0,1584403200000.0,1584489600000.0,1584576000000.0,1584662400000.0,1584921600000.0,1585008000000.0,1585094400000.0,1585180800000.0,1585267200000.0,1585526400000.0,1585612800000.0,1585699200000.0,1585785600000.0,1585872000000.0,1586131200000.0,1586217600000.0,1586304000000.0,1586390400000.0,1586736000000.0,1586822400000.0,1586908800000.0,1586995200000.0,1587081600000.0,1587340800000.0,1587427200000.0,1587513600000.0,1587600000000.0,1587686400000.0,1587945600000.0,1588032000000.0,1588118400000.0,1588204800000.0,1588291200000.0,1588550400000.0,1588636800000.0,1588723200000.0,1588809600000.0,1588896000000.0,1589155200000.0,1589241600000.0,1589328000000.0,1589414400000.0,1589500800000.0,1589760000000.0,1589846400000.0,1589932800000.0,1590019200000.0,1590105600000.0,1590451200000.0,1590537600000.0,1590624000000.0,1590710400000.0,1590969600000.0,1591056000000.0,1591142400000.0,1591228800000.0,1591315200000.0,1591574400000.0,1591660800000.0,1591747200000.0,1591833600000.0,1591920000000.0],\"y\":[179.9,183.63,183.89,188.7,184.44,184.71,183.71,185.35,187.23,187.28,184.42,178.59,170.89,168.07,170.17,158.18,162.01,172.79,164.51,170.55,166.27,161.57,150.62,160.92,153.63,139.06,158.83,135.42,146.57,140.4,142.71,137.35,135.98,148.34,146.92,156.11,149.7,160.23,157.71,152.11,155.26,153.83,165.27,163.49,165.13,165.14,165.51,173.7,171.88,177.04,178.6,175.06,167.82,173.52,171.42,174.55,174.05,169.81,177.43,179.21,174.57,178.84,180.76,182.54,183.6,184.68,186.74,182.51,179.75,180.53,183.16,184.91,183.63,185.66,183.43,183.51,181.57,181.81,181.4,183.25,182.83,184.91,185.36,182.92,187.2,188.36,189.8,196.84,186.27,187.74]},\"selected\":{\"id\":\"1072\",\"type\":\"Selection\"},\"selection_policy\":{\"id\":\"1071\",\"type\":\"UnionRenderers\"}},\"id\":\"1036\",\"type\":\"ColumnDataSource\"},{\"attributes\":{\"base\":60,\"mantissas\":[1,2,5,10,15,20,30],\"max_interval\":1800000.0,\"min_interval\":1000.0,\"num_minor_ticks\":0},\"id\":\"1048\",\"type\":\"AdaptiveTicker\"},{\"attributes\":{\"mantissas\":[1,2,5],\"max_interval\":500.0,\"num_minor_ticks\":0},\"id\":\"1047\",\"type\":\"AdaptiveTicker\"},{\"attributes\":{\"bottom_units\":\"screen\",\"fill_alpha\":{\"value\":0.5},\"fill_color\":{\"value\":\"lightgrey\"},\"left_units\":\"screen\",\"level\":\"overlay\",\"line_alpha\":{\"value\":1.0},\"line_color\":{\"value\":\"black\"},\"line_dash\":[4,4],\"line_width\":{\"value\":2},\"render_mode\":\"css\",\"right_units\":\"screen\",\"top_units\":\"screen\"},\"id\":\"1046\",\"type\":\"BoxAnnotation\"},{\"attributes\":{\"base\":24,\"mantissas\":[1,2,4,6,8,12],\"max_interval\":43200000.0,\"min_interval\":3600000.0,\"num_minor_ticks\":0},\"id\":\"1049\",\"type\":\"AdaptiveTicker\"},{\"attributes\":{\"days\":[1,2,3,4,5,6,7,8,9,10,11,12,13,14,15,16,17,18,19,20,21,22,23,24,25,26,27,28,29,30,31]},\"id\":\"1050\",\"type\":\"DaysTicker\"},{\"attributes\":{},\"id\":\"1352\",\"type\":\"Selection\"},{\"attributes\":{\"days\":[1,4,7,10,13,16,19,22,25,28]},\"id\":\"1051\",\"type\":\"DaysTicker\"},{\"attributes\":{},\"id\":\"1290\",\"type\":\"LinearScale\"},{\"attributes\":{\"days\":[1,8,15,22]},\"id\":\"1052\",\"type\":\"DaysTicker\"},{\"attributes\":{\"days\":[1,15]},\"id\":\"1053\",\"type\":\"DaysTicker\"},{\"attributes\":{\"months\":[0,1,2,3,4,5,6,7,8,9,10,11]},\"id\":\"1054\",\"type\":\"MonthsTicker\"},{\"attributes\":{\"months\":[0,2,4,6,8,10]},\"id\":\"1055\",\"type\":\"MonthsTicker\"},{\"attributes\":{},\"id\":\"1307\",\"type\":\"SaveTool\"},{\"attributes\":{\"months\":[0,4,8]},\"id\":\"1056\",\"type\":\"MonthsTicker\"},{\"attributes\":{\"callback\":null},\"id\":\"1288\",\"type\":\"DataRange1d\"},{\"attributes\":{\"months\":[0,6]},\"id\":\"1057\",\"type\":\"MonthsTicker\"},{\"attributes\":{\"days\":[1,8,15,22]},\"id\":\"1359\",\"type\":\"DaysTicker\"},{\"attributes\":{},\"id\":\"1309\",\"type\":\"HelpTool\"},{\"attributes\":{},\"id\":\"1058\",\"type\":\"YearsTicker\"},{\"attributes\":{},\"id\":\"1308\",\"type\":\"ResetTool\"},{\"attributes\":{\"items\":[{\"id\":\"1060\",\"type\":\"LegendItem\"},{\"id\":\"1086\",\"type\":\"LegendItem\"},{\"id\":\"1114\",\"type\":\"LegendItem\"}]},\"id\":\"1059\",\"type\":\"Legend\"},{\"attributes\":{\"bottom_units\":\"screen\",\"fill_alpha\":{\"value\":0.5},\"fill_color\":{\"value\":\"lightgrey\"},\"left_units\":\"screen\",\"level\":\"overlay\",\"line_alpha\":{\"value\":1.0},\"line_color\":{\"value\":\"black\"},\"line_dash\":[4,4],\"line_width\":{\"value\":2},\"render_mode\":\"css\",\"right_units\":\"screen\",\"top_units\":\"screen\"},\"id\":\"1353\",\"type\":\"BoxAnnotation\"},{\"attributes\":{\"overlay\":{\"id\":\"1353\",\"type\":\"BoxAnnotation\"}},\"id\":\"1306\",\"type\":\"BoxZoomTool\"},{\"attributes\":{\"text\":\"Microsoft Low, High, and Close Prices\"},\"id\":\"1003\",\"type\":\"Title\"},{\"attributes\":{},\"id\":\"1305\",\"type\":\"WheelZoomTool\"},{\"attributes\":{\"fill_color\":{\"value\":\"#000000\"},\"line_color\":{\"value\":\"#000000\"},\"top\":{\"field\":\"top\"},\"width\":{\"value\":1.0},\"x\":{\"field\":\"x\"}},\"id\":\"1318\",\"type\":\"VBar\"},{\"attributes\":{\"fill_alpha\":{\"value\":0.1},\"fill_color\":{\"value\":\"#1f77b4\"},\"line_alpha\":{\"value\":0.1},\"line_color\":{\"value\":\"#1f77b4\"},\"top\":{\"field\":\"top\"},\"width\":{\"value\":1.0},\"x\":{\"field\":\"x\"}},\"id\":\"1319\",\"type\":\"VBar\"},{\"attributes\":{\"months\":[0,6]},\"id\":\"1364\",\"type\":\"MonthsTicker\"},{\"attributes\":{\"label\":{\"value\":\"Close\"},\"renderers\":[{\"id\":\"1039\",\"type\":\"GlyphRenderer\"}]},\"id\":\"1060\",\"type\":\"LegendItem\"},{\"attributes\":{},\"id\":\"1304\",\"type\":\"PanTool\"},{\"attributes\":{},\"id\":\"1044\",\"type\":\"DatetimeTickFormatter\"},{\"attributes\":{},\"id\":\"1365\",\"type\":\"YearsTicker\"},{\"attributes\":{\"callback\":null},\"id\":\"1005\",\"type\":\"DataRange1d\"},{\"attributes\":{\"callback\":null,\"data\":{\"x\":[1580860800000.0,1580947200000.0,1581033600000.0,1581292800000.0,1581379200000.0,1581465600000.0,1581552000000.0,1581638400000.0,1581984000000.0,1582070400000.0,1582156800000.0,1582243200000.0,1582502400000.0,1582588800000.0,1582675200000.0,1582761600000.0,1582848000000.0,1583107200000.0,1583193600000.0,1583280000000.0,1583366400000.0,1583452800000.0,1583712000000.0,1583798400000.0,1583884800000.0,1583971200000.0,1584057600000.0,1584316800000.0,1584403200000.0,1584489600000.0,1584576000000.0,1584662400000.0,1584921600000.0,1585008000000.0,1585094400000.0,1585180800000.0,1585267200000.0,1585526400000.0,1585612800000.0,1585699200000.0,1585785600000.0,1585872000000.0,1586131200000.0,1586217600000.0,1586304000000.0,1586390400000.0,1586736000000.0,1586822400000.0,1586908800000.0,1586995200000.0,1587081600000.0,1587340800000.0,1587427200000.0,1587513600000.0,1587600000000.0,1587686400000.0,1587945600000.0,1588032000000.0,1588118400000.0,1588204800000.0,1588291200000.0,1588550400000.0,1588636800000.0,1588723200000.0,1588809600000.0,1588896000000.0,1589155200000.0,1589241600000.0,1589328000000.0,1589414400000.0,1589500800000.0,1589760000000.0,1589846400000.0,1589932800000.0,1590019200000.0,1590105600000.0,1590451200000.0,1590537600000.0,1590624000000.0,1590710400000.0,1590969600000.0,1591056000000.0,1591142400000.0,1591228800000.0,1591315200000.0,1591574400000.0,1591660800000.0,1591747200000.0,1591833600000.0,1591920000000.0],\"y\":[178.4101,180.05900000000003,182.48,183.25,183.5,181.85,182.872,182.65,185.5,186.47,181.1,177.25,163.23,167.6462,168.21,157.98,152.0,162.31,162.26,165.62,165.69,156.0,150.0,152.58,151.15,138.58,140.73,135.0,135.0,135.02,139.0,135.86,132.52,141.27,144.44,148.37,149.2,150.01,156.56,150.82,150.36,152.19,157.58,163.26,163.5,163.33,162.3,168.0,169.24,172.9,175.87,174.99,166.1102,170.82,170.91,170.71,173.3,169.39,171.88,176.23,174.01,173.8,179.9,181.6306,182.58,183.36,182.85,182.3,176.54,175.68,177.0,183.96,183.49,183.94,183.29,182.54,181.1,176.6,180.38,180.41,181.46,181.35,183.58,182.3,182.01,184.44,187.2605,191.01,186.07,185.18]},\"selected\":{\"id\":\"1125\",\"type\":\"Selection\"},\"selection_policy\":{\"id\":\"1124\",\"type\":\"UnionRenderers\"}},\"id\":\"1087\",\"type\":\"ColumnDataSource\"},{\"attributes\":{\"line_color\":\"#2785db\",\"x\":{\"field\":\"x\"},\"y\":{\"field\":\"y\"}},\"id\":\"1062\",\"type\":\"Line\"},{\"attributes\":{},\"id\":\"1292\",\"type\":\"LinearScale\"},{\"attributes\":{\"days\":[1,15]},\"id\":\"1360\",\"type\":\"DaysTicker\"},{\"attributes\":{\"data_source\":{\"id\":\"1061\",\"type\":\"ColumnDataSource\"},\"glyph\":{\"id\":\"1062\",\"type\":\"Line\"},\"hover_glyph\":null,\"muted_glyph\":null,\"nonselection_glyph\":{\"id\":\"1063\",\"type\":\"Line\"},\"selection_glyph\":null,\"view\":{\"id\":\"1065\",\"type\":\"CDSView\"}},\"id\":\"1064\",\"type\":\"GlyphRenderer\"},{\"attributes\":{\"line_alpha\":0.1,\"line_color\":\"#1f77b4\",\"x\":{\"field\":\"x\"},\"y\":{\"field\":\"y\"}},\"id\":\"1038\",\"type\":\"Line\"},{\"attributes\":{\"dimension\":1,\"ticker\":{\"id\":\"1300\",\"type\":\"BasicTicker\"}},\"id\":\"1303\",\"type\":\"Grid\"},{\"attributes\":{\"line_alpha\":0.1,\"line_color\":\"#1f77b4\",\"x\":{\"field\":\"x\"},\"y\":{\"field\":\"y\"}},\"id\":\"1063\",\"type\":\"Line\"},{\"attributes\":{},\"id\":\"1349\",\"type\":\"DatetimeTickFormatter\"},{\"attributes\":{},\"id\":\"1300\",\"type\":\"BasicTicker\"},{\"attributes\":{\"axis_label\":\"Volume\",\"formatter\":{\"id\":\"1347\",\"type\":\"BasicTickFormatter\"},\"ticker\":{\"id\":\"1300\",\"type\":\"BasicTicker\"}},\"id\":\"1299\",\"type\":\"LinearAxis\"},{\"attributes\":{\"days\":[1,4,7,10,13,16,19,22,25,28]},\"id\":\"1358\",\"type\":\"DaysTicker\"},{\"attributes\":{\"label\":{\"value\":\"High\"},\"renderers\":[{\"id\":\"1064\",\"type\":\"GlyphRenderer\"}]},\"id\":\"1086\",\"type\":\"LegendItem\"},{\"attributes\":{\"num_minor_ticks\":5,\"tickers\":[{\"id\":\"1354\",\"type\":\"AdaptiveTicker\"},{\"id\":\"1355\",\"type\":\"AdaptiveTicker\"},{\"id\":\"1356\",\"type\":\"AdaptiveTicker\"},{\"id\":\"1357\",\"type\":\"DaysTicker\"},{\"id\":\"1358\",\"type\":\"DaysTicker\"},{\"id\":\"1359\",\"type\":\"DaysTicker\"},{\"id\":\"1360\",\"type\":\"DaysTicker\"},{\"id\":\"1361\",\"type\":\"MonthsTicker\"},{\"id\":\"1362\",\"type\":\"MonthsTicker\"},{\"id\":\"1363\",\"type\":\"MonthsTicker\"},{\"id\":\"1364\",\"type\":\"MonthsTicker\"},{\"id\":\"1365\",\"type\":\"YearsTicker\"}]},\"id\":\"1295\",\"type\":\"DatetimeTicker\"},{\"attributes\":{},\"id\":\"1071\",\"type\":\"UnionRenderers\"},{\"attributes\":{\"source\":{\"id\":\"1061\",\"type\":\"ColumnDataSource\"}},\"id\":\"1065\",\"type\":\"CDSView\"},{\"attributes\":{\"axis_label\":\"Date\",\"formatter\":{\"id\":\"1349\",\"type\":\"DatetimeTickFormatter\"},\"ticker\":{\"id\":\"1295\",\"type\":\"DatetimeTicker\"}},\"id\":\"1294\",\"type\":\"DatetimeAxis\"},{\"attributes\":{},\"id\":\"1072\",\"type\":\"Selection\"},{\"attributes\":{\"months\":[0,1,2,3,4,5,6,7,8,9,10,11]},\"id\":\"1361\",\"type\":\"MonthsTicker\"},{\"attributes\":{\"ticker\":{\"id\":\"1295\",\"type\":\"DatetimeTicker\"}},\"id\":\"1298\",\"type\":\"Grid\"}],\"root_ids\":[\"1839\"]},\"title\":\"Bokeh Application\",\"version\":\"1.4.0\"}};\n",
       "  var render_items = [{\"docid\":\"efebec9a-2b36-4786-ab49-dd0ddc724d71\",\"roots\":{\"1839\":\"cd478868-5aea-4a48-8348-5cd04836ae73\"}}];\n",
       "  root.Bokeh.embed.embed_items_notebook(docs_json, render_items);\n",
       "\n",
       "  }\n",
       "  if (root.Bokeh !== undefined) {\n",
       "    embed_document(root);\n",
       "  } else {\n",
       "    var attempts = 0;\n",
       "    var timer = setInterval(function(root) {\n",
       "      if (root.Bokeh !== undefined) {\n",
       "        clearInterval(timer);\n",
       "        embed_document(root);\n",
       "      } else {\n",
       "        attempts++;\n",
       "        if (attempts > 100) {\n",
       "          clearInterval(timer);\n",
       "          console.log(\"Bokeh: ERROR: Unable to run BokehJS code because BokehJS library is missing\");\n",
       "        }\n",
       "      }\n",
       "    }, 10, root)\n",
       "  }\n",
       "})(window);"
      ],
      "application/vnd.bokehjs_exec.v0+json": ""
     },
     "metadata": {
      "application/vnd.bokehjs_exec.v0+json": {
       "id": "1839"
      }
     },
     "output_type": "display_data"
    }
   ],
   "source": [
    "from bokeh.layouts import column\n",
    "show(column(msft, msft_volume))"
   ]
  },
  {
   "cell_type": "markdown",
   "metadata": {},
   "source": [
    "## 4B: Bokeh Interactivity\n",
    "\n",
    "Bokeh can be quite interactive too. In the following chart, we'll explore making our charts more informative and engaging. First lets create a basic line chart, and then we will explore making it interactive."
   ]
  },
  {
   "cell_type": "code",
   "execution_count": 7,
   "metadata": {},
   "outputs": [],
   "source": [
    "msft_df = pd.read_csv('MSFT.csv')\n",
    "msft_df = msft_df[-90:]\n",
    "amzn_df = pd.read_csv('AMZN.csv')\n",
    "amzn_df = amzn_df[-90:]\n",
    "aapl_df = pd.read_csv('AAPL.csv')\n",
    "aapl_df = aapl_df[-90:]\n",
    "goog_df = pd.read_csv('GOOG.csv')\n",
    "goog_df = goog_df[-90:]\n",
    "\n",
    "dates = pd.to_datetime(msft_df['date']).tolist()\n",
    "msft_close = msft_df['close'].tolist()\n",
    "amzn_close = amzn_df['close'].tolist()\n",
    "goog_close = goog_df['close'].tolist()\n",
    "aapl_close = aapl_df['close'].tolist()"
   ]
  },
  {
   "cell_type": "markdown",
   "metadata": {},
   "source": [
    "Different stocks have different prices ranges, so it might not be useful to compare prices directly. Instead, it is more useful to see how much a stock has increased or decreased, as a percentage of its original price. For example, if want to view the growth since the start of the period, we can do the following:"
   ]
  },
  {
   "cell_type": "code",
   "execution_count": 8,
   "metadata": {},
   "outputs": [],
   "source": [
    "first = msft_close[0] # Get the value of the first item in the list\n",
    "msft_close = [((i-first)/first) * 100 for i in msft_close] # Calculate the percentage increase/decrease in price\n",
    "first = amzn_close[0]\n",
    "amzn_close = [((i-first)/first) * 100 for i in amzn_close]\n",
    "first = aapl_close[0]\n",
    "aapl_close = [((i-first)/first) * 100 for i in aapl_close]\n",
    "first = goog_close[0]\n",
    "goog_close = [((i-first)/first) * 100 for i in goog_close]\n",
    "\n",
    "stocks = {'MSFT': msft_close,\n",
    "          'AAPL': aapl_close,\n",
    "          'AMZN': amzn_close,\n",
    "          'GOOG': goog_close}\n",
    "\n",
    "colors = ['#E53D00', '#046865', '#F8C630', '#202C59']"
   ]
  },
  {
   "cell_type": "markdown",
   "metadata": {},
   "source": [
    "After creating a `figure`, we use `ColumnDataSource` to pass our values into the chart. This step will be helpful later."
   ]
  },
  {
   "cell_type": "code",
   "execution_count": 9,
   "metadata": {},
   "outputs": [
    {
     "data": {
      "text/html": [
       "\n",
       "\n",
       "\n",
       "\n",
       "\n",
       "\n",
       "  <div class=\"bk-root\" id=\"6f034176-1099-423c-a6c6-ab350c37510c\" data-root-id=\"2236\"></div>\n"
      ]
     },
     "metadata": {},
     "output_type": "display_data"
    },
    {
     "data": {
      "application/javascript": [
       "(function(root) {\n",
       "  function embed_document(root) {\n",
       "    \n",
       "  var docs_json = {\"21f43f96-190c-49e1-98d2-1f18a31ef1b2\":{\"roots\":{\"references\":[{\"attributes\":{\"below\":[{\"id\":\"2247\",\"type\":\"DatetimeAxis\"}],\"center\":[{\"id\":\"2251\",\"type\":\"Grid\"},{\"id\":\"2256\",\"type\":\"Grid\"},{\"id\":\"2294\",\"type\":\"Legend\"}],\"left\":[{\"id\":\"2252\",\"type\":\"LinearAxis\"}],\"renderers\":[{\"id\":\"2274\",\"type\":\"GlyphRenderer\"},{\"id\":\"2300\",\"type\":\"GlyphRenderer\"},{\"id\":\"2327\",\"type\":\"GlyphRenderer\"},{\"id\":\"2356\",\"type\":\"GlyphRenderer\"}],\"title\":{\"id\":\"2237\",\"type\":\"Title\"},\"toolbar\":{\"id\":\"2263\",\"type\":\"Toolbar\"},\"x_range\":{\"id\":\"2239\",\"type\":\"DataRange1d\"},\"x_scale\":{\"id\":\"2243\",\"type\":\"LinearScale\"},\"y_range\":{\"id\":\"2241\",\"type\":\"DataRange1d\"},\"y_scale\":{\"id\":\"2245\",\"type\":\"LinearScale\"}},\"id\":\"2236\",\"subtype\":\"Figure\",\"type\":\"Plot\"},{\"attributes\":{},\"id\":\"2257\",\"type\":\"PanTool\"},{\"attributes\":{\"line_color\":\"#046865\",\"x\":{\"field\":\"Date\"},\"y\":{\"field\":\"Close\"}},\"id\":\"2298\",\"type\":\"Line\"},{\"attributes\":{\"callback\":null,\"data\":{\"Close\":[0.0,0.5078755018702235,1.9319858618441523,4.610097702304557,5.438091643094918,5.889100776029851,5.392500502483002,4.657159524871683,5.676832347159387,6.390113095442353,5.55084392632864,2.7501752562663264,-1.4991151396902709,-3.2908959884698477,-2.955090275360684,-7.626466392466185,-7.653428894978596,-4.212033119757624,-6.416095143317952,-3.1394157470819204,-5.678793256433004,-6.803374724859916,-11.729178820218936,-7.257815449023711,-10.736468500443657,-17.8079975684725,-12.49442366425311,-17.19325251118943,-11.37474446901028,-10.288400731419154,-7.791672998769521,-9.499624976101417,-6.718075171457002,-4.8909979557520815,-7.550971385431423,-4.136538112722864,-6.851907229382265,-3.721805801350079,-4.419399275444017,-6.479334467392523,-5.93371146200493,-6.5337496997357665,-2.0726811022271017,-1.3858726291381305,0.15344115066156713,0.14167569501978558,6.323932407457339,11.934584066631711,13.128777814272476,18.056052591586727,16.42898812179208,17.34130116134853,14.130802453097502,15.864736478304986,17.62759391529852,18.155568737223447,16.478010853632835,13.44252329805331,16.316726065876754,21.28223857402678,12.067925897238553,13.536156715869144,13.624887860500928,15.26518846789258,16.06671013348891,16.654982915577964,18.095761004377735,15.544127812066453,16.081907180359543,17.107952957786527,18.133998735213535,18.941893355949173,20.072847779515364,22.45584277429445,19.945878904047802,19.46251476809798,18.726193335849846,18.163902601636376,17.70848142283577,19.731649565903712,21.137131287778146,21.204292430399978,21.497938594126108,20.625333967360667,21.723443160593572,23.736316529974953,27.50126233534491,29.78523141180565,25.39818713937654,24.76383298935717],\"Date\":[1580860800000.0,1580947200000.0,1581033600000.0,1581292800000.0,1581379200000.0,1581465600000.0,1581552000000.0,1581638400000.0,1581984000000.0,1582070400000.0,1582156800000.0,1582243200000.0,1582502400000.0,1582588800000.0,1582675200000.0,1582761600000.0,1582848000000.0,1583107200000.0,1583193600000.0,1583280000000.0,1583366400000.0,1583452800000.0,1583712000000.0,1583798400000.0,1583884800000.0,1583971200000.0,1584057600000.0,1584316800000.0,1584403200000.0,1584489600000.0,1584576000000.0,1584662400000.0,1584921600000.0,1585008000000.0,1585094400000.0,1585180800000.0,1585267200000.0,1585526400000.0,1585612800000.0,1585699200000.0,1585785600000.0,1585872000000.0,1586131200000.0,1586217600000.0,1586304000000.0,1586390400000.0,1586736000000.0,1586822400000.0,1586908800000.0,1586995200000.0,1587081600000.0,1587340800000.0,1587427200000.0,1587513600000.0,1587600000000.0,1587686400000.0,1587945600000.0,1588032000000.0,1588118400000.0,1588204800000.0,1588291200000.0,1588550400000.0,1588636800000.0,1588723200000.0,1588809600000.0,1588896000000.0,1589155200000.0,1589241600000.0,1589328000000.0,1589414400000.0,1589500800000.0,1589760000000.0,1589846400000.0,1589932800000.0,1590019200000.0,1590105600000.0,1590451200000.0,1590537600000.0,1590624000000.0,1590710400000.0,1590969600000.0,1591056000000.0,1591142400000.0,1591228800000.0,1591315200000.0,1591574400000.0,1591660800000.0,1591747200000.0,1591833600000.0,1591920000000.0],\"Symbol\":[\"AMZN\",\"AMZN\",\"AMZN\",\"AMZN\",\"AMZN\",\"AMZN\",\"AMZN\",\"AMZN\",\"AMZN\",\"AMZN\",\"AMZN\",\"AMZN\",\"AMZN\",\"AMZN\",\"AMZN\",\"AMZN\",\"AMZN\",\"AMZN\",\"AMZN\",\"AMZN\",\"AMZN\",\"AMZN\",\"AMZN\",\"AMZN\",\"AMZN\",\"AMZN\",\"AMZN\",\"AMZN\",\"AMZN\",\"AMZN\",\"AMZN\",\"AMZN\",\"AMZN\",\"AMZN\",\"AMZN\",\"AMZN\",\"AMZN\",\"AMZN\",\"AMZN\",\"AMZN\",\"AMZN\",\"AMZN\",\"AMZN\",\"AMZN\",\"AMZN\",\"AMZN\",\"AMZN\",\"AMZN\",\"AMZN\",\"AMZN\",\"AMZN\",\"AMZN\",\"AMZN\",\"AMZN\",\"AMZN\",\"AMZN\",\"AMZN\",\"AMZN\",\"AMZN\",\"AMZN\",\"AMZN\",\"AMZN\",\"AMZN\",\"AMZN\",\"AMZN\",\"AMZN\",\"AMZN\",\"AMZN\",\"AMZN\",\"AMZN\",\"AMZN\",\"AMZN\",\"AMZN\",\"AMZN\",\"AMZN\",\"AMZN\",\"AMZN\",\"AMZN\",\"AMZN\",\"AMZN\",\"AMZN\",\"AMZN\",\"AMZN\",\"AMZN\",\"AMZN\",\"AMZN\",\"AMZN\",\"AMZN\",\"AMZN\",\"AMZN\"]},\"selected\":{\"id\":\"2368\",\"type\":\"Selection\"},\"selection_policy\":{\"id\":\"2367\",\"type\":\"UnionRenderers\"}},\"id\":\"2323\",\"type\":\"ColumnDataSource\"},{\"attributes\":{},\"id\":\"2258\",\"type\":\"WheelZoomTool\"},{\"attributes\":{\"ticker\":{\"id\":\"2248\",\"type\":\"DatetimeTicker\"}},\"id\":\"2251\",\"type\":\"Grid\"},{\"attributes\":{\"overlay\":{\"id\":\"2281\",\"type\":\"BoxAnnotation\"}},\"id\":\"2259\",\"type\":\"BoxZoomTool\"},{\"attributes\":{},\"id\":\"2245\",\"type\":\"LinearScale\"},{\"attributes\":{},\"id\":\"2260\",\"type\":\"SaveTool\"},{\"attributes\":{\"base\":60,\"mantissas\":[1,2,5,10,15,20,30],\"max_interval\":1800000.0,\"min_interval\":1000.0,\"num_minor_ticks\":0},\"id\":\"2283\",\"type\":\"AdaptiveTicker\"},{\"attributes\":{\"axis_label\":\"Date\",\"formatter\":{\"id\":\"2279\",\"type\":\"DatetimeTickFormatter\"},\"ticker\":{\"id\":\"2248\",\"type\":\"DatetimeTicker\"}},\"id\":\"2247\",\"type\":\"DatetimeAxis\"},{\"attributes\":{},\"id\":\"2308\",\"type\":\"Selection\"},{\"attributes\":{\"line_color\":\"#202C59\",\"x\":{\"field\":\"Date\"},\"y\":{\"field\":\"Close\"}},\"id\":\"2354\",\"type\":\"Line\"},{\"attributes\":{},\"id\":\"2262\",\"type\":\"HelpTool\"},{\"attributes\":{},\"id\":\"2277\",\"type\":\"BasicTickFormatter\"},{\"attributes\":{},\"id\":\"2253\",\"type\":\"BasicTicker\"},{\"attributes\":{\"data_source\":{\"id\":\"2352\",\"type\":\"ColumnDataSource\"},\"glyph\":{\"id\":\"2354\",\"type\":\"Line\"},\"hover_glyph\":null,\"muted_glyph\":null,\"nonselection_glyph\":{\"id\":\"2355\",\"type\":\"Line\"},\"selection_glyph\":null,\"view\":{\"id\":\"2357\",\"type\":\"CDSView\"}},\"id\":\"2356\",\"type\":\"GlyphRenderer\"},{\"attributes\":{\"callback\":null},\"id\":\"2239\",\"type\":\"DataRange1d\"},{\"attributes\":{\"items\":[{\"id\":\"2295\",\"type\":\"LegendItem\"},{\"id\":\"2322\",\"type\":\"LegendItem\"},{\"id\":\"2351\",\"type\":\"LegendItem\"},{\"id\":\"2382\",\"type\":\"LegendItem\"}],\"location\":\"top_left\"},\"id\":\"2294\",\"type\":\"Legend\"},{\"attributes\":{\"line_color\":\"#F8C630\",\"x\":{\"field\":\"Date\"},\"y\":{\"field\":\"Close\"}},\"id\":\"2325\",\"type\":\"Line\"},{\"attributes\":{\"data_source\":{\"id\":\"2323\",\"type\":\"ColumnDataSource\"},\"glyph\":{\"id\":\"2325\",\"type\":\"Line\"},\"hover_glyph\":null,\"muted_glyph\":null,\"nonselection_glyph\":{\"id\":\"2326\",\"type\":\"Line\"},\"selection_glyph\":null,\"view\":{\"id\":\"2328\",\"type\":\"CDSView\"}},\"id\":\"2327\",\"type\":\"GlyphRenderer\"},{\"attributes\":{},\"id\":\"2261\",\"type\":\"ResetTool\"},{\"attributes\":{\"months\":[0,6]},\"id\":\"2292\",\"type\":\"MonthsTicker\"},{\"attributes\":{\"source\":{\"id\":\"2296\",\"type\":\"ColumnDataSource\"}},\"id\":\"2301\",\"type\":\"CDSView\"},{\"attributes\":{\"num_minor_ticks\":5,\"tickers\":[{\"id\":\"2282\",\"type\":\"AdaptiveTicker\"},{\"id\":\"2283\",\"type\":\"AdaptiveTicker\"},{\"id\":\"2284\",\"type\":\"AdaptiveTicker\"},{\"id\":\"2285\",\"type\":\"DaysTicker\"},{\"id\":\"2286\",\"type\":\"DaysTicker\"},{\"id\":\"2287\",\"type\":\"DaysTicker\"},{\"id\":\"2288\",\"type\":\"DaysTicker\"},{\"id\":\"2289\",\"type\":\"MonthsTicker\"},{\"id\":\"2290\",\"type\":\"MonthsTicker\"},{\"id\":\"2291\",\"type\":\"MonthsTicker\"},{\"id\":\"2292\",\"type\":\"MonthsTicker\"},{\"id\":\"2293\",\"type\":\"YearsTicker\"}]},\"id\":\"2248\",\"type\":\"DatetimeTicker\"},{\"attributes\":{\"base\":24,\"mantissas\":[1,2,4,6,8,12],\"max_interval\":43200000.0,\"min_interval\":3600000.0,\"num_minor_ticks\":0},\"id\":\"2284\",\"type\":\"AdaptiveTicker\"},{\"attributes\":{\"label\":{\"value\":\"MSFT\"},\"renderers\":[{\"id\":\"2274\",\"type\":\"GlyphRenderer\"}]},\"id\":\"2295\",\"type\":\"LegendItem\"},{\"attributes\":{},\"id\":\"2279\",\"type\":\"DatetimeTickFormatter\"},{\"attributes\":{\"dimension\":1,\"ticker\":{\"id\":\"2253\",\"type\":\"BasicTicker\"}},\"id\":\"2256\",\"type\":\"Grid\"},{\"attributes\":{\"bottom_units\":\"screen\",\"fill_alpha\":{\"value\":0.5},\"fill_color\":{\"value\":\"lightgrey\"},\"left_units\":\"screen\",\"level\":\"overlay\",\"line_alpha\":{\"value\":1.0},\"line_color\":{\"value\":\"black\"},\"line_dash\":[4,4],\"line_width\":{\"value\":2},\"render_mode\":\"css\",\"right_units\":\"screen\",\"top_units\":\"screen\"},\"id\":\"2281\",\"type\":\"BoxAnnotation\"},{\"attributes\":{\"mantissas\":[1,2,5],\"max_interval\":500.0,\"num_minor_ticks\":0},\"id\":\"2282\",\"type\":\"AdaptiveTicker\"},{\"attributes\":{\"axis_label\":\"Percentage Growth\",\"formatter\":{\"id\":\"2277\",\"type\":\"BasicTickFormatter\"},\"ticker\":{\"id\":\"2253\",\"type\":\"BasicTicker\"}},\"id\":\"2252\",\"type\":\"LinearAxis\"},{\"attributes\":{\"line_alpha\":0.1,\"line_color\":\"#1f77b4\",\"x\":{\"field\":\"Date\"},\"y\":{\"field\":\"Close\"}},\"id\":\"2355\",\"type\":\"Line\"},{\"attributes\":{\"line_alpha\":0.1,\"line_color\":\"#1f77b4\",\"x\":{\"field\":\"Date\"},\"y\":{\"field\":\"Close\"}},\"id\":\"2326\",\"type\":\"Line\"},{\"attributes\":{\"days\":[1,2,3,4,5,6,7,8,9,10,11,12,13,14,15,16,17,18,19,20,21,22,23,24,25,26,27,28,29,30,31]},\"id\":\"2285\",\"type\":\"DaysTicker\"},{\"attributes\":{},\"id\":\"2307\",\"type\":\"UnionRenderers\"},{\"attributes\":{\"days\":[1,4,7,10,13,16,19,22,25,28]},\"id\":\"2286\",\"type\":\"DaysTicker\"},{\"attributes\":{\"label\":{\"value\":\"GOOG\"},\"renderers\":[{\"id\":\"2356\",\"type\":\"GlyphRenderer\"}]},\"id\":\"2382\",\"type\":\"LegendItem\"},{\"attributes\":{},\"id\":\"2526\",\"type\":\"UnionRenderers\"},{\"attributes\":{\"days\":[1,8,15,22]},\"id\":\"2287\",\"type\":\"DaysTicker\"},{\"attributes\":{},\"id\":\"2293\",\"type\":\"YearsTicker\"},{\"attributes\":{\"active_drag\":\"auto\",\"active_inspect\":\"auto\",\"active_multi\":null,\"active_scroll\":\"auto\",\"active_tap\":\"auto\",\"tools\":[{\"id\":\"2257\",\"type\":\"PanTool\"},{\"id\":\"2258\",\"type\":\"WheelZoomTool\"},{\"id\":\"2259\",\"type\":\"BoxZoomTool\"},{\"id\":\"2260\",\"type\":\"SaveTool\"},{\"id\":\"2261\",\"type\":\"ResetTool\"},{\"id\":\"2262\",\"type\":\"HelpTool\"}]},\"id\":\"2263\",\"type\":\"Toolbar\"},{\"attributes\":{\"source\":{\"id\":\"2270\",\"type\":\"ColumnDataSource\"}},\"id\":\"2275\",\"type\":\"CDSView\"},{\"attributes\":{\"source\":{\"id\":\"2352\",\"type\":\"ColumnDataSource\"}},\"id\":\"2357\",\"type\":\"CDSView\"},{\"attributes\":{},\"id\":\"2336\",\"type\":\"UnionRenderers\"},{\"attributes\":{\"source\":{\"id\":\"2323\",\"type\":\"ColumnDataSource\"}},\"id\":\"2328\",\"type\":\"CDSView\"},{\"attributes\":{},\"id\":\"2368\",\"type\":\"Selection\"},{\"attributes\":{\"days\":[1,15]},\"id\":\"2288\",\"type\":\"DaysTicker\"},{\"attributes\":{\"callback\":null},\"id\":\"2241\",\"type\":\"DataRange1d\"},{\"attributes\":{\"line_alpha\":0.1,\"line_color\":\"#1f77b4\",\"x\":{\"field\":\"Date\"},\"y\":{\"field\":\"Close\"}},\"id\":\"2299\",\"type\":\"Line\"},{\"attributes\":{},\"id\":\"2337\",\"type\":\"Selection\"},{\"attributes\":{},\"id\":\"2243\",\"type\":\"LinearScale\"},{\"attributes\":{\"label\":{\"value\":\"AMZN\"},\"renderers\":[{\"id\":\"2327\",\"type\":\"GlyphRenderer\"}]},\"id\":\"2351\",\"type\":\"LegendItem\"},{\"attributes\":{},\"id\":\"2527\",\"type\":\"Selection\"},{\"attributes\":{\"data_source\":{\"id\":\"2296\",\"type\":\"ColumnDataSource\"},\"glyph\":{\"id\":\"2298\",\"type\":\"Line\"},\"hover_glyph\":null,\"muted_glyph\":null,\"nonselection_glyph\":{\"id\":\"2299\",\"type\":\"Line\"},\"selection_glyph\":null,\"view\":{\"id\":\"2301\",\"type\":\"CDSView\"}},\"id\":\"2300\",\"type\":\"GlyphRenderer\"},{\"attributes\":{\"text\":\"Tech Stocks\"},\"id\":\"2237\",\"type\":\"Title\"},{\"attributes\":{\"months\":[0,1,2,3,4,5,6,7,8,9,10,11]},\"id\":\"2289\",\"type\":\"MonthsTicker\"},{\"attributes\":{},\"id\":\"2367\",\"type\":\"UnionRenderers\"},{\"attributes\":{\"months\":[0,4,8]},\"id\":\"2291\",\"type\":\"MonthsTicker\"},{\"attributes\":{\"data_source\":{\"id\":\"2270\",\"type\":\"ColumnDataSource\"},\"glyph\":{\"id\":\"2272\",\"type\":\"Line\"},\"hover_glyph\":null,\"muted_glyph\":null,\"nonselection_glyph\":{\"id\":\"2273\",\"type\":\"Line\"},\"selection_glyph\":null,\"view\":{\"id\":\"2275\",\"type\":\"CDSView\"}},\"id\":\"2274\",\"type\":\"GlyphRenderer\"},{\"attributes\":{\"line_color\":\"#E53D00\",\"x\":{\"field\":\"Date\"},\"y\":{\"field\":\"Close\"}},\"id\":\"2272\",\"type\":\"Line\"},{\"attributes\":{\"callback\":null,\"data\":{\"Close\":[0.0,1.1696997977912555,-0.4417483278892568,0.0311090371753065,-0.5724062840255016,1.7887696375797169,1.0639290713952454,1.08881630113548,-0.7621714107948324,0.6750661067040026,-0.3577539275159363,-2.6131591227251447,-7.23907295069217,-10.38108570539742,-8.95940270648624,-14.910561518121016,-14.960335977601485,-7.043086016487786,-9.995333644423704,-5.8205008554985165,-8.875408306112918,-10.085549852232079,-17.197075750505515,-11.233473324000627,-14.31637890807279,-22.778037019754237,-13.526209363820177,-24.65080105770726,-21.33768859853787,-23.26333799968891,-23.851298802302065,-28.685643179343597,-30.200653289780675,-23.19800902162078,-23.621091927204844,-19.601804324156166,-22.9304713019132,-20.731062373619533,-20.892829366931092,-25.055218540986157,-23.804635246539117,-24.89967335510966,-18.34811012599159,-19.293824856120697,-17.22818478768082,-16.630891273915065,-14.99455591849432,-10.701508788302995,-11.516565562295842,-10.813501322134078,-12.023642868253221,-13.8497433504433,-16.512676932648933,-14.107948358998279,-14.440815056773998,-11.970757505055207,-11.908539430704613,-13.336444237050864,-10.489967335510956,-8.601648778970285,-10.073106237361952,-8.800746616892196,-7.431948981179029,-6.476901539897338,-5.509410483745522,-3.521543008243893,-2.0034219940892823,-3.1233473324000514,-4.293047130191324,-3.705086327578152,-4.274381707886144,-2.0189765126769355,-2.585160989267383,-0.690620625291638,-1.4310157100637628,-0.7963913516876661,-1.4683465546741237,-1.039041841654993,-0.9954891896095781,-1.0919272048530069,0.12443614870120831,0.5879608026131549,1.1417016643334938,0.2706486234251064,3.1264582361175957,3.7361953647534585,7.011976979312497,9.765126769326486,4.495255871830763,5.397417949914458],\"Date\":[1580860800000.0,1580947200000.0,1581033600000.0,1581292800000.0,1581379200000.0,1581465600000.0,1581552000000.0,1581638400000.0,1581984000000.0,1582070400000.0,1582156800000.0,1582243200000.0,1582502400000.0,1582588800000.0,1582675200000.0,1582761600000.0,1582848000000.0,1583107200000.0,1583193600000.0,1583280000000.0,1583366400000.0,1583452800000.0,1583712000000.0,1583798400000.0,1583884800000.0,1583971200000.0,1584057600000.0,1584316800000.0,1584403200000.0,1584489600000.0,1584576000000.0,1584662400000.0,1584921600000.0,1585008000000.0,1585094400000.0,1585180800000.0,1585267200000.0,1585526400000.0,1585612800000.0,1585699200000.0,1585785600000.0,1585872000000.0,1586131200000.0,1586217600000.0,1586304000000.0,1586390400000.0,1586736000000.0,1586822400000.0,1586908800000.0,1586995200000.0,1587081600000.0,1587340800000.0,1587427200000.0,1587513600000.0,1587600000000.0,1587686400000.0,1587945600000.0,1588032000000.0,1588118400000.0,1588204800000.0,1588291200000.0,1588550400000.0,1588636800000.0,1588723200000.0,1588809600000.0,1588896000000.0,1589155200000.0,1589241600000.0,1589328000000.0,1589414400000.0,1589500800000.0,1589760000000.0,1589846400000.0,1589932800000.0,1590019200000.0,1590105600000.0,1590451200000.0,1590537600000.0,1590624000000.0,1590710400000.0,1590969600000.0,1591056000000.0,1591142400000.0,1591228800000.0,1591315200000.0,1591574400000.0,1591660800000.0,1591747200000.0,1591833600000.0,1591920000000.0],\"Symbol\":[\"AAPL\",\"AAPL\",\"AAPL\",\"AAPL\",\"AAPL\",\"AAPL\",\"AAPL\",\"AAPL\",\"AAPL\",\"AAPL\",\"AAPL\",\"AAPL\",\"AAPL\",\"AAPL\",\"AAPL\",\"AAPL\",\"AAPL\",\"AAPL\",\"AAPL\",\"AAPL\",\"AAPL\",\"AAPL\",\"AAPL\",\"AAPL\",\"AAPL\",\"AAPL\",\"AAPL\",\"AAPL\",\"AAPL\",\"AAPL\",\"AAPL\",\"AAPL\",\"AAPL\",\"AAPL\",\"AAPL\",\"AAPL\",\"AAPL\",\"AAPL\",\"AAPL\",\"AAPL\",\"AAPL\",\"AAPL\",\"AAPL\",\"AAPL\",\"AAPL\",\"AAPL\",\"AAPL\",\"AAPL\",\"AAPL\",\"AAPL\",\"AAPL\",\"AAPL\",\"AAPL\",\"AAPL\",\"AAPL\",\"AAPL\",\"AAPL\",\"AAPL\",\"AAPL\",\"AAPL\",\"AAPL\",\"AAPL\",\"AAPL\",\"AAPL\",\"AAPL\",\"AAPL\",\"AAPL\",\"AAPL\",\"AAPL\",\"AAPL\",\"AAPL\",\"AAPL\",\"AAPL\",\"AAPL\",\"AAPL\",\"AAPL\",\"AAPL\",\"AAPL\",\"AAPL\",\"AAPL\",\"AAPL\",\"AAPL\",\"AAPL\",\"AAPL\",\"AAPL\",\"AAPL\",\"AAPL\",\"AAPL\",\"AAPL\",\"AAPL\"]},\"selected\":{\"id\":\"2337\",\"type\":\"Selection\"},\"selection_policy\":{\"id\":\"2336\",\"type\":\"UnionRenderers\"}},\"id\":\"2296\",\"type\":\"ColumnDataSource\"},{\"attributes\":{\"callback\":null,\"data\":{\"Close\":[0.0,1.9333945574943205,2.140543974368712,4.174060750018992,4.181656228637713,4.836248385960791,4.58697858765528,5.006801405854041,4.932918113835513,5.4176477493215875,4.827962409285822,2.546556831442511,-1.8394868218446034,-4.127797380250373,-3.801191799645081,-8.986141704011109,-7.5195238325404175,-4.082224508538017,-7.377281232953324,-4.261063505106236,-8.92054438866755,-10.345041878707107,-16.06581827472156,-11.58931937606595,-16.076175745565273,-23.015681210857387,-15.777880585266152,-25.127224266863696,-22.678027661352136,-24.266173190722473,-22.98944228471997,-25.956512432417504,-27.04059438072683,-21.665757510892604,-23.873279796717373,-19.781388315391894,-23.305690394481537,-20.812301913370117,-19.708195521429612,-23.657153905111766,-22.606215863502353,-24.191599400647682,-18.043404707815743,-18.071715128121916,-16.43040124842049,-16.34961297583947,-15.927718663471968,-12.359915206838693,-12.826691892862321,-12.757642087237523,-11.391836931979038,-12.54082569757567,-16.011959426334222,-12.775595036699972,-11.871042583015132,-11.663893166140742,-11.900733999433784,-14.815326294856476,-7.371066750447097,-6.875289146061049,-8.812136193836622,-8.384717897019124,-6.706117122280308,-6.969196881710782,-5.224998791628407,-4.133321364700367,-3.1051697589471305,-5.005420409741547,-6.829025776292445,-6.359487098043813,-5.181497414084777,-4.4392120036182074,-5.1614729704535875,-2.8662574314853297,-3.1369326695345396,-2.610773150673577,-2.155044433549922,-2.0984235929375927,-2.175068877181111,-1.3333517466148295,-1.1331073103029272,-0.6221387486794219,-0.8182401966538402,-2.4892454927739345,-0.6794500873479985,-0.11186068511217957,0.5475649586046459,1.2166575751089184,-3.065120871684753,-2.4201956871491377],\"Date\":[1580860800000.0,1580947200000.0,1581033600000.0,1581292800000.0,1581379200000.0,1581465600000.0,1581552000000.0,1581638400000.0,1581984000000.0,1582070400000.0,1582156800000.0,1582243200000.0,1582502400000.0,1582588800000.0,1582675200000.0,1582761600000.0,1582848000000.0,1583107200000.0,1583193600000.0,1583280000000.0,1583366400000.0,1583452800000.0,1583712000000.0,1583798400000.0,1583884800000.0,1583971200000.0,1584057600000.0,1584316800000.0,1584403200000.0,1584489600000.0,1584576000000.0,1584662400000.0,1584921600000.0,1585008000000.0,1585094400000.0,1585180800000.0,1585267200000.0,1585526400000.0,1585612800000.0,1585699200000.0,1585785600000.0,1585872000000.0,1586131200000.0,1586217600000.0,1586304000000.0,1586390400000.0,1586736000000.0,1586822400000.0,1586908800000.0,1586995200000.0,1587081600000.0,1587340800000.0,1587427200000.0,1587513600000.0,1587600000000.0,1587686400000.0,1587945600000.0,1588032000000.0,1588118400000.0,1588204800000.0,1588291200000.0,1588550400000.0,1588636800000.0,1588723200000.0,1588809600000.0,1588896000000.0,1589155200000.0,1589241600000.0,1589328000000.0,1589414400000.0,1589500800000.0,1589760000000.0,1589846400000.0,1589932800000.0,1590019200000.0,1590105600000.0,1590451200000.0,1590537600000.0,1590624000000.0,1590710400000.0,1590969600000.0,1591056000000.0,1591142400000.0,1591228800000.0,1591315200000.0,1591574400000.0,1591660800000.0,1591747200000.0,1591833600000.0,1591920000000.0],\"Symbol\":[\"GOOG\",\"GOOG\",\"GOOG\",\"GOOG\",\"GOOG\",\"GOOG\",\"GOOG\",\"GOOG\",\"GOOG\",\"GOOG\",\"GOOG\",\"GOOG\",\"GOOG\",\"GOOG\",\"GOOG\",\"GOOG\",\"GOOG\",\"GOOG\",\"GOOG\",\"GOOG\",\"GOOG\",\"GOOG\",\"GOOG\",\"GOOG\",\"GOOG\",\"GOOG\",\"GOOG\",\"GOOG\",\"GOOG\",\"GOOG\",\"GOOG\",\"GOOG\",\"GOOG\",\"GOOG\",\"GOOG\",\"GOOG\",\"GOOG\",\"GOOG\",\"GOOG\",\"GOOG\",\"GOOG\",\"GOOG\",\"GOOG\",\"GOOG\",\"GOOG\",\"GOOG\",\"GOOG\",\"GOOG\",\"GOOG\",\"GOOG\",\"GOOG\",\"GOOG\",\"GOOG\",\"GOOG\",\"GOOG\",\"GOOG\",\"GOOG\",\"GOOG\",\"GOOG\",\"GOOG\",\"GOOG\",\"GOOG\",\"GOOG\",\"GOOG\",\"GOOG\",\"GOOG\",\"GOOG\",\"GOOG\",\"GOOG\",\"GOOG\",\"GOOG\",\"GOOG\",\"GOOG\",\"GOOG\",\"GOOG\",\"GOOG\",\"GOOG\",\"GOOG\",\"GOOG\",\"GOOG\",\"GOOG\",\"GOOG\",\"GOOG\",\"GOOG\",\"GOOG\",\"GOOG\",\"GOOG\",\"GOOG\",\"GOOG\",\"GOOG\"]},\"selected\":{\"id\":\"2527\",\"type\":\"Selection\"},\"selection_policy\":{\"id\":\"2526\",\"type\":\"UnionRenderers\"}},\"id\":\"2352\",\"type\":\"ColumnDataSource\"},{\"attributes\":{\"months\":[0,2,4,6,8,10]},\"id\":\"2290\",\"type\":\"MonthsTicker\"},{\"attributes\":{\"callback\":null,\"data\":{\"Close\":[0.0,2.0733740967203946,2.2178988326848144,4.891606448026672,2.523624235686488,2.6737076153418577,2.117843246247917,3.0294608115619726,4.074485825458579,4.102279043913282,2.5125069483046034,-0.728182323513064,-5.00833796553642,-6.57587548638133,-5.408560311284057,-12.073374096720398,-9.944413563090613,-3.9521956642579283,-8.554752640355762,-5.197331851028346,-7.576431350750414,-10.188993885491946,-16.275708727070594,-10.550305725403012,-14.602556976097839,-22.701500833796555,-11.712062256809334,-24.724847137298507,-18.52695942190106,-21.956642579210673,-20.672595886603666,-23.652028904947198,-24.4135630906059,-17.543079488604782,-18.332406892718186,-13.224013340744852,-16.787103946637032,-10.93385214007783,-12.33463035019455,-15.447470817120617,-13.696498054474715,-14.49138410227904,-8.132295719844356,-9.12173429683157,-8.210116731517516,-8.204558087826582,-7.99888827126182,-3.4463590883824438,-4.458032240133413,-1.589772095608679,-0.7226236798221297,-2.690383546414677,-6.714841578654815,-3.5464146748193413,-4.71372984991663,-2.9738743746525813,-3.251806559199552,-5.608671484157867,-1.3729849916620338,-0.3835464146748181,-2.9627570872707127,-0.5892162312395788,0.47804335742078113,1.4674819344079968,2.0566981656475756,2.657031684269039,3.8021122846025586,1.450806003335178,-0.08337965536409432,0.35019455252918036,1.8121178432462428,2.78488048916064,2.0733740967203946,3.2017787659810955,1.9622012229016126,2.0066703724291193,0.9282934963868746,1.0617009449694257,0.8337965536409117,1.8621456364646995,1.628682601445251,2.78488048916064,3.0350194552529226,1.6787103946636919,4.05780989438576,4.702612562534745,5.503057254030019,9.41634241245136,3.540856031128407,4.3579766536965],\"Date\":[1580860800000.0,1580947200000.0,1581033600000.0,1581292800000.0,1581379200000.0,1581465600000.0,1581552000000.0,1581638400000.0,1581984000000.0,1582070400000.0,1582156800000.0,1582243200000.0,1582502400000.0,1582588800000.0,1582675200000.0,1582761600000.0,1582848000000.0,1583107200000.0,1583193600000.0,1583280000000.0,1583366400000.0,1583452800000.0,1583712000000.0,1583798400000.0,1583884800000.0,1583971200000.0,1584057600000.0,1584316800000.0,1584403200000.0,1584489600000.0,1584576000000.0,1584662400000.0,1584921600000.0,1585008000000.0,1585094400000.0,1585180800000.0,1585267200000.0,1585526400000.0,1585612800000.0,1585699200000.0,1585785600000.0,1585872000000.0,1586131200000.0,1586217600000.0,1586304000000.0,1586390400000.0,1586736000000.0,1586822400000.0,1586908800000.0,1586995200000.0,1587081600000.0,1587340800000.0,1587427200000.0,1587513600000.0,1587600000000.0,1587686400000.0,1587945600000.0,1588032000000.0,1588118400000.0,1588204800000.0,1588291200000.0,1588550400000.0,1588636800000.0,1588723200000.0,1588809600000.0,1588896000000.0,1589155200000.0,1589241600000.0,1589328000000.0,1589414400000.0,1589500800000.0,1589760000000.0,1589846400000.0,1589932800000.0,1590019200000.0,1590105600000.0,1590451200000.0,1590537600000.0,1590624000000.0,1590710400000.0,1590969600000.0,1591056000000.0,1591142400000.0,1591228800000.0,1591315200000.0,1591574400000.0,1591660800000.0,1591747200000.0,1591833600000.0,1591920000000.0],\"Symbol\":[\"MSFT\",\"MSFT\",\"MSFT\",\"MSFT\",\"MSFT\",\"MSFT\",\"MSFT\",\"MSFT\",\"MSFT\",\"MSFT\",\"MSFT\",\"MSFT\",\"MSFT\",\"MSFT\",\"MSFT\",\"MSFT\",\"MSFT\",\"MSFT\",\"MSFT\",\"MSFT\",\"MSFT\",\"MSFT\",\"MSFT\",\"MSFT\",\"MSFT\",\"MSFT\",\"MSFT\",\"MSFT\",\"MSFT\",\"MSFT\",\"MSFT\",\"MSFT\",\"MSFT\",\"MSFT\",\"MSFT\",\"MSFT\",\"MSFT\",\"MSFT\",\"MSFT\",\"MSFT\",\"MSFT\",\"MSFT\",\"MSFT\",\"MSFT\",\"MSFT\",\"MSFT\",\"MSFT\",\"MSFT\",\"MSFT\",\"MSFT\",\"MSFT\",\"MSFT\",\"MSFT\",\"MSFT\",\"MSFT\",\"MSFT\",\"MSFT\",\"MSFT\",\"MSFT\",\"MSFT\",\"MSFT\",\"MSFT\",\"MSFT\",\"MSFT\",\"MSFT\",\"MSFT\",\"MSFT\",\"MSFT\",\"MSFT\",\"MSFT\",\"MSFT\",\"MSFT\",\"MSFT\",\"MSFT\",\"MSFT\",\"MSFT\",\"MSFT\",\"MSFT\",\"MSFT\",\"MSFT\",\"MSFT\",\"MSFT\",\"MSFT\",\"MSFT\",\"MSFT\",\"MSFT\",\"MSFT\",\"MSFT\",\"MSFT\",\"MSFT\"]},\"selected\":{\"id\":\"2308\",\"type\":\"Selection\"},\"selection_policy\":{\"id\":\"2307\",\"type\":\"UnionRenderers\"}},\"id\":\"2270\",\"type\":\"ColumnDataSource\"},{\"attributes\":{\"label\":{\"value\":\"AAPL\"},\"renderers\":[{\"id\":\"2300\",\"type\":\"GlyphRenderer\"}]},\"id\":\"2322\",\"type\":\"LegendItem\"},{\"attributes\":{\"line_alpha\":0.1,\"line_color\":\"#1f77b4\",\"x\":{\"field\":\"Date\"},\"y\":{\"field\":\"Close\"}},\"id\":\"2273\",\"type\":\"Line\"}],\"root_ids\":[\"2236\"]},\"title\":\"Bokeh Application\",\"version\":\"1.4.0\"}};\n",
       "  var render_items = [{\"docid\":\"21f43f96-190c-49e1-98d2-1f18a31ef1b2\",\"roots\":{\"2236\":\"6f034176-1099-423c-a6c6-ab350c37510c\"}}];\n",
       "  root.Bokeh.embed.embed_items_notebook(docs_json, render_items);\n",
       "\n",
       "  }\n",
       "  if (root.Bokeh !== undefined) {\n",
       "    embed_document(root);\n",
       "  } else {\n",
       "    var attempts = 0;\n",
       "    var timer = setInterval(function(root) {\n",
       "      if (root.Bokeh !== undefined) {\n",
       "        clearInterval(timer);\n",
       "        embed_document(root);\n",
       "      } else {\n",
       "        attempts++;\n",
       "        if (attempts > 100) {\n",
       "          clearInterval(timer);\n",
       "          console.log(\"Bokeh: ERROR: Unable to run BokehJS code because BokehJS library is missing\");\n",
       "        }\n",
       "      }\n",
       "    }, 10, root)\n",
       "  }\n",
       "})(window);"
      ],
      "application/vnd.bokehjs_exec.v0+json": ""
     },
     "metadata": {
      "application/vnd.bokehjs_exec.v0+json": {
       "id": "2236"
      }
     },
     "output_type": "display_data"
    }
   ],
   "source": [
    "tech_stocks = figure(title=\"Tech Stocks\", x_axis_label='Date', y_axis_label='Percentage Growth', x_axis_type='datetime')\n",
    "\n",
    "from bokeh.models import ColumnDataSource\n",
    "\n",
    "for data, symbol, color in zip(stocks.values(), stocks.keys(), colors): # Loop through every stock / color and plot it\n",
    "    size = len(data)                        # Get the length of the closing prices list\n",
    "    symbols = [symbol for i in range(size)] # Create an array of length size, filled with the stock's symbol\n",
    "    source = ColumnDataSource(data={\n",
    "        'Date': dates,\n",
    "        'Close': data,\n",
    "        'Symbol': symbols\n",
    "    })\n",
    "    tech_stocks.line(x='Date', y='Close', color=color, legend_label=symbol, source=source) # Plot the stock as a line\n",
    "\n",
    "tech_stocks.legend.location='top_left'\n",
    "\n",
    "show(tech_stocks) # Display the graph"
   ]
  },
  {
   "cell_type": "markdown",
   "metadata": {},
   "source": [
    "### Basic Interactivity\n",
    "\n",
    "Some interactivity already exists, if we play with the tools on the side. However, we can easily add more. First, we will add a `CrosshairTool`. This allows us to view more specific gridlines as we hover over our chart. Adding it is simple."
   ]
  },
  {
   "cell_type": "code",
   "execution_count": 10,
   "metadata": {},
   "outputs": [
    {
     "data": {
      "text/html": [
       "\n",
       "\n",
       "\n",
       "\n",
       "\n",
       "\n",
       "  <div class=\"bk-root\" id=\"2a8f8bd3-3878-4563-bab9-030325b8b2c7\" data-root-id=\"2236\"></div>\n"
      ]
     },
     "metadata": {},
     "output_type": "display_data"
    },
    {
     "data": {
      "application/javascript": [
       "(function(root) {\n",
       "  function embed_document(root) {\n",
       "    \n",
       "  var docs_json = {\"979f4915-27ab-447d-a3e6-2e60116b7a79\":{\"roots\":{\"references\":[{\"attributes\":{\"below\":[{\"id\":\"2247\",\"type\":\"DatetimeAxis\"}],\"center\":[{\"id\":\"2251\",\"type\":\"Grid\"},{\"id\":\"2256\",\"type\":\"Grid\"},{\"id\":\"2294\",\"type\":\"Legend\"}],\"left\":[{\"id\":\"2252\",\"type\":\"LinearAxis\"}],\"renderers\":[{\"id\":\"2274\",\"type\":\"GlyphRenderer\"},{\"id\":\"2300\",\"type\":\"GlyphRenderer\"},{\"id\":\"2327\",\"type\":\"GlyphRenderer\"},{\"id\":\"2356\",\"type\":\"GlyphRenderer\"}],\"title\":{\"id\":\"2237\",\"type\":\"Title\"},\"toolbar\":{\"id\":\"2263\",\"type\":\"Toolbar\"},\"x_range\":{\"id\":\"2239\",\"type\":\"DataRange1d\"},\"x_scale\":{\"id\":\"2243\",\"type\":\"LinearScale\"},\"y_range\":{\"id\":\"2241\",\"type\":\"DataRange1d\"},\"y_scale\":{\"id\":\"2245\",\"type\":\"LinearScale\"}},\"id\":\"2236\",\"subtype\":\"Figure\",\"type\":\"Plot\"},{\"attributes\":{},\"id\":\"2257\",\"type\":\"PanTool\"},{\"attributes\":{\"line_color\":\"#046865\",\"x\":{\"field\":\"Date\"},\"y\":{\"field\":\"Close\"}},\"id\":\"2298\",\"type\":\"Line\"},{\"attributes\":{\"callback\":null,\"data\":{\"Close\":[0.0,0.5078755018702235,1.9319858618441523,4.610097702304557,5.438091643094918,5.889100776029851,5.392500502483002,4.657159524871683,5.676832347159387,6.390113095442353,5.55084392632864,2.7501752562663264,-1.4991151396902709,-3.2908959884698477,-2.955090275360684,-7.626466392466185,-7.653428894978596,-4.212033119757624,-6.416095143317952,-3.1394157470819204,-5.678793256433004,-6.803374724859916,-11.729178820218936,-7.257815449023711,-10.736468500443657,-17.8079975684725,-12.49442366425311,-17.19325251118943,-11.37474446901028,-10.288400731419154,-7.791672998769521,-9.499624976101417,-6.718075171457002,-4.8909979557520815,-7.550971385431423,-4.136538112722864,-6.851907229382265,-3.721805801350079,-4.419399275444017,-6.479334467392523,-5.93371146200493,-6.5337496997357665,-2.0726811022271017,-1.3858726291381305,0.15344115066156713,0.14167569501978558,6.323932407457339,11.934584066631711,13.128777814272476,18.056052591586727,16.42898812179208,17.34130116134853,14.130802453097502,15.864736478304986,17.62759391529852,18.155568737223447,16.478010853632835,13.44252329805331,16.316726065876754,21.28223857402678,12.067925897238553,13.536156715869144,13.624887860500928,15.26518846789258,16.06671013348891,16.654982915577964,18.095761004377735,15.544127812066453,16.081907180359543,17.107952957786527,18.133998735213535,18.941893355949173,20.072847779515364,22.45584277429445,19.945878904047802,19.46251476809798,18.726193335849846,18.163902601636376,17.70848142283577,19.731649565903712,21.137131287778146,21.204292430399978,21.497938594126108,20.625333967360667,21.723443160593572,23.736316529974953,27.50126233534491,29.78523141180565,25.39818713937654,24.76383298935717],\"Date\":[1580860800000.0,1580947200000.0,1581033600000.0,1581292800000.0,1581379200000.0,1581465600000.0,1581552000000.0,1581638400000.0,1581984000000.0,1582070400000.0,1582156800000.0,1582243200000.0,1582502400000.0,1582588800000.0,1582675200000.0,1582761600000.0,1582848000000.0,1583107200000.0,1583193600000.0,1583280000000.0,1583366400000.0,1583452800000.0,1583712000000.0,1583798400000.0,1583884800000.0,1583971200000.0,1584057600000.0,1584316800000.0,1584403200000.0,1584489600000.0,1584576000000.0,1584662400000.0,1584921600000.0,1585008000000.0,1585094400000.0,1585180800000.0,1585267200000.0,1585526400000.0,1585612800000.0,1585699200000.0,1585785600000.0,1585872000000.0,1586131200000.0,1586217600000.0,1586304000000.0,1586390400000.0,1586736000000.0,1586822400000.0,1586908800000.0,1586995200000.0,1587081600000.0,1587340800000.0,1587427200000.0,1587513600000.0,1587600000000.0,1587686400000.0,1587945600000.0,1588032000000.0,1588118400000.0,1588204800000.0,1588291200000.0,1588550400000.0,1588636800000.0,1588723200000.0,1588809600000.0,1588896000000.0,1589155200000.0,1589241600000.0,1589328000000.0,1589414400000.0,1589500800000.0,1589760000000.0,1589846400000.0,1589932800000.0,1590019200000.0,1590105600000.0,1590451200000.0,1590537600000.0,1590624000000.0,1590710400000.0,1590969600000.0,1591056000000.0,1591142400000.0,1591228800000.0,1591315200000.0,1591574400000.0,1591660800000.0,1591747200000.0,1591833600000.0,1591920000000.0],\"Symbol\":[\"AMZN\",\"AMZN\",\"AMZN\",\"AMZN\",\"AMZN\",\"AMZN\",\"AMZN\",\"AMZN\",\"AMZN\",\"AMZN\",\"AMZN\",\"AMZN\",\"AMZN\",\"AMZN\",\"AMZN\",\"AMZN\",\"AMZN\",\"AMZN\",\"AMZN\",\"AMZN\",\"AMZN\",\"AMZN\",\"AMZN\",\"AMZN\",\"AMZN\",\"AMZN\",\"AMZN\",\"AMZN\",\"AMZN\",\"AMZN\",\"AMZN\",\"AMZN\",\"AMZN\",\"AMZN\",\"AMZN\",\"AMZN\",\"AMZN\",\"AMZN\",\"AMZN\",\"AMZN\",\"AMZN\",\"AMZN\",\"AMZN\",\"AMZN\",\"AMZN\",\"AMZN\",\"AMZN\",\"AMZN\",\"AMZN\",\"AMZN\",\"AMZN\",\"AMZN\",\"AMZN\",\"AMZN\",\"AMZN\",\"AMZN\",\"AMZN\",\"AMZN\",\"AMZN\",\"AMZN\",\"AMZN\",\"AMZN\",\"AMZN\",\"AMZN\",\"AMZN\",\"AMZN\",\"AMZN\",\"AMZN\",\"AMZN\",\"AMZN\",\"AMZN\",\"AMZN\",\"AMZN\",\"AMZN\",\"AMZN\",\"AMZN\",\"AMZN\",\"AMZN\",\"AMZN\",\"AMZN\",\"AMZN\",\"AMZN\",\"AMZN\",\"AMZN\",\"AMZN\",\"AMZN\",\"AMZN\",\"AMZN\",\"AMZN\",\"AMZN\"]},\"selected\":{\"id\":\"2368\",\"type\":\"Selection\"},\"selection_policy\":{\"id\":\"2367\",\"type\":\"UnionRenderers\"}},\"id\":\"2323\",\"type\":\"ColumnDataSource\"},{\"attributes\":{},\"id\":\"2258\",\"type\":\"WheelZoomTool\"},{\"attributes\":{\"ticker\":{\"id\":\"2248\",\"type\":\"DatetimeTicker\"}},\"id\":\"2251\",\"type\":\"Grid\"},{\"attributes\":{\"overlay\":{\"id\":\"2281\",\"type\":\"BoxAnnotation\"}},\"id\":\"2259\",\"type\":\"BoxZoomTool\"},{\"attributes\":{},\"id\":\"2245\",\"type\":\"LinearScale\"},{\"attributes\":{},\"id\":\"2260\",\"type\":\"SaveTool\"},{\"attributes\":{\"base\":60,\"mantissas\":[1,2,5,10,15,20,30],\"max_interval\":1800000.0,\"min_interval\":1000.0,\"num_minor_ticks\":0},\"id\":\"2283\",\"type\":\"AdaptiveTicker\"},{\"attributes\":{\"axis_label\":\"Date\",\"formatter\":{\"id\":\"2279\",\"type\":\"DatetimeTickFormatter\"},\"ticker\":{\"id\":\"2248\",\"type\":\"DatetimeTicker\"}},\"id\":\"2247\",\"type\":\"DatetimeAxis\"},{\"attributes\":{},\"id\":\"2308\",\"type\":\"Selection\"},{\"attributes\":{\"line_color\":\"#202C59\",\"x\":{\"field\":\"Date\"},\"y\":{\"field\":\"Close\"}},\"id\":\"2354\",\"type\":\"Line\"},{\"attributes\":{},\"id\":\"2262\",\"type\":\"HelpTool\"},{\"attributes\":{},\"id\":\"2277\",\"type\":\"BasicTickFormatter\"},{\"attributes\":{},\"id\":\"2253\",\"type\":\"BasicTicker\"},{\"attributes\":{\"data_source\":{\"id\":\"2352\",\"type\":\"ColumnDataSource\"},\"glyph\":{\"id\":\"2354\",\"type\":\"Line\"},\"hover_glyph\":null,\"muted_glyph\":null,\"nonselection_glyph\":{\"id\":\"2355\",\"type\":\"Line\"},\"selection_glyph\":null,\"view\":{\"id\":\"2357\",\"type\":\"CDSView\"}},\"id\":\"2356\",\"type\":\"GlyphRenderer\"},{\"attributes\":{\"callback\":null},\"id\":\"2239\",\"type\":\"DataRange1d\"},{\"attributes\":{\"items\":[{\"id\":\"2295\",\"type\":\"LegendItem\"},{\"id\":\"2322\",\"type\":\"LegendItem\"},{\"id\":\"2351\",\"type\":\"LegendItem\"},{\"id\":\"2382\",\"type\":\"LegendItem\"}],\"location\":\"top_left\"},\"id\":\"2294\",\"type\":\"Legend\"},{\"attributes\":{\"line_color\":\"#F8C630\",\"x\":{\"field\":\"Date\"},\"y\":{\"field\":\"Close\"}},\"id\":\"2325\",\"type\":\"Line\"},{\"attributes\":{\"data_source\":{\"id\":\"2323\",\"type\":\"ColumnDataSource\"},\"glyph\":{\"id\":\"2325\",\"type\":\"Line\"},\"hover_glyph\":null,\"muted_glyph\":null,\"nonselection_glyph\":{\"id\":\"2326\",\"type\":\"Line\"},\"selection_glyph\":null,\"view\":{\"id\":\"2328\",\"type\":\"CDSView\"}},\"id\":\"2327\",\"type\":\"GlyphRenderer\"},{\"attributes\":{},\"id\":\"2261\",\"type\":\"ResetTool\"},{\"attributes\":{\"months\":[0,6]},\"id\":\"2292\",\"type\":\"MonthsTicker\"},{\"attributes\":{\"source\":{\"id\":\"2296\",\"type\":\"ColumnDataSource\"}},\"id\":\"2301\",\"type\":\"CDSView\"},{\"attributes\":{\"num_minor_ticks\":5,\"tickers\":[{\"id\":\"2282\",\"type\":\"AdaptiveTicker\"},{\"id\":\"2283\",\"type\":\"AdaptiveTicker\"},{\"id\":\"2284\",\"type\":\"AdaptiveTicker\"},{\"id\":\"2285\",\"type\":\"DaysTicker\"},{\"id\":\"2286\",\"type\":\"DaysTicker\"},{\"id\":\"2287\",\"type\":\"DaysTicker\"},{\"id\":\"2288\",\"type\":\"DaysTicker\"},{\"id\":\"2289\",\"type\":\"MonthsTicker\"},{\"id\":\"2290\",\"type\":\"MonthsTicker\"},{\"id\":\"2291\",\"type\":\"MonthsTicker\"},{\"id\":\"2292\",\"type\":\"MonthsTicker\"},{\"id\":\"2293\",\"type\":\"YearsTicker\"}]},\"id\":\"2248\",\"type\":\"DatetimeTicker\"},{\"attributes\":{\"base\":24,\"mantissas\":[1,2,4,6,8,12],\"max_interval\":43200000.0,\"min_interval\":3600000.0,\"num_minor_ticks\":0},\"id\":\"2284\",\"type\":\"AdaptiveTicker\"},{\"attributes\":{\"label\":{\"value\":\"MSFT\"},\"renderers\":[{\"id\":\"2274\",\"type\":\"GlyphRenderer\"}]},\"id\":\"2295\",\"type\":\"LegendItem\"},{\"attributes\":{},\"id\":\"2279\",\"type\":\"DatetimeTickFormatter\"},{\"attributes\":{\"dimension\":1,\"ticker\":{\"id\":\"2253\",\"type\":\"BasicTicker\"}},\"id\":\"2256\",\"type\":\"Grid\"},{\"attributes\":{\"bottom_units\":\"screen\",\"fill_alpha\":{\"value\":0.5},\"fill_color\":{\"value\":\"lightgrey\"},\"left_units\":\"screen\",\"level\":\"overlay\",\"line_alpha\":{\"value\":1.0},\"line_color\":{\"value\":\"black\"},\"line_dash\":[4,4],\"line_width\":{\"value\":2},\"render_mode\":\"css\",\"right_units\":\"screen\",\"top_units\":\"screen\"},\"id\":\"2281\",\"type\":\"BoxAnnotation\"},{\"attributes\":{\"mantissas\":[1,2,5],\"max_interval\":500.0,\"num_minor_ticks\":0},\"id\":\"2282\",\"type\":\"AdaptiveTicker\"},{\"attributes\":{\"axis_label\":\"Percentage Growth\",\"formatter\":{\"id\":\"2277\",\"type\":\"BasicTickFormatter\"},\"ticker\":{\"id\":\"2253\",\"type\":\"BasicTicker\"}},\"id\":\"2252\",\"type\":\"LinearAxis\"},{\"attributes\":{\"line_alpha\":0.1,\"line_color\":\"#1f77b4\",\"x\":{\"field\":\"Date\"},\"y\":{\"field\":\"Close\"}},\"id\":\"2355\",\"type\":\"Line\"},{\"attributes\":{\"line_alpha\":0.1,\"line_color\":\"#1f77b4\",\"x\":{\"field\":\"Date\"},\"y\":{\"field\":\"Close\"}},\"id\":\"2326\",\"type\":\"Line\"},{\"attributes\":{\"days\":[1,2,3,4,5,6,7,8,9,10,11,12,13,14,15,16,17,18,19,20,21,22,23,24,25,26,27,28,29,30,31]},\"id\":\"2285\",\"type\":\"DaysTicker\"},{\"attributes\":{},\"id\":\"2307\",\"type\":\"UnionRenderers\"},{\"attributes\":{\"days\":[1,4,7,10,13,16,19,22,25,28]},\"id\":\"2286\",\"type\":\"DaysTicker\"},{\"attributes\":{\"label\":{\"value\":\"GOOG\"},\"renderers\":[{\"id\":\"2356\",\"type\":\"GlyphRenderer\"}]},\"id\":\"2382\",\"type\":\"LegendItem\"},{\"attributes\":{},\"id\":\"2526\",\"type\":\"UnionRenderers\"},{\"attributes\":{\"days\":[1,8,15,22]},\"id\":\"2287\",\"type\":\"DaysTicker\"},{\"attributes\":{},\"id\":\"2293\",\"type\":\"YearsTicker\"},{\"attributes\":{\"active_drag\":\"auto\",\"active_inspect\":\"auto\",\"active_multi\":null,\"active_scroll\":\"auto\",\"active_tap\":\"auto\",\"tools\":[{\"id\":\"2257\",\"type\":\"PanTool\"},{\"id\":\"2258\",\"type\":\"WheelZoomTool\"},{\"id\":\"2259\",\"type\":\"BoxZoomTool\"},{\"id\":\"2260\",\"type\":\"SaveTool\"},{\"id\":\"2261\",\"type\":\"ResetTool\"},{\"id\":\"2262\",\"type\":\"HelpTool\"},{\"id\":\"2697\",\"type\":\"CrosshairTool\"}]},\"id\":\"2263\",\"type\":\"Toolbar\"},{\"attributes\":{\"source\":{\"id\":\"2270\",\"type\":\"ColumnDataSource\"}},\"id\":\"2275\",\"type\":\"CDSView\"},{\"attributes\":{\"source\":{\"id\":\"2352\",\"type\":\"ColumnDataSource\"}},\"id\":\"2357\",\"type\":\"CDSView\"},{\"attributes\":{},\"id\":\"2336\",\"type\":\"UnionRenderers\"},{\"attributes\":{\"source\":{\"id\":\"2323\",\"type\":\"ColumnDataSource\"}},\"id\":\"2328\",\"type\":\"CDSView\"},{\"attributes\":{},\"id\":\"2368\",\"type\":\"Selection\"},{\"attributes\":{\"days\":[1,15]},\"id\":\"2288\",\"type\":\"DaysTicker\"},{\"attributes\":{\"callback\":null},\"id\":\"2241\",\"type\":\"DataRange1d\"},{\"attributes\":{\"line_alpha\":0.1,\"line_color\":\"#1f77b4\",\"x\":{\"field\":\"Date\"},\"y\":{\"field\":\"Close\"}},\"id\":\"2299\",\"type\":\"Line\"},{\"attributes\":{},\"id\":\"2337\",\"type\":\"Selection\"},{\"attributes\":{},\"id\":\"2243\",\"type\":\"LinearScale\"},{\"attributes\":{\"label\":{\"value\":\"AMZN\"},\"renderers\":[{\"id\":\"2327\",\"type\":\"GlyphRenderer\"}]},\"id\":\"2351\",\"type\":\"LegendItem\"},{\"attributes\":{},\"id\":\"2527\",\"type\":\"Selection\"},{\"attributes\":{\"data_source\":{\"id\":\"2296\",\"type\":\"ColumnDataSource\"},\"glyph\":{\"id\":\"2298\",\"type\":\"Line\"},\"hover_glyph\":null,\"muted_glyph\":null,\"nonselection_glyph\":{\"id\":\"2299\",\"type\":\"Line\"},\"selection_glyph\":null,\"view\":{\"id\":\"2301\",\"type\":\"CDSView\"}},\"id\":\"2300\",\"type\":\"GlyphRenderer\"},{\"attributes\":{\"text\":\"Tech Stocks\"},\"id\":\"2237\",\"type\":\"Title\"},{\"attributes\":{\"months\":[0,1,2,3,4,5,6,7,8,9,10,11]},\"id\":\"2289\",\"type\":\"MonthsTicker\"},{\"attributes\":{},\"id\":\"2697\",\"type\":\"CrosshairTool\"},{\"attributes\":{},\"id\":\"2367\",\"type\":\"UnionRenderers\"},{\"attributes\":{\"months\":[0,4,8]},\"id\":\"2291\",\"type\":\"MonthsTicker\"},{\"attributes\":{\"data_source\":{\"id\":\"2270\",\"type\":\"ColumnDataSource\"},\"glyph\":{\"id\":\"2272\",\"type\":\"Line\"},\"hover_glyph\":null,\"muted_glyph\":null,\"nonselection_glyph\":{\"id\":\"2273\",\"type\":\"Line\"},\"selection_glyph\":null,\"view\":{\"id\":\"2275\",\"type\":\"CDSView\"}},\"id\":\"2274\",\"type\":\"GlyphRenderer\"},{\"attributes\":{\"line_color\":\"#E53D00\",\"x\":{\"field\":\"Date\"},\"y\":{\"field\":\"Close\"}},\"id\":\"2272\",\"type\":\"Line\"},{\"attributes\":{\"callback\":null,\"data\":{\"Close\":[0.0,1.1696997977912555,-0.4417483278892568,0.0311090371753065,-0.5724062840255016,1.7887696375797169,1.0639290713952454,1.08881630113548,-0.7621714107948324,0.6750661067040026,-0.3577539275159363,-2.6131591227251447,-7.23907295069217,-10.38108570539742,-8.95940270648624,-14.910561518121016,-14.960335977601485,-7.043086016487786,-9.995333644423704,-5.8205008554985165,-8.875408306112918,-10.085549852232079,-17.197075750505515,-11.233473324000627,-14.31637890807279,-22.778037019754237,-13.526209363820177,-24.65080105770726,-21.33768859853787,-23.26333799968891,-23.851298802302065,-28.685643179343597,-30.200653289780675,-23.19800902162078,-23.621091927204844,-19.601804324156166,-22.9304713019132,-20.731062373619533,-20.892829366931092,-25.055218540986157,-23.804635246539117,-24.89967335510966,-18.34811012599159,-19.293824856120697,-17.22818478768082,-16.630891273915065,-14.99455591849432,-10.701508788302995,-11.516565562295842,-10.813501322134078,-12.023642868253221,-13.8497433504433,-16.512676932648933,-14.107948358998279,-14.440815056773998,-11.970757505055207,-11.908539430704613,-13.336444237050864,-10.489967335510956,-8.601648778970285,-10.073106237361952,-8.800746616892196,-7.431948981179029,-6.476901539897338,-5.509410483745522,-3.521543008243893,-2.0034219940892823,-3.1233473324000514,-4.293047130191324,-3.705086327578152,-4.274381707886144,-2.0189765126769355,-2.585160989267383,-0.690620625291638,-1.4310157100637628,-0.7963913516876661,-1.4683465546741237,-1.039041841654993,-0.9954891896095781,-1.0919272048530069,0.12443614870120831,0.5879608026131549,1.1417016643334938,0.2706486234251064,3.1264582361175957,3.7361953647534585,7.011976979312497,9.765126769326486,4.495255871830763,5.397417949914458],\"Date\":[1580860800000.0,1580947200000.0,1581033600000.0,1581292800000.0,1581379200000.0,1581465600000.0,1581552000000.0,1581638400000.0,1581984000000.0,1582070400000.0,1582156800000.0,1582243200000.0,1582502400000.0,1582588800000.0,1582675200000.0,1582761600000.0,1582848000000.0,1583107200000.0,1583193600000.0,1583280000000.0,1583366400000.0,1583452800000.0,1583712000000.0,1583798400000.0,1583884800000.0,1583971200000.0,1584057600000.0,1584316800000.0,1584403200000.0,1584489600000.0,1584576000000.0,1584662400000.0,1584921600000.0,1585008000000.0,1585094400000.0,1585180800000.0,1585267200000.0,1585526400000.0,1585612800000.0,1585699200000.0,1585785600000.0,1585872000000.0,1586131200000.0,1586217600000.0,1586304000000.0,1586390400000.0,1586736000000.0,1586822400000.0,1586908800000.0,1586995200000.0,1587081600000.0,1587340800000.0,1587427200000.0,1587513600000.0,1587600000000.0,1587686400000.0,1587945600000.0,1588032000000.0,1588118400000.0,1588204800000.0,1588291200000.0,1588550400000.0,1588636800000.0,1588723200000.0,1588809600000.0,1588896000000.0,1589155200000.0,1589241600000.0,1589328000000.0,1589414400000.0,1589500800000.0,1589760000000.0,1589846400000.0,1589932800000.0,1590019200000.0,1590105600000.0,1590451200000.0,1590537600000.0,1590624000000.0,1590710400000.0,1590969600000.0,1591056000000.0,1591142400000.0,1591228800000.0,1591315200000.0,1591574400000.0,1591660800000.0,1591747200000.0,1591833600000.0,1591920000000.0],\"Symbol\":[\"AAPL\",\"AAPL\",\"AAPL\",\"AAPL\",\"AAPL\",\"AAPL\",\"AAPL\",\"AAPL\",\"AAPL\",\"AAPL\",\"AAPL\",\"AAPL\",\"AAPL\",\"AAPL\",\"AAPL\",\"AAPL\",\"AAPL\",\"AAPL\",\"AAPL\",\"AAPL\",\"AAPL\",\"AAPL\",\"AAPL\",\"AAPL\",\"AAPL\",\"AAPL\",\"AAPL\",\"AAPL\",\"AAPL\",\"AAPL\",\"AAPL\",\"AAPL\",\"AAPL\",\"AAPL\",\"AAPL\",\"AAPL\",\"AAPL\",\"AAPL\",\"AAPL\",\"AAPL\",\"AAPL\",\"AAPL\",\"AAPL\",\"AAPL\",\"AAPL\",\"AAPL\",\"AAPL\",\"AAPL\",\"AAPL\",\"AAPL\",\"AAPL\",\"AAPL\",\"AAPL\",\"AAPL\",\"AAPL\",\"AAPL\",\"AAPL\",\"AAPL\",\"AAPL\",\"AAPL\",\"AAPL\",\"AAPL\",\"AAPL\",\"AAPL\",\"AAPL\",\"AAPL\",\"AAPL\",\"AAPL\",\"AAPL\",\"AAPL\",\"AAPL\",\"AAPL\",\"AAPL\",\"AAPL\",\"AAPL\",\"AAPL\",\"AAPL\",\"AAPL\",\"AAPL\",\"AAPL\",\"AAPL\",\"AAPL\",\"AAPL\",\"AAPL\",\"AAPL\",\"AAPL\",\"AAPL\",\"AAPL\",\"AAPL\",\"AAPL\"]},\"selected\":{\"id\":\"2337\",\"type\":\"Selection\"},\"selection_policy\":{\"id\":\"2336\",\"type\":\"UnionRenderers\"}},\"id\":\"2296\",\"type\":\"ColumnDataSource\"},{\"attributes\":{\"callback\":null,\"data\":{\"Close\":[0.0,1.9333945574943205,2.140543974368712,4.174060750018992,4.181656228637713,4.836248385960791,4.58697858765528,5.006801405854041,4.932918113835513,5.4176477493215875,4.827962409285822,2.546556831442511,-1.8394868218446034,-4.127797380250373,-3.801191799645081,-8.986141704011109,-7.5195238325404175,-4.082224508538017,-7.377281232953324,-4.261063505106236,-8.92054438866755,-10.345041878707107,-16.06581827472156,-11.58931937606595,-16.076175745565273,-23.015681210857387,-15.777880585266152,-25.127224266863696,-22.678027661352136,-24.266173190722473,-22.98944228471997,-25.956512432417504,-27.04059438072683,-21.665757510892604,-23.873279796717373,-19.781388315391894,-23.305690394481537,-20.812301913370117,-19.708195521429612,-23.657153905111766,-22.606215863502353,-24.191599400647682,-18.043404707815743,-18.071715128121916,-16.43040124842049,-16.34961297583947,-15.927718663471968,-12.359915206838693,-12.826691892862321,-12.757642087237523,-11.391836931979038,-12.54082569757567,-16.011959426334222,-12.775595036699972,-11.871042583015132,-11.663893166140742,-11.900733999433784,-14.815326294856476,-7.371066750447097,-6.875289146061049,-8.812136193836622,-8.384717897019124,-6.706117122280308,-6.969196881710782,-5.224998791628407,-4.133321364700367,-3.1051697589471305,-5.005420409741547,-6.829025776292445,-6.359487098043813,-5.181497414084777,-4.4392120036182074,-5.1614729704535875,-2.8662574314853297,-3.1369326695345396,-2.610773150673577,-2.155044433549922,-2.0984235929375927,-2.175068877181111,-1.3333517466148295,-1.1331073103029272,-0.6221387486794219,-0.8182401966538402,-2.4892454927739345,-0.6794500873479985,-0.11186068511217957,0.5475649586046459,1.2166575751089184,-3.065120871684753,-2.4201956871491377],\"Date\":[1580860800000.0,1580947200000.0,1581033600000.0,1581292800000.0,1581379200000.0,1581465600000.0,1581552000000.0,1581638400000.0,1581984000000.0,1582070400000.0,1582156800000.0,1582243200000.0,1582502400000.0,1582588800000.0,1582675200000.0,1582761600000.0,1582848000000.0,1583107200000.0,1583193600000.0,1583280000000.0,1583366400000.0,1583452800000.0,1583712000000.0,1583798400000.0,1583884800000.0,1583971200000.0,1584057600000.0,1584316800000.0,1584403200000.0,1584489600000.0,1584576000000.0,1584662400000.0,1584921600000.0,1585008000000.0,1585094400000.0,1585180800000.0,1585267200000.0,1585526400000.0,1585612800000.0,1585699200000.0,1585785600000.0,1585872000000.0,1586131200000.0,1586217600000.0,1586304000000.0,1586390400000.0,1586736000000.0,1586822400000.0,1586908800000.0,1586995200000.0,1587081600000.0,1587340800000.0,1587427200000.0,1587513600000.0,1587600000000.0,1587686400000.0,1587945600000.0,1588032000000.0,1588118400000.0,1588204800000.0,1588291200000.0,1588550400000.0,1588636800000.0,1588723200000.0,1588809600000.0,1588896000000.0,1589155200000.0,1589241600000.0,1589328000000.0,1589414400000.0,1589500800000.0,1589760000000.0,1589846400000.0,1589932800000.0,1590019200000.0,1590105600000.0,1590451200000.0,1590537600000.0,1590624000000.0,1590710400000.0,1590969600000.0,1591056000000.0,1591142400000.0,1591228800000.0,1591315200000.0,1591574400000.0,1591660800000.0,1591747200000.0,1591833600000.0,1591920000000.0],\"Symbol\":[\"GOOG\",\"GOOG\",\"GOOG\",\"GOOG\",\"GOOG\",\"GOOG\",\"GOOG\",\"GOOG\",\"GOOG\",\"GOOG\",\"GOOG\",\"GOOG\",\"GOOG\",\"GOOG\",\"GOOG\",\"GOOG\",\"GOOG\",\"GOOG\",\"GOOG\",\"GOOG\",\"GOOG\",\"GOOG\",\"GOOG\",\"GOOG\",\"GOOG\",\"GOOG\",\"GOOG\",\"GOOG\",\"GOOG\",\"GOOG\",\"GOOG\",\"GOOG\",\"GOOG\",\"GOOG\",\"GOOG\",\"GOOG\",\"GOOG\",\"GOOG\",\"GOOG\",\"GOOG\",\"GOOG\",\"GOOG\",\"GOOG\",\"GOOG\",\"GOOG\",\"GOOG\",\"GOOG\",\"GOOG\",\"GOOG\",\"GOOG\",\"GOOG\",\"GOOG\",\"GOOG\",\"GOOG\",\"GOOG\",\"GOOG\",\"GOOG\",\"GOOG\",\"GOOG\",\"GOOG\",\"GOOG\",\"GOOG\",\"GOOG\",\"GOOG\",\"GOOG\",\"GOOG\",\"GOOG\",\"GOOG\",\"GOOG\",\"GOOG\",\"GOOG\",\"GOOG\",\"GOOG\",\"GOOG\",\"GOOG\",\"GOOG\",\"GOOG\",\"GOOG\",\"GOOG\",\"GOOG\",\"GOOG\",\"GOOG\",\"GOOG\",\"GOOG\",\"GOOG\",\"GOOG\",\"GOOG\",\"GOOG\",\"GOOG\",\"GOOG\"]},\"selected\":{\"id\":\"2527\",\"type\":\"Selection\"},\"selection_policy\":{\"id\":\"2526\",\"type\":\"UnionRenderers\"}},\"id\":\"2352\",\"type\":\"ColumnDataSource\"},{\"attributes\":{\"months\":[0,2,4,6,8,10]},\"id\":\"2290\",\"type\":\"MonthsTicker\"},{\"attributes\":{\"callback\":null,\"data\":{\"Close\":[0.0,2.0733740967203946,2.2178988326848144,4.891606448026672,2.523624235686488,2.6737076153418577,2.117843246247917,3.0294608115619726,4.074485825458579,4.102279043913282,2.5125069483046034,-0.728182323513064,-5.00833796553642,-6.57587548638133,-5.408560311284057,-12.073374096720398,-9.944413563090613,-3.9521956642579283,-8.554752640355762,-5.197331851028346,-7.576431350750414,-10.188993885491946,-16.275708727070594,-10.550305725403012,-14.602556976097839,-22.701500833796555,-11.712062256809334,-24.724847137298507,-18.52695942190106,-21.956642579210673,-20.672595886603666,-23.652028904947198,-24.4135630906059,-17.543079488604782,-18.332406892718186,-13.224013340744852,-16.787103946637032,-10.93385214007783,-12.33463035019455,-15.447470817120617,-13.696498054474715,-14.49138410227904,-8.132295719844356,-9.12173429683157,-8.210116731517516,-8.204558087826582,-7.99888827126182,-3.4463590883824438,-4.458032240133413,-1.589772095608679,-0.7226236798221297,-2.690383546414677,-6.714841578654815,-3.5464146748193413,-4.71372984991663,-2.9738743746525813,-3.251806559199552,-5.608671484157867,-1.3729849916620338,-0.3835464146748181,-2.9627570872707127,-0.5892162312395788,0.47804335742078113,1.4674819344079968,2.0566981656475756,2.657031684269039,3.8021122846025586,1.450806003335178,-0.08337965536409432,0.35019455252918036,1.8121178432462428,2.78488048916064,2.0733740967203946,3.2017787659810955,1.9622012229016126,2.0066703724291193,0.9282934963868746,1.0617009449694257,0.8337965536409117,1.8621456364646995,1.628682601445251,2.78488048916064,3.0350194552529226,1.6787103946636919,4.05780989438576,4.702612562534745,5.503057254030019,9.41634241245136,3.540856031128407,4.3579766536965],\"Date\":[1580860800000.0,1580947200000.0,1581033600000.0,1581292800000.0,1581379200000.0,1581465600000.0,1581552000000.0,1581638400000.0,1581984000000.0,1582070400000.0,1582156800000.0,1582243200000.0,1582502400000.0,1582588800000.0,1582675200000.0,1582761600000.0,1582848000000.0,1583107200000.0,1583193600000.0,1583280000000.0,1583366400000.0,1583452800000.0,1583712000000.0,1583798400000.0,1583884800000.0,1583971200000.0,1584057600000.0,1584316800000.0,1584403200000.0,1584489600000.0,1584576000000.0,1584662400000.0,1584921600000.0,1585008000000.0,1585094400000.0,1585180800000.0,1585267200000.0,1585526400000.0,1585612800000.0,1585699200000.0,1585785600000.0,1585872000000.0,1586131200000.0,1586217600000.0,1586304000000.0,1586390400000.0,1586736000000.0,1586822400000.0,1586908800000.0,1586995200000.0,1587081600000.0,1587340800000.0,1587427200000.0,1587513600000.0,1587600000000.0,1587686400000.0,1587945600000.0,1588032000000.0,1588118400000.0,1588204800000.0,1588291200000.0,1588550400000.0,1588636800000.0,1588723200000.0,1588809600000.0,1588896000000.0,1589155200000.0,1589241600000.0,1589328000000.0,1589414400000.0,1589500800000.0,1589760000000.0,1589846400000.0,1589932800000.0,1590019200000.0,1590105600000.0,1590451200000.0,1590537600000.0,1590624000000.0,1590710400000.0,1590969600000.0,1591056000000.0,1591142400000.0,1591228800000.0,1591315200000.0,1591574400000.0,1591660800000.0,1591747200000.0,1591833600000.0,1591920000000.0],\"Symbol\":[\"MSFT\",\"MSFT\",\"MSFT\",\"MSFT\",\"MSFT\",\"MSFT\",\"MSFT\",\"MSFT\",\"MSFT\",\"MSFT\",\"MSFT\",\"MSFT\",\"MSFT\",\"MSFT\",\"MSFT\",\"MSFT\",\"MSFT\",\"MSFT\",\"MSFT\",\"MSFT\",\"MSFT\",\"MSFT\",\"MSFT\",\"MSFT\",\"MSFT\",\"MSFT\",\"MSFT\",\"MSFT\",\"MSFT\",\"MSFT\",\"MSFT\",\"MSFT\",\"MSFT\",\"MSFT\",\"MSFT\",\"MSFT\",\"MSFT\",\"MSFT\",\"MSFT\",\"MSFT\",\"MSFT\",\"MSFT\",\"MSFT\",\"MSFT\",\"MSFT\",\"MSFT\",\"MSFT\",\"MSFT\",\"MSFT\",\"MSFT\",\"MSFT\",\"MSFT\",\"MSFT\",\"MSFT\",\"MSFT\",\"MSFT\",\"MSFT\",\"MSFT\",\"MSFT\",\"MSFT\",\"MSFT\",\"MSFT\",\"MSFT\",\"MSFT\",\"MSFT\",\"MSFT\",\"MSFT\",\"MSFT\",\"MSFT\",\"MSFT\",\"MSFT\",\"MSFT\",\"MSFT\",\"MSFT\",\"MSFT\",\"MSFT\",\"MSFT\",\"MSFT\",\"MSFT\",\"MSFT\",\"MSFT\",\"MSFT\",\"MSFT\",\"MSFT\",\"MSFT\",\"MSFT\",\"MSFT\",\"MSFT\",\"MSFT\",\"MSFT\"]},\"selected\":{\"id\":\"2308\",\"type\":\"Selection\"},\"selection_policy\":{\"id\":\"2307\",\"type\":\"UnionRenderers\"}},\"id\":\"2270\",\"type\":\"ColumnDataSource\"},{\"attributes\":{\"label\":{\"value\":\"AAPL\"},\"renderers\":[{\"id\":\"2300\",\"type\":\"GlyphRenderer\"}]},\"id\":\"2322\",\"type\":\"LegendItem\"},{\"attributes\":{\"line_alpha\":0.1,\"line_color\":\"#1f77b4\",\"x\":{\"field\":\"Date\"},\"y\":{\"field\":\"Close\"}},\"id\":\"2273\",\"type\":\"Line\"}],\"root_ids\":[\"2236\"]},\"title\":\"Bokeh Application\",\"version\":\"1.4.0\"}};\n",
       "  var render_items = [{\"docid\":\"979f4915-27ab-447d-a3e6-2e60116b7a79\",\"roots\":{\"2236\":\"2a8f8bd3-3878-4563-bab9-030325b8b2c7\"}}];\n",
       "  root.Bokeh.embed.embed_items_notebook(docs_json, render_items);\n",
       "\n",
       "  }\n",
       "  if (root.Bokeh !== undefined) {\n",
       "    embed_document(root);\n",
       "  } else {\n",
       "    var attempts = 0;\n",
       "    var timer = setInterval(function(root) {\n",
       "      if (root.Bokeh !== undefined) {\n",
       "        clearInterval(timer);\n",
       "        embed_document(root);\n",
       "      } else {\n",
       "        attempts++;\n",
       "        if (attempts > 100) {\n",
       "          clearInterval(timer);\n",
       "          console.log(\"Bokeh: ERROR: Unable to run BokehJS code because BokehJS library is missing\");\n",
       "        }\n",
       "      }\n",
       "    }, 10, root)\n",
       "  }\n",
       "})(window);"
      ],
      "application/vnd.bokehjs_exec.v0+json": ""
     },
     "metadata": {
      "application/vnd.bokehjs_exec.v0+json": {
       "id": "2236"
      }
     },
     "output_type": "display_data"
    }
   ],
   "source": [
    "from bokeh.models import CrosshairTool\n",
    "tech_stocks.add_tools(CrosshairTool())\n",
    "show(tech_stocks)"
   ]
  },
  {
   "cell_type": "markdown",
   "metadata": {},
   "source": [
    "Another simple, but useful feature is to make our legend interactive. In this way, we can show/hide lines by clicking on their corresponding legend entry."
   ]
  },
  {
   "cell_type": "code",
   "execution_count": 11,
   "metadata": {},
   "outputs": [
    {
     "data": {
      "text/html": [
       "\n",
       "\n",
       "\n",
       "\n",
       "\n",
       "\n",
       "  <div class=\"bk-root\" id=\"cf3bfd4c-316d-4f17-a196-9559086d892e\" data-root-id=\"2236\"></div>\n"
      ]
     },
     "metadata": {},
     "output_type": "display_data"
    },
    {
     "data": {
      "application/javascript": [
       "(function(root) {\n",
       "  function embed_document(root) {\n",
       "    \n",
       "  var docs_json = {\"ac1cf89a-b437-44d8-8e20-6ac8a77509ca\":{\"roots\":{\"references\":[{\"attributes\":{\"below\":[{\"id\":\"2247\",\"type\":\"DatetimeAxis\"}],\"center\":[{\"id\":\"2251\",\"type\":\"Grid\"},{\"id\":\"2256\",\"type\":\"Grid\"},{\"id\":\"2294\",\"type\":\"Legend\"}],\"left\":[{\"id\":\"2252\",\"type\":\"LinearAxis\"}],\"renderers\":[{\"id\":\"2274\",\"type\":\"GlyphRenderer\"},{\"id\":\"2300\",\"type\":\"GlyphRenderer\"},{\"id\":\"2327\",\"type\":\"GlyphRenderer\"},{\"id\":\"2356\",\"type\":\"GlyphRenderer\"}],\"title\":{\"id\":\"2237\",\"type\":\"Title\"},\"toolbar\":{\"id\":\"2263\",\"type\":\"Toolbar\"},\"x_range\":{\"id\":\"2239\",\"type\":\"DataRange1d\"},\"x_scale\":{\"id\":\"2243\",\"type\":\"LinearScale\"},\"y_range\":{\"id\":\"2241\",\"type\":\"DataRange1d\"},\"y_scale\":{\"id\":\"2245\",\"type\":\"LinearScale\"}},\"id\":\"2236\",\"subtype\":\"Figure\",\"type\":\"Plot\"},{\"attributes\":{},\"id\":\"2257\",\"type\":\"PanTool\"},{\"attributes\":{\"line_color\":\"#046865\",\"x\":{\"field\":\"Date\"},\"y\":{\"field\":\"Close\"}},\"id\":\"2298\",\"type\":\"Line\"},{\"attributes\":{\"callback\":null,\"data\":{\"Close\":[0.0,0.5078755018702235,1.9319858618441523,4.610097702304557,5.438091643094918,5.889100776029851,5.392500502483002,4.657159524871683,5.676832347159387,6.390113095442353,5.55084392632864,2.7501752562663264,-1.4991151396902709,-3.2908959884698477,-2.955090275360684,-7.626466392466185,-7.653428894978596,-4.212033119757624,-6.416095143317952,-3.1394157470819204,-5.678793256433004,-6.803374724859916,-11.729178820218936,-7.257815449023711,-10.736468500443657,-17.8079975684725,-12.49442366425311,-17.19325251118943,-11.37474446901028,-10.288400731419154,-7.791672998769521,-9.499624976101417,-6.718075171457002,-4.8909979557520815,-7.550971385431423,-4.136538112722864,-6.851907229382265,-3.721805801350079,-4.419399275444017,-6.479334467392523,-5.93371146200493,-6.5337496997357665,-2.0726811022271017,-1.3858726291381305,0.15344115066156713,0.14167569501978558,6.323932407457339,11.934584066631711,13.128777814272476,18.056052591586727,16.42898812179208,17.34130116134853,14.130802453097502,15.864736478304986,17.62759391529852,18.155568737223447,16.478010853632835,13.44252329805331,16.316726065876754,21.28223857402678,12.067925897238553,13.536156715869144,13.624887860500928,15.26518846789258,16.06671013348891,16.654982915577964,18.095761004377735,15.544127812066453,16.081907180359543,17.107952957786527,18.133998735213535,18.941893355949173,20.072847779515364,22.45584277429445,19.945878904047802,19.46251476809798,18.726193335849846,18.163902601636376,17.70848142283577,19.731649565903712,21.137131287778146,21.204292430399978,21.497938594126108,20.625333967360667,21.723443160593572,23.736316529974953,27.50126233534491,29.78523141180565,25.39818713937654,24.76383298935717],\"Date\":[1580860800000.0,1580947200000.0,1581033600000.0,1581292800000.0,1581379200000.0,1581465600000.0,1581552000000.0,1581638400000.0,1581984000000.0,1582070400000.0,1582156800000.0,1582243200000.0,1582502400000.0,1582588800000.0,1582675200000.0,1582761600000.0,1582848000000.0,1583107200000.0,1583193600000.0,1583280000000.0,1583366400000.0,1583452800000.0,1583712000000.0,1583798400000.0,1583884800000.0,1583971200000.0,1584057600000.0,1584316800000.0,1584403200000.0,1584489600000.0,1584576000000.0,1584662400000.0,1584921600000.0,1585008000000.0,1585094400000.0,1585180800000.0,1585267200000.0,1585526400000.0,1585612800000.0,1585699200000.0,1585785600000.0,1585872000000.0,1586131200000.0,1586217600000.0,1586304000000.0,1586390400000.0,1586736000000.0,1586822400000.0,1586908800000.0,1586995200000.0,1587081600000.0,1587340800000.0,1587427200000.0,1587513600000.0,1587600000000.0,1587686400000.0,1587945600000.0,1588032000000.0,1588118400000.0,1588204800000.0,1588291200000.0,1588550400000.0,1588636800000.0,1588723200000.0,1588809600000.0,1588896000000.0,1589155200000.0,1589241600000.0,1589328000000.0,1589414400000.0,1589500800000.0,1589760000000.0,1589846400000.0,1589932800000.0,1590019200000.0,1590105600000.0,1590451200000.0,1590537600000.0,1590624000000.0,1590710400000.0,1590969600000.0,1591056000000.0,1591142400000.0,1591228800000.0,1591315200000.0,1591574400000.0,1591660800000.0,1591747200000.0,1591833600000.0,1591920000000.0],\"Symbol\":[\"AMZN\",\"AMZN\",\"AMZN\",\"AMZN\",\"AMZN\",\"AMZN\",\"AMZN\",\"AMZN\",\"AMZN\",\"AMZN\",\"AMZN\",\"AMZN\",\"AMZN\",\"AMZN\",\"AMZN\",\"AMZN\",\"AMZN\",\"AMZN\",\"AMZN\",\"AMZN\",\"AMZN\",\"AMZN\",\"AMZN\",\"AMZN\",\"AMZN\",\"AMZN\",\"AMZN\",\"AMZN\",\"AMZN\",\"AMZN\",\"AMZN\",\"AMZN\",\"AMZN\",\"AMZN\",\"AMZN\",\"AMZN\",\"AMZN\",\"AMZN\",\"AMZN\",\"AMZN\",\"AMZN\",\"AMZN\",\"AMZN\",\"AMZN\",\"AMZN\",\"AMZN\",\"AMZN\",\"AMZN\",\"AMZN\",\"AMZN\",\"AMZN\",\"AMZN\",\"AMZN\",\"AMZN\",\"AMZN\",\"AMZN\",\"AMZN\",\"AMZN\",\"AMZN\",\"AMZN\",\"AMZN\",\"AMZN\",\"AMZN\",\"AMZN\",\"AMZN\",\"AMZN\",\"AMZN\",\"AMZN\",\"AMZN\",\"AMZN\",\"AMZN\",\"AMZN\",\"AMZN\",\"AMZN\",\"AMZN\",\"AMZN\",\"AMZN\",\"AMZN\",\"AMZN\",\"AMZN\",\"AMZN\",\"AMZN\",\"AMZN\",\"AMZN\",\"AMZN\",\"AMZN\",\"AMZN\",\"AMZN\",\"AMZN\",\"AMZN\"]},\"selected\":{\"id\":\"2368\",\"type\":\"Selection\"},\"selection_policy\":{\"id\":\"2367\",\"type\":\"UnionRenderers\"}},\"id\":\"2323\",\"type\":\"ColumnDataSource\"},{\"attributes\":{},\"id\":\"2258\",\"type\":\"WheelZoomTool\"},{\"attributes\":{\"ticker\":{\"id\":\"2248\",\"type\":\"DatetimeTicker\"}},\"id\":\"2251\",\"type\":\"Grid\"},{\"attributes\":{\"overlay\":{\"id\":\"2281\",\"type\":\"BoxAnnotation\"}},\"id\":\"2259\",\"type\":\"BoxZoomTool\"},{\"attributes\":{},\"id\":\"2245\",\"type\":\"LinearScale\"},{\"attributes\":{},\"id\":\"2260\",\"type\":\"SaveTool\"},{\"attributes\":{\"base\":60,\"mantissas\":[1,2,5,10,15,20,30],\"max_interval\":1800000.0,\"min_interval\":1000.0,\"num_minor_ticks\":0},\"id\":\"2283\",\"type\":\"AdaptiveTicker\"},{\"attributes\":{\"axis_label\":\"Date\",\"formatter\":{\"id\":\"2279\",\"type\":\"DatetimeTickFormatter\"},\"ticker\":{\"id\":\"2248\",\"type\":\"DatetimeTicker\"}},\"id\":\"2247\",\"type\":\"DatetimeAxis\"},{\"attributes\":{},\"id\":\"2308\",\"type\":\"Selection\"},{\"attributes\":{\"line_color\":\"#202C59\",\"x\":{\"field\":\"Date\"},\"y\":{\"field\":\"Close\"}},\"id\":\"2354\",\"type\":\"Line\"},{\"attributes\":{},\"id\":\"2262\",\"type\":\"HelpTool\"},{\"attributes\":{},\"id\":\"2277\",\"type\":\"BasicTickFormatter\"},{\"attributes\":{},\"id\":\"2253\",\"type\":\"BasicTicker\"},{\"attributes\":{\"data_source\":{\"id\":\"2352\",\"type\":\"ColumnDataSource\"},\"glyph\":{\"id\":\"2354\",\"type\":\"Line\"},\"hover_glyph\":null,\"muted_glyph\":null,\"nonselection_glyph\":{\"id\":\"2355\",\"type\":\"Line\"},\"selection_glyph\":null,\"view\":{\"id\":\"2357\",\"type\":\"CDSView\"}},\"id\":\"2356\",\"type\":\"GlyphRenderer\"},{\"attributes\":{\"callback\":null},\"id\":\"2239\",\"type\":\"DataRange1d\"},{\"attributes\":{\"click_policy\":\"hide\",\"items\":[{\"id\":\"2295\",\"type\":\"LegendItem\"},{\"id\":\"2322\",\"type\":\"LegendItem\"},{\"id\":\"2351\",\"type\":\"LegendItem\"},{\"id\":\"2382\",\"type\":\"LegendItem\"}],\"location\":\"top_left\"},\"id\":\"2294\",\"type\":\"Legend\"},{\"attributes\":{\"line_color\":\"#F8C630\",\"x\":{\"field\":\"Date\"},\"y\":{\"field\":\"Close\"}},\"id\":\"2325\",\"type\":\"Line\"},{\"attributes\":{\"data_source\":{\"id\":\"2323\",\"type\":\"ColumnDataSource\"},\"glyph\":{\"id\":\"2325\",\"type\":\"Line\"},\"hover_glyph\":null,\"muted_glyph\":null,\"nonselection_glyph\":{\"id\":\"2326\",\"type\":\"Line\"},\"selection_glyph\":null,\"view\":{\"id\":\"2328\",\"type\":\"CDSView\"}},\"id\":\"2327\",\"type\":\"GlyphRenderer\"},{\"attributes\":{},\"id\":\"2261\",\"type\":\"ResetTool\"},{\"attributes\":{\"months\":[0,6]},\"id\":\"2292\",\"type\":\"MonthsTicker\"},{\"attributes\":{\"source\":{\"id\":\"2296\",\"type\":\"ColumnDataSource\"}},\"id\":\"2301\",\"type\":\"CDSView\"},{\"attributes\":{\"num_minor_ticks\":5,\"tickers\":[{\"id\":\"2282\",\"type\":\"AdaptiveTicker\"},{\"id\":\"2283\",\"type\":\"AdaptiveTicker\"},{\"id\":\"2284\",\"type\":\"AdaptiveTicker\"},{\"id\":\"2285\",\"type\":\"DaysTicker\"},{\"id\":\"2286\",\"type\":\"DaysTicker\"},{\"id\":\"2287\",\"type\":\"DaysTicker\"},{\"id\":\"2288\",\"type\":\"DaysTicker\"},{\"id\":\"2289\",\"type\":\"MonthsTicker\"},{\"id\":\"2290\",\"type\":\"MonthsTicker\"},{\"id\":\"2291\",\"type\":\"MonthsTicker\"},{\"id\":\"2292\",\"type\":\"MonthsTicker\"},{\"id\":\"2293\",\"type\":\"YearsTicker\"}]},\"id\":\"2248\",\"type\":\"DatetimeTicker\"},{\"attributes\":{\"base\":24,\"mantissas\":[1,2,4,6,8,12],\"max_interval\":43200000.0,\"min_interval\":3600000.0,\"num_minor_ticks\":0},\"id\":\"2284\",\"type\":\"AdaptiveTicker\"},{\"attributes\":{\"label\":{\"value\":\"MSFT\"},\"renderers\":[{\"id\":\"2274\",\"type\":\"GlyphRenderer\"}]},\"id\":\"2295\",\"type\":\"LegendItem\"},{\"attributes\":{},\"id\":\"2279\",\"type\":\"DatetimeTickFormatter\"},{\"attributes\":{\"dimension\":1,\"ticker\":{\"id\":\"2253\",\"type\":\"BasicTicker\"}},\"id\":\"2256\",\"type\":\"Grid\"},{\"attributes\":{\"bottom_units\":\"screen\",\"fill_alpha\":{\"value\":0.5},\"fill_color\":{\"value\":\"lightgrey\"},\"left_units\":\"screen\",\"level\":\"overlay\",\"line_alpha\":{\"value\":1.0},\"line_color\":{\"value\":\"black\"},\"line_dash\":[4,4],\"line_width\":{\"value\":2},\"render_mode\":\"css\",\"right_units\":\"screen\",\"top_units\":\"screen\"},\"id\":\"2281\",\"type\":\"BoxAnnotation\"},{\"attributes\":{\"mantissas\":[1,2,5],\"max_interval\":500.0,\"num_minor_ticks\":0},\"id\":\"2282\",\"type\":\"AdaptiveTicker\"},{\"attributes\":{\"axis_label\":\"Percentage Growth\",\"formatter\":{\"id\":\"2277\",\"type\":\"BasicTickFormatter\"},\"ticker\":{\"id\":\"2253\",\"type\":\"BasicTicker\"}},\"id\":\"2252\",\"type\":\"LinearAxis\"},{\"attributes\":{\"line_alpha\":0.1,\"line_color\":\"#1f77b4\",\"x\":{\"field\":\"Date\"},\"y\":{\"field\":\"Close\"}},\"id\":\"2355\",\"type\":\"Line\"},{\"attributes\":{\"line_alpha\":0.1,\"line_color\":\"#1f77b4\",\"x\":{\"field\":\"Date\"},\"y\":{\"field\":\"Close\"}},\"id\":\"2326\",\"type\":\"Line\"},{\"attributes\":{\"days\":[1,2,3,4,5,6,7,8,9,10,11,12,13,14,15,16,17,18,19,20,21,22,23,24,25,26,27,28,29,30,31]},\"id\":\"2285\",\"type\":\"DaysTicker\"},{\"attributes\":{},\"id\":\"2307\",\"type\":\"UnionRenderers\"},{\"attributes\":{\"days\":[1,4,7,10,13,16,19,22,25,28]},\"id\":\"2286\",\"type\":\"DaysTicker\"},{\"attributes\":{\"label\":{\"value\":\"GOOG\"},\"renderers\":[{\"id\":\"2356\",\"type\":\"GlyphRenderer\"}]},\"id\":\"2382\",\"type\":\"LegendItem\"},{\"attributes\":{},\"id\":\"2526\",\"type\":\"UnionRenderers\"},{\"attributes\":{\"days\":[1,8,15,22]},\"id\":\"2287\",\"type\":\"DaysTicker\"},{\"attributes\":{},\"id\":\"2293\",\"type\":\"YearsTicker\"},{\"attributes\":{\"active_drag\":\"auto\",\"active_inspect\":\"auto\",\"active_multi\":null,\"active_scroll\":\"auto\",\"active_tap\":\"auto\",\"tools\":[{\"id\":\"2257\",\"type\":\"PanTool\"},{\"id\":\"2258\",\"type\":\"WheelZoomTool\"},{\"id\":\"2259\",\"type\":\"BoxZoomTool\"},{\"id\":\"2260\",\"type\":\"SaveTool\"},{\"id\":\"2261\",\"type\":\"ResetTool\"},{\"id\":\"2262\",\"type\":\"HelpTool\"},{\"id\":\"2697\",\"type\":\"CrosshairTool\"}]},\"id\":\"2263\",\"type\":\"Toolbar\"},{\"attributes\":{\"source\":{\"id\":\"2270\",\"type\":\"ColumnDataSource\"}},\"id\":\"2275\",\"type\":\"CDSView\"},{\"attributes\":{\"source\":{\"id\":\"2352\",\"type\":\"ColumnDataSource\"}},\"id\":\"2357\",\"type\":\"CDSView\"},{\"attributes\":{},\"id\":\"2336\",\"type\":\"UnionRenderers\"},{\"attributes\":{\"source\":{\"id\":\"2323\",\"type\":\"ColumnDataSource\"}},\"id\":\"2328\",\"type\":\"CDSView\"},{\"attributes\":{},\"id\":\"2368\",\"type\":\"Selection\"},{\"attributes\":{\"days\":[1,15]},\"id\":\"2288\",\"type\":\"DaysTicker\"},{\"attributes\":{\"callback\":null},\"id\":\"2241\",\"type\":\"DataRange1d\"},{\"attributes\":{\"line_alpha\":0.1,\"line_color\":\"#1f77b4\",\"x\":{\"field\":\"Date\"},\"y\":{\"field\":\"Close\"}},\"id\":\"2299\",\"type\":\"Line\"},{\"attributes\":{},\"id\":\"2337\",\"type\":\"Selection\"},{\"attributes\":{},\"id\":\"2243\",\"type\":\"LinearScale\"},{\"attributes\":{\"label\":{\"value\":\"AMZN\"},\"renderers\":[{\"id\":\"2327\",\"type\":\"GlyphRenderer\"}]},\"id\":\"2351\",\"type\":\"LegendItem\"},{\"attributes\":{},\"id\":\"2527\",\"type\":\"Selection\"},{\"attributes\":{\"data_source\":{\"id\":\"2296\",\"type\":\"ColumnDataSource\"},\"glyph\":{\"id\":\"2298\",\"type\":\"Line\"},\"hover_glyph\":null,\"muted_glyph\":null,\"nonselection_glyph\":{\"id\":\"2299\",\"type\":\"Line\"},\"selection_glyph\":null,\"view\":{\"id\":\"2301\",\"type\":\"CDSView\"}},\"id\":\"2300\",\"type\":\"GlyphRenderer\"},{\"attributes\":{\"text\":\"Tech Stocks\"},\"id\":\"2237\",\"type\":\"Title\"},{\"attributes\":{\"months\":[0,1,2,3,4,5,6,7,8,9,10,11]},\"id\":\"2289\",\"type\":\"MonthsTicker\"},{\"attributes\":{},\"id\":\"2697\",\"type\":\"CrosshairTool\"},{\"attributes\":{},\"id\":\"2367\",\"type\":\"UnionRenderers\"},{\"attributes\":{\"months\":[0,4,8]},\"id\":\"2291\",\"type\":\"MonthsTicker\"},{\"attributes\":{\"data_source\":{\"id\":\"2270\",\"type\":\"ColumnDataSource\"},\"glyph\":{\"id\":\"2272\",\"type\":\"Line\"},\"hover_glyph\":null,\"muted_glyph\":null,\"nonselection_glyph\":{\"id\":\"2273\",\"type\":\"Line\"},\"selection_glyph\":null,\"view\":{\"id\":\"2275\",\"type\":\"CDSView\"}},\"id\":\"2274\",\"type\":\"GlyphRenderer\"},{\"attributes\":{\"line_color\":\"#E53D00\",\"x\":{\"field\":\"Date\"},\"y\":{\"field\":\"Close\"}},\"id\":\"2272\",\"type\":\"Line\"},{\"attributes\":{\"callback\":null,\"data\":{\"Close\":[0.0,1.1696997977912555,-0.4417483278892568,0.0311090371753065,-0.5724062840255016,1.7887696375797169,1.0639290713952454,1.08881630113548,-0.7621714107948324,0.6750661067040026,-0.3577539275159363,-2.6131591227251447,-7.23907295069217,-10.38108570539742,-8.95940270648624,-14.910561518121016,-14.960335977601485,-7.043086016487786,-9.995333644423704,-5.8205008554985165,-8.875408306112918,-10.085549852232079,-17.197075750505515,-11.233473324000627,-14.31637890807279,-22.778037019754237,-13.526209363820177,-24.65080105770726,-21.33768859853787,-23.26333799968891,-23.851298802302065,-28.685643179343597,-30.200653289780675,-23.19800902162078,-23.621091927204844,-19.601804324156166,-22.9304713019132,-20.731062373619533,-20.892829366931092,-25.055218540986157,-23.804635246539117,-24.89967335510966,-18.34811012599159,-19.293824856120697,-17.22818478768082,-16.630891273915065,-14.99455591849432,-10.701508788302995,-11.516565562295842,-10.813501322134078,-12.023642868253221,-13.8497433504433,-16.512676932648933,-14.107948358998279,-14.440815056773998,-11.970757505055207,-11.908539430704613,-13.336444237050864,-10.489967335510956,-8.601648778970285,-10.073106237361952,-8.800746616892196,-7.431948981179029,-6.476901539897338,-5.509410483745522,-3.521543008243893,-2.0034219940892823,-3.1233473324000514,-4.293047130191324,-3.705086327578152,-4.274381707886144,-2.0189765126769355,-2.585160989267383,-0.690620625291638,-1.4310157100637628,-0.7963913516876661,-1.4683465546741237,-1.039041841654993,-0.9954891896095781,-1.0919272048530069,0.12443614870120831,0.5879608026131549,1.1417016643334938,0.2706486234251064,3.1264582361175957,3.7361953647534585,7.011976979312497,9.765126769326486,4.495255871830763,5.397417949914458],\"Date\":[1580860800000.0,1580947200000.0,1581033600000.0,1581292800000.0,1581379200000.0,1581465600000.0,1581552000000.0,1581638400000.0,1581984000000.0,1582070400000.0,1582156800000.0,1582243200000.0,1582502400000.0,1582588800000.0,1582675200000.0,1582761600000.0,1582848000000.0,1583107200000.0,1583193600000.0,1583280000000.0,1583366400000.0,1583452800000.0,1583712000000.0,1583798400000.0,1583884800000.0,1583971200000.0,1584057600000.0,1584316800000.0,1584403200000.0,1584489600000.0,1584576000000.0,1584662400000.0,1584921600000.0,1585008000000.0,1585094400000.0,1585180800000.0,1585267200000.0,1585526400000.0,1585612800000.0,1585699200000.0,1585785600000.0,1585872000000.0,1586131200000.0,1586217600000.0,1586304000000.0,1586390400000.0,1586736000000.0,1586822400000.0,1586908800000.0,1586995200000.0,1587081600000.0,1587340800000.0,1587427200000.0,1587513600000.0,1587600000000.0,1587686400000.0,1587945600000.0,1588032000000.0,1588118400000.0,1588204800000.0,1588291200000.0,1588550400000.0,1588636800000.0,1588723200000.0,1588809600000.0,1588896000000.0,1589155200000.0,1589241600000.0,1589328000000.0,1589414400000.0,1589500800000.0,1589760000000.0,1589846400000.0,1589932800000.0,1590019200000.0,1590105600000.0,1590451200000.0,1590537600000.0,1590624000000.0,1590710400000.0,1590969600000.0,1591056000000.0,1591142400000.0,1591228800000.0,1591315200000.0,1591574400000.0,1591660800000.0,1591747200000.0,1591833600000.0,1591920000000.0],\"Symbol\":[\"AAPL\",\"AAPL\",\"AAPL\",\"AAPL\",\"AAPL\",\"AAPL\",\"AAPL\",\"AAPL\",\"AAPL\",\"AAPL\",\"AAPL\",\"AAPL\",\"AAPL\",\"AAPL\",\"AAPL\",\"AAPL\",\"AAPL\",\"AAPL\",\"AAPL\",\"AAPL\",\"AAPL\",\"AAPL\",\"AAPL\",\"AAPL\",\"AAPL\",\"AAPL\",\"AAPL\",\"AAPL\",\"AAPL\",\"AAPL\",\"AAPL\",\"AAPL\",\"AAPL\",\"AAPL\",\"AAPL\",\"AAPL\",\"AAPL\",\"AAPL\",\"AAPL\",\"AAPL\",\"AAPL\",\"AAPL\",\"AAPL\",\"AAPL\",\"AAPL\",\"AAPL\",\"AAPL\",\"AAPL\",\"AAPL\",\"AAPL\",\"AAPL\",\"AAPL\",\"AAPL\",\"AAPL\",\"AAPL\",\"AAPL\",\"AAPL\",\"AAPL\",\"AAPL\",\"AAPL\",\"AAPL\",\"AAPL\",\"AAPL\",\"AAPL\",\"AAPL\",\"AAPL\",\"AAPL\",\"AAPL\",\"AAPL\",\"AAPL\",\"AAPL\",\"AAPL\",\"AAPL\",\"AAPL\",\"AAPL\",\"AAPL\",\"AAPL\",\"AAPL\",\"AAPL\",\"AAPL\",\"AAPL\",\"AAPL\",\"AAPL\",\"AAPL\",\"AAPL\",\"AAPL\",\"AAPL\",\"AAPL\",\"AAPL\",\"AAPL\"]},\"selected\":{\"id\":\"2337\",\"type\":\"Selection\"},\"selection_policy\":{\"id\":\"2336\",\"type\":\"UnionRenderers\"}},\"id\":\"2296\",\"type\":\"ColumnDataSource\"},{\"attributes\":{\"callback\":null,\"data\":{\"Close\":[0.0,1.9333945574943205,2.140543974368712,4.174060750018992,4.181656228637713,4.836248385960791,4.58697858765528,5.006801405854041,4.932918113835513,5.4176477493215875,4.827962409285822,2.546556831442511,-1.8394868218446034,-4.127797380250373,-3.801191799645081,-8.986141704011109,-7.5195238325404175,-4.082224508538017,-7.377281232953324,-4.261063505106236,-8.92054438866755,-10.345041878707107,-16.06581827472156,-11.58931937606595,-16.076175745565273,-23.015681210857387,-15.777880585266152,-25.127224266863696,-22.678027661352136,-24.266173190722473,-22.98944228471997,-25.956512432417504,-27.04059438072683,-21.665757510892604,-23.873279796717373,-19.781388315391894,-23.305690394481537,-20.812301913370117,-19.708195521429612,-23.657153905111766,-22.606215863502353,-24.191599400647682,-18.043404707815743,-18.071715128121916,-16.43040124842049,-16.34961297583947,-15.927718663471968,-12.359915206838693,-12.826691892862321,-12.757642087237523,-11.391836931979038,-12.54082569757567,-16.011959426334222,-12.775595036699972,-11.871042583015132,-11.663893166140742,-11.900733999433784,-14.815326294856476,-7.371066750447097,-6.875289146061049,-8.812136193836622,-8.384717897019124,-6.706117122280308,-6.969196881710782,-5.224998791628407,-4.133321364700367,-3.1051697589471305,-5.005420409741547,-6.829025776292445,-6.359487098043813,-5.181497414084777,-4.4392120036182074,-5.1614729704535875,-2.8662574314853297,-3.1369326695345396,-2.610773150673577,-2.155044433549922,-2.0984235929375927,-2.175068877181111,-1.3333517466148295,-1.1331073103029272,-0.6221387486794219,-0.8182401966538402,-2.4892454927739345,-0.6794500873479985,-0.11186068511217957,0.5475649586046459,1.2166575751089184,-3.065120871684753,-2.4201956871491377],\"Date\":[1580860800000.0,1580947200000.0,1581033600000.0,1581292800000.0,1581379200000.0,1581465600000.0,1581552000000.0,1581638400000.0,1581984000000.0,1582070400000.0,1582156800000.0,1582243200000.0,1582502400000.0,1582588800000.0,1582675200000.0,1582761600000.0,1582848000000.0,1583107200000.0,1583193600000.0,1583280000000.0,1583366400000.0,1583452800000.0,1583712000000.0,1583798400000.0,1583884800000.0,1583971200000.0,1584057600000.0,1584316800000.0,1584403200000.0,1584489600000.0,1584576000000.0,1584662400000.0,1584921600000.0,1585008000000.0,1585094400000.0,1585180800000.0,1585267200000.0,1585526400000.0,1585612800000.0,1585699200000.0,1585785600000.0,1585872000000.0,1586131200000.0,1586217600000.0,1586304000000.0,1586390400000.0,1586736000000.0,1586822400000.0,1586908800000.0,1586995200000.0,1587081600000.0,1587340800000.0,1587427200000.0,1587513600000.0,1587600000000.0,1587686400000.0,1587945600000.0,1588032000000.0,1588118400000.0,1588204800000.0,1588291200000.0,1588550400000.0,1588636800000.0,1588723200000.0,1588809600000.0,1588896000000.0,1589155200000.0,1589241600000.0,1589328000000.0,1589414400000.0,1589500800000.0,1589760000000.0,1589846400000.0,1589932800000.0,1590019200000.0,1590105600000.0,1590451200000.0,1590537600000.0,1590624000000.0,1590710400000.0,1590969600000.0,1591056000000.0,1591142400000.0,1591228800000.0,1591315200000.0,1591574400000.0,1591660800000.0,1591747200000.0,1591833600000.0,1591920000000.0],\"Symbol\":[\"GOOG\",\"GOOG\",\"GOOG\",\"GOOG\",\"GOOG\",\"GOOG\",\"GOOG\",\"GOOG\",\"GOOG\",\"GOOG\",\"GOOG\",\"GOOG\",\"GOOG\",\"GOOG\",\"GOOG\",\"GOOG\",\"GOOG\",\"GOOG\",\"GOOG\",\"GOOG\",\"GOOG\",\"GOOG\",\"GOOG\",\"GOOG\",\"GOOG\",\"GOOG\",\"GOOG\",\"GOOG\",\"GOOG\",\"GOOG\",\"GOOG\",\"GOOG\",\"GOOG\",\"GOOG\",\"GOOG\",\"GOOG\",\"GOOG\",\"GOOG\",\"GOOG\",\"GOOG\",\"GOOG\",\"GOOG\",\"GOOG\",\"GOOG\",\"GOOG\",\"GOOG\",\"GOOG\",\"GOOG\",\"GOOG\",\"GOOG\",\"GOOG\",\"GOOG\",\"GOOG\",\"GOOG\",\"GOOG\",\"GOOG\",\"GOOG\",\"GOOG\",\"GOOG\",\"GOOG\",\"GOOG\",\"GOOG\",\"GOOG\",\"GOOG\",\"GOOG\",\"GOOG\",\"GOOG\",\"GOOG\",\"GOOG\",\"GOOG\",\"GOOG\",\"GOOG\",\"GOOG\",\"GOOG\",\"GOOG\",\"GOOG\",\"GOOG\",\"GOOG\",\"GOOG\",\"GOOG\",\"GOOG\",\"GOOG\",\"GOOG\",\"GOOG\",\"GOOG\",\"GOOG\",\"GOOG\",\"GOOG\",\"GOOG\",\"GOOG\"]},\"selected\":{\"id\":\"2527\",\"type\":\"Selection\"},\"selection_policy\":{\"id\":\"2526\",\"type\":\"UnionRenderers\"}},\"id\":\"2352\",\"type\":\"ColumnDataSource\"},{\"attributes\":{\"months\":[0,2,4,6,8,10]},\"id\":\"2290\",\"type\":\"MonthsTicker\"},{\"attributes\":{\"callback\":null,\"data\":{\"Close\":[0.0,2.0733740967203946,2.2178988326848144,4.891606448026672,2.523624235686488,2.6737076153418577,2.117843246247917,3.0294608115619726,4.074485825458579,4.102279043913282,2.5125069483046034,-0.728182323513064,-5.00833796553642,-6.57587548638133,-5.408560311284057,-12.073374096720398,-9.944413563090613,-3.9521956642579283,-8.554752640355762,-5.197331851028346,-7.576431350750414,-10.188993885491946,-16.275708727070594,-10.550305725403012,-14.602556976097839,-22.701500833796555,-11.712062256809334,-24.724847137298507,-18.52695942190106,-21.956642579210673,-20.672595886603666,-23.652028904947198,-24.4135630906059,-17.543079488604782,-18.332406892718186,-13.224013340744852,-16.787103946637032,-10.93385214007783,-12.33463035019455,-15.447470817120617,-13.696498054474715,-14.49138410227904,-8.132295719844356,-9.12173429683157,-8.210116731517516,-8.204558087826582,-7.99888827126182,-3.4463590883824438,-4.458032240133413,-1.589772095608679,-0.7226236798221297,-2.690383546414677,-6.714841578654815,-3.5464146748193413,-4.71372984991663,-2.9738743746525813,-3.251806559199552,-5.608671484157867,-1.3729849916620338,-0.3835464146748181,-2.9627570872707127,-0.5892162312395788,0.47804335742078113,1.4674819344079968,2.0566981656475756,2.657031684269039,3.8021122846025586,1.450806003335178,-0.08337965536409432,0.35019455252918036,1.8121178432462428,2.78488048916064,2.0733740967203946,3.2017787659810955,1.9622012229016126,2.0066703724291193,0.9282934963868746,1.0617009449694257,0.8337965536409117,1.8621456364646995,1.628682601445251,2.78488048916064,3.0350194552529226,1.6787103946636919,4.05780989438576,4.702612562534745,5.503057254030019,9.41634241245136,3.540856031128407,4.3579766536965],\"Date\":[1580860800000.0,1580947200000.0,1581033600000.0,1581292800000.0,1581379200000.0,1581465600000.0,1581552000000.0,1581638400000.0,1581984000000.0,1582070400000.0,1582156800000.0,1582243200000.0,1582502400000.0,1582588800000.0,1582675200000.0,1582761600000.0,1582848000000.0,1583107200000.0,1583193600000.0,1583280000000.0,1583366400000.0,1583452800000.0,1583712000000.0,1583798400000.0,1583884800000.0,1583971200000.0,1584057600000.0,1584316800000.0,1584403200000.0,1584489600000.0,1584576000000.0,1584662400000.0,1584921600000.0,1585008000000.0,1585094400000.0,1585180800000.0,1585267200000.0,1585526400000.0,1585612800000.0,1585699200000.0,1585785600000.0,1585872000000.0,1586131200000.0,1586217600000.0,1586304000000.0,1586390400000.0,1586736000000.0,1586822400000.0,1586908800000.0,1586995200000.0,1587081600000.0,1587340800000.0,1587427200000.0,1587513600000.0,1587600000000.0,1587686400000.0,1587945600000.0,1588032000000.0,1588118400000.0,1588204800000.0,1588291200000.0,1588550400000.0,1588636800000.0,1588723200000.0,1588809600000.0,1588896000000.0,1589155200000.0,1589241600000.0,1589328000000.0,1589414400000.0,1589500800000.0,1589760000000.0,1589846400000.0,1589932800000.0,1590019200000.0,1590105600000.0,1590451200000.0,1590537600000.0,1590624000000.0,1590710400000.0,1590969600000.0,1591056000000.0,1591142400000.0,1591228800000.0,1591315200000.0,1591574400000.0,1591660800000.0,1591747200000.0,1591833600000.0,1591920000000.0],\"Symbol\":[\"MSFT\",\"MSFT\",\"MSFT\",\"MSFT\",\"MSFT\",\"MSFT\",\"MSFT\",\"MSFT\",\"MSFT\",\"MSFT\",\"MSFT\",\"MSFT\",\"MSFT\",\"MSFT\",\"MSFT\",\"MSFT\",\"MSFT\",\"MSFT\",\"MSFT\",\"MSFT\",\"MSFT\",\"MSFT\",\"MSFT\",\"MSFT\",\"MSFT\",\"MSFT\",\"MSFT\",\"MSFT\",\"MSFT\",\"MSFT\",\"MSFT\",\"MSFT\",\"MSFT\",\"MSFT\",\"MSFT\",\"MSFT\",\"MSFT\",\"MSFT\",\"MSFT\",\"MSFT\",\"MSFT\",\"MSFT\",\"MSFT\",\"MSFT\",\"MSFT\",\"MSFT\",\"MSFT\",\"MSFT\",\"MSFT\",\"MSFT\",\"MSFT\",\"MSFT\",\"MSFT\",\"MSFT\",\"MSFT\",\"MSFT\",\"MSFT\",\"MSFT\",\"MSFT\",\"MSFT\",\"MSFT\",\"MSFT\",\"MSFT\",\"MSFT\",\"MSFT\",\"MSFT\",\"MSFT\",\"MSFT\",\"MSFT\",\"MSFT\",\"MSFT\",\"MSFT\",\"MSFT\",\"MSFT\",\"MSFT\",\"MSFT\",\"MSFT\",\"MSFT\",\"MSFT\",\"MSFT\",\"MSFT\",\"MSFT\",\"MSFT\",\"MSFT\",\"MSFT\",\"MSFT\",\"MSFT\",\"MSFT\",\"MSFT\",\"MSFT\"]},\"selected\":{\"id\":\"2308\",\"type\":\"Selection\"},\"selection_policy\":{\"id\":\"2307\",\"type\":\"UnionRenderers\"}},\"id\":\"2270\",\"type\":\"ColumnDataSource\"},{\"attributes\":{\"label\":{\"value\":\"AAPL\"},\"renderers\":[{\"id\":\"2300\",\"type\":\"GlyphRenderer\"}]},\"id\":\"2322\",\"type\":\"LegendItem\"},{\"attributes\":{\"line_alpha\":0.1,\"line_color\":\"#1f77b4\",\"x\":{\"field\":\"Date\"},\"y\":{\"field\":\"Close\"}},\"id\":\"2273\",\"type\":\"Line\"}],\"root_ids\":[\"2236\"]},\"title\":\"Bokeh Application\",\"version\":\"1.4.0\"}};\n",
       "  var render_items = [{\"docid\":\"ac1cf89a-b437-44d8-8e20-6ac8a77509ca\",\"roots\":{\"2236\":\"cf3bfd4c-316d-4f17-a196-9559086d892e\"}}];\n",
       "  root.Bokeh.embed.embed_items_notebook(docs_json, render_items);\n",
       "\n",
       "  }\n",
       "  if (root.Bokeh !== undefined) {\n",
       "    embed_document(root);\n",
       "  } else {\n",
       "    var attempts = 0;\n",
       "    var timer = setInterval(function(root) {\n",
       "      if (root.Bokeh !== undefined) {\n",
       "        clearInterval(timer);\n",
       "        embed_document(root);\n",
       "      } else {\n",
       "        attempts++;\n",
       "        if (attempts > 100) {\n",
       "          clearInterval(timer);\n",
       "          console.log(\"Bokeh: ERROR: Unable to run BokehJS code because BokehJS library is missing\");\n",
       "        }\n",
       "      }\n",
       "    }, 10, root)\n",
       "  }\n",
       "})(window);"
      ],
      "application/vnd.bokehjs_exec.v0+json": ""
     },
     "metadata": {
      "application/vnd.bokehjs_exec.v0+json": {
       "id": "2236"
      }
     },
     "output_type": "display_data"
    }
   ],
   "source": [
    "tech_stocks.legend.click_policy='hide'\n",
    "show(tech_stocks)"
   ]
  },
  {
   "cell_type": "markdown",
   "metadata": {},
   "source": [
    "### Advanced Interactivity\n",
    "\n",
    "Finally, we can use the `HoverTool` to view specific information at the exact point on the line our mouse is hovering over."
   ]
  },
  {
   "cell_type": "code",
   "execution_count": 12,
   "metadata": {},
   "outputs": [
    {
     "data": {
      "text/html": [
       "\n",
       "\n",
       "\n",
       "\n",
       "\n",
       "\n",
       "  <div class=\"bk-root\" id=\"0e389479-ce15-4e19-b3ad-58a5328c6bc1\" data-root-id=\"2236\"></div>\n"
      ]
     },
     "metadata": {},
     "output_type": "display_data"
    },
    {
     "data": {
      "application/javascript": [
       "(function(root) {\n",
       "  function embed_document(root) {\n",
       "    \n",
       "  var docs_json = {\"e55d26ba-bd81-4b65-becf-f2475843b142\":{\"roots\":{\"references\":[{\"attributes\":{\"below\":[{\"id\":\"2247\",\"type\":\"DatetimeAxis\"}],\"center\":[{\"id\":\"2251\",\"type\":\"Grid\"},{\"id\":\"2256\",\"type\":\"Grid\"},{\"id\":\"2294\",\"type\":\"Legend\"}],\"left\":[{\"id\":\"2252\",\"type\":\"LinearAxis\"}],\"renderers\":[{\"id\":\"2274\",\"type\":\"GlyphRenderer\"},{\"id\":\"2300\",\"type\":\"GlyphRenderer\"},{\"id\":\"2327\",\"type\":\"GlyphRenderer\"},{\"id\":\"2356\",\"type\":\"GlyphRenderer\"}],\"title\":{\"id\":\"2237\",\"type\":\"Title\"},\"toolbar\":{\"id\":\"2263\",\"type\":\"Toolbar\"},\"x_range\":{\"id\":\"2239\",\"type\":\"DataRange1d\"},\"x_scale\":{\"id\":\"2243\",\"type\":\"LinearScale\"},\"y_range\":{\"id\":\"2241\",\"type\":\"DataRange1d\"},\"y_scale\":{\"id\":\"2245\",\"type\":\"LinearScale\"}},\"id\":\"2236\",\"subtype\":\"Figure\",\"type\":\"Plot\"},{\"attributes\":{},\"id\":\"2257\",\"type\":\"PanTool\"},{\"attributes\":{\"line_color\":\"#046865\",\"x\":{\"field\":\"Date\"},\"y\":{\"field\":\"Close\"}},\"id\":\"2298\",\"type\":\"Line\"},{\"attributes\":{\"callback\":null,\"data\":{\"Close\":[0.0,0.5078755018702235,1.9319858618441523,4.610097702304557,5.438091643094918,5.889100776029851,5.392500502483002,4.657159524871683,5.676832347159387,6.390113095442353,5.55084392632864,2.7501752562663264,-1.4991151396902709,-3.2908959884698477,-2.955090275360684,-7.626466392466185,-7.653428894978596,-4.212033119757624,-6.416095143317952,-3.1394157470819204,-5.678793256433004,-6.803374724859916,-11.729178820218936,-7.257815449023711,-10.736468500443657,-17.8079975684725,-12.49442366425311,-17.19325251118943,-11.37474446901028,-10.288400731419154,-7.791672998769521,-9.499624976101417,-6.718075171457002,-4.8909979557520815,-7.550971385431423,-4.136538112722864,-6.851907229382265,-3.721805801350079,-4.419399275444017,-6.479334467392523,-5.93371146200493,-6.5337496997357665,-2.0726811022271017,-1.3858726291381305,0.15344115066156713,0.14167569501978558,6.323932407457339,11.934584066631711,13.128777814272476,18.056052591586727,16.42898812179208,17.34130116134853,14.130802453097502,15.864736478304986,17.62759391529852,18.155568737223447,16.478010853632835,13.44252329805331,16.316726065876754,21.28223857402678,12.067925897238553,13.536156715869144,13.624887860500928,15.26518846789258,16.06671013348891,16.654982915577964,18.095761004377735,15.544127812066453,16.081907180359543,17.107952957786527,18.133998735213535,18.941893355949173,20.072847779515364,22.45584277429445,19.945878904047802,19.46251476809798,18.726193335849846,18.163902601636376,17.70848142283577,19.731649565903712,21.137131287778146,21.204292430399978,21.497938594126108,20.625333967360667,21.723443160593572,23.736316529974953,27.50126233534491,29.78523141180565,25.39818713937654,24.76383298935717],\"Date\":[1580860800000.0,1580947200000.0,1581033600000.0,1581292800000.0,1581379200000.0,1581465600000.0,1581552000000.0,1581638400000.0,1581984000000.0,1582070400000.0,1582156800000.0,1582243200000.0,1582502400000.0,1582588800000.0,1582675200000.0,1582761600000.0,1582848000000.0,1583107200000.0,1583193600000.0,1583280000000.0,1583366400000.0,1583452800000.0,1583712000000.0,1583798400000.0,1583884800000.0,1583971200000.0,1584057600000.0,1584316800000.0,1584403200000.0,1584489600000.0,1584576000000.0,1584662400000.0,1584921600000.0,1585008000000.0,1585094400000.0,1585180800000.0,1585267200000.0,1585526400000.0,1585612800000.0,1585699200000.0,1585785600000.0,1585872000000.0,1586131200000.0,1586217600000.0,1586304000000.0,1586390400000.0,1586736000000.0,1586822400000.0,1586908800000.0,1586995200000.0,1587081600000.0,1587340800000.0,1587427200000.0,1587513600000.0,1587600000000.0,1587686400000.0,1587945600000.0,1588032000000.0,1588118400000.0,1588204800000.0,1588291200000.0,1588550400000.0,1588636800000.0,1588723200000.0,1588809600000.0,1588896000000.0,1589155200000.0,1589241600000.0,1589328000000.0,1589414400000.0,1589500800000.0,1589760000000.0,1589846400000.0,1589932800000.0,1590019200000.0,1590105600000.0,1590451200000.0,1590537600000.0,1590624000000.0,1590710400000.0,1590969600000.0,1591056000000.0,1591142400000.0,1591228800000.0,1591315200000.0,1591574400000.0,1591660800000.0,1591747200000.0,1591833600000.0,1591920000000.0],\"Symbol\":[\"AMZN\",\"AMZN\",\"AMZN\",\"AMZN\",\"AMZN\",\"AMZN\",\"AMZN\",\"AMZN\",\"AMZN\",\"AMZN\",\"AMZN\",\"AMZN\",\"AMZN\",\"AMZN\",\"AMZN\",\"AMZN\",\"AMZN\",\"AMZN\",\"AMZN\",\"AMZN\",\"AMZN\",\"AMZN\",\"AMZN\",\"AMZN\",\"AMZN\",\"AMZN\",\"AMZN\",\"AMZN\",\"AMZN\",\"AMZN\",\"AMZN\",\"AMZN\",\"AMZN\",\"AMZN\",\"AMZN\",\"AMZN\",\"AMZN\",\"AMZN\",\"AMZN\",\"AMZN\",\"AMZN\",\"AMZN\",\"AMZN\",\"AMZN\",\"AMZN\",\"AMZN\",\"AMZN\",\"AMZN\",\"AMZN\",\"AMZN\",\"AMZN\",\"AMZN\",\"AMZN\",\"AMZN\",\"AMZN\",\"AMZN\",\"AMZN\",\"AMZN\",\"AMZN\",\"AMZN\",\"AMZN\",\"AMZN\",\"AMZN\",\"AMZN\",\"AMZN\",\"AMZN\",\"AMZN\",\"AMZN\",\"AMZN\",\"AMZN\",\"AMZN\",\"AMZN\",\"AMZN\",\"AMZN\",\"AMZN\",\"AMZN\",\"AMZN\",\"AMZN\",\"AMZN\",\"AMZN\",\"AMZN\",\"AMZN\",\"AMZN\",\"AMZN\",\"AMZN\",\"AMZN\",\"AMZN\",\"AMZN\",\"AMZN\",\"AMZN\"]},\"selected\":{\"id\":\"2368\",\"type\":\"Selection\"},\"selection_policy\":{\"id\":\"2367\",\"type\":\"UnionRenderers\"}},\"id\":\"2323\",\"type\":\"ColumnDataSource\"},{\"attributes\":{},\"id\":\"2258\",\"type\":\"WheelZoomTool\"},{\"attributes\":{\"ticker\":{\"id\":\"2248\",\"type\":\"DatetimeTicker\"}},\"id\":\"2251\",\"type\":\"Grid\"},{\"attributes\":{\"overlay\":{\"id\":\"2281\",\"type\":\"BoxAnnotation\"}},\"id\":\"2259\",\"type\":\"BoxZoomTool\"},{\"attributes\":{},\"id\":\"2245\",\"type\":\"LinearScale\"},{\"attributes\":{},\"id\":\"2260\",\"type\":\"SaveTool\"},{\"attributes\":{\"base\":60,\"mantissas\":[1,2,5,10,15,20,30],\"max_interval\":1800000.0,\"min_interval\":1000.0,\"num_minor_ticks\":0},\"id\":\"2283\",\"type\":\"AdaptiveTicker\"},{\"attributes\":{\"axis_label\":\"Date\",\"formatter\":{\"id\":\"2279\",\"type\":\"DatetimeTickFormatter\"},\"ticker\":{\"id\":\"2248\",\"type\":\"DatetimeTicker\"}},\"id\":\"2247\",\"type\":\"DatetimeAxis\"},{\"attributes\":{},\"id\":\"2308\",\"type\":\"Selection\"},{\"attributes\":{\"line_color\":\"#202C59\",\"x\":{\"field\":\"Date\"},\"y\":{\"field\":\"Close\"}},\"id\":\"2354\",\"type\":\"Line\"},{\"attributes\":{},\"id\":\"2262\",\"type\":\"HelpTool\"},{\"attributes\":{},\"id\":\"2277\",\"type\":\"BasicTickFormatter\"},{\"attributes\":{},\"id\":\"2253\",\"type\":\"BasicTicker\"},{\"attributes\":{\"data_source\":{\"id\":\"2352\",\"type\":\"ColumnDataSource\"},\"glyph\":{\"id\":\"2354\",\"type\":\"Line\"},\"hover_glyph\":null,\"muted_glyph\":null,\"nonselection_glyph\":{\"id\":\"2355\",\"type\":\"Line\"},\"selection_glyph\":null,\"view\":{\"id\":\"2357\",\"type\":\"CDSView\"}},\"id\":\"2356\",\"type\":\"GlyphRenderer\"},{\"attributes\":{\"callback\":null},\"id\":\"2239\",\"type\":\"DataRange1d\"},{\"attributes\":{\"click_policy\":\"hide\",\"items\":[{\"id\":\"2295\",\"type\":\"LegendItem\"},{\"id\":\"2322\",\"type\":\"LegendItem\"},{\"id\":\"2351\",\"type\":\"LegendItem\"},{\"id\":\"2382\",\"type\":\"LegendItem\"}],\"location\":\"top_left\"},\"id\":\"2294\",\"type\":\"Legend\"},{\"attributes\":{\"line_color\":\"#F8C630\",\"x\":{\"field\":\"Date\"},\"y\":{\"field\":\"Close\"}},\"id\":\"2325\",\"type\":\"Line\"},{\"attributes\":{\"data_source\":{\"id\":\"2323\",\"type\":\"ColumnDataSource\"},\"glyph\":{\"id\":\"2325\",\"type\":\"Line\"},\"hover_glyph\":null,\"muted_glyph\":null,\"nonselection_glyph\":{\"id\":\"2326\",\"type\":\"Line\"},\"selection_glyph\":null,\"view\":{\"id\":\"2328\",\"type\":\"CDSView\"}},\"id\":\"2327\",\"type\":\"GlyphRenderer\"},{\"attributes\":{},\"id\":\"2261\",\"type\":\"ResetTool\"},{\"attributes\":{\"months\":[0,6]},\"id\":\"2292\",\"type\":\"MonthsTicker\"},{\"attributes\":{\"source\":{\"id\":\"2296\",\"type\":\"ColumnDataSource\"}},\"id\":\"2301\",\"type\":\"CDSView\"},{\"attributes\":{\"num_minor_ticks\":5,\"tickers\":[{\"id\":\"2282\",\"type\":\"AdaptiveTicker\"},{\"id\":\"2283\",\"type\":\"AdaptiveTicker\"},{\"id\":\"2284\",\"type\":\"AdaptiveTicker\"},{\"id\":\"2285\",\"type\":\"DaysTicker\"},{\"id\":\"2286\",\"type\":\"DaysTicker\"},{\"id\":\"2287\",\"type\":\"DaysTicker\"},{\"id\":\"2288\",\"type\":\"DaysTicker\"},{\"id\":\"2289\",\"type\":\"MonthsTicker\"},{\"id\":\"2290\",\"type\":\"MonthsTicker\"},{\"id\":\"2291\",\"type\":\"MonthsTicker\"},{\"id\":\"2292\",\"type\":\"MonthsTicker\"},{\"id\":\"2293\",\"type\":\"YearsTicker\"}]},\"id\":\"2248\",\"type\":\"DatetimeTicker\"},{\"attributes\":{\"base\":24,\"mantissas\":[1,2,4,6,8,12],\"max_interval\":43200000.0,\"min_interval\":3600000.0,\"num_minor_ticks\":0},\"id\":\"2284\",\"type\":\"AdaptiveTicker\"},{\"attributes\":{\"label\":{\"value\":\"MSFT\"},\"renderers\":[{\"id\":\"2274\",\"type\":\"GlyphRenderer\"}]},\"id\":\"2295\",\"type\":\"LegendItem\"},{\"attributes\":{},\"id\":\"2279\",\"type\":\"DatetimeTickFormatter\"},{\"attributes\":{\"dimension\":1,\"ticker\":{\"id\":\"2253\",\"type\":\"BasicTicker\"}},\"id\":\"2256\",\"type\":\"Grid\"},{\"attributes\":{\"bottom_units\":\"screen\",\"fill_alpha\":{\"value\":0.5},\"fill_color\":{\"value\":\"lightgrey\"},\"left_units\":\"screen\",\"level\":\"overlay\",\"line_alpha\":{\"value\":1.0},\"line_color\":{\"value\":\"black\"},\"line_dash\":[4,4],\"line_width\":{\"value\":2},\"render_mode\":\"css\",\"right_units\":\"screen\",\"top_units\":\"screen\"},\"id\":\"2281\",\"type\":\"BoxAnnotation\"},{\"attributes\":{\"mantissas\":[1,2,5],\"max_interval\":500.0,\"num_minor_ticks\":0},\"id\":\"2282\",\"type\":\"AdaptiveTicker\"},{\"attributes\":{\"axis_label\":\"Percentage Growth\",\"formatter\":{\"id\":\"2277\",\"type\":\"BasicTickFormatter\"},\"ticker\":{\"id\":\"2253\",\"type\":\"BasicTicker\"}},\"id\":\"2252\",\"type\":\"LinearAxis\"},{\"attributes\":{\"line_alpha\":0.1,\"line_color\":\"#1f77b4\",\"x\":{\"field\":\"Date\"},\"y\":{\"field\":\"Close\"}},\"id\":\"2355\",\"type\":\"Line\"},{\"attributes\":{\"line_alpha\":0.1,\"line_color\":\"#1f77b4\",\"x\":{\"field\":\"Date\"},\"y\":{\"field\":\"Close\"}},\"id\":\"2326\",\"type\":\"Line\"},{\"attributes\":{\"days\":[1,2,3,4,5,6,7,8,9,10,11,12,13,14,15,16,17,18,19,20,21,22,23,24,25,26,27,28,29,30,31]},\"id\":\"2285\",\"type\":\"DaysTicker\"},{\"attributes\":{},\"id\":\"2307\",\"type\":\"UnionRenderers\"},{\"attributes\":{\"days\":[1,4,7,10,13,16,19,22,25,28]},\"id\":\"2286\",\"type\":\"DaysTicker\"},{\"attributes\":{\"label\":{\"value\":\"GOOG\"},\"renderers\":[{\"id\":\"2356\",\"type\":\"GlyphRenderer\"}]},\"id\":\"2382\",\"type\":\"LegendItem\"},{\"attributes\":{},\"id\":\"2526\",\"type\":\"UnionRenderers\"},{\"attributes\":{\"days\":[1,8,15,22]},\"id\":\"2287\",\"type\":\"DaysTicker\"},{\"attributes\":{},\"id\":\"2293\",\"type\":\"YearsTicker\"},{\"attributes\":{\"active_drag\":\"auto\",\"active_inspect\":\"auto\",\"active_multi\":null,\"active_scroll\":\"auto\",\"active_tap\":\"auto\",\"tools\":[{\"id\":\"2257\",\"type\":\"PanTool\"},{\"id\":\"2258\",\"type\":\"WheelZoomTool\"},{\"id\":\"2259\",\"type\":\"BoxZoomTool\"},{\"id\":\"2260\",\"type\":\"SaveTool\"},{\"id\":\"2261\",\"type\":\"ResetTool\"},{\"id\":\"2262\",\"type\":\"HelpTool\"},{\"id\":\"2697\",\"type\":\"CrosshairTool\"},{\"id\":\"3169\",\"type\":\"HoverTool\"}]},\"id\":\"2263\",\"type\":\"Toolbar\"},{\"attributes\":{\"source\":{\"id\":\"2270\",\"type\":\"ColumnDataSource\"}},\"id\":\"2275\",\"type\":\"CDSView\"},{\"attributes\":{\"source\":{\"id\":\"2352\",\"type\":\"ColumnDataSource\"}},\"id\":\"2357\",\"type\":\"CDSView\"},{\"attributes\":{},\"id\":\"2336\",\"type\":\"UnionRenderers\"},{\"attributes\":{\"source\":{\"id\":\"2323\",\"type\":\"ColumnDataSource\"}},\"id\":\"2328\",\"type\":\"CDSView\"},{\"attributes\":{},\"id\":\"2368\",\"type\":\"Selection\"},{\"attributes\":{\"days\":[1,15]},\"id\":\"2288\",\"type\":\"DaysTicker\"},{\"attributes\":{\"callback\":null},\"id\":\"2241\",\"type\":\"DataRange1d\"},{\"attributes\":{\"line_alpha\":0.1,\"line_color\":\"#1f77b4\",\"x\":{\"field\":\"Date\"},\"y\":{\"field\":\"Close\"}},\"id\":\"2299\",\"type\":\"Line\"},{\"attributes\":{},\"id\":\"2337\",\"type\":\"Selection\"},{\"attributes\":{},\"id\":\"2243\",\"type\":\"LinearScale\"},{\"attributes\":{\"label\":{\"value\":\"AMZN\"},\"renderers\":[{\"id\":\"2327\",\"type\":\"GlyphRenderer\"}]},\"id\":\"2351\",\"type\":\"LegendItem\"},{\"attributes\":{},\"id\":\"2527\",\"type\":\"Selection\"},{\"attributes\":{\"data_source\":{\"id\":\"2296\",\"type\":\"ColumnDataSource\"},\"glyph\":{\"id\":\"2298\",\"type\":\"Line\"},\"hover_glyph\":null,\"muted_glyph\":null,\"nonselection_glyph\":{\"id\":\"2299\",\"type\":\"Line\"},\"selection_glyph\":null,\"view\":{\"id\":\"2301\",\"type\":\"CDSView\"}},\"id\":\"2300\",\"type\":\"GlyphRenderer\"},{\"attributes\":{\"text\":\"Tech Stocks\"},\"id\":\"2237\",\"type\":\"Title\"},{\"attributes\":{\"months\":[0,1,2,3,4,5,6,7,8,9,10,11]},\"id\":\"2289\",\"type\":\"MonthsTicker\"},{\"attributes\":{},\"id\":\"2697\",\"type\":\"CrosshairTool\"},{\"attributes\":{},\"id\":\"2367\",\"type\":\"UnionRenderers\"},{\"attributes\":{\"months\":[0,4,8]},\"id\":\"2291\",\"type\":\"MonthsTicker\"},{\"attributes\":{\"data_source\":{\"id\":\"2270\",\"type\":\"ColumnDataSource\"},\"glyph\":{\"id\":\"2272\",\"type\":\"Line\"},\"hover_glyph\":null,\"muted_glyph\":null,\"nonselection_glyph\":{\"id\":\"2273\",\"type\":\"Line\"},\"selection_glyph\":null,\"view\":{\"id\":\"2275\",\"type\":\"CDSView\"}},\"id\":\"2274\",\"type\":\"GlyphRenderer\"},{\"attributes\":{\"line_color\":\"#E53D00\",\"x\":{\"field\":\"Date\"},\"y\":{\"field\":\"Close\"}},\"id\":\"2272\",\"type\":\"Line\"},{\"attributes\":{\"callback\":null,\"data\":{\"Close\":[0.0,1.1696997977912555,-0.4417483278892568,0.0311090371753065,-0.5724062840255016,1.7887696375797169,1.0639290713952454,1.08881630113548,-0.7621714107948324,0.6750661067040026,-0.3577539275159363,-2.6131591227251447,-7.23907295069217,-10.38108570539742,-8.95940270648624,-14.910561518121016,-14.960335977601485,-7.043086016487786,-9.995333644423704,-5.8205008554985165,-8.875408306112918,-10.085549852232079,-17.197075750505515,-11.233473324000627,-14.31637890807279,-22.778037019754237,-13.526209363820177,-24.65080105770726,-21.33768859853787,-23.26333799968891,-23.851298802302065,-28.685643179343597,-30.200653289780675,-23.19800902162078,-23.621091927204844,-19.601804324156166,-22.9304713019132,-20.731062373619533,-20.892829366931092,-25.055218540986157,-23.804635246539117,-24.89967335510966,-18.34811012599159,-19.293824856120697,-17.22818478768082,-16.630891273915065,-14.99455591849432,-10.701508788302995,-11.516565562295842,-10.813501322134078,-12.023642868253221,-13.8497433504433,-16.512676932648933,-14.107948358998279,-14.440815056773998,-11.970757505055207,-11.908539430704613,-13.336444237050864,-10.489967335510956,-8.601648778970285,-10.073106237361952,-8.800746616892196,-7.431948981179029,-6.476901539897338,-5.509410483745522,-3.521543008243893,-2.0034219940892823,-3.1233473324000514,-4.293047130191324,-3.705086327578152,-4.274381707886144,-2.0189765126769355,-2.585160989267383,-0.690620625291638,-1.4310157100637628,-0.7963913516876661,-1.4683465546741237,-1.039041841654993,-0.9954891896095781,-1.0919272048530069,0.12443614870120831,0.5879608026131549,1.1417016643334938,0.2706486234251064,3.1264582361175957,3.7361953647534585,7.011976979312497,9.765126769326486,4.495255871830763,5.397417949914458],\"Date\":[1580860800000.0,1580947200000.0,1581033600000.0,1581292800000.0,1581379200000.0,1581465600000.0,1581552000000.0,1581638400000.0,1581984000000.0,1582070400000.0,1582156800000.0,1582243200000.0,1582502400000.0,1582588800000.0,1582675200000.0,1582761600000.0,1582848000000.0,1583107200000.0,1583193600000.0,1583280000000.0,1583366400000.0,1583452800000.0,1583712000000.0,1583798400000.0,1583884800000.0,1583971200000.0,1584057600000.0,1584316800000.0,1584403200000.0,1584489600000.0,1584576000000.0,1584662400000.0,1584921600000.0,1585008000000.0,1585094400000.0,1585180800000.0,1585267200000.0,1585526400000.0,1585612800000.0,1585699200000.0,1585785600000.0,1585872000000.0,1586131200000.0,1586217600000.0,1586304000000.0,1586390400000.0,1586736000000.0,1586822400000.0,1586908800000.0,1586995200000.0,1587081600000.0,1587340800000.0,1587427200000.0,1587513600000.0,1587600000000.0,1587686400000.0,1587945600000.0,1588032000000.0,1588118400000.0,1588204800000.0,1588291200000.0,1588550400000.0,1588636800000.0,1588723200000.0,1588809600000.0,1588896000000.0,1589155200000.0,1589241600000.0,1589328000000.0,1589414400000.0,1589500800000.0,1589760000000.0,1589846400000.0,1589932800000.0,1590019200000.0,1590105600000.0,1590451200000.0,1590537600000.0,1590624000000.0,1590710400000.0,1590969600000.0,1591056000000.0,1591142400000.0,1591228800000.0,1591315200000.0,1591574400000.0,1591660800000.0,1591747200000.0,1591833600000.0,1591920000000.0],\"Symbol\":[\"AAPL\",\"AAPL\",\"AAPL\",\"AAPL\",\"AAPL\",\"AAPL\",\"AAPL\",\"AAPL\",\"AAPL\",\"AAPL\",\"AAPL\",\"AAPL\",\"AAPL\",\"AAPL\",\"AAPL\",\"AAPL\",\"AAPL\",\"AAPL\",\"AAPL\",\"AAPL\",\"AAPL\",\"AAPL\",\"AAPL\",\"AAPL\",\"AAPL\",\"AAPL\",\"AAPL\",\"AAPL\",\"AAPL\",\"AAPL\",\"AAPL\",\"AAPL\",\"AAPL\",\"AAPL\",\"AAPL\",\"AAPL\",\"AAPL\",\"AAPL\",\"AAPL\",\"AAPL\",\"AAPL\",\"AAPL\",\"AAPL\",\"AAPL\",\"AAPL\",\"AAPL\",\"AAPL\",\"AAPL\",\"AAPL\",\"AAPL\",\"AAPL\",\"AAPL\",\"AAPL\",\"AAPL\",\"AAPL\",\"AAPL\",\"AAPL\",\"AAPL\",\"AAPL\",\"AAPL\",\"AAPL\",\"AAPL\",\"AAPL\",\"AAPL\",\"AAPL\",\"AAPL\",\"AAPL\",\"AAPL\",\"AAPL\",\"AAPL\",\"AAPL\",\"AAPL\",\"AAPL\",\"AAPL\",\"AAPL\",\"AAPL\",\"AAPL\",\"AAPL\",\"AAPL\",\"AAPL\",\"AAPL\",\"AAPL\",\"AAPL\",\"AAPL\",\"AAPL\",\"AAPL\",\"AAPL\",\"AAPL\",\"AAPL\",\"AAPL\"]},\"selected\":{\"id\":\"2337\",\"type\":\"Selection\"},\"selection_policy\":{\"id\":\"2336\",\"type\":\"UnionRenderers\"}},\"id\":\"2296\",\"type\":\"ColumnDataSource\"},{\"attributes\":{\"callback\":null,\"formatters\":{\"@Date\":\"datetime\"},\"tooltips\":[[\"Symbol\",\"@Symbol\"],[\"Close\",\"@Close%\"],[\"Date\",\"@Date{%F}\"]]},\"id\":\"3169\",\"type\":\"HoverTool\"},{\"attributes\":{\"callback\":null,\"data\":{\"Close\":[0.0,1.9333945574943205,2.140543974368712,4.174060750018992,4.181656228637713,4.836248385960791,4.58697858765528,5.006801405854041,4.932918113835513,5.4176477493215875,4.827962409285822,2.546556831442511,-1.8394868218446034,-4.127797380250373,-3.801191799645081,-8.986141704011109,-7.5195238325404175,-4.082224508538017,-7.377281232953324,-4.261063505106236,-8.92054438866755,-10.345041878707107,-16.06581827472156,-11.58931937606595,-16.076175745565273,-23.015681210857387,-15.777880585266152,-25.127224266863696,-22.678027661352136,-24.266173190722473,-22.98944228471997,-25.956512432417504,-27.04059438072683,-21.665757510892604,-23.873279796717373,-19.781388315391894,-23.305690394481537,-20.812301913370117,-19.708195521429612,-23.657153905111766,-22.606215863502353,-24.191599400647682,-18.043404707815743,-18.071715128121916,-16.43040124842049,-16.34961297583947,-15.927718663471968,-12.359915206838693,-12.826691892862321,-12.757642087237523,-11.391836931979038,-12.54082569757567,-16.011959426334222,-12.775595036699972,-11.871042583015132,-11.663893166140742,-11.900733999433784,-14.815326294856476,-7.371066750447097,-6.875289146061049,-8.812136193836622,-8.384717897019124,-6.706117122280308,-6.969196881710782,-5.224998791628407,-4.133321364700367,-3.1051697589471305,-5.005420409741547,-6.829025776292445,-6.359487098043813,-5.181497414084777,-4.4392120036182074,-5.1614729704535875,-2.8662574314853297,-3.1369326695345396,-2.610773150673577,-2.155044433549922,-2.0984235929375927,-2.175068877181111,-1.3333517466148295,-1.1331073103029272,-0.6221387486794219,-0.8182401966538402,-2.4892454927739345,-0.6794500873479985,-0.11186068511217957,0.5475649586046459,1.2166575751089184,-3.065120871684753,-2.4201956871491377],\"Date\":[1580860800000.0,1580947200000.0,1581033600000.0,1581292800000.0,1581379200000.0,1581465600000.0,1581552000000.0,1581638400000.0,1581984000000.0,1582070400000.0,1582156800000.0,1582243200000.0,1582502400000.0,1582588800000.0,1582675200000.0,1582761600000.0,1582848000000.0,1583107200000.0,1583193600000.0,1583280000000.0,1583366400000.0,1583452800000.0,1583712000000.0,1583798400000.0,1583884800000.0,1583971200000.0,1584057600000.0,1584316800000.0,1584403200000.0,1584489600000.0,1584576000000.0,1584662400000.0,1584921600000.0,1585008000000.0,1585094400000.0,1585180800000.0,1585267200000.0,1585526400000.0,1585612800000.0,1585699200000.0,1585785600000.0,1585872000000.0,1586131200000.0,1586217600000.0,1586304000000.0,1586390400000.0,1586736000000.0,1586822400000.0,1586908800000.0,1586995200000.0,1587081600000.0,1587340800000.0,1587427200000.0,1587513600000.0,1587600000000.0,1587686400000.0,1587945600000.0,1588032000000.0,1588118400000.0,1588204800000.0,1588291200000.0,1588550400000.0,1588636800000.0,1588723200000.0,1588809600000.0,1588896000000.0,1589155200000.0,1589241600000.0,1589328000000.0,1589414400000.0,1589500800000.0,1589760000000.0,1589846400000.0,1589932800000.0,1590019200000.0,1590105600000.0,1590451200000.0,1590537600000.0,1590624000000.0,1590710400000.0,1590969600000.0,1591056000000.0,1591142400000.0,1591228800000.0,1591315200000.0,1591574400000.0,1591660800000.0,1591747200000.0,1591833600000.0,1591920000000.0],\"Symbol\":[\"GOOG\",\"GOOG\",\"GOOG\",\"GOOG\",\"GOOG\",\"GOOG\",\"GOOG\",\"GOOG\",\"GOOG\",\"GOOG\",\"GOOG\",\"GOOG\",\"GOOG\",\"GOOG\",\"GOOG\",\"GOOG\",\"GOOG\",\"GOOG\",\"GOOG\",\"GOOG\",\"GOOG\",\"GOOG\",\"GOOG\",\"GOOG\",\"GOOG\",\"GOOG\",\"GOOG\",\"GOOG\",\"GOOG\",\"GOOG\",\"GOOG\",\"GOOG\",\"GOOG\",\"GOOG\",\"GOOG\",\"GOOG\",\"GOOG\",\"GOOG\",\"GOOG\",\"GOOG\",\"GOOG\",\"GOOG\",\"GOOG\",\"GOOG\",\"GOOG\",\"GOOG\",\"GOOG\",\"GOOG\",\"GOOG\",\"GOOG\",\"GOOG\",\"GOOG\",\"GOOG\",\"GOOG\",\"GOOG\",\"GOOG\",\"GOOG\",\"GOOG\",\"GOOG\",\"GOOG\",\"GOOG\",\"GOOG\",\"GOOG\",\"GOOG\",\"GOOG\",\"GOOG\",\"GOOG\",\"GOOG\",\"GOOG\",\"GOOG\",\"GOOG\",\"GOOG\",\"GOOG\",\"GOOG\",\"GOOG\",\"GOOG\",\"GOOG\",\"GOOG\",\"GOOG\",\"GOOG\",\"GOOG\",\"GOOG\",\"GOOG\",\"GOOG\",\"GOOG\",\"GOOG\",\"GOOG\",\"GOOG\",\"GOOG\",\"GOOG\"]},\"selected\":{\"id\":\"2527\",\"type\":\"Selection\"},\"selection_policy\":{\"id\":\"2526\",\"type\":\"UnionRenderers\"}},\"id\":\"2352\",\"type\":\"ColumnDataSource\"},{\"attributes\":{\"months\":[0,2,4,6,8,10]},\"id\":\"2290\",\"type\":\"MonthsTicker\"},{\"attributes\":{\"callback\":null,\"data\":{\"Close\":[0.0,2.0733740967203946,2.2178988326848144,4.891606448026672,2.523624235686488,2.6737076153418577,2.117843246247917,3.0294608115619726,4.074485825458579,4.102279043913282,2.5125069483046034,-0.728182323513064,-5.00833796553642,-6.57587548638133,-5.408560311284057,-12.073374096720398,-9.944413563090613,-3.9521956642579283,-8.554752640355762,-5.197331851028346,-7.576431350750414,-10.188993885491946,-16.275708727070594,-10.550305725403012,-14.602556976097839,-22.701500833796555,-11.712062256809334,-24.724847137298507,-18.52695942190106,-21.956642579210673,-20.672595886603666,-23.652028904947198,-24.4135630906059,-17.543079488604782,-18.332406892718186,-13.224013340744852,-16.787103946637032,-10.93385214007783,-12.33463035019455,-15.447470817120617,-13.696498054474715,-14.49138410227904,-8.132295719844356,-9.12173429683157,-8.210116731517516,-8.204558087826582,-7.99888827126182,-3.4463590883824438,-4.458032240133413,-1.589772095608679,-0.7226236798221297,-2.690383546414677,-6.714841578654815,-3.5464146748193413,-4.71372984991663,-2.9738743746525813,-3.251806559199552,-5.608671484157867,-1.3729849916620338,-0.3835464146748181,-2.9627570872707127,-0.5892162312395788,0.47804335742078113,1.4674819344079968,2.0566981656475756,2.657031684269039,3.8021122846025586,1.450806003335178,-0.08337965536409432,0.35019455252918036,1.8121178432462428,2.78488048916064,2.0733740967203946,3.2017787659810955,1.9622012229016126,2.0066703724291193,0.9282934963868746,1.0617009449694257,0.8337965536409117,1.8621456364646995,1.628682601445251,2.78488048916064,3.0350194552529226,1.6787103946636919,4.05780989438576,4.702612562534745,5.503057254030019,9.41634241245136,3.540856031128407,4.3579766536965],\"Date\":[1580860800000.0,1580947200000.0,1581033600000.0,1581292800000.0,1581379200000.0,1581465600000.0,1581552000000.0,1581638400000.0,1581984000000.0,1582070400000.0,1582156800000.0,1582243200000.0,1582502400000.0,1582588800000.0,1582675200000.0,1582761600000.0,1582848000000.0,1583107200000.0,1583193600000.0,1583280000000.0,1583366400000.0,1583452800000.0,1583712000000.0,1583798400000.0,1583884800000.0,1583971200000.0,1584057600000.0,1584316800000.0,1584403200000.0,1584489600000.0,1584576000000.0,1584662400000.0,1584921600000.0,1585008000000.0,1585094400000.0,1585180800000.0,1585267200000.0,1585526400000.0,1585612800000.0,1585699200000.0,1585785600000.0,1585872000000.0,1586131200000.0,1586217600000.0,1586304000000.0,1586390400000.0,1586736000000.0,1586822400000.0,1586908800000.0,1586995200000.0,1587081600000.0,1587340800000.0,1587427200000.0,1587513600000.0,1587600000000.0,1587686400000.0,1587945600000.0,1588032000000.0,1588118400000.0,1588204800000.0,1588291200000.0,1588550400000.0,1588636800000.0,1588723200000.0,1588809600000.0,1588896000000.0,1589155200000.0,1589241600000.0,1589328000000.0,1589414400000.0,1589500800000.0,1589760000000.0,1589846400000.0,1589932800000.0,1590019200000.0,1590105600000.0,1590451200000.0,1590537600000.0,1590624000000.0,1590710400000.0,1590969600000.0,1591056000000.0,1591142400000.0,1591228800000.0,1591315200000.0,1591574400000.0,1591660800000.0,1591747200000.0,1591833600000.0,1591920000000.0],\"Symbol\":[\"MSFT\",\"MSFT\",\"MSFT\",\"MSFT\",\"MSFT\",\"MSFT\",\"MSFT\",\"MSFT\",\"MSFT\",\"MSFT\",\"MSFT\",\"MSFT\",\"MSFT\",\"MSFT\",\"MSFT\",\"MSFT\",\"MSFT\",\"MSFT\",\"MSFT\",\"MSFT\",\"MSFT\",\"MSFT\",\"MSFT\",\"MSFT\",\"MSFT\",\"MSFT\",\"MSFT\",\"MSFT\",\"MSFT\",\"MSFT\",\"MSFT\",\"MSFT\",\"MSFT\",\"MSFT\",\"MSFT\",\"MSFT\",\"MSFT\",\"MSFT\",\"MSFT\",\"MSFT\",\"MSFT\",\"MSFT\",\"MSFT\",\"MSFT\",\"MSFT\",\"MSFT\",\"MSFT\",\"MSFT\",\"MSFT\",\"MSFT\",\"MSFT\",\"MSFT\",\"MSFT\",\"MSFT\",\"MSFT\",\"MSFT\",\"MSFT\",\"MSFT\",\"MSFT\",\"MSFT\",\"MSFT\",\"MSFT\",\"MSFT\",\"MSFT\",\"MSFT\",\"MSFT\",\"MSFT\",\"MSFT\",\"MSFT\",\"MSFT\",\"MSFT\",\"MSFT\",\"MSFT\",\"MSFT\",\"MSFT\",\"MSFT\",\"MSFT\",\"MSFT\",\"MSFT\",\"MSFT\",\"MSFT\",\"MSFT\",\"MSFT\",\"MSFT\",\"MSFT\",\"MSFT\",\"MSFT\",\"MSFT\",\"MSFT\",\"MSFT\"]},\"selected\":{\"id\":\"2308\",\"type\":\"Selection\"},\"selection_policy\":{\"id\":\"2307\",\"type\":\"UnionRenderers\"}},\"id\":\"2270\",\"type\":\"ColumnDataSource\"},{\"attributes\":{\"label\":{\"value\":\"AAPL\"},\"renderers\":[{\"id\":\"2300\",\"type\":\"GlyphRenderer\"}]},\"id\":\"2322\",\"type\":\"LegendItem\"},{\"attributes\":{\"line_alpha\":0.1,\"line_color\":\"#1f77b4\",\"x\":{\"field\":\"Date\"},\"y\":{\"field\":\"Close\"}},\"id\":\"2273\",\"type\":\"Line\"}],\"root_ids\":[\"2236\"]},\"title\":\"Bokeh Application\",\"version\":\"1.4.0\"}};\n",
       "  var render_items = [{\"docid\":\"e55d26ba-bd81-4b65-becf-f2475843b142\",\"roots\":{\"2236\":\"0e389479-ce15-4e19-b3ad-58a5328c6bc1\"}}];\n",
       "  root.Bokeh.embed.embed_items_notebook(docs_json, render_items);\n",
       "\n",
       "  }\n",
       "  if (root.Bokeh !== undefined) {\n",
       "    embed_document(root);\n",
       "  } else {\n",
       "    var attempts = 0;\n",
       "    var timer = setInterval(function(root) {\n",
       "      if (root.Bokeh !== undefined) {\n",
       "        clearInterval(timer);\n",
       "        embed_document(root);\n",
       "      } else {\n",
       "        attempts++;\n",
       "        if (attempts > 100) {\n",
       "          clearInterval(timer);\n",
       "          console.log(\"Bokeh: ERROR: Unable to run BokehJS code because BokehJS library is missing\");\n",
       "        }\n",
       "      }\n",
       "    }, 10, root)\n",
       "  }\n",
       "})(window);"
      ],
      "application/vnd.bokehjs_exec.v0+json": ""
     },
     "metadata": {
      "application/vnd.bokehjs_exec.v0+json": {
       "id": "2236"
      }
     },
     "output_type": "display_data"
    }
   ],
   "source": [
    "from bokeh.models import HoverTool\n",
    "\n",
    "tech_stocks.add_tools(HoverTool(    # Note: The '@' symbol references the earlier values in ColumnDataSource. The 'formatters' array allows us to add special formatting to our tooltips.\n",
    "    tooltips=[\n",
    "        ('Symbol', '@Symbol'),\n",
    "        ('Close', '@Close%'),\n",
    "        ('Date', '@Date{%F}')\n",
    "    ],\n",
    "    formatters={\n",
    "        '@Date': 'datetime'\n",
    "    }))\n",
    "\n",
    "show(tech_stocks)"
   ]
  },
  {
   "cell_type": "markdown",
   "metadata": {},
   "source": [
    "In summary, today we learned how to add layouts to our charts, and make add functionality through interactivity. For more exploration, check out the docs at https://docs.bokeh.org/en/latest/index.html."
   ]
  },
  {
   "cell_type": "code",
   "execution_count": null,
   "metadata": {},
   "outputs": [],
   "source": []
  }
 ],
 "metadata": {
  "kernelspec": {
   "display_name": "Python 3",
   "language": "python",
   "name": "python3"
  },
  "language_info": {
   "codemirror_mode": {
    "name": "ipython",
    "version": 3
   },
   "file_extension": ".py",
   "mimetype": "text/x-python",
   "name": "python",
   "nbconvert_exporter": "python",
   "pygments_lexer": "ipython3",
   "version": "3.7.6"
  }
 },
 "nbformat": 4,
 "nbformat_minor": 4
}
