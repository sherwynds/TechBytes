{
 "cells": [
  {
   "cell_type": "markdown",
   "metadata": {},
   "source": [
    "# Python and Data Analysis 2\n",
    "\n",
    "**Goal:** The goal of this project is to learn to prepare data for analysis using Pandas.\n",
    "\n",
    "**Description:** Data often needs to be organized, combined, or cleaned before performing analysis. This project explains a few key ways to accomplish this."
   ]
  },
  {
   "cell_type": "markdown",
   "metadata": {},
   "source": [
    "## 2A: Preparing and Cleaning Data"
   ]
  },
  {
   "cell_type": "markdown",
   "metadata": {},
   "source": [
    "Data *cleaning* refers to the process of ensuring our data is correct and complete. If data is not cleaned, our analysis could produce incorrect results based on corrupt/garbage information. *Preparation* refers to getting our data ready for analysis by putting it into a format we can easily understand."
   ]
  },
  {
   "cell_type": "markdown",
   "metadata": {},
   "source": [
    "### Removing Garbage Data"
   ]
  },
  {
   "cell_type": "markdown",
   "metadata": {},
   "source": [
    "*Garbage data* depends on the type of data we are representing. One common example is if we have a DataFrame that has inconsistent types in its columns."
   ]
  },
  {
   "cell_type": "code",
   "execution_count": 1,
   "metadata": {},
   "outputs": [
    {
     "name": "stdout",
     "output_type": "stream",
     "text": [
      "              x        y\n",
      "0             1        1\n",
      "1  more garbage        4\n",
      "2             3        9\n",
      "3             4       16\n",
      "4             5       25\n",
      "5             6       36\n",
      "6             7       49\n",
      "7             8       64\n",
      "8             9  garbage\n",
      "9            10      100\n"
     ]
    }
   ],
   "source": [
    "import pandas as pd\n",
    "\n",
    "df = pd.DataFrame({'x': [1,'more garbage',3,4,5,6,7,8,9,10],\n",
    "                  'y': [1,4,9,16,25,36,49,64,'garbage',100]})\n",
    "print(df)"
   ]
  },
  {
   "cell_type": "markdown",
   "metadata": {},
   "source": [
    "Clearly, we want `x` and `y` to exclusively contain numerical values, so rows 1 and 8 contain garbage data. We can try converting them to numbers to fix this."
   ]
  },
  {
   "cell_type": "code",
   "execution_count": 2,
   "metadata": {},
   "outputs": [
    {
     "name": "stdout",
     "output_type": "stream",
     "text": [
      "      x      y\n",
      "0   1.0    1.0\n",
      "1   NaN    4.0\n",
      "2   3.0    9.0\n",
      "3   4.0   16.0\n",
      "4   5.0   25.0\n",
      "5   6.0   36.0\n",
      "6   7.0   49.0\n",
      "7   8.0   64.0\n",
      "8   9.0    NaN\n",
      "9  10.0  100.0\n"
     ]
    }
   ],
   "source": [
    "df = df.apply(pd.to_numeric, errors='coerce') # Go through the DataFrame and force every value to be a number\n",
    "print(df)"
   ]
  },
  {
   "cell_type": "markdown",
   "metadata": {},
   "source": [
    "Notice the strings have been replaced `NaN`. This is a special value considered to be a `float`, so it is consistent with the other numerical values in its respective column. However, when NaN is involved in a calculation, it results in NaN output. Therefore, we typically want to remove these values."
   ]
  },
  {
   "cell_type": "code",
   "execution_count": 3,
   "metadata": {},
   "outputs": [
    {
     "name": "stdout",
     "output_type": "stream",
     "text": [
      "nan\n"
     ]
    }
   ],
   "source": [
    "# NaN + 4 = NaN\n",
    "print(df.iloc[1,0] + df.iloc[1,1]) # Add the x value from row 1 (NaN) to the y value from row 1 (4)"
   ]
  },
  {
   "cell_type": "markdown",
   "metadata": {},
   "source": [
    "We can remove `NaN` values in two ways. If we want to completely delete the row containing the NaN, we can use `dropna()`. If we want to replace the NaN with some constant value, we can use `fillna(replacement-value)`. The first example removes rows with NaN, and the second example replaces the NaNs with the value 0. "
   ]
  },
  {
   "cell_type": "code",
   "execution_count": 4,
   "metadata": {},
   "outputs": [
    {
     "name": "stdout",
     "output_type": "stream",
     "text": [
      "Dropping NaNs\n",
      "      x      y\n",
      "0   1.0    1.0\n",
      "2   3.0    9.0\n",
      "3   4.0   16.0\n",
      "4   5.0   25.0\n",
      "5   6.0   36.0\n",
      "6   7.0   49.0\n",
      "7   8.0   64.0\n",
      "9  10.0  100.0\n",
      "\n",
      "Filling NaNs\n",
      "      x      y\n",
      "0   1.0    1.0\n",
      "1   0.0    4.0\n",
      "2   3.0    9.0\n",
      "3   4.0   16.0\n",
      "4   5.0   25.0\n",
      "5   6.0   36.0\n",
      "6   7.0   49.0\n",
      "7   8.0   64.0\n",
      "8   9.0    0.0\n",
      "9  10.0  100.0\n"
     ]
    }
   ],
   "source": [
    "df1 = df.dropna()\n",
    "print(\"Dropping NaNs\")\n",
    "print(df1)\n",
    "\n",
    "df2 = df.fillna(0)\n",
    "print(\"\\nFilling NaNs\")\n",
    "print(df2)"
   ]
  },
  {
   "cell_type": "markdown",
   "metadata": {},
   "source": [
    "### Preparing Data\n",
    "\n",
    "#### Dropping Columns\n",
    "When getting data ready for analysis, we might want to select subsections of our data and crop out the rest. For example, let's say we are interested in the `date`, `close` and `volume` for Microsoft stock. Using the techniques discussed earlier, we can do the following."
   ]
  },
  {
   "cell_type": "code",
   "execution_count": 5,
   "metadata": {},
   "outputs": [
    {
     "name": "stdout",
     "output_type": "stream",
     "text": [
      "         date   close      volume\n",
      "0  1986-03-13  0.0972  1031788800\n",
      "1  1986-03-14  0.1007   308160000\n",
      "2  1986-03-17  0.1024   133171200\n",
      "3  1986-03-18  0.0998    67766400\n",
      "4  1986-03-19  0.0981    47894400\n"
     ]
    }
   ],
   "source": [
    "df = pd.read_csv('MSFT.csv')\n",
    "df = df[['date', 'close', 'volume']]\n",
    "print(df.head())"
   ]
  },
  {
   "cell_type": "markdown",
   "metadata": {},
   "source": [
    "#### Changing Data Types\n",
    "After collecting the data we want, we sometimes need to change the type of a column. A common example is converting `date` from `string` to `datetime`."
   ]
  },
  {
   "cell_type": "code",
   "execution_count": 6,
   "metadata": {},
   "outputs": [
    {
     "name": "stdout",
     "output_type": "stream",
     "text": [
      "0   1986-03-13\n",
      "1   1986-03-14\n",
      "2   1986-03-17\n",
      "3   1986-03-18\n",
      "4   1986-03-19\n",
      "Name: date, dtype: datetime64[ns]\n"
     ]
    }
   ],
   "source": [
    "df['date'] = pd.to_datetime(df['date']) # Convert 'date' column from string to datetime\n",
    "print(df['date'].head()) # Display the first few rows of the 'date' column"
   ]
  },
  {
   "cell_type": "markdown",
   "metadata": {},
   "source": [
    "#### Renaming Columns\n",
    "We can easily rename our columns with `rename`. We supply a dictionary, mapping the old names to new ones."
   ]
  },
  {
   "cell_type": "code",
   "execution_count": 7,
   "metadata": {},
   "outputs": [
    {
     "name": "stdout",
     "output_type": "stream",
     "text": [
      "        Date  Closing Price  Trading Volume\n",
      "0 1986-03-13         0.0972      1031788800\n",
      "1 1986-03-14         0.1007       308160000\n",
      "2 1986-03-17         0.1024       133171200\n",
      "3 1986-03-18         0.0998        67766400\n",
      "4 1986-03-19         0.0981        47894400\n"
     ]
    }
   ],
   "source": [
    "df = df.rename(columns={'date': 'Date', 'close': 'Closing Price', 'volume': 'Trading Volume'})\n",
    "print(df.head())"
   ]
  },
  {
   "cell_type": "markdown",
   "metadata": {},
   "source": [
    "#### Changing Index\n",
    "Finally, we might want to relabel our index, by setting its values to be the `Date` column. This is useful if we frequently want to access rows by `Date`."
   ]
  },
  {
   "cell_type": "code",
   "execution_count": 8,
   "metadata": {},
   "outputs": [
    {
     "name": "stdout",
     "output_type": "stream",
     "text": [
      "            Closing Price  Trading Volume\n",
      "Date                                     \n",
      "1986-03-13         0.0972      1031788800\n",
      "1986-03-14         0.1007       308160000\n",
      "1986-03-17         0.1024       133171200\n",
      "1986-03-18         0.0998        67766400\n",
      "1986-03-19         0.0981        47894400\n"
     ]
    }
   ],
   "source": [
    "df = df.set_index('Date')\n",
    "print(df.head())"
   ]
  },
  {
   "cell_type": "markdown",
   "metadata": {},
   "source": [
    "Note, the new index is the old `Date` column, which has been removed. We can no longer access `Date` using `df['Date']` because it is no longer considered a column. We would instead access the index using `df.index`, `df.index.values`, or `df.index.values.tolist()`."
   ]
  },
  {
   "cell_type": "code",
   "execution_count": null,
   "metadata": {},
   "outputs": [],
   "source": []
  },
  {
   "cell_type": "code",
   "execution_count": null,
   "metadata": {},
   "outputs": [],
   "source": []
  }
 ],
 "metadata": {
  "kernelspec": {
   "display_name": "Python 3",
   "language": "python",
   "name": "python3"
  },
  "language_info": {
   "codemirror_mode": {
    "name": "ipython",
    "version": 3
   },
   "file_extension": ".py",
   "mimetype": "text/x-python",
   "name": "python",
   "nbconvert_exporter": "python",
   "pygments_lexer": "ipython3",
   "version": "3.7.6"
  }
 },
 "nbformat": 4,
 "nbformat_minor": 4
}
